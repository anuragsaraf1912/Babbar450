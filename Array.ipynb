{
 "cells": [
  {
   "cell_type": "markdown",
   "metadata": {},
   "source": [
    "<h4><a href = \"https://practice.geeksforgeeks.org/problems/reverse-a-string/1\" > ARR1: Reverse the array</a></h4>"
   ]
  },
  {
   "cell_type": "code",
   "execution_count": 1,
   "metadata": {
    "ExecuteTime": {
     "end_time": "2023-06-11T11:53:52.000346Z",
     "start_time": "2023-06-11T11:53:51.986386Z"
    }
   },
   "outputs": [],
   "source": [
    "def reverseWord(s):\n",
    "    \"\"\"Reverse the string provided\"\"\"\n",
    "    s = list(s)\n",
    "    start, end = 0, len(s) - 1\n",
    "    while start < end:\n",
    "        s[start], s[end] =  s[end], s[start]\n",
    "        start += 1\n",
    "        end -= 1\n",
    "    return ''.join(s)"
   ]
  },
  {
   "cell_type": "markdown",
   "metadata": {},
   "source": [
    "<h4><a href = \"https://practice.geeksforgeeks.org/problems/max-min/1?utm_source=gfg&utm_medium=article&utm_campaign=bottom_sticky_on_article\" > ARR2: Find the maximum and minimum element in an array</a></h4>"
   ]
  },
  {
   "cell_type": "code",
   "execution_count": 2,
   "metadata": {
    "ExecuteTime": {
     "end_time": "2023-05-24T17:19:25.396675Z",
     "start_time": "2023-05-24T17:19:25.376697Z"
    }
   },
   "outputs": [],
   "source": [
    "class Solution:\n",
    "    def findSum(self,A,N): \n",
    "        minimum, maximum = float('inf'), -float('inf')\n",
    "        for elem in A:\n",
    "            minimum = min(minimum, elem)\n",
    "            maximum = max(maximum, elem)\n",
    "        \n",
    "        return maximum + minimum"
   ]
  },
  {
   "cell_type": "markdown",
   "metadata": {},
   "source": [
    "<h4><a href = \"https://practice.geeksforgeeks.org/problems/kth-smallest-element/0\" > ARR3: Find the \"Kth\" max and min element of an array </a></h4>"
   ]
  },
  {
   "cell_type": "code",
   "execution_count": 3,
   "metadata": {
    "ExecuteTime": {
     "end_time": "2023-05-24T17:39:41.866687Z",
     "start_time": "2023-05-24T17:39:41.854720Z"
    }
   },
   "outputs": [],
   "source": [
    "class Solution:\n",
    "    def kthSmallest(self,arr, l, r, k):\n",
    "        '''\n",
    "        arr : given array\n",
    "        l : starting index of the array i.e 0\n",
    "        r : ending index of the array i.e size-1\n",
    "        k : find kth smallest element and return using this function\n",
    "        '''\n",
    "        arr = sorted(arr)\n",
    "        return arr[k-1]"
   ]
  },
  {
   "cell_type": "markdown",
   "metadata": {},
   "source": [
    "<h4><a href = \"https://practice.geeksforgeeks.org/problems/sort-an-array-of-0s-1s-and-2s/0\" > ARR4: Given an array which consists of only 0, 1 and 2. Sort the array without using any sorting algo</a></h4>"
   ]
  },
  {
   "cell_type": "code",
   "execution_count": 4,
   "metadata": {
    "ExecuteTime": {
     "end_time": "2023-06-11T12:02:01.118781Z",
     "start_time": "2023-06-11T12:02:01.087913Z"
    }
   },
   "outputs": [],
   "source": [
    "class Solution:\n",
    "    def sort012(self,arr,n):\n",
    "        oneStart, twoStart = 0,0\n",
    "        for end in range(n):\n",
    "            if arr[end] == 0:\n",
    "                arr[end], arr[twoStart], arr[oneStart] = arr[twoStart], arr[oneStart], arr[end]\n",
    "                twoStart += 1\n",
    "                oneStart += 1\n",
    "            elif arr[end] == 1:\n",
    "                arr[end], arr[twoStart] = arr[twoStart], arr[end]\n",
    "                twoStart += 1"
   ]
  },
  {
   "cell_type": "markdown",
   "metadata": {},
   "source": [
    "<h4><a href = \"https://www.geeksforgeeks.org/move-negative-numbers-beginning-positive-end-constant-extra-space/\" > ARR5: Move all the negative elements to one side of the array </a></h4>"
   ]
  },
  {
   "cell_type": "code",
   "execution_count": 5,
   "metadata": {},
   "outputs": [],
   "source": [
    "def separateNegativeAndPositive(nums):\n",
    "    start, end = 0, len(nums) - 1\n",
    "    while start < end:\n",
    "        while nums[start] < 0 and start < end:\n",
    "            start+=1\n",
    "        while nums[end] >= 0 and start < end:\n",
    "            end -=1\n",
    "        nums[start], nums[end] = nums[end], nums[start]\n",
    "    \n",
    "    return nums"
   ]
  },
  {
   "cell_type": "markdown",
   "metadata": {},
   "source": [
    "<h4><a href = \"https://practice.geeksforgeeks.org/problems/union-of-two-arrays/0\" > ARR6: Find the Union and Intersection of the two sorted arrays.</a></h4>"
   ]
  },
  {
   "cell_type": "code",
   "execution_count": 6,
   "metadata": {
    "ExecuteTime": {
     "end_time": "2023-06-11T15:43:04.906391Z",
     "start_time": "2023-06-11T15:43:04.841567Z"
    }
   },
   "outputs": [],
   "source": [
    "#Without using sets \n",
    "def doUnion(a,n,b,m):\n",
    "    a.sort()\n",
    "    b.sort()\n",
    "    result = []\n",
    "    aStart, bStart = 0,0\n",
    "    while aStart < n and bStart < m:\n",
    "        while aStart < n - 1 and a[aStart] == a[aStart+1]:\n",
    "            aStart += 1\n",
    "        while bStart < m - 1 and b[bStart] == b[bStart+1]:\n",
    "            bStart += 1\n",
    "        if a[aStart] == b[bStart]:\n",
    "            result.append(a[aStart])\n",
    "            aStart += 1\n",
    "            bStart += 1\n",
    "        elif a[aStart] > b[bStart]:\n",
    "            result.append(b[bStart])\n",
    "            bStart += 1\n",
    "        else:\n",
    "            result.append(a[aStart])\n",
    "            aStart += 1\n",
    "\n",
    "    while aStart < n:\n",
    "        result.append(a[aStart])\n",
    "        aStart += 1\n",
    "    while bStart < m:\n",
    "        result.append(b[bStart])\n",
    "        bStart += 1\n",
    "        \n",
    "    return len(result)\n",
    "\n",
    "#With sets\n",
    "def doUnion(self,a,n,b,m):\n",
    "        union = set(a) | set(b)\n",
    "        return len(union)"
   ]
  },
  {
   "cell_type": "markdown",
   "metadata": {
    "ExecuteTime": {
     "end_time": "2023-06-11T15:45:02.666182Z",
     "start_time": "2023-06-11T15:45:02.636256Z"
    }
   },
   "source": [
    "<h4><a href = \"https://practice.geeksforgeeks.org/problems/cyclically-rotate-an-array-by-one/0\" > ARR7: Write a program to cyclically rotate an array by one.</a></h4>"
   ]
  },
  {
   "cell_type": "code",
   "execution_count": 7,
   "metadata": {
    "ExecuteTime": {
     "end_time": "2023-06-11T15:46:17.143366Z",
     "start_time": "2023-06-11T15:46:17.120428Z"
    }
   },
   "outputs": [],
   "source": [
    "def rotate( arr, n):\n",
    "    start = arr[0]\n",
    "    for i in range(1, len(arr)):\n",
    "        curr = arr[i]\n",
    "        arr[i] = start\n",
    "        start = curr\n",
    "    \n",
    "    arr[0] = start\n",
    "    return arr"
   ]
  },
  {
   "cell_type": "markdown",
   "metadata": {},
   "source": [
    "<h4><a href = \"https://practice.geeksforgeeks.org/problems/kadanes-algorithm/0\" > ARR8: find Largest sum contiguous Subarray.</a></h4>"
   ]
  },
  {
   "cell_type": "code",
   "execution_count": 8,
   "metadata": {
    "ExecuteTime": {
     "end_time": "2023-06-11T15:47:19.868163Z",
     "start_time": "2023-06-11T15:47:19.845223Z"
    }
   },
   "outputs": [],
   "source": [
    "class Solution:\n",
    "    ##Complete this function\n",
    "    #Function to find the sum of contiguous subarray with maximum sum.\n",
    "    def maxSubArraySum(self,arr,N):\n",
    "        maxSum = -float('inf')\n",
    "        currSum = 0\n",
    "        for i in range(N):\n",
    "            currSum += arr[i]\n",
    "            maxSum = max(maxSum, currSum)\n",
    "            if currSum < 0:\n",
    "                currSum = 0\n",
    "        \n",
    "        return maxSum"
   ]
  },
  {
   "cell_type": "markdown",
   "metadata": {},
   "source": [
    "<h4><a href = \"https://practice.geeksforgeeks.org/problems/minimize-the-heights3351/1\" > ARR9: Minimise the maximum difference between heights.</a></h4>"
   ]
  },
  {
   "cell_type": "code",
   "execution_count": 9,
   "metadata": {
    "ExecuteTime": {
     "end_time": "2023-06-11T15:49:42.908951Z",
     "start_time": "2023-06-11T15:49:42.879026Z"
    }
   },
   "outputs": [],
   "source": [
    "class Solution:\n",
    "    def getMinDiff(self, arr, n, k):\n",
    "        \n",
    "        arr = sorted(arr)\n",
    "        minDiff = arr[n-1] - arr[0]\n",
    "        if arr[n-1] - k <= 0:\n",
    "            return minDiff\n",
    "        for i in range(1,n):\n",
    "            if arr[i] - k >= 0:\n",
    "                minH = min(arr[0] + k, arr[i] - k)\n",
    "                maxH = max(arr[n-1] - k, arr[i-1] + k)\n",
    "                minDiff = min(minDiff, maxH - minH)\n",
    "                \n",
    "        return minDiff\n",
    "    "
   ]
  },
  {
   "cell_type": "markdown",
   "metadata": {},
   "source": [
    "<h4><a href = \"https://practice.geeksforgeeks.org/problems/minimum-number-of-jumps/0\" > ARR10: Minimum no. of Jumps to reach end of an array.</a></h4>"
   ]
  },
  {
   "cell_type": "code",
   "execution_count": 10,
   "metadata": {
    "ExecuteTime": {
     "end_time": "2023-06-11T15:49:57.757192Z",
     "start_time": "2023-06-11T15:49:57.732257Z"
    }
   },
   "outputs": [],
   "source": [
    "class Solution:\n",
    "    def minJumps(self, arr, n):\n",
    "        left, right = 0,0\n",
    "        maxJump = 0\n",
    "        count = 0\n",
    "        while right < n - 1 and right >= left:\n",
    "            for i in range(left, right+1):\n",
    "                jump = i + arr[i]\n",
    "                maxJump = max(jump, maxJump)\n",
    "            \n",
    "            count +=1\n",
    "            left = right + 1\n",
    "            right = maxJump\n",
    "\n",
    "        return count if right >= n-1 else -1"
   ]
  },
  {
   "cell_type": "markdown",
   "metadata": {},
   "source": [
    "<h4><a href = \"https://leetcode.com/problems/find-the-duplicate-number/\" > ARR11 find duplicate in an array of N+1 Integers.</a></h4>"
   ]
  },
  {
   "cell_type": "code",
   "execution_count": 11,
   "metadata": {
    "ExecuteTime": {
     "end_time": "2023-06-11T17:10:07.305580Z",
     "start_time": "2023-06-11T17:10:07.282603Z"
    }
   },
   "outputs": [],
   "source": [
    "class Solution:\n",
    "    def findDuplicate(self, nums):\n",
    "        \n",
    "        slow, fast = nums[0], nums[nums[0]]\n",
    "        while slow != fast:\n",
    "            slow = nums[slow]\n",
    "            fast = nums[nums[fast]]\n",
    "        catchUp = 0\n",
    "        while catchUp != slow:\n",
    "            catchUp = nums[catchUp]\n",
    "            slow = nums[slow]\n",
    "        \n",
    "        return catchUp"
   ]
  },
  {
   "cell_type": "markdown",
   "metadata": {},
   "source": [
    "<h4><a href = \"https://www.geeksforgeeks.org/problems/merge-two-sorted-arrays-1587115620/1?utm_source=geeksforgeeks&utm_medium=ml_article_practice_tab&utm_campaign=article_practice_tab\" > ARR12: Merge 2 sorted arrays without using Extra space.</a></h4>"
   ]
  },
  {
   "cell_type": "code",
   "execution_count": 12,
   "metadata": {},
   "outputs": [],
   "source": [
    "class Solution:\n",
    "    \n",
    "    #Function to merge the arrays.\n",
    "    def merge(self,arr1,arr2,n,m):\n",
    "        p1, p2 = 0, 0\n",
    "        #Check if the smallest values are exhausted and to be put in array1\n",
    "        while p1 + p2 < n and p2 < m:\n",
    "            if arr1[p1] <= arr2[p2]: p1 += 1\n",
    "            else: p2 += 1\n",
    "        for i in range(p2):\n",
    "            arr1[n-1-i], arr2[i] = arr2[i], arr1[n-1-i]\n",
    "        arr1.sort()\n",
    "        arr2.sort()\n",
    "        "
   ]
  },
  {
   "cell_type": "markdown",
   "metadata": {},
   "source": [
    "<h4><a href = \"https://practice.geeksforgeeks.org/problems/kadanes-algorithm-1587115620/1\" > ARR13: Kadane Algorithm.</a></h4>"
   ]
  },
  {
   "cell_type": "code",
   "execution_count": 13,
   "metadata": {
    "ExecuteTime": {
     "end_time": "2023-06-11T17:03:19.180621Z",
     "start_time": "2023-06-11T17:03:19.165661Z"
    }
   },
   "outputs": [],
   "source": [
    "class Solution:\n",
    "    ##Complete this function\n",
    "    #Function to find the sum of contiguous subarray with maximum sum.\n",
    "    def maxSubArraySum(self,arr,N):\n",
    "        maxSum = -float('inf')\n",
    "        currSum = 0\n",
    "        for i in range(N):\n",
    "            currSum += arr[i]\n",
    "            maxSum = max(maxSum, currSum)\n",
    "            if currSum < 0:\n",
    "                currSum = 0\n",
    "        \n",
    "        return maxSum"
   ]
  },
  {
   "cell_type": "markdown",
   "metadata": {},
   "source": [
    "<h4><a href = \"https://leetcode.com/problems/merge-intervals/\" > ARR14: Merge Intervals.</a></h4>"
   ]
  },
  {
   "cell_type": "code",
   "execution_count": 14,
   "metadata": {
    "ExecuteTime": {
     "end_time": "2023-06-11T17:13:26.247382Z",
     "start_time": "2023-06-11T17:13:26.226375Z"
    }
   },
   "outputs": [],
   "source": [
    "class Solution:\n",
    "    def merge(self, intervals):\n",
    "        finalStack = []\n",
    "        intervals = sorted(intervals)\n",
    "        for elm in intervals:\n",
    "            if finalStack and finalStack[-1][1] >= elm[0]:\n",
    "                start,endToReplace = finalStack.pop()\n",
    "                finalStack.append([start, max(elm[1], endToReplace)])\n",
    "            else:\n",
    "                finalStack.append(elm)\n",
    "        \n",
    "        return finalStack"
   ]
  },
  {
   "cell_type": "markdown",
   "metadata": {},
   "source": [
    "<h4><a href = \"https://leetcode.com/problems/next-permutation/\" > ARR15: Next Permutation.</a></h4>"
   ]
  },
  {
   "cell_type": "code",
   "execution_count": 15,
   "metadata": {
    "ExecuteTime": {
     "end_time": "2023-06-11T17:27:50.052517Z",
     "start_time": "2023-06-11T17:27:50.028588Z"
    }
   },
   "outputs": [],
   "source": [
    "class Solution:\n",
    "    def nextPermutation(self, nums):\n",
    "        \"\"\"\n",
    "        Do not return anything, modify nums in-place instead.\n",
    "        \"\"\"\n",
    "        n = len(nums)\n",
    "        for left in range(n-2, -1, -1):\n",
    "            for right in range(n-1, left,-1):\n",
    "                if nums[left] < nums[right]:\n",
    "                    nums[left], nums[right] = nums[right], nums[left]\n",
    "                    nums[left+1:] = sorted(nums[left+1:])\n",
    "                    return nums\n",
    "        #In case there is no other \n",
    "        nums[:] = nums[::-1]\n",
    "        return nums\n",
    "        "
   ]
  },
  {
   "cell_type": "markdown",
   "metadata": {},
   "source": [
    "<h4><a href = \"https://practice.geeksforgeeks.org/problems/inversion-of-array/0\" > ARR16: Count Inversion.</a></h4>"
   ]
  },
  {
   "cell_type": "code",
   "execution_count": 16,
   "metadata": {
    "ExecuteTime": {
     "end_time": "2023-06-11T17:32:13.378956Z",
     "start_time": "2023-06-11T17:32:13.340020Z"
    }
   },
   "outputs": [],
   "source": [
    "class Solution:\n",
    "    #User function Template for python3\n",
    "    \n",
    "    # arr[]: Input Array\n",
    "    # N : Size of the Array arr[]\n",
    "    #Function to count inversions in the array.\n",
    "    def inversionCount(self, arr, n):\n",
    "        \n",
    "        def divideAndCon(start, end):\n",
    "            if start >= end:\n",
    "                return 0\n",
    "            if start+1 == end:\n",
    "                if arr[start] > arr[end]: \n",
    "                    arr[start], arr[end] = arr[end], arr[start]\n",
    "                    return 1\n",
    "                else: return 0\n",
    "            mid = (start + end)//2\n",
    "            leftSide = divideAndCon(start, mid)\n",
    "            rightSide = divideAndCon(mid+1, end)\n",
    "            pStart, pEnd = start, mid+1\n",
    "            res, count = [], 0\n",
    "            while pStart < mid+1 and pEnd < end+1:\n",
    "                if arr[pStart] <= arr[pEnd]:\n",
    "                    res.append(arr[pStart])\n",
    "                    pStart+=1\n",
    "                else:\n",
    "                    res.append(arr[pEnd])\n",
    "                    count += mid + 1 - pStart \n",
    "                    pEnd +=1\n",
    "            \n",
    "            while pEnd < end+1: \n",
    "                res.append(arr[pEnd])\n",
    "                pEnd+=1\n",
    "            while pStart < mid+1:\n",
    "                res.append(arr[pStart])\n",
    "                pStart+=1\n",
    "                \n",
    "            arr[start:end+1] = res.copy()\n",
    "            return count + leftSide + rightSide\n",
    "\n",
    "        return divideAndCon(0, n-1)"
   ]
  },
  {
   "cell_type": "markdown",
   "metadata": {},
   "source": [
    "<h4><a href = \"https://leetcode.com/problems/best-time-to-buy-and-sell-stock/\" > ARR17: Best time to buy and Sell stock.</a></h4>"
   ]
  },
  {
   "cell_type": "code",
   "execution_count": 17,
   "metadata": {
    "ExecuteTime": {
     "end_time": "2023-06-12T05:09:44.558800Z",
     "start_time": "2023-06-12T05:09:44.536859Z"
    }
   },
   "outputs": [],
   "source": [
    "class Solution:\n",
    "    def maxProfit(self, prices):\n",
    "        \n",
    "        l = prices[0]\n",
    "        maxProfit = 0\n",
    "        for price in prices[1:]:\n",
    "            if price < l:\n",
    "                l = price\n",
    "            else:\n",
    "                maxProfit = max(maxProfit, price - l)\n",
    "        \n",
    "        return maxProfi"
   ]
  },
  {
   "cell_type": "markdown",
   "metadata": {},
   "source": [
    "<h4><a href = \"https://practice.geeksforgeeks.org/problems/count-pairs-with-given-sum5022/1\" > ARR18: Find all pairs on integer array whose sum is equal to a given number .</a></h4>"
   ]
  },
  {
   "cell_type": "code",
   "execution_count": 18,
   "metadata": {
    "ExecuteTime": {
     "end_time": "2023-06-12T05:17:49.793571Z",
     "start_time": "2023-06-12T05:17:49.775626Z"
    }
   },
   "outputs": [],
   "source": [
    "class Solution:\n",
    "    def getPairsCount(self, arr, n, k):\n",
    "        from collections import defaultdict\n",
    "        counts = 0\n",
    "        countMap = defaultdict(int)\n",
    "        for elem in arr:\n",
    "            if k - elem in countMap:\n",
    "                counts += countMap[k - elem]\n",
    "            countMap[elem] += 1\n",
    "        \n",
    "        return counts"
   ]
  },
  {
   "cell_type": "markdown",
   "metadata": {},
   "source": [
    "<h4><a href = \"https://practice.geeksforgeeks.org/problems/common-elements1132/1\" > ARR19: find common elements In 3 sorted arraysum is equal to a given number.</a></h4>"
   ]
  },
  {
   "cell_type": "code",
   "execution_count": 19,
   "metadata": {
    "ExecuteTime": {
     "end_time": "2023-06-12T05:20:48.094198Z",
     "start_time": "2023-06-12T05:20:48.070268Z"
    }
   },
   "outputs": [],
   "source": [
    "class Solution:\n",
    "    def commonElements (self,A, B, C, n1, n2, n3):\n",
    "        \n",
    "        p1,p2,p3 = 0,0,0 \n",
    "        result = []\n",
    "        while p1 < n1 and p2<n2 and p3<n3:\n",
    "            if A[p1] == B[p2] == C[p3]:\n",
    "                if not result or result[-1] < A[p1]:\n",
    "                    result.append(A[p1])\n",
    "                p1+=1\n",
    "                p2+=1\n",
    "                p3+=1\n",
    "\n",
    "            elif min(A[p1], B[p2], C[p3]) == A[p1]:\n",
    "                p1+=1\n",
    "            elif min(A[p1], B[p2], C[p3]) == B[p2]:\n",
    "                p2+=1\n",
    "            else: p3+=1\n",
    "        \n",
    "        return result\n",
    "                "
   ]
  },
  {
   "cell_type": "markdown",
   "metadata": {},
   "source": [
    "<h4><a href = \"https://practice.geeksforgeeks.org/problems/array-of-alternate-ve-and-ve-nos1401/1?page=1&category[]=Arrays&curated[]=7&sortBy=submissions\" > ARR20: Rearrange the array in alternating positive and negative items with O(1) extra space.</a></h4>"
   ]
  },
  {
   "cell_type": "code",
   "execution_count": 20,
   "metadata": {
    "ExecuteTime": {
     "end_time": "2023-06-12T05:23:57.527883Z",
     "start_time": "2023-06-12T05:23:57.500947Z"
    }
   },
   "outputs": [],
   "source": [
    "#O(n2) solution with O(1) space complexity\n",
    "class Solution:\n",
    "    def rearrange(self,arr, n):\n",
    "\n",
    "        def rotateArray(i,j):\n",
    "            temp = arr[j]\n",
    "            while j > i:\n",
    "                arr[j] = arr[j-1]\n",
    "                j -= 1\n",
    "            arr[i] = temp\n",
    "\n",
    "        i =  0\n",
    "        while i < n:\n",
    "            if not i%2 and arr[i] < 0:\n",
    "                temp = i + 1\n",
    "                while temp < n and arr[temp] < 0:\n",
    "                    temp += 1\n",
    "                if temp == n: break\n",
    "                rotateArray(i,temp)\n",
    "                i += 1\n",
    "\n",
    "            elif i%2 and arr[i] >= 0:\n",
    "                temp = i+1\n",
    "                while temp < n and arr[temp] >= 0:\n",
    "                    temp+=1\n",
    "                if temp == n: break\n",
    "                rotateArray(i, temp)\n",
    "                i+=1\n",
    "            i += 1"
   ]
  },
  {
   "cell_type": "markdown",
   "metadata": {},
   "source": [
    "<h4><a href = \"https://practice.geeksforgeeks.org/problems/subarray-with-0-sum/0\" > ARR21: Find if there is any subarray with sum equal to 0.</a></h4>"
   ]
  },
  {
   "cell_type": "code",
   "execution_count": 21,
   "metadata": {
    "ExecuteTime": {
     "end_time": "2023-06-12T05:27:18.936802Z",
     "start_time": "2023-06-12T05:27:18.915852Z"
    }
   },
   "outputs": [],
   "source": [
    "class Solution:\n",
    "    \n",
    "    #Function to check whether there is a subarray present with 0-sum or not.\n",
    "    def subArrayExists(self,arr,n):\n",
    "        currSum = 0\n",
    "        sumSet = set()\n",
    "        sumSet.add(currSum)\n",
    "        for elem in arr:\n",
    "            currSum += elem \n",
    "            if currSum in sumSet: return True\n",
    "            else: sumSet.add(currSum)\n",
    "        \n",
    "        return False\n",
    "            "
   ]
  },
  {
   "cell_type": "markdown",
   "metadata": {},
   "source": [
    "<h4><a href = \"https://practice.geeksforgeeks.org/problems/factorials-of-large-numbers/0\" > ARR22: Find factorial of a large number.</a></h4>"
   ]
  },
  {
   "cell_type": "code",
   "execution_count": 22,
   "metadata": {
    "ExecuteTime": {
     "end_time": "2023-06-12T05:28:38.821561Z",
     "start_time": "2023-06-12T05:28:38.797678Z"
    }
   },
   "outputs": [],
   "source": [
    "def factorial(N):\n",
    "    result = ['1']\n",
    "    for i in range(2,N+1):\n",
    "        carry = '0'\n",
    "        for ind, elem in enumerate(result):\n",
    "            value = str(int(elem)*i + int(carry))\n",
    "            result[ind] = value[-1]\n",
    "            carry = value[:-1] if value[:-1] else '0'\n",
    "\n",
    "        if carry != '0':\n",
    "            for val in carry[::-1]:\n",
    "                result.append(val)\n",
    "\n",
    "    return ''.join(result[::-1])"
   ]
  },
  {
   "cell_type": "markdown",
   "metadata": {},
   "source": [
    "<h4><a href = \"https://practice.geeksforgeeks.org/problems/maximum-product-subarray3604/1\" > ARR23: find maximum product subarray .</a></h4>"
   ]
  },
  {
   "cell_type": "code",
   "execution_count": 23,
   "metadata": {
    "ExecuteTime": {
     "end_time": "2023-06-12T05:31:42.191874Z",
     "start_time": "2023-06-12T05:31:42.165946Z"
    }
   },
   "outputs": [],
   "source": [
    "class Solution:\n",
    "    # Function to find maximum\n",
    "    # product subarray\n",
    "    def maxProduct(self,arr, n):\n",
    "        currMax, currMin, maxVal = 1,1,-float('inf')\n",
    "        for elem in arr:\n",
    "            if elem == 0:\n",
    "                currMax, currMin = 1,1\n",
    "                if maxVal < 0: maxVal = 0 \n",
    "            else:\n",
    "                newcurrMax = max(currMin*elem, currMax*elem,elem)\n",
    "                newcurrMin = min(currMin*elem, currMax*elem,elem)\n",
    "                currMax, currMin = newcurrMax, newcurrMin\n",
    "                maxVal = max(maxVal, currMax)\n",
    "        return maxVal"
   ]
  },
  {
   "cell_type": "markdown",
   "metadata": {},
   "source": [
    "<h4><a href = \"https://practice.geeksforgeeks.org/problems/longest-consecutive-subsequence/0\" > ARR24: Find longest coinsecutive subsequence.</a></h4>"
   ]
  },
  {
   "cell_type": "code",
   "execution_count": 24,
   "metadata": {
    "ExecuteTime": {
     "end_time": "2023-06-12T05:32:53.038264Z",
     "start_time": "2023-06-12T05:32:53.023249Z"
    }
   },
   "outputs": [],
   "source": [
    "class Solution:\n",
    "    \n",
    "    # arr[] : the input array\n",
    "    # N : size of the array arr[]\n",
    "    \n",
    "    #Function to return length of longest subsequence of consecutive integers.\n",
    "    def findLongestConseqSubseq(self,arr, N):\n",
    "        cache = {}\n",
    "        numSet = set(arr)\n",
    "        \n",
    "        def seqLengthStart(start):\n",
    "            if start not in cache:\n",
    "                if start in numSet:\n",
    "                    cache[start] = 1 + seqLengthStart(start+1)\n",
    "                else: cache[start] = 0\n",
    "            return cache[start]\n",
    "        \n",
    "        maxLen = 0            \n",
    "        for elem in arr:\n",
    "            length = seqLengthStart(elem)\n",
    "            maxLen = max(maxLen, length)\n",
    "        \n",
    "        return maxLen"
   ]
  },
  {
   "cell_type": "markdown",
   "metadata": {},
   "source": [
    "<h4><a href = \"https://www.geeksforgeeks.org/given-an-array-of-of-size-n-finds-all-the-elements-that-appear-more-than-nk-times/\" > ARR25: Given an array of size n and a number k, fin all elements that appear more than \" n/k \" times.</a></h4>"
   ]
  },
  {
   "cell_type": "code",
   "execution_count": 25,
   "metadata": {
    "ExecuteTime": {
     "end_time": "2023-06-12T05:32:49.633444Z",
     "start_time": "2023-06-12T05:32:49.613454Z"
    }
   },
   "outputs": [],
   "source": [
    "class Solution:\n",
    "    \n",
    "    #Function to find all elements in array that appear more than n/k times.\n",
    "    def countOccurence(self,arr,n,k):\n",
    "        hashMap = dict()\n",
    "        for elem in arr:\n",
    "            if elem in hashMap: hashMap[elem] += 1\n",
    "            else: hashMap[elem] = 1\n",
    "        count = 0\n",
    "        for elem in hashMap:\n",
    "            if hashMap[elem] > n/k: count += 1\n",
    "        \n",
    "        return count"
   ]
  },
  {
   "cell_type": "markdown",
   "metadata": {},
   "source": [
    "<h4><a href = \"https://www.geeksforgeeks.org/maximum-profit-by-buying-and-selling-a-share-at-most-twice/\" > ARR26: Maximum profit by buying and selling a share atmost twice.</a></h4>"
   ]
  },
  {
   "cell_type": "code",
   "execution_count": 26,
   "metadata": {
    "ExecuteTime": {
     "end_time": "2023-06-12T05:38:16.927445Z",
     "start_time": "2023-06-12T05:38:16.903495Z"
    }
   },
   "outputs": [],
   "source": [
    "from typing import List\n",
    "\n",
    "class Solution:\n",
    "    def maxProfit(self, n : int, price : List[int]) -> int:\n",
    "        # 0:B1, 1:S1, 2:B2, 3:S2\n",
    "        stateMap = [[-float('inf') for i in range(4)] for _ in range(n)]\n",
    "        for i in range(n):\n",
    "            stateMap[i][0] = max(stateMap[i-1][0], -price[i])\n",
    "            if stateMap[i-1][0] != -float('inf'):\n",
    "                stateMap[i][1] = max(stateMap[i-1][1], price[i] + stateMap[i-1][0])\n",
    "            if stateMap[i-1][1] != -float('inf'):\n",
    "                stateMap[i][2] = max(stateMap[i-1][2], stateMap[i-1][1] - price[i])\n",
    "            if stateMap[i-1][2] != -float('inf'):\n",
    "                stateMap[i][3] = max(stateMap[i-1][3], price[i] + stateMap[i-1][2])\n",
    "        res = max(stateMap[-1])\n",
    "        return res if res > 0 else 0 "
   ]
  },
  {
   "cell_type": "markdown",
   "metadata": {},
   "source": [
    "<h4><a href = \"https://practice.geeksforgeeks.org/problems/array-subset-of-another-array/0\" > ARR27: Find whether an array is a subset of another array.</a></h4>"
   ]
  },
  {
   "cell_type": "code",
   "execution_count": 27,
   "metadata": {},
   "outputs": [],
   "source": [
    "def isSubset( a1, a2, n, m):\n",
    "    from collections import Counter\n",
    "    a1Set = Counter(a1)\n",
    "    a2Set = Counter(a2)\n",
    "    for elem in a2Set:\n",
    "        if elem not in a1Set or a2Set[elem] > a1Set[elem]:\n",
    "            return \"No\"\n",
    "    \n",
    "    return \"Yes\""
   ]
  },
  {
   "cell_type": "markdown",
   "metadata": {},
   "source": [
    "<h4><a href = \"https://practice.geeksforgeeks.org/problems/triplet-sum-in-array/0\" > ARR28: Find the triplet that sum to a given value.</a></h4>"
   ]
  },
  {
   "cell_type": "code",
   "execution_count": 28,
   "metadata": {
    "ExecuteTime": {
     "end_time": "2023-06-12T05:39:09.355329Z",
     "start_time": "2023-06-12T05:39:09.333392Z"
    }
   },
   "outputs": [],
   "source": [
    "class Solution:\n",
    "     \n",
    "    #Function to find if there exists a triplet in the \n",
    "    #array A[] which sums up to X.\n",
    "    def find3Numbers(self, A, n, X):\n",
    "        if n < 3:\n",
    "            return False\n",
    "        for i in range(n-2):\n",
    "            target = X - A[i]\n",
    "            if target <= 0: continue\n",
    "            hashMap = set()\n",
    "            for j in range(i+1,n):\n",
    "                if A[j] in hashMap:\n",
    "                    return True \n",
    "                hashMap.add(target - A[j])\n",
    "        return False"
   ]
  },
  {
   "cell_type": "markdown",
   "metadata": {},
   "source": [
    "<h4><a href = \"https://practice.geeksforgeeks.org/problems/trapping-rain-water/0\" > ARR29: Trapping Rain water problem.</a></h4>"
   ]
  },
  {
   "cell_type": "code",
   "execution_count": 29,
   "metadata": {
    "ExecuteTime": {
     "end_time": "2023-06-12T05:39:33.540470Z",
     "start_time": "2023-06-12T05:39:33.525460Z"
    }
   },
   "outputs": [],
   "source": [
    "class Solution:\n",
    "    def trappingWater(self, arr,n):\n",
    "        colWater = 0\n",
    "        start, end = 0, n-1\n",
    "        leftMax, rightMax = 0,0\n",
    "        while start < end:\n",
    "            leftMax = max(leftMax, arr[start])\n",
    "            rightMax = max(rightMax, arr[end])\n",
    "            if leftMax < rightMax:\n",
    "                colWater += (leftMax - arr[start])\n",
    "                start += 1\n",
    "            else:\n",
    "                colWater += (rightMax - arr[end])\n",
    "                end -= 1\n",
    "        \n",
    "        return colWater"
   ]
  },
  {
   "cell_type": "markdown",
   "metadata": {},
   "source": [
    "<h4><a href = \"https://practice.geeksforgeeks.org/problems/chocolate-distribution-problem/0\" > ARR30: Chocolate Distribution problem.</a></h4>"
   ]
  },
  {
   "cell_type": "code",
   "execution_count": 30,
   "metadata": {
    "ExecuteTime": {
     "end_time": "2023-06-12T05:39:46.088713Z",
     "start_time": "2023-06-12T05:39:46.078790Z"
    }
   },
   "outputs": [],
   "source": [
    "class Solution:\n",
    "\n",
    "    def findMinDiff(self, A,N,M):\n",
    "        \n",
    "        minDiff = float('inf')\n",
    "        sortedA = sorted(A)\n",
    "        for i in range(N-M+1):\n",
    "            minDiff = min(minDiff, sortedA[M-1+i] - sortedA[i])\n",
    "        \n",
    "        return minDiff"
   ]
  },
  {
   "cell_type": "markdown",
   "metadata": {},
   "source": [
    "<h4><a href = \"https://practice.geeksforgeeks.org/problems/smallest-subarray-with-sum-greater-than-x/0\" > ARR31: Smallest Subarray with sum greater than a given value.</a></h4>"
   ]
  },
  {
   "cell_type": "code",
   "execution_count": 31,
   "metadata": {
    "ExecuteTime": {
     "end_time": "2023-06-12T05:41:14.506112Z",
     "start_time": "2023-06-12T05:41:14.488216Z"
    }
   },
   "outputs": [],
   "source": [
    "class Solution:\n",
    "    def smallestSubWithSum(self, a, n, x):\n",
    "        start,end = 0,0\n",
    "        currSum = 0\n",
    "        minLen = float('inf')\n",
    "        while end < n:\n",
    "            currSum += a[end]\n",
    "            while currSum > x and start <= end:\n",
    "                minLen = min(minLen, end - start + 1)\n",
    "                currSum -= a[start]\n",
    "                start +=1\n",
    "            end+=1\n",
    "        \n",
    "        return minLen"
   ]
  },
  {
   "cell_type": "markdown",
   "metadata": {},
   "source": [
    "<h4><a href = \"https://practice.geeksforgeeks.org/problems/three-way-partitioning/1\" > ARR32: Three way partitioning of an array around a given value.</a></h4>"
   ]
  },
  {
   "cell_type": "code",
   "execution_count": 32,
   "metadata": {},
   "outputs": [],
   "source": [
    "class Solution:\n",
    "    #Function to partition the array around the range such \n",
    "    #that array is divided into three parts.\n",
    "    def threeWayPartition(self, array, a, b):\n",
    "        \n",
    "        end1,end2 = 0,0\n",
    "        for i in range(len(array)):\n",
    "            if array[i] < a:\n",
    "                temp = array[i]\n",
    "                array[i], array[end2], array[end1] = array[end2], array[end1], temp \n",
    "                end1 += 1\n",
    "                end2 += 1\n",
    "                    \n",
    "            elif array[i] > b: continue\n",
    "            else:\n",
    "                temp = array[i]\n",
    "                array[i], array[end2] = array[end2], temp\n",
    "                end2 += 1\n",
    "                \n",
    "        return array"
   ]
  },
  {
   "cell_type": "markdown",
   "metadata": {},
   "source": [
    "<h4><a href = \"https://practice.geeksforgeeks.org/problems/minimum-swaps-required-to-bring-all-elements-less-than-or-equal-to-k-together/0\" > ARR33: Minimum swaps required bring elements less equal K together.</a></h4>"
   ]
  },
  {
   "cell_type": "code",
   "execution_count": 33,
   "metadata": {
    "ExecuteTime": {
     "end_time": "2023-06-12T05:54:01.169143Z",
     "start_time": "2023-06-12T05:54:01.150151Z"
    }
   },
   "outputs": [],
   "source": [
    "class Solution:\n",
    "        \n",
    "    def minSwap (self,arr, n, k) : \n",
    "        count = 0\n",
    "        #Counting number of elements less than k\n",
    "        for elem in arr:\n",
    "            if elem <= k:\n",
    "                count += 1\n",
    "        greater = 0\n",
    "        \n",
    "        for i in range(count):\n",
    "            if arr[i] > k:\n",
    "                greater += 1\n",
    "        \n",
    "        minG = greater\n",
    "        start, end = 0, count\n",
    "        while end < len(arr):\n",
    "            if arr[start] > k:\n",
    "                greater -= 1\n",
    "            if arr[end] > k:\n",
    "                greater += 1\n",
    "            \n",
    "            minG = min(greater, minG)\n",
    "            start += 1\n",
    "            end += 1\n",
    "        \n",
    "        return minG         "
   ]
  },
  {
   "cell_type": "markdown",
   "metadata": {},
   "source": [
    "<h4><a href = \"https://www.geeksforgeeks.org/find-minimum-number-of-merge-operations-to-make-an-array-palindrome/\" > ARR34: Minimum no. of operations required to make an array palindrome.</a></h4>"
   ]
  },
  {
   "cell_type": "code",
   "execution_count": 34,
   "metadata": {},
   "outputs": [],
   "source": [
    "def makePalindrome(arr):\n",
    "    \n",
    "    s, e = 0, len(arr) - 1\n",
    "    def backTracking(arr, start, end):\n",
    "        #THe base case\n",
    "        if start >= end: return 0\n",
    "        \n",
    "        #If the outside value is same\n",
    "        if arr[start] == arr[end]:\n",
    "            return backTracking(arr, start + 1, end - 1)\n",
    "        \n",
    "        #The smaller value of the two outermost values is increased by merging\n",
    "        if arr[start] > arr[end]: \n",
    "            arr[end - 1] += arr[end]\n",
    "            return 1 + backTracking(arr, start, end - 1)\n",
    "        else: \n",
    "            arr[start + 1] += arr[start]\n",
    "            return 1 + backTracking(arr, start + 1, end)\n",
    "    \n",
    "    return backTracking(arr,s,e)"
   ]
  },
  {
   "cell_type": "markdown",
   "metadata": {},
   "source": [
    "<h4><a href = \"https://practice.geeksforgeeks.org/problems/sum-of-middle-elements-of-two-sorted-arrays2305/1\" > ARR35: Median of 2 sorted arrays of equal size .</a></h4>"
   ]
  },
  {
   "cell_type": "code",
   "execution_count": 35,
   "metadata": {
    "ExecuteTime": {
     "end_time": "2023-06-12T05:54:52.175361Z",
     "start_time": "2023-06-12T05:54:52.150476Z"
    }
   },
   "outputs": [],
   "source": [
    "class Solution:\n",
    "\n",
    "    def findMidSum(self, arr1, arr2, n):     \n",
    "        start, end = 0, n\n",
    "        while start <= end:\n",
    "            partition1 = (start + end) // 2\n",
    "            partition2 = n - partition1\n",
    "            \n",
    "            max_left1 = float('-inf') if partition1 == 0 else ar1[partition1 - 1]\n",
    "            min_right1 = float('inf') if partition1 == n else ar1[partition1]\n",
    "            max_left2 = float('-inf') if partition2 == 0 else ar2[partition2 - 1]\n",
    "            min_right2 = float('inf') if partition2 == n else ar2[partition2]\n",
    "            \n",
    "            if max_left1 <= min_right2 and max_left2 <= min_right1:\n",
    "                return (max(max_left1, max_left2) + min(min_right1, min_right2))\n",
    "            elif max_left1 > min_right2:\n",
    "                end = partition1 - 1\n",
    "            else:\n",
    "                start = partition1 + 1"
   ]
  },
  {
   "cell_type": "markdown",
   "metadata": {},
   "source": [
    "<h4><a href = \"https://www.geeksforgeeks.org/median-of-two-sorted-arrays-of-different-sizes/\" > ARR36: Median of 2 sorted arrays of different size.</a></h4>"
   ]
  },
  {
   "cell_type": "code",
   "execution_count": 36,
   "metadata": {
    "ExecuteTime": {
     "end_time": "2023-06-12T05:55:11.568393Z",
     "start_time": "2023-06-12T05:55:11.536479Z"
    }
   },
   "outputs": [],
   "source": [
    "class Solution:\n",
    "    def MedianOfArrays(self, array1, array2):\n",
    "        \n",
    "        len1, len2 = len(array1), len(array2)\n",
    "        if len1 >= len2:\n",
    "            large, small = array1, array2\n",
    "        else:\n",
    "            large, small = array2, array1\n",
    "            len1, len2 = len2, len1\n",
    "        \n",
    "        index = (len1+len2)//2\n",
    "        start, end = 0,len2\n",
    "        while True:\n",
    "            \n",
    "            indOne = (start+end)//2\n",
    "            indTwo = index - indOne\n",
    "            leftOne = -float('inf') if indOne == 0 else small[indOne-1]\n",
    "            rightOne = float('inf') if indOne == len2 else small[indOne]\n",
    "            leftTwo = -float('inf') if indTwo == 0 else large[indTwo-1]\n",
    "            rightTwo = float('inf') if indTwo == len1 else large[indTwo]\n",
    "            \n",
    "            if leftOne <= rightTwo and leftTwo <= rightOne:\n",
    "                if (len1+len2)%2:\n",
    "                    return min(rightTwo, rightOne)\n",
    "                else:\n",
    "                    med2 = (min(rightTwo, rightOne) + max(leftOne, leftTwo))\n",
    "                    if med2%2: return med2/2\n",
    "                    return med2//2\n",
    "                \n",
    "            elif leftOne > rightTwo:\n",
    "                end = indOne - 1\n",
    "            else:\n",
    "                start = indOne + 1"
   ]
  },
  {
   "cell_type": "markdown",
   "metadata": {},
   "source": [
    "### End"
   ]
  }
 ],
 "metadata": {
  "hide_input": false,
  "kernelspec": {
   "display_name": "Python 3 (ipykernel)",
   "language": "python",
   "name": "python3"
  },
  "language_info": {
   "codemirror_mode": {
    "name": "ipython",
    "version": 3
   },
   "file_extension": ".py",
   "mimetype": "text/x-python",
   "name": "python",
   "nbconvert_exporter": "python",
   "pygments_lexer": "ipython3",
   "version": "3.10.6"
  },
  "varInspector": {
   "cols": {
    "lenName": 16,
    "lenType": 16,
    "lenVar": 40
   },
   "kernels_config": {
    "python": {
     "delete_cmd_postfix": "",
     "delete_cmd_prefix": "del ",
     "library": "var_list.py",
     "varRefreshCmd": "print(var_dic_list())"
    },
    "r": {
     "delete_cmd_postfix": ") ",
     "delete_cmd_prefix": "rm(",
     "library": "var_list.r",
     "varRefreshCmd": "cat(var_dic_list()) "
    }
   },
   "types_to_exclude": [
    "module",
    "function",
    "builtin_function_or_method",
    "instance",
    "_Feature"
   ],
   "window_display": false
  }
 },
 "nbformat": 4,
 "nbformat_minor": 4
}
