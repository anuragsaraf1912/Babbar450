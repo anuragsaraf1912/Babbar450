{
  "nbformat": 4,
  "nbformat_minor": 0,
  "metadata": {
    "colab": {
      "provenance": [],
      "authorship_tag": "ABX9TyNuKyNMVP6opMbbEyOVGhSF",
      "include_colab_link": true
    },
    "kernelspec": {
      "name": "python3",
      "display_name": "Python 3"
    },
    "language_info": {
      "name": "python"
    }
  },
  "cells": [
    {
      "cell_type": "markdown",
      "metadata": {
        "id": "view-in-github",
        "colab_type": "text"
      },
      "source": [
        "<a href=\"https://colab.research.google.com/github/anuragsaraf1912/Babbar450/blob/master/Binary_Trees.ipynb\" target=\"_parent\"><img src=\"https://colab.research.google.com/assets/colab-badge.svg\" alt=\"Open In Colab\"/></a>"
      ]
    },
    {
      "cell_type": "markdown",
      "source": [
        "<a href = \"https://www.geeksforgeeks.org/problems/level-order-traversal/1\">BT1: Level Order Traversal</a>"
      ],
      "metadata": {
        "id": "g7wPHxZ8glM6"
      }
    },
    {
      "cell_type": "code",
      "source": [
        "class Solution:\n",
        "    #Function to return the level order traversal of a tree.\n",
        "    def levelOrder(self,root):\n",
        "        from collections import deque\n",
        "\n",
        "        resultList = []\n",
        "        q = deque()\n",
        "        q.append(root)\n",
        "        while q:\n",
        "            curr = q.popleft()\n",
        "            resultList.append(curr.data)\n",
        "            if curr.left:\n",
        "                q.append(curr.left)\n",
        "            if curr.right:\n",
        "                q.append(curr.right)\n",
        "\n",
        "        return resultList\n"
      ],
      "metadata": {
        "id": "6ul7fFG4g7R7"
      },
      "execution_count": null,
      "outputs": []
    },
    {
      "cell_type": "markdown",
      "source": [
        "<a href = \"https://www.geeksforgeeks.org/problems/reverse-level-order-traversal/1\">BT2: Reverse Level Order Traversal</a>"
      ],
      "metadata": {
        "id": "1SGaPX4ChElN"
      }
    },
    {
      "cell_type": "code",
      "source": [
        "'''\n",
        "class Node:\n",
        "    def __init__(self,val):\n",
        "        self.data = val\n",
        "        self.left = None\n",
        "        self.right = None\n",
        "'''\n",
        "def reverseLevelOrder(root):\n",
        "    # code here\n",
        "    from collections import deque\n",
        "    resultList = []\n",
        "    q = deque()\n",
        "    q.append(root)\n",
        "    while q:\n",
        "        currLevel = len(q)\n",
        "        thisLevel = []\n",
        "        for i in range(currLevel):\n",
        "            curr = q.popleft()\n",
        "            thisLevel.append(curr.data)\n",
        "            if curr.right: q.append(curr.right)\n",
        "            if curr.left: q.append(curr.left)\n",
        "\n",
        "        resultList += thisLevel[:]\n",
        "\n",
        "    return resultList[::-1]\n"
      ],
      "metadata": {
        "id": "MIWzt-3rg8eG"
      },
      "execution_count": null,
      "outputs": []
    },
    {
      "cell_type": "markdown",
      "source": [
        "<a href = \"\">BT3: Height of a Binary Tree</a>"
      ],
      "metadata": {
        "id": "8phsCtnKhduT"
      }
    },
    {
      "cell_type": "code",
      "source": [
        "class Solution:\n",
        "    #Function to find the height of a binary tree.\n",
        "    def height(self, root):\n",
        "\n",
        "        #Recursive Solution\n",
        "        if not root: return 0\n",
        "        return 1 + max(self.height(root.right), self.height(root.left))\n"
      ],
      "metadata": {
        "id": "hoijKGM6hbwG"
      },
      "execution_count": null,
      "outputs": []
    },
    {
      "cell_type": "code",
      "source": [
        "class Solution:\n",
        "    #Function to find the height of a binary tree.\n",
        "    def height(self, root):\n",
        "\n",
        "        #Using Queues\n",
        "        from collections import deque\n",
        "        q = deque()\n",
        "        height = 0\n",
        "        q.append(root)\n",
        "        while q:\n",
        "            currNum = len(q)\n",
        "            for i in range(currNum):\n",
        "                curr = q.popleft()\n",
        "                if curr.left: q.append(curr.left)\n",
        "                if curr.right: q.append(curr.right)\n",
        "            height += 1\n",
        "        return height"
      ],
      "metadata": {
        "id": "00iZ-2YrhrB0"
      },
      "execution_count": null,
      "outputs": []
    },
    {
      "cell_type": "markdown",
      "source": [
        "<a href = \"https://leetcode.com/problems/diameter-of-binary-tree/submissions/\">BT4: Diameter of a Binary Tree</a>"
      ],
      "metadata": {
        "id": "TumLMxiRiLFo"
      }
    },
    {
      "cell_type": "code",
      "source": [
        "# Definition for a binary tree node.\n",
        "# class TreeNode:\n",
        "#     def __init__(self, val=0, left=None, right=None):\n",
        "#         self.val = val\n",
        "#         self.left = left\n",
        "#         self.right = right\n",
        "class Solution:\n",
        "    def diameterOfBinaryTree(self, root):\n",
        "        self.width = 0\n",
        "\n",
        "        def height(root):\n",
        "            if not root: return 0\n",
        "            leftH = height(root.left)\n",
        "            rightH = height(root.right)\n",
        "            self.width = max(leftH + rightH, self.width)\n",
        "            return 1 + max(leftH, rightH)\n",
        "\n",
        "        height(root)\n",
        "        return self.width\n"
      ],
      "metadata": {
        "id": "-FG62Uqfiy3L"
      },
      "execution_count": null,
      "outputs": []
    },
    {
      "cell_type": "markdown",
      "source": [
        "<a href = \"https://leetcode.com/problems/invert-binary-tree/submissions/\">BT5: Invert Binary Tree</a>"
      ],
      "metadata": {
        "id": "g2bRFGleyjpb"
      }
    },
    {
      "cell_type": "code",
      "source": [
        "class Solution:\n",
        "    def invertTree(self, root):\n",
        "        #Recursive Solution\n",
        "        if not root: return\n",
        "        root.left, root.right = self.invertTree(root.right), self.invertTree(root.left)\n",
        "        return root"
      ],
      "metadata": {
        "id": "DrJICWPUjhs6"
      },
      "execution_count": 3,
      "outputs": []
    },
    {
      "cell_type": "code",
      "source": [
        "class Solution:\n",
        "    def invertTree(self, root):\n",
        "\n",
        "        #Solutions using queue\n",
        "        if not root: return root\n",
        "        from collections import deque\n",
        "        q = deque()\n",
        "        q.append(root)\n",
        "        while q:\n",
        "            curr = q.popleft()\n",
        "            leftSide = curr.left\n",
        "            if leftSide: q.append(leftSide)\n",
        "            rightSide = curr.right\n",
        "            if rightSide: q.append(rightSide)\n",
        "            curr.left, curr.right = rightSide, leftSide\n",
        "\n",
        "        return root\n"
      ],
      "metadata": {
        "id": "K-SyH5_Zyz3y"
      },
      "execution_count": 4,
      "outputs": []
    },
    {
      "cell_type": "code",
      "source": [],
      "metadata": {
        "id": "gynVBnqJy-FT"
      },
      "execution_count": null,
      "outputs": []
    }
  ]
}