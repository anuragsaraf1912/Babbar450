{
  "nbformat": 4,
  "nbformat_minor": 0,
  "metadata": {
    "colab": {
      "provenance": [],
      "authorship_tag": "ABX9TyNMSoselKIJEe5cJz5W0gOY",
      "include_colab_link": true
    },
    "kernelspec": {
      "name": "python3",
      "display_name": "Python 3"
    },
    "language_info": {
      "name": "python"
    }
  },
  "cells": [
    {
      "cell_type": "markdown",
      "metadata": {
        "id": "view-in-github",
        "colab_type": "text"
      },
      "source": [
        "<a href=\"https://colab.research.google.com/github/anuragsaraf1912/Babbar450/blob/master/Binary_Trees.ipynb\" target=\"_parent\"><img src=\"https://colab.research.google.com/assets/colab-badge.svg\" alt=\"Open In Colab\"/></a>"
      ]
    },
    {
      "cell_type": "markdown",
      "source": [
        "<a href = \"https://www.geeksforgeeks.org/problems/level-order-traversal/1\">BT1: Level Order Traversal</a>"
      ],
      "metadata": {
        "id": "g7wPHxZ8glM6"
      }
    },
    {
      "cell_type": "code",
      "source": [
        "class Solution:\n",
        "    #Function to return the level order traversal of a tree.\n",
        "    def levelOrder(self,root):\n",
        "        from collections import deque\n",
        "\n",
        "        resultList = []\n",
        "        q = deque()\n",
        "        q.append(root)\n",
        "        while q:\n",
        "            curr = q.popleft()\n",
        "            resultList.append(curr.data)\n",
        "            if curr.left:\n",
        "                q.append(curr.left)\n",
        "            if curr.right:\n",
        "                q.append(curr.right)\n",
        "\n",
        "        return resultList\n"
      ],
      "metadata": {
        "id": "6ul7fFG4g7R7"
      },
      "execution_count": null,
      "outputs": []
    },
    {
      "cell_type": "markdown",
      "source": [
        "<a href = \"https://www.geeksforgeeks.org/problems/reverse-level-order-traversal/1\">BT2: Reverse Level Order Traversal</a>"
      ],
      "metadata": {
        "id": "1SGaPX4ChElN"
      }
    },
    {
      "cell_type": "code",
      "source": [
        "'''\n",
        "class Node:\n",
        "    def __init__(self,val):\n",
        "        self.data = val\n",
        "        self.left = None\n",
        "        self.right = None\n",
        "'''\n",
        "def reverseLevelOrder(root):\n",
        "    # code here\n",
        "    from collections import deque\n",
        "    resultList = []\n",
        "    q = deque()\n",
        "    q.append(root)\n",
        "    while q:\n",
        "        currLevel = len(q)\n",
        "        thisLevel = []\n",
        "        for i in range(currLevel):\n",
        "            curr = q.popleft()\n",
        "            thisLevel.append(curr.data)\n",
        "            if curr.right: q.append(curr.right)\n",
        "            if curr.left: q.append(curr.left)\n",
        "\n",
        "        resultList += thisLevel[:]\n",
        "\n",
        "    return resultList[::-1]\n"
      ],
      "metadata": {
        "id": "MIWzt-3rg8eG"
      },
      "execution_count": null,
      "outputs": []
    },
    {
      "cell_type": "markdown",
      "source": [
        "<a href = \"\">BT3: Height of a Binary Tree</a>"
      ],
      "metadata": {
        "id": "8phsCtnKhduT"
      }
    },
    {
      "cell_type": "code",
      "source": [
        "class Solution:\n",
        "    #Function to find the height of a binary tree.\n",
        "    def height(self, root):\n",
        "\n",
        "        #Recursive Solution\n",
        "        if not root: return 0\n",
        "        return 1 + max(self.height(root.right), self.height(root.left))\n"
      ],
      "metadata": {
        "id": "hoijKGM6hbwG"
      },
      "execution_count": null,
      "outputs": []
    },
    {
      "cell_type": "code",
      "source": [
        "class Solution:\n",
        "    #Function to find the height of a binary tree.\n",
        "    def height(self, root):\n",
        "\n",
        "        #Using Queues\n",
        "        from collections import deque\n",
        "        q = deque()\n",
        "        height = 0\n",
        "        q.append(root)\n",
        "        while q:\n",
        "            currNum = len(q)\n",
        "            for i in range(currNum):\n",
        "                curr = q.popleft()\n",
        "                if curr.left: q.append(curr.left)\n",
        "                if curr.right: q.append(curr.right)\n",
        "            height += 1\n",
        "        return height"
      ],
      "metadata": {
        "id": "00iZ-2YrhrB0"
      },
      "execution_count": null,
      "outputs": []
    },
    {
      "cell_type": "markdown",
      "source": [
        "<a href = \"https://leetcode.com/problems/diameter-of-binary-tree/submissions/\">BT4: Diameter of a Binary Tree</a>"
      ],
      "metadata": {
        "id": "TumLMxiRiLFo"
      }
    },
    {
      "cell_type": "code",
      "source": [
        "# Definition for a binary tree node.\n",
        "# class TreeNode:\n",
        "#     def __init__(self, val=0, left=None, right=None):\n",
        "#         self.val = val\n",
        "#         self.left = left\n",
        "#         self.right = right\n",
        "class Solution:\n",
        "    def diameterOfBinaryTree(self, root):\n",
        "        self.width = 0\n",
        "\n",
        "        def height(root):\n",
        "            if not root: return 0\n",
        "            leftH = height(root.left)\n",
        "            rightH = height(root.right)\n",
        "            self.width = max(leftH + rightH, self.width)\n",
        "            return 1 + max(leftH, rightH)\n",
        "\n",
        "        height(root)\n",
        "        return self.width\n"
      ],
      "metadata": {
        "id": "-FG62Uqfiy3L"
      },
      "execution_count": null,
      "outputs": []
    },
    {
      "cell_type": "markdown",
      "source": [
        "<a href = \"https://leetcode.com/problems/invert-binary-tree/submissions/\">BT5: Invert Binary Tree</a>"
      ],
      "metadata": {
        "id": "g2bRFGleyjpb"
      }
    },
    {
      "cell_type": "code",
      "source": [
        "class Solution:\n",
        "    def invertTree(self, root):\n",
        "        #Recursive Solution\n",
        "        if not root: return\n",
        "        root.left, root.right = self.invertTree(root.right), self.invertTree(root.left)\n",
        "        return root"
      ],
      "metadata": {
        "id": "DrJICWPUjhs6"
      },
      "execution_count": null,
      "outputs": []
    },
    {
      "cell_type": "code",
      "source": [
        "class Solution:\n",
        "    def invertTree(self, root):\n",
        "\n",
        "        #Solutions using queue\n",
        "        if not root: return root\n",
        "        from collections import deque\n",
        "        q = deque()\n",
        "        q.append(root)\n",
        "        while q:\n",
        "            curr = q.popleft()\n",
        "            leftSide = curr.left\n",
        "            if leftSide: q.append(leftSide)\n",
        "            rightSide = curr.right\n",
        "            if rightSide: q.append(rightSide)\n",
        "            curr.left, curr.right = rightSide, leftSide\n",
        "\n",
        "        return root\n"
      ],
      "metadata": {
        "id": "K-SyH5_Zyz3y"
      },
      "execution_count": null,
      "outputs": []
    },
    {
      "cell_type": "markdown",
      "source": [
        "<a href = 'https://leetcode.com/problems/binary-tree-inorder-traversal/'> BT6: Inorder Traversal </a>"
      ],
      "metadata": {
        "id": "ary58JGP2u7q"
      }
    },
    {
      "cell_type": "code",
      "source": [
        "# Definition for a binary tree node.\n",
        "# class TreeNode:\n",
        "#     def __init__(self, val=0, left=None, right=None):\n",
        "#         self.val = val\n",
        "#         self.left = left\n",
        "#         self.right = right\n",
        "class Solution:\n",
        "    def inorderTraversal(self, root):\n",
        "        #Recursive Solution\n",
        "        if not root: return []\n",
        "        return self.inorderTraversal(root.left) + [root.val] + self.inorderTraversal(root.right)"
      ],
      "metadata": {
        "id": "gynVBnqJy-FT"
      },
      "execution_count": null,
      "outputs": []
    },
    {
      "cell_type": "code",
      "source": [
        "class Solution:\n",
        "    def inorderTraversal(self, root):\n",
        "        #Solutiion using stack\n",
        "        if not root: return []\n",
        "        resultList, stack = [],[]\n",
        "        visited = set()\n",
        "        stack.append(root)\n",
        "\n",
        "        while stack:\n",
        "            curr = stack.pop()\n",
        "            if curr.left and curr.left not in visited:\n",
        "                stack.append(curr)\n",
        "                stack.append(curr.left)\n",
        "\n",
        "            else:\n",
        "                resultList.append(curr.val)\n",
        "                visited.add(curr)\n",
        "                if curr.right: stack.append(curr.right)\n",
        "\n",
        "        return resultList"
      ],
      "metadata": {
        "id": "6Ac2W8UE3Mkk"
      },
      "execution_count": null,
      "outputs": []
    },
    {
      "cell_type": "code",
      "source": [
        "class Solution:\n",
        "    def InOrder(self,root):\n",
        "        #Optimum solution without using HashMaps\n",
        "        resultList, stack = [], []\n",
        "        curr = root\n",
        "\n",
        "        while stack or curr:\n",
        "\n",
        "            while curr:\n",
        "                stack.append(curr)\n",
        "                curr = curr.left\n",
        "            curr = stack.pop()\n",
        "            resultList.append(curr.data)\n",
        "            curr = curr.right\n",
        "\n",
        "        return resultList\n"
      ],
      "metadata": {
        "id": "GytQiEZuFu7r"
      },
      "execution_count": null,
      "outputs": []
    },
    {
      "cell_type": "markdown",
      "source": [
        "<a href = 'https://leetcode.com/problems/binary-tree-preorder-traversal/'> BT7: PreOrder Traversal </a>"
      ],
      "metadata": {
        "id": "g724InmT23XR"
      }
    },
    {
      "cell_type": "code",
      "source": [
        "class Solution:\n",
        "    def preorderTraversal(self, root):\n",
        "\n",
        "        #Recursive Solution\n",
        "        if not root: return []\n",
        "        return [root.val] + self.preorderTraversal(root.left) + self.preorderTraversal(root.right)\n"
      ],
      "metadata": {
        "id": "6YMJVLRe29Ep"
      },
      "execution_count": null,
      "outputs": []
    },
    {
      "cell_type": "code",
      "source": [
        "class Solution:\n",
        "    def preorderTraversal(self, root):\n",
        "\n",
        "        #Using stacks\n",
        "        if not root: return []\n",
        "        resultList, stack = [], []\n",
        "        stack.append(root)\n",
        "        while stack:\n",
        "            curr = stack.pop()\n",
        "            resultList.append(curr.val)\n",
        "            if curr.right: stack.append(curr.right)\n",
        "            if curr.left: stack.append(curr.left)\n",
        "\n",
        "        return resultList"
      ],
      "metadata": {
        "id": "fAo7noON2-hV"
      },
      "execution_count": null,
      "outputs": []
    },
    {
      "cell_type": "markdown",
      "source": [
        "<a href = 'https://leetcode.com/problems/binary-tree-postorder-traversal/'> BT8: Post Order traversal </a>"
      ],
      "metadata": {
        "id": "6yQRg8A03OXg"
      }
    },
    {
      "cell_type": "code",
      "source": [
        "# Definition for a binary tree node.\n",
        "# class TreeNode:\n",
        "#     def __init__(self, val=0, left=None, right=None):\n",
        "#         self.val = val\n",
        "#         self.left = left\n",
        "#         self.right = right\n",
        "class Solution:\n",
        "    def postorderTraversal(self, root):\n",
        "        #Recursive Solution\n",
        "        if not root: return []\n",
        "        return self.postorderTraversal(root.left) + self.postorderTraversal(root.right) + [root.val]\n"
      ],
      "metadata": {
        "id": "95U0SXlV3K4q"
      },
      "execution_count": null,
      "outputs": []
    },
    {
      "cell_type": "code",
      "source": [
        "class Solution:\n",
        "    def postorderTraversal(self, root):\n",
        "        #Solution using Stack\n",
        "        if not root: return []\n",
        "        resultList, stack = [], []\n",
        "        stack.append(root)\n",
        "        visited = set()\n",
        "        while stack:\n",
        "            curr = stack.pop()\n",
        "            if curr.left and curr.left not in visited:\n",
        "                stack.append(curr)\n",
        "                stack.append(curr.left)\n",
        "            elif curr.right and curr.right not in visited:\n",
        "                stack.append(curr)\n",
        "                stack.append(curr.right)\n",
        "            else:\n",
        "                resultList.append(curr.val)\n",
        "                visited.add(curr)\n",
        "\n",
        "        return resultList"
      ],
      "metadata": {
        "id": "idZ3S8n83XjL"
      },
      "execution_count": null,
      "outputs": []
    },
    {
      "cell_type": "code",
      "source": [
        "class Solution:\n",
        "    def postorderTraversal(self, root: Optional[TreeNode]) -> List[int]:\n",
        "        #Wothout HashMaps\n",
        "        if not root: return []\n",
        "        resultList, stack = [], []\n",
        "        stack.append(root)\n",
        "        while stack:\n",
        "            curr = stack.pop()\n",
        "            if not curr: continue\n",
        "            resultList.append(curr.val)\n",
        "            stack.append(curr.left)\n",
        "            stack.append(curr.right)\n",
        "        return resultList[::-1]"
      ],
      "metadata": {
        "id": "_gXe1g0pIRqM"
      },
      "execution_count": null,
      "outputs": []
    },
    {
      "cell_type": "markdown",
      "source": [
        "<a href = 'https://www.geeksforgeeks.org/problems/left-view-of-binary-tree/1'> BT9: Left View of Binary Tree </a>"
      ],
      "metadata": {
        "id": "AQKYnhiXBfhH"
      }
    },
    {
      "cell_type": "code",
      "source": [
        "def LeftView(root):\n",
        "\n",
        "    if not root: return []\n",
        "    from collections import deque\n",
        "    q = deque()\n",
        "    q.append(root)\n",
        "    resultList = []\n",
        "    while q:\n",
        "        nodes = len(q)\n",
        "        for i in range(nodes):\n",
        "            curr = q.popleft()\n",
        "            #Processing the first element\n",
        "            if not i: resultList.append(curr.data)\n",
        "            if curr.left: q.append(curr.left)\n",
        "            if curr.right: q.append(curr.right)\n",
        "    return resultList"
      ],
      "metadata": {
        "id": "hDBk5d56Bf0V"
      },
      "execution_count": null,
      "outputs": []
    },
    {
      "cell_type": "markdown",
      "source": [
        "<a href = 'https://www.geeksforgeeks.org/problems/right-view-of-binary-tree/1'> BT10: Right View of Binary Tree </a>"
      ],
      "metadata": {
        "id": "Pozo1ZHmBgLb"
      }
    },
    {
      "cell_type": "code",
      "source": [
        "class Solution:\n",
        "    #Function to return list containing elements of right view of binary tree.\n",
        "    def rightView(self,root):\n",
        "        # code here\n",
        "        if not root: return []\n",
        "        from collections import deque\n",
        "        q, resultList = deque(), []\n",
        "        q.append(root)\n",
        "        while q:\n",
        "            nodes = len(q)\n",
        "            for i in range(nodes):\n",
        "                curr = q.popleft()\n",
        "                if i == nodes - 1: resultList.append(curr.data)\n",
        "                if curr.left: q.append(curr.left)\n",
        "                if curr.right: q.append(curr.right)\n",
        "\n",
        "        return resultList\n"
      ],
      "metadata": {
        "id": "a57lpxUZBgXv"
      },
      "execution_count": null,
      "outputs": []
    },
    {
      "cell_type": "markdown",
      "source": [
        "<a href = 'https://www.geeksforgeeks.org/problems/top-view-of-binary-tree/1'> BT11: Top View of Binary Tree </a>"
      ],
      "metadata": {
        "id": "ohWliW06Bgir"
      }
    },
    {
      "cell_type": "code",
      "source": [
        "class Solution:\n",
        "\n",
        "    #Function to return a list of nodes visible from the top view\n",
        "    #from left to right in Binary Tree.\n",
        "    def topView(self,root):\n",
        "\n",
        "        if not root: return []\n",
        "        from collections import deque\n",
        "        q = deque()\n",
        "        tracking = {}\n",
        "        q.append((root,0))\n",
        "        while q:\n",
        "            curr, xCord = q.popleft()\n",
        "            if xCord not in tracking:\n",
        "                tracking[xCord] = curr.data\n",
        "            if curr.left: q.append((curr.left, xCord-1))\n",
        "            if curr.right: q.append((curr.right, xCord+1))\n",
        "\n",
        "        return [tracking[k] for k in sorted(tracking.keys())]\n"
      ],
      "metadata": {
        "id": "8ATaPPzxBgtE"
      },
      "execution_count": null,
      "outputs": []
    },
    {
      "cell_type": "markdown",
      "source": [
        "<a href = 'https://www.geeksforgeeks.org/problems/bottom-view-of-binary-tree/1'> BT12: Bottom View of Binary Tree </a>"
      ],
      "metadata": {
        "id": "qJ-Cslc-Bg8I"
      }
    },
    {
      "cell_type": "code",
      "source": [
        "class Solution:\n",
        "    def bottomView(self, root):\n",
        "\n",
        "        if not root: return []\n",
        "        from collections import deque\n",
        "        q = deque()\n",
        "        tracking = {}\n",
        "        q.append((root,0))\n",
        "        while q:\n",
        "            curr, distance = q.popleft()\n",
        "            tracking[distance] = curr.data\n",
        "            if curr.left: q.append((curr.left, distance - 1))\n",
        "            if curr.right: q.append((curr.right, distance + 1))\n",
        "\n",
        "        return [tracking[k] for k in sorted(tracking.keys())]\n"
      ],
      "metadata": {
        "id": "mkJ-ZHg9BhGi"
      },
      "execution_count": null,
      "outputs": []
    },
    {
      "cell_type": "markdown",
      "source": [
        "<a href = 'https://www.geeksforgeeks.org/problems/zigzag-tree-traversal/1'> BT13: Zig Zag Tree Traversal of Binary Tree </a>"
      ],
      "metadata": {
        "id": "AzSRe-4D6vD6"
      }
    },
    {
      "cell_type": "code",
      "source": [
        "class Solution:\n",
        "    #Function to store the zig zag order traversal of tree in a list.\n",
        "    def zigZagTraversal(self, root):\n",
        "        from collections import deque\n",
        "        q, resultList = deque(), []\n",
        "        q.append(root)\n",
        "        reverse = False\n",
        "        while q:\n",
        "            nodes = len(q)\n",
        "            currLevel = []\n",
        "            for i in range(nodes):\n",
        "                curr = q.popleft()\n",
        "                currLevel.append(curr.data)\n",
        "                if curr.left: q.append(curr.left)\n",
        "                if curr.right: q.append(curr.right)\n",
        "\n",
        "            if reverse: resultList += currLevel[::-1]\n",
        "            else: resultList += currLevel[:]\n",
        "            reverse = not reverse\n",
        "\n",
        "        return resultList"
      ],
      "metadata": {
        "id": "npPvYOrq6vP5"
      },
      "execution_count": null,
      "outputs": []
    },
    {
      "cell_type": "markdown",
      "source": [
        "<a href = 'https://www.geeksforgeeks.org/problems/check-for-balanced-tree/1'> BT14: Check for Balanced Tree </a>"
      ],
      "metadata": {
        "id": "BBX4pWw16vhS"
      }
    },
    {
      "cell_type": "code",
      "source": [
        "#Function to check whether a binary tree is balanced or not.\n",
        "class Solution:\n",
        "\n",
        "    def isBalanced(self,root):\n",
        "        #Recursive Solution\n",
        "        self.balance = True\n",
        "        def dfs(root):\n",
        "            if not root: return 0\n",
        "            leftH = dfs(root.left)\n",
        "            rightH = dfs(root.right)\n",
        "            self.balance = self.balance and abs(leftH-rightH) <= 1\n",
        "            return 1 + max(leftH, rightH)\n",
        "\n",
        "        dfs(root)\n",
        "        return self.balance\n"
      ],
      "metadata": {
        "id": "aRFAWw796vod"
      },
      "execution_count": null,
      "outputs": []
    },
    {
      "cell_type": "markdown",
      "source": [
        "<a href = 'https://www.geeksforgeeks.org/diagonal-traversal-of-binary-tree/'> BT15: Diagonal Traversal of Binary Tree </a>"
      ],
      "metadata": {
        "id": "l2gBJXxoAmuY"
      }
    },
    {
      "cell_type": "code",
      "source": [
        "#Complete the function below\n",
        "class Solution:\n",
        "    def diagonal(self,root):\n",
        "\n",
        "        from collections import defaultdict\n",
        "        stack, mapDict = [], defaultdict(list)\n",
        "        height = 0\n",
        "        #Adding x and y coordinate for the root\n",
        "        stack.append((root, 0, 0))\n",
        "        while stack:\n",
        "            node, xCor, yCor = stack.pop()\n",
        "            #Saving the diagonal elements in yCor - xCor\n",
        "            mapDict[(yCor - xCor)].append(node.data)\n",
        "            if node.right:\n",
        "                stack.append((node.right, xCor + 1, yCor + 1))\n",
        "            if node.left:\n",
        "                stack.append((node.left, xCor - 1, yCor + 1))\n",
        "\n",
        "        resultList = []\n",
        "        for k in sorted(mapDict.keys()):\n",
        "            resultList += mapDict[k]\n",
        "        return resultList\n"
      ],
      "metadata": {
        "id": "YWhslsw5AnFF"
      },
      "execution_count": null,
      "outputs": []
    },
    {
      "cell_type": "markdown",
      "source": [
        "<a href = 'https://www.geeksforgeeks.org/problems/boundary-traversal-of-binary-tree/1'> BT16: Boundary Traversal of Binary Tree </a>"
      ],
      "metadata": {
        "id": "EqqHyN158ms5"
      }
    },
    {
      "cell_type": "code",
      "source": [
        "class Solution:\n",
        "    def printBoundaryView(self, root):\n",
        "        # If only a single node\n",
        "        if (not root.left) and (not root.right):\n",
        "            return [root.data]\n",
        "\n",
        "        leftSide, rightSide, leaves = [root.data], [], []\n",
        "\n",
        "        #Traversing the left side\n",
        "        curr = root.left\n",
        "        while curr:\n",
        "            if curr.left or curr.right: leftSide.append(curr.data)\n",
        "            if curr.left: curr = curr.left\n",
        "            else: curr = curr.right\n",
        "\n",
        "        #Traversing the rightSide\n",
        "        curr = root.right\n",
        "        while curr:\n",
        "            if curr.left or curr.right: rightSide.append(curr.data)\n",
        "            if curr.right: curr = curr.right\n",
        "            else: curr = curr.left\n",
        "\n",
        "        #Finding the leaves\n",
        "        stack = [root]\n",
        "        while stack:\n",
        "            curr = stack.pop()\n",
        "            if curr.right:\n",
        "                stack.append(curr.right)\n",
        "            if curr.left:\n",
        "                stack.append(curr.left)\n",
        "            if (not curr.left) and (not curr.right):\n",
        "                leaves.append(curr.data)\n",
        "\n",
        "        return leftSide + leaves + rightSide[::-1]\n"
      ],
      "metadata": {
        "id": "12rbPJeH7WFC"
      },
      "execution_count": null,
      "outputs": []
    },
    {
      "cell_type": "markdown",
      "source": [
        "<a href = 'https://www.geeksforgeeks.org/problems/construct-binary-tree-from-string-with-bracket-representation/1'> BT17: Construct Binary Tree from String with Bracket Representation </a>"
      ],
      "metadata": {
        "id": "b12MQiP6c9JY"
      }
    },
    {
      "cell_type": "code",
      "source": [],
      "metadata": {
        "id": "40hLARJXc928"
      },
      "execution_count": null,
      "outputs": []
    },
    {
      "cell_type": "markdown",
      "source": [
        "<a href = 'https://www.geeksforgeeks.org/problems/binary-tree-to-dll/1'> BT18: Binary Tree to DLL </a>"
      ],
      "metadata": {
        "id": "bU8NMIZxc-Id"
      }
    },
    {
      "cell_type": "code",
      "source": [
        "class Solution:\n",
        "    def bToDLL(self,root):\n",
        "        # do Code here\n",
        "        def recursive(root):\n",
        "            start, end = root, root\n",
        "            if root.left:\n",
        "                sl,el = recursive(root.left)\n",
        "                el.right, root.left = root, el\n",
        "                start = sl\n",
        "\n",
        "            if root.right:\n",
        "                sr,er = recursive(root.right)\n",
        "                sr.left, root.right = root, sr\n",
        "                end = er\n",
        "            return start, end\n",
        "\n",
        "        start,end = recursive(root)\n",
        "        return start"
      ],
      "metadata": {
        "id": "CZ54mIpAc-1D"
      },
      "execution_count": null,
      "outputs": []
    },
    {
      "cell_type": "markdown",
      "source": [
        "<a href = 'https://www.geeksforgeeks.org/problems/transform-to-sum-tree/1'> BT19: Convert Binary Tree into Sum tree </a>"
      ],
      "metadata": {
        "id": "mf_jaS41SbZs"
      }
    },
    {
      "cell_type": "code",
      "source": [
        "'''\n",
        "# Node Class:\n",
        "class Node:\n",
        "    def __init__(self,val):\n",
        "        self.data = val\n",
        "        self.left = None\n",
        "        self.right = None\n",
        "'''\n",
        "class Solution:\n",
        "    def toSumTree(self, root) :\n",
        "\n",
        "        def dfs(root):\n",
        "            if not root: return 0\n",
        "            currSum = dfs(root.left) + dfs(root.right)\n",
        "            currData = root.data\n",
        "            root.data = currSum\n",
        "            return currData + currSum\n",
        "\n",
        "        dfs(root)"
      ],
      "metadata": {
        "id": "fFCCT5yeSbh3"
      },
      "execution_count": null,
      "outputs": []
    },
    {
      "cell_type": "markdown",
      "source": [
        "<a href = 'https://leetcode.com/problems/construct-binary-tree-from-preorder-and-inorder-traversal/'> BT20: Construct Binary Tree from Inorder and Preorder Traversal </a>"
      ],
      "metadata": {
        "id": "n5ocH1t-Sbp-"
      }
    },
    {
      "cell_type": "code",
      "source": [
        "# Definition for a binary tree node.\n",
        "# class TreeNode:\n",
        "#     def __init__(self, val=0, left=None, right=None):\n",
        "#         self.val = val\n",
        "#         self.left = left\n",
        "#         self.right = right\n",
        "class Solution:\n",
        "    def buildTree(self, preorder, inorder):\n",
        "        if not inorder or not preorder:\n",
        "            return\n",
        "        currData = preorder[0]\n",
        "        lenLeft = inorder.index(currData)\n",
        "        root = TreeNode(currData)\n",
        "        root.left = self.buildTree(preorder[1:lenLeft+1], inorder[:lenLeft])\n",
        "        root.right = self.buildTree(preorder[lenLeft+1:], inorder[lenLeft+1:])\n",
        "        return root\n"
      ],
      "metadata": {
        "id": "xLdvrifqScNq"
      },
      "execution_count": null,
      "outputs": []
    },
    {
      "cell_type": "markdown",
      "source": [
        "<a href = 'https://www.codingninjas.com/studio/problems/minimum-swaps-to-convert-binary-tree-into-bst_1118109?topList=love-babbar-dsa-sheet-problems&utm_source=website&utm_medium=affiliate&utm_campaign=450dsatracker'> BT21: Find minimum swaps required to convert a Binary tree into BST </a>"
      ],
      "metadata": {
        "id": "Flg3gmSiIYem"
      }
    },
    {
      "cell_type": "code",
      "source": [
        "#The idea is to convert it into Inorder first and the find the minimum swaps to make it sorted\n",
        "def minimumSwaps(arr, n):\n",
        "  #Function to convert this into Inorder\n",
        "  def createInorder(i):\n",
        "    leftSide = createInorder(2*i+1) if 2*i+1 < n else []\n",
        "    rightSide = createInorder(2*i+2) if 2*i+2 < n else []\n",
        "    return leftSide + [arr[i]] + rightSide\n",
        "  inorderTrav = createInorder(0)\n",
        "  actualPos = sorted(range(n), key = lambda i: inorderTrav[i])\n",
        "\n",
        "  #Finding the number of swaps required\n",
        "  visited, swaps = set(),0\n",
        "  for curr, target in enumerate(actualPos):\n",
        "    if curr in visited: continue\n",
        "    while curr != target:\n",
        "      visited.add(target)\n",
        "      target = actualPos[target]\n",
        "      swaps += 1\n",
        "\n",
        "  return swaps"
      ],
      "metadata": {
        "id": "pJl07gdAIZio"
      },
      "execution_count": 1,
      "outputs": []
    },
    {
      "cell_type": "markdown",
      "source": [
        "<a href = 'https://www.geeksforgeeks.org/problems/sum-tree/1'> BT22: Check if Binary Tree is a sum tree or not </a>"
      ],
      "metadata": {
        "id": "_XwalGOLIZx6"
      }
    },
    {
      "cell_type": "code",
      "source": [
        "class Solution:\n",
        "    def isSumTree(self,root):\n",
        "\n",
        "        self.isSum = True\n",
        "        def dfs(root):\n",
        "            if not root: return 0\n",
        "            leftSide = dfs(root.left)\n",
        "            rightSide = dfs(root.right)\n",
        "\n",
        "            if (root.left or root.right) and root.data != leftSide + rightSide:\n",
        "                self.isSum = False\n",
        "            return root.data + leftSide + rightSide\n",
        "\n",
        "        dfs(root)\n",
        "        return self.isSum"
      ],
      "metadata": {
        "id": "KEy5o8ylIaCn"
      },
      "execution_count": 1,
      "outputs": []
    },
    {
      "cell_type": "markdown",
      "source": [
        "<a href = 'https://www.geeksforgeeks.org/problems/leaf-at-same-level/1'> BT23: Check if all leaf Nodes are the same level or not</a>"
      ],
      "metadata": {
        "id": "HO6e8llxIgLu"
      }
    },
    {
      "cell_type": "code",
      "source": [
        "class Solution:\n",
        "    #Your task is to complete this function\n",
        "    #function should return True/False or 1/0\n",
        "    def check(self, root):\n",
        "        from collections import deque\n",
        "        q, leaf = deque(), False\n",
        "        q.append(root)\n",
        "        while q:\n",
        "            for i in range(len(q)):\n",
        "                curr = q.popleft()\n",
        "                if curr.left: q.append(curr.left)\n",
        "                if curr.right:q.append(curr.right)\n",
        "                if (not curr.left) and not (curr.right):\n",
        "                    leaf = True\n",
        "            if leaf: return len(q) == 0"
      ],
      "metadata": {
        "id": "oNq15x5TIgSZ"
      },
      "execution_count": null,
      "outputs": []
    },
    {
      "cell_type": "markdown",
      "source": [
        "<a href='https://www.geeksforgeeks.org/problems/duplicate-subtree-in-binary-tree/1'>BT24: Check if a Binary Tree contains duplicate subtrees of size 2 or more</a>"
      ],
      "metadata": {
        "id": "pPqQLF-QDmI0"
      }
    },
    {
      "cell_type": "code",
      "source": [
        "class Solution:\n",
        "    def dupSub(self, root):\n",
        "        self.found = False\n",
        "        #The idea is to save the inorder sequence of a node in the hashmap and use it to check if there is already an entry there.\n",
        "        #All leaf nodes have len(1) string which can be checked. Any nodes not having left and right node will have '$' instead.\n",
        "        #The nodes in strings are separated by . as 11-1 and 1-11 could provide the same string\n",
        "        hashMap = set()\n",
        "        def createInorder(node):\n",
        "            #Checking for leaf node\n",
        "            if (not node.left) and (not node.right):\n",
        "                return str(node.data)\n",
        "\n",
        "            if not node.left: leftSide = '$'\n",
        "            else: leftSide = createInorder(node.left)\n",
        "\n",
        "            if not node.right: rightSide = '$'\n",
        "            else: rightSide = createInorder(node.right)\n",
        "\n",
        "            #Inorder sequence divided by '.'\n",
        "            curr = leftSide + '.' + str(node.data) + '.' + rightSide\n",
        "            #Checking if entry is already in the hashMap and it is not a leaf node\n",
        "            if curr in hashMap and len(curr) > 1:\n",
        "                self.found = True\n",
        "            hashMap.add(curr)\n",
        "            return curr\n",
        "\n",
        "        createInorder(root)\n",
        "        return 1 if self.found else 0\n"
      ],
      "metadata": {
        "id": "IrAg1ogHDjc-"
      },
      "execution_count": 1,
      "outputs": []
    },
    {
      "cell_type": "markdown",
      "source": [
        "<a href='https://www.geeksforgeeks.org/problems/check-mirror-in-n-ary-tree1528/1'> BT25:\tBinary Trees\tCheck if 2 trees are mirror or not<a>"
      ],
      "metadata": {
        "id": "iej2Xz3lDnne"
      }
    },
    {
      "cell_type": "code",
      "source": [
        "class Solution:\n",
        "\n",
        "    #Saving all the children in an adjacent List and checking if the number of children are equal and placed in opposite order\n",
        "    def checkMirrorTree(self, n, e, A, B):\n",
        "\n",
        "        from collections import defaultdict\n",
        "        adjListA = defaultdict(list)\n",
        "        adjListB = defaultdict(list)\n",
        "        for index in range(e):\n",
        "            currA, currB = A[2*index], B[2*index]\n",
        "            adjListA[currA].append(A[2*index+1])\n",
        "            adjListB[currB].append(B[2*index+1])\n",
        "\n",
        "        for k in adjListA:\n",
        "            childA, childB = adjListA[k], adjListB[k]\n",
        "            if len(childA) != len(childB) or childA != childB[::-1]:\n",
        "                return 0\n",
        "\n",
        "        return 1"
      ],
      "metadata": {
        "id": "i-OnsS5C_PIo"
      },
      "execution_count": 2,
      "outputs": []
    },
    {
      "cell_type": "markdown",
      "source": [
        "<a href='https://www.geeksforgeeks.org/problems/sum-of-the-longest-bloodline-of-a-tree/1'>BT26: Sum of nodes on longest path from root to leaf node</a>"
      ],
      "metadata": {
        "id": "eIb4hkeCDpBj"
      }
    },
    {
      "cell_type": "code",
      "source": [
        "'''\n",
        "class Node:\n",
        "    def __init__(self,val):\n",
        "        self.data=val\n",
        "        self.left=None\n",
        "        self.right=None\n",
        "'''\n",
        "#Perform a DFS and track the highest depth path and its sum at each node.\n",
        "#At each node, we would need to compare the child nodes and chose the one with higher depth\n",
        "#Return the summation of higher depth node with the current node\n",
        "\n",
        "class Solution:\n",
        "    def sumOfLongRootToLeafPath(self,root):\n",
        "        #Fucntion to compare for two child nodes at each parent node.\n",
        "        def compareNodes(lS,lD, rS,rD):\n",
        "            if lD == rD: return max(lS, rS), lD\n",
        "            elif lD > rD: return lS, lD\n",
        "            return rS,rD\n",
        "\n",
        "        #DFS function that returns the highest depth and its summation\n",
        "        def dfs(node, i):\n",
        "            if not node: return 0, i\n",
        "            lSum,lDep = dfs(node.left, i+1)\n",
        "            rSum, rDep = dfs(node.right, i+1)\n",
        "            summation, depth = compareNodes(lSum, lDep, rSum, rDep)\n",
        "            return summation + node.data, depth\n",
        "        s,d = dfs(root, 0)\n",
        "        return s\n"
      ],
      "metadata": {
        "id": "x4iW4vp-_ZBp"
      },
      "execution_count": null,
      "outputs": []
    },
    {
      "cell_type": "markdown",
      "source": [
        "<a href='https://www.geeksforgeeks.org/problems/sum-of-the-longest-bloodline-of-a-tree/1'>BT27: Check if given graph is tree or not</a>"
      ],
      "metadata": {
        "id": "ITqjqthje1J9"
      }
    },
    {
      "cell_type": "code",
      "source": [],
      "metadata": {
        "id": "14jbOlkVe1U5"
      },
      "execution_count": 1,
      "outputs": []
    },
    {
      "cell_type": "markdown",
      "source": [
        "\n",
        "<a href='https://www.geeksforgeeks.org/problems/sum-of-the-longest-bloodline-of-a-tree/1'>BT28: Find largest Subtree Sum</a>\n",
        "\n"
      ],
      "metadata": {
        "id": "bQGooiH3e8hF"
      }
    },
    {
      "cell_type": "code",
      "source": [],
      "metadata": {
        "id": "8qPjHgdZe6RB"
      },
      "execution_count": null,
      "outputs": []
    },
    {
      "cell_type": "markdown",
      "source": [
        "<a href='https://www.geeksforgeeks.org/problems/maximum-sum-of-non-adjacent-nodes/1'>BT29: Maximum Sum of nodes in Binary tree such that no two are adjacent </a>"
      ],
      "metadata": {
        "id": "EY2CceDFQ6L5"
      }
    },
    {
      "cell_type": "code",
      "source": [
        "'''\n",
        "# Node Class:\n",
        "class Node:\n",
        "    def __init__(self,val):\n",
        "        self.data = val\n",
        "        self.left = None\n",
        "        self.right = None\n",
        "'''\n",
        "\n",
        "class Solution:\n",
        "    #Function to return the maximum sum of non-adjacent nodes.\n",
        "    #HaspMaps to store values corresponding to each node\n",
        "    map = {}\n",
        "    def getMaxSum(self,root):\n",
        "        if not root: return 0\n",
        "        if root in self.map: return self.map[root]\n",
        "        #Two cases are there, either the node is included or it isn't.\n",
        "        notIncluded = self.getMaxSum(root.left) + self.getMaxSum(root.right)\n",
        "        included = root.data\n",
        "        if root.left:\n",
        "            included += self.getMaxSum(root.left.left) + self.getMaxSum(root.left.right)\n",
        "        if root.right:\n",
        "            included += self.getMaxSum(root.right.left) + self.getMaxSum(root.right.right)\n",
        "\n",
        "        self.map[root] = max(included, notIncluded)\n",
        "        return self.map[root]"
      ],
      "metadata": {
        "id": "qVVzU5ugQ6ZY"
      },
      "execution_count": 2,
      "outputs": []
    },
    {
      "cell_type": "markdown",
      "source": [
        "<a href='https://www.geeksforgeeks.org/problems/paths-from-root-with-a-specified-sum/1?itm_source=geeksforgeeks&itm_medium=article&itm_campaign=bottom_sticky_on_article'>BT30: Print all 'K' Sum paths in a Binary tree </a>"
      ],
      "metadata": {
        "id": "mj3BM9ubSeTB"
      }
    },
    {
      "cell_type": "code",
      "source": [
        "class Solution:\n",
        "    def printPaths(self, root, sum):\n",
        "        currPath = []\n",
        "        allPaths = []\n",
        "        def dfs(root, summation):\n",
        "\n",
        "            if summation + root.data == sum:\n",
        "                allPaths.append(currPath[:] + [root.data])\n",
        "\n",
        "            if root.left:\n",
        "                currPath.append(root.data)\n",
        "                dfs(root.left, summation + root.data)\n",
        "                currPath.pop()\n",
        "\n",
        "            if root.right:\n",
        "                currPath.append(root.data)\n",
        "                dfs(root.right, summation + root.data)\n",
        "                currPath.pop()\n",
        "\n",
        "        dfs(root, 0)\n",
        "        return allPaths"
      ],
      "metadata": {
        "id": "Ad_Xv7L2Secs"
      },
      "execution_count": 3,
      "outputs": []
    },
    {
      "cell_type": "markdown",
      "source": [
        "<a href='https://www.geeksforgeeks.org/problems/lowest-common-ancestor-in-a-binary-tree/1'>BT31: Find LCA of two nodes in a Binary tree </a>"
      ],
      "metadata": {
        "id": "5mLj8rfnTZnq"
      }
    },
    {
      "cell_type": "code",
      "source": [
        "\n",
        "'''\n",
        "class Node:\n",
        "    def __init__(self, value):\n",
        "        self.left = None\n",
        "        self.data = value\n",
        "        self.right = None\n",
        "'''\n",
        "\n",
        "class Solution:\n",
        "    #Function to return the lowest common ancestor in a Binary Tree.\n",
        "    def lca(self,root, n1, n2):\n",
        "        self.lca = None\n",
        "        def dfs(root):\n",
        "            if not root: return\n",
        "            leftSide = dfs(root.left)\n",
        "            rightSide = dfs(root.right)\n",
        "            if root.data != n1 and root.data != n2:\n",
        "                if leftSide and rightSide: self.lca = root\n",
        "                if leftSide or rightSide: return True\n",
        "            else:\n",
        "                if leftSide or rightSide: self.lca = root\n",
        "                return True\n",
        "\n",
        "        dfs(root)\n",
        "        return self.lca"
      ],
      "metadata": {
        "id": "4Jefcm_vSFks"
      },
      "execution_count": null,
      "outputs": []
    },
    {
      "cell_type": "markdown",
      "source": [
        "<a href='https://www.geeksforgeeks.org/problems/min-distance-between-two-given-nodes-of-a-binary-tree/1'>BT32: Find min distance between two nodes in a Binary tree </a>"
      ],
      "metadata": {
        "id": "yQ_p7p4FTbbX"
      }
    },
    {
      "cell_type": "code",
      "source": [
        "\n",
        "'''\n",
        "# Node Class:\n",
        "class Node:\n",
        "    def __init__(self,val):\n",
        "        self.data = val\n",
        "        self.left = None\n",
        "        self.right = None\n",
        "'''\n",
        "class Solution:\n",
        "    def findDist(self,root,a,b):\n",
        "\n",
        "        self.maxDist = 0\n",
        "        #return: minimum distance between a and b in a tree with given root\n",
        "        #code here\n",
        "\n",
        "        #The idea is to check at each node, if there subtrees contain a or b\n",
        "        #2 cases  (a) one node is child of another (b) They have a common parent\n",
        "\n",
        "        def dfs(root, i):\n",
        "            if not root: return False, i\n",
        "            foundL, depthL = dfs(root.left, i+1)\n",
        "            foundR, depthR = dfs(root.right, i+1)\n",
        "            if root.data != a and root.data != b:\n",
        "                if foundR and foundL:\n",
        "                    self.maxDist = depthL + depthR - i - i\n",
        "                    return True, i\n",
        "                elif foundR: return True, depthR\n",
        "                elif foundL: return True, depthL\n",
        "                else: return False, i\n",
        "            elif root.data == a or root.data == b:\n",
        "                if foundL: self.maxDist = depthL - i\n",
        "                if foundR: self.maxDist = depthR - i\n",
        "                return True, i\n",
        "\n",
        "        dfs(root, 0)\n",
        "        return self.maxDist\n",
        "\n"
      ],
      "metadata": {
        "id": "dLlzGmn1TchY"
      },
      "execution_count": 4,
      "outputs": []
    },
    {
      "cell_type": "code",
      "source": [],
      "metadata": {
        "id": "YLGojaz1Ugk-"
      },
      "execution_count": null,
      "outputs": []
    }
  ]
}