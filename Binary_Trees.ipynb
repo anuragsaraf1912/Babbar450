{
  "nbformat": 4,
  "nbformat_minor": 0,
  "metadata": {
    "colab": {
      "provenance": [],
      "authorship_tag": "ABX9TyMCdeTjFrqpmU9KVJzVEHnV",
      "include_colab_link": true
    },
    "kernelspec": {
      "name": "python3",
      "display_name": "Python 3"
    },
    "language_info": {
      "name": "python"
    }
  },
  "cells": [
    {
      "cell_type": "markdown",
      "metadata": {
        "id": "view-in-github",
        "colab_type": "text"
      },
      "source": [
        "<a href=\"https://colab.research.google.com/github/anuragsaraf1912/Babbar450/blob/master/Binary_Trees.ipynb\" target=\"_parent\"><img src=\"https://colab.research.google.com/assets/colab-badge.svg\" alt=\"Open In Colab\"/></a>"
      ]
    },
    {
      "cell_type": "markdown",
      "source": [
        "<a href = \"https://www.geeksforgeeks.org/problems/level-order-traversal/1\">BT1: Level Order Traversal</a>"
      ],
      "metadata": {
        "id": "g7wPHxZ8glM6"
      }
    },
    {
      "cell_type": "code",
      "source": [
        "class Solution:\n",
        "    #Function to return the level order traversal of a tree.\n",
        "    def levelOrder(self,root):\n",
        "        from collections import deque\n",
        "\n",
        "        resultList = []\n",
        "        q = deque()\n",
        "        q.append(root)\n",
        "        while q:\n",
        "            curr = q.popleft()\n",
        "            resultList.append(curr.data)\n",
        "            if curr.left:\n",
        "                q.append(curr.left)\n",
        "            if curr.right:\n",
        "                q.append(curr.right)\n",
        "\n",
        "        return resultList\n"
      ],
      "metadata": {
        "id": "6ul7fFG4g7R7"
      },
      "execution_count": null,
      "outputs": []
    },
    {
      "cell_type": "markdown",
      "source": [
        "<a href = \"https://www.geeksforgeeks.org/problems/reverse-level-order-traversal/1\">BT2: Reverse Level Order Traversal</a>"
      ],
      "metadata": {
        "id": "1SGaPX4ChElN"
      }
    },
    {
      "cell_type": "code",
      "source": [
        "'''\n",
        "class Node:\n",
        "    def __init__(self,val):\n",
        "        self.data = val\n",
        "        self.left = None\n",
        "        self.right = None\n",
        "'''\n",
        "def reverseLevelOrder(root):\n",
        "    # code here\n",
        "    from collections import deque\n",
        "    resultList = []\n",
        "    q = deque()\n",
        "    q.append(root)\n",
        "    while q:\n",
        "        currLevel = len(q)\n",
        "        thisLevel = []\n",
        "        for i in range(currLevel):\n",
        "            curr = q.popleft()\n",
        "            thisLevel.append(curr.data)\n",
        "            if curr.right: q.append(curr.right)\n",
        "            if curr.left: q.append(curr.left)\n",
        "\n",
        "        resultList += thisLevel[:]\n",
        "\n",
        "    return resultList[::-1]\n"
      ],
      "metadata": {
        "id": "MIWzt-3rg8eG"
      },
      "execution_count": null,
      "outputs": []
    },
    {
      "cell_type": "markdown",
      "source": [
        "<a href = \"\">BT3: Height of a Binary Tree</a>"
      ],
      "metadata": {
        "id": "8phsCtnKhduT"
      }
    },
    {
      "cell_type": "code",
      "source": [
        "class Solution:\n",
        "    #Function to find the height of a binary tree.\n",
        "    def height(self, root):\n",
        "\n",
        "        #Recursive Solution\n",
        "        if not root: return 0\n",
        "        return 1 + max(self.height(root.right), self.height(root.left))\n"
      ],
      "metadata": {
        "id": "hoijKGM6hbwG"
      },
      "execution_count": null,
      "outputs": []
    },
    {
      "cell_type": "code",
      "source": [
        "class Solution:\n",
        "    #Function to find the height of a binary tree.\n",
        "    def height(self, root):\n",
        "\n",
        "        #Using Queues\n",
        "        from collections import deque\n",
        "        q = deque()\n",
        "        height = 0\n",
        "        q.append(root)\n",
        "        while q:\n",
        "            currNum = len(q)\n",
        "            for i in range(currNum):\n",
        "                curr = q.popleft()\n",
        "                if curr.left: q.append(curr.left)\n",
        "                if curr.right: q.append(curr.right)\n",
        "            height += 1\n",
        "        return height"
      ],
      "metadata": {
        "id": "00iZ-2YrhrB0"
      },
      "execution_count": null,
      "outputs": []
    },
    {
      "cell_type": "markdown",
      "source": [
        "<a href = \"https://leetcode.com/problems/diameter-of-binary-tree/submissions/\">BT4: Diameter of a Binary Tree</a>"
      ],
      "metadata": {
        "id": "TumLMxiRiLFo"
      }
    },
    {
      "cell_type": "code",
      "source": [
        "# Definition for a binary tree node.\n",
        "# class TreeNode:\n",
        "#     def __init__(self, val=0, left=None, right=None):\n",
        "#         self.val = val\n",
        "#         self.left = left\n",
        "#         self.right = right\n",
        "class Solution:\n",
        "    def diameterOfBinaryTree(self, root):\n",
        "        self.width = 0\n",
        "\n",
        "        def height(root):\n",
        "            if not root: return 0\n",
        "            leftH = height(root.left)\n",
        "            rightH = height(root.right)\n",
        "            self.width = max(leftH + rightH, self.width)\n",
        "            return 1 + max(leftH, rightH)\n",
        "\n",
        "        height(root)\n",
        "        return self.width\n"
      ],
      "metadata": {
        "id": "-FG62Uqfiy3L"
      },
      "execution_count": null,
      "outputs": []
    },
    {
      "cell_type": "markdown",
      "source": [
        "<a href = \"https://leetcode.com/problems/invert-binary-tree/submissions/\">BT5: Invert Binary Tree</a>"
      ],
      "metadata": {
        "id": "g2bRFGleyjpb"
      }
    },
    {
      "cell_type": "code",
      "source": [
        "class Solution:\n",
        "    def invertTree(self, root):\n",
        "        #Recursive Solution\n",
        "        if not root: return\n",
        "        root.left, root.right = self.invertTree(root.right), self.invertTree(root.left)\n",
        "        return root"
      ],
      "metadata": {
        "id": "DrJICWPUjhs6"
      },
      "execution_count": null,
      "outputs": []
    },
    {
      "cell_type": "code",
      "source": [
        "class Solution:\n",
        "    def invertTree(self, root):\n",
        "\n",
        "        #Solutions using queue\n",
        "        if not root: return root\n",
        "        from collections import deque\n",
        "        q = deque()\n",
        "        q.append(root)\n",
        "        while q:\n",
        "            curr = q.popleft()\n",
        "            leftSide = curr.left\n",
        "            if leftSide: q.append(leftSide)\n",
        "            rightSide = curr.right\n",
        "            if rightSide: q.append(rightSide)\n",
        "            curr.left, curr.right = rightSide, leftSide\n",
        "\n",
        "        return root\n"
      ],
      "metadata": {
        "id": "K-SyH5_Zyz3y"
      },
      "execution_count": null,
      "outputs": []
    },
    {
      "cell_type": "markdown",
      "source": [
        "<a href = 'https://leetcode.com/problems/binary-tree-inorder-traversal/'> BT6: Inorder Traversal </a>"
      ],
      "metadata": {
        "id": "ary58JGP2u7q"
      }
    },
    {
      "cell_type": "code",
      "source": [
        "# Definition for a binary tree node.\n",
        "# class TreeNode:\n",
        "#     def __init__(self, val=0, left=None, right=None):\n",
        "#         self.val = val\n",
        "#         self.left = left\n",
        "#         self.right = right\n",
        "class Solution:\n",
        "    def inorderTraversal(self, root):\n",
        "        #Recursive Solution\n",
        "        if not root: return []\n",
        "        return self.inorderTraversal(root.left) + [root.val] + self.inorderTraversal(root.right)"
      ],
      "metadata": {
        "id": "gynVBnqJy-FT"
      },
      "execution_count": null,
      "outputs": []
    },
    {
      "cell_type": "code",
      "source": [
        "class Solution:\n",
        "    def inorderTraversal(self, root):\n",
        "        #Solutiion using stack\n",
        "        if not root: return []\n",
        "        resultList, stack = [],[]\n",
        "        visited = set()\n",
        "        stack.append(root)\n",
        "\n",
        "        while stack:\n",
        "            curr = stack.pop()\n",
        "            if curr.left and curr.left not in visited:\n",
        "                stack.append(curr)\n",
        "                stack.append(curr.left)\n",
        "\n",
        "            else:\n",
        "                resultList.append(curr.val)\n",
        "                visited.add(curr)\n",
        "                if curr.right: stack.append(curr.right)\n",
        "\n",
        "        return resultList"
      ],
      "metadata": {
        "id": "6Ac2W8UE3Mkk"
      },
      "execution_count": null,
      "outputs": []
    },
    {
      "cell_type": "code",
      "source": [
        "class Solution:\n",
        "    def InOrder(self,root):\n",
        "        #Optimum solution without using HashMaps\n",
        "        resultList, stack = [], []\n",
        "        curr = root\n",
        "\n",
        "        while stack or curr:\n",
        "\n",
        "            while curr:\n",
        "                stack.append(curr)\n",
        "                curr = curr.left\n",
        "            curr = stack.pop()\n",
        "            resultList.append(curr.data)\n",
        "            curr = curr.right\n",
        "\n",
        "        return resultList\n"
      ],
      "metadata": {
        "id": "GytQiEZuFu7r"
      },
      "execution_count": null,
      "outputs": []
    },
    {
      "cell_type": "markdown",
      "source": [
        "<a href = 'https://leetcode.com/problems/binary-tree-preorder-traversal/'> BT7: PreOrder Traversal </a>"
      ],
      "metadata": {
        "id": "g724InmT23XR"
      }
    },
    {
      "cell_type": "code",
      "source": [
        "class Solution:\n",
        "    def preorderTraversal(self, root):\n",
        "\n",
        "        #Recursive Solution\n",
        "        if not root: return []\n",
        "        return [root.val] + self.preorderTraversal(root.left) + self.preorderTraversal(root.right)\n"
      ],
      "metadata": {
        "id": "6YMJVLRe29Ep"
      },
      "execution_count": null,
      "outputs": []
    },
    {
      "cell_type": "code",
      "source": [
        "class Solution:\n",
        "    def preorderTraversal(self, root):\n",
        "\n",
        "        #Using stacks\n",
        "        if not root: return []\n",
        "        resultList, stack = [], []\n",
        "        stack.append(root)\n",
        "        while stack:\n",
        "            curr = stack.pop()\n",
        "            resultList.append(curr.val)\n",
        "            if curr.right: stack.append(curr.right)\n",
        "            if curr.left: stack.append(curr.left)\n",
        "\n",
        "        return resultList"
      ],
      "metadata": {
        "id": "fAo7noON2-hV"
      },
      "execution_count": null,
      "outputs": []
    },
    {
      "cell_type": "markdown",
      "source": [
        "<a href = 'https://leetcode.com/problems/binary-tree-postorder-traversal/'> BT8: Post Order traversal </a>"
      ],
      "metadata": {
        "id": "6yQRg8A03OXg"
      }
    },
    {
      "cell_type": "code",
      "source": [
        "# Definition for a binary tree node.\n",
        "# class TreeNode:\n",
        "#     def __init__(self, val=0, left=None, right=None):\n",
        "#         self.val = val\n",
        "#         self.left = left\n",
        "#         self.right = right\n",
        "class Solution:\n",
        "    def postorderTraversal(self, root):\n",
        "        #Recursive Solution\n",
        "        if not root: return []\n",
        "        return self.postorderTraversal(root.left) + self.postorderTraversal(root.right) + [root.val]\n"
      ],
      "metadata": {
        "id": "95U0SXlV3K4q"
      },
      "execution_count": null,
      "outputs": []
    },
    {
      "cell_type": "code",
      "source": [
        "class Solution:\n",
        "    def postorderTraversal(self, root):\n",
        "        #Solution using Stack\n",
        "        if not root: return []\n",
        "        resultList, stack = [], []\n",
        "        stack.append(root)\n",
        "        visited = set()\n",
        "        while stack:\n",
        "            curr = stack.pop()\n",
        "            if curr.left and curr.left not in visited:\n",
        "                stack.append(curr)\n",
        "                stack.append(curr.left)\n",
        "            elif curr.right and curr.right not in visited:\n",
        "                stack.append(curr)\n",
        "                stack.append(curr.right)\n",
        "            else:\n",
        "                resultList.append(curr.val)\n",
        "                visited.add(curr)\n",
        "\n",
        "        return resultList"
      ],
      "metadata": {
        "id": "idZ3S8n83XjL"
      },
      "execution_count": null,
      "outputs": []
    },
    {
      "cell_type": "code",
      "source": [
        "class Solution:\n",
        "    def postorderTraversal(self, root: Optional[TreeNode]) -> List[int]:\n",
        "        #Wothout HashMaps\n",
        "        if not root: return []\n",
        "        resultList, stack = [], []\n",
        "        stack.append(root)\n",
        "        while stack:\n",
        "            curr = stack.pop()\n",
        "            if not curr: continue\n",
        "            resultList.append(curr.val)\n",
        "            stack.append(curr.left)\n",
        "            stack.append(curr.right)\n",
        "        return resultList[::-1]"
      ],
      "metadata": {
        "id": "_gXe1g0pIRqM"
      },
      "execution_count": null,
      "outputs": []
    },
    {
      "cell_type": "markdown",
      "source": [
        "<a href = 'https://www.geeksforgeeks.org/problems/left-view-of-binary-tree/1'> BT9: Left View of Binary Tree </a>"
      ],
      "metadata": {
        "id": "AQKYnhiXBfhH"
      }
    },
    {
      "cell_type": "code",
      "source": [
        "def LeftView(root):\n",
        "\n",
        "    if not root: return []\n",
        "    from collections import deque\n",
        "    q = deque()\n",
        "    q.append(root)\n",
        "    resultList = []\n",
        "    while q:\n",
        "        nodes = len(q)\n",
        "        for i in range(nodes):\n",
        "            curr = q.popleft()\n",
        "            #Processing the first element\n",
        "            if not i: resultList.append(curr.data)\n",
        "            if curr.left: q.append(curr.left)\n",
        "            if curr.right: q.append(curr.right)\n",
        "    return resultList"
      ],
      "metadata": {
        "id": "hDBk5d56Bf0V"
      },
      "execution_count": null,
      "outputs": []
    },
    {
      "cell_type": "markdown",
      "source": [
        "<a href = 'https://www.geeksforgeeks.org/problems/right-view-of-binary-tree/1'> BT10: Right View of Binary Tree </a>"
      ],
      "metadata": {
        "id": "Pozo1ZHmBgLb"
      }
    },
    {
      "cell_type": "code",
      "source": [
        "class Solution:\n",
        "    #Function to return list containing elements of right view of binary tree.\n",
        "    def rightView(self,root):\n",
        "        # code here\n",
        "        if not root: return []\n",
        "        from collections import deque\n",
        "        q, resultList = deque(), []\n",
        "        q.append(root)\n",
        "        while q:\n",
        "            nodes = len(q)\n",
        "            for i in range(nodes):\n",
        "                curr = q.popleft()\n",
        "                if i == nodes - 1: resultList.append(curr.data)\n",
        "                if curr.left: q.append(curr.left)\n",
        "                if curr.right: q.append(curr.right)\n",
        "\n",
        "        return resultList\n"
      ],
      "metadata": {
        "id": "a57lpxUZBgXv"
      },
      "execution_count": null,
      "outputs": []
    },
    {
      "cell_type": "markdown",
      "source": [
        "<a href = 'https://www.geeksforgeeks.org/problems/top-view-of-binary-tree/1'> BT11: Top View of Binary Tree </a>"
      ],
      "metadata": {
        "id": "ohWliW06Bgir"
      }
    },
    {
      "cell_type": "code",
      "source": [
        "class Solution:\n",
        "\n",
        "    #Function to return a list of nodes visible from the top view\n",
        "    #from left to right in Binary Tree.\n",
        "    def topView(self,root):\n",
        "\n",
        "        if not root: return []\n",
        "        from collections import deque\n",
        "        q = deque()\n",
        "        tracking = {}\n",
        "        q.append((root,0))\n",
        "        while q:\n",
        "            curr, xCord = q.popleft()\n",
        "            if xCord not in tracking:\n",
        "                tracking[xCord] = curr.data\n",
        "            if curr.left: q.append((curr.left, xCord-1))\n",
        "            if curr.right: q.append((curr.right, xCord+1))\n",
        "\n",
        "        return [tracking[k] for k in sorted(tracking.keys())]\n"
      ],
      "metadata": {
        "id": "8ATaPPzxBgtE"
      },
      "execution_count": null,
      "outputs": []
    },
    {
      "cell_type": "markdown",
      "source": [
        "<a href = 'https://www.geeksforgeeks.org/problems/bottom-view-of-binary-tree/1'> BT12: Bottom View of Binary Tree </a>"
      ],
      "metadata": {
        "id": "qJ-Cslc-Bg8I"
      }
    },
    {
      "cell_type": "code",
      "source": [
        "class Solution:\n",
        "    def bottomView(self, root):\n",
        "\n",
        "        if not root: return []\n",
        "        from collections import deque\n",
        "        q = deque()\n",
        "        tracking = {}\n",
        "        q.append((root,0))\n",
        "        while q:\n",
        "            curr, distance = q.popleft()\n",
        "            tracking[distance] = curr.data\n",
        "            if curr.left: q.append((curr.left, distance - 1))\n",
        "            if curr.right: q.append((curr.right, distance + 1))\n",
        "\n",
        "        return [tracking[k] for k in sorted(tracking.keys())]\n"
      ],
      "metadata": {
        "id": "mkJ-ZHg9BhGi"
      },
      "execution_count": null,
      "outputs": []
    },
    {
      "cell_type": "markdown",
      "source": [
        "<a href = 'https://www.geeksforgeeks.org/problems/zigzag-tree-traversal/1'> BT13: Zig Zag Tree Traversal of Binary Tree </a>"
      ],
      "metadata": {
        "id": "AzSRe-4D6vD6"
      }
    },
    {
      "cell_type": "code",
      "source": [
        "class Solution:\n",
        "    #Function to store the zig zag order traversal of tree in a list.\n",
        "    def zigZagTraversal(self, root):\n",
        "        from collections import deque\n",
        "        q, resultList = deque(), []\n",
        "        q.append(root)\n",
        "        reverse = False\n",
        "        while q:\n",
        "            nodes = len(q)\n",
        "            currLevel = []\n",
        "            for i in range(nodes):\n",
        "                curr = q.popleft()\n",
        "                currLevel.append(curr.data)\n",
        "                if curr.left: q.append(curr.left)\n",
        "                if curr.right: q.append(curr.right)\n",
        "\n",
        "            if reverse: resultList += currLevel[::-1]\n",
        "            else: resultList += currLevel[:]\n",
        "            reverse = not reverse\n",
        "\n",
        "        return resultList"
      ],
      "metadata": {
        "id": "npPvYOrq6vP5"
      },
      "execution_count": null,
      "outputs": []
    },
    {
      "cell_type": "markdown",
      "source": [
        "<a href = 'https://www.geeksforgeeks.org/problems/check-for-balanced-tree/1'> BT14: Check for Balanced Tree </a>"
      ],
      "metadata": {
        "id": "BBX4pWw16vhS"
      }
    },
    {
      "cell_type": "code",
      "source": [
        "#Function to check whether a binary tree is balanced or not.\n",
        "class Solution:\n",
        "\n",
        "    def isBalanced(self,root):\n",
        "        #Recursive Solution\n",
        "        self.balance = True\n",
        "        def dfs(root):\n",
        "            if not root: return 0\n",
        "            leftH = dfs(root.left)\n",
        "            rightH = dfs(root.right)\n",
        "            self.balance = self.balance and abs(leftH-rightH) <= 1\n",
        "            return 1 + max(leftH, rightH)\n",
        "\n",
        "        dfs(root)\n",
        "        return self.balance\n"
      ],
      "metadata": {
        "id": "aRFAWw796vod"
      },
      "execution_count": 1,
      "outputs": []
    },
    {
      "cell_type": "code",
      "source": [],
      "metadata": {
        "id": "12rbPJeH7WFC"
      },
      "execution_count": null,
      "outputs": []
    }
  ]
}