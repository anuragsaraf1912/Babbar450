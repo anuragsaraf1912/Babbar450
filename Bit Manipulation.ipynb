{
 "cells": [
  {
   "cell_type": "markdown",
   "id": "87340325-f884-4ce4-aef5-4293847ee70a",
   "metadata": {},
   "source": [
    "<h4><a href = \"https://www.geeksforgeeks.org/problems/set-bits0143/1\" > BM1: Count set bits in an integer </a></h4>"
   ]
  },
  {
   "cell_type": "code",
   "execution_count": 1,
   "id": "1379e98b-084a-43b8-832a-d471c73916eb",
   "metadata": {},
   "outputs": [],
   "source": [
    "#User function Template for python3\n",
    "class Solution:\n",
    "\tdef setBits(self, N):\n",
    "\t\tcount = 0\n",
    "\t\twhile N:\n",
    "\t\t    count += N & 1\n",
    "\t\t    N = N >> 1\n",
    "\t\treturn count"
   ]
  },
  {
   "cell_type": "markdown",
   "id": "360a92c6-d82a-4ba2-b634-ae1a5dd31cfd",
   "metadata": {
    "tags": []
   },
   "source": [
    "<h4><a href = \"https://www.geeksforgeeks.org/problems/finding-the-numbers0215/1\" > BM2: Find the two non-repeating elements in an array of repeating elements </a></h4>"
   ]
  },
  {
   "cell_type": "code",
   "execution_count": null,
   "id": "4a4de28f-b15a-4381-bb17-a241917c3847",
   "metadata": {},
   "outputs": [],
   "source": []
  },
  {
   "cell_type": "markdown",
   "id": "241681f1-b667-4029-a4f1-2a3817665d91",
   "metadata": {},
   "source": [
    "<h4><a href = \"https://www.geeksforgeeks.org/problems/bit-difference-1587115620/1\" > BM3: Count number of bits to be flipped to convert A to B </a></h4>"
   ]
  },
  {
   "cell_type": "code",
   "execution_count": 5,
   "id": "e7b85ece-6405-44f0-8633-fb8b33e423e6",
   "metadata": {},
   "outputs": [],
   "source": [
    "class Solution:\n",
    "    ##Complete this function\n",
    "    # Function to find number of bits needed to be flipped to convert A to B\n",
    "    def countBitsFlip(self,a,b):\n",
    "        newVal = a ^ b\n",
    "        return bin(newVal).count('1')"
   ]
  },
  {
   "cell_type": "markdown",
   "id": "1e268cb2-6b88-47c4-8d8f-39f919029de2",
   "metadata": {},
   "source": [
    "<h4><a href = \"https://www.geeksforgeeks.org/problems/count-total-set-bits-1587115620/1\" > BM4: Count total set bits in all numbers from 1 to n </a></h4>"
   ]
  },
  {
   "cell_type": "code",
   "execution_count": null,
   "id": "3bc00cdf-d029-45ba-b1eb-3bae83e26541",
   "metadata": {},
   "outputs": [],
   "source": []
  },
  {
   "cell_type": "markdown",
   "id": "c5bafca4-3d63-4c07-b0f9-516fa4719c47",
   "metadata": {},
   "source": [
    "<h4><a href = \"https://www.geeksforgeeks.org/problems/power-of-2-1587115620/1\" > BM5: Program to find whether a number is power of two </a></h4>"
   ]
  },
  {
   "cell_type": "code",
   "execution_count": null,
   "id": "f42a980c-16bd-4c6d-9d0b-d3864d47edf8",
   "metadata": {},
   "outputs": [],
   "source": [
    "class Solution:\n",
    "    ##Complete this function\n",
    "    # Function to check if given number n is a power of two.\n",
    "    def isPowerofTwo(self,n : int ) -> bool:\n",
    "        ##Your code here\n",
    "        while n > 1:\n",
    "            if n & 1: return False\n",
    "            n = n >> 1\n",
    "        return n == 1"
   ]
  },
  {
   "cell_type": "markdown",
   "id": "cab3956e-9f0c-43ae-9732-2e0be533e00b",
   "metadata": {},
   "source": [
    "<h4><a href = \"https://www.geeksforgeeks.org/problems/find-position-of-set-bit3706/1\" > BM6: Find position of the only set bit </a></h4>"
   ]
  },
  {
   "cell_type": "code",
   "execution_count": 3,
   "id": "108730e6-ff34-4df4-962a-a356d245636a",
   "metadata": {},
   "outputs": [],
   "source": [
    "class Solution:\n",
    "    def findPosition(self, N):\n",
    "        pos = 1\n",
    "        while N > 1:\n",
    "            if N & 1: return -1\n",
    "            pos += 1\n",
    "            N = N >> 1\n",
    "        #Case when it is 0\n",
    "        return pos if N else -1"
   ]
  },
  {
   "cell_type": "code",
   "execution_count": null,
   "id": "b1a91d3a-3693-4e74-a4ef-7c171a96c9ae",
   "metadata": {},
   "outputs": [],
   "source": []
  }
 ],
 "metadata": {
  "kernelspec": {
   "display_name": "Python 3 (ipykernel)",
   "language": "python",
   "name": "python3"
  },
  "language_info": {
   "codemirror_mode": {
    "name": "ipython",
    "version": 3
   },
   "file_extension": ".py",
   "mimetype": "text/x-python",
   "name": "python",
   "nbconvert_exporter": "python",
   "pygments_lexer": "ipython3",
   "version": "3.10.6"
  }
 },
 "nbformat": 4,
 "nbformat_minor": 5
}
