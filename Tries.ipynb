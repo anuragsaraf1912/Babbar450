{
 "cells": [
  {
   "cell_type": "markdown",
   "id": "87337cbd-6535-4868-a5b7-40cd156915cb",
   "metadata": {},
   "source": [
    "<h4><a href = \"https://www.geeksforgeeks.org/problems/trie-insert-and-search0651/1\" > Trie1: Construct a Trie from Scratch</a></h4>"
   ]
  },
  {
   "cell_type": "code",
   "execution_count": 7,
   "id": "f4620106-2c26-4d0e-a179-2fa4269821a3",
   "metadata": {},
   "outputs": [],
   "source": [
    "\n",
    "class TrieNode: \n",
    "      \n",
    "    def __init__(self): \n",
    "        self.children = [None]*26\n",
    "  \n",
    "        # isEndOfWord is True if node represent the end of the word \n",
    "        self.isEndOfWord = False\n",
    "\n",
    "#Function to insert string into TRIE.\n",
    "def insert(root,key):\n",
    "    \n",
    "    curr = root\n",
    "    for char in key:\n",
    "        indexOfChar = ord(char) - ord('a')\n",
    "        if not curr.children[indexOfChar]:\n",
    "            curr.children[indexOfChar] = TrieNode()\n",
    "        curr = curr.children[indexOfChar]\n",
    "    curr.isEndOfWord = True\n",
    "\n",
    "#Function to use TRIE data structure and search the given string.\n",
    "def search(root, key):\n",
    "    curr = root\n",
    "    for char in key:\n",
    "        indexOfChar = ord(char) - ord('a')\n",
    "        if not curr.children[indexOfChar]:\n",
    "            return False\n",
    "        curr = curr.children[indexOfChar]\n",
    "    return curr.isEndOfWord\n",
    "\n",
    "\n",
    "def isEmpty(root):\n",
    "    for child in root.children:\n",
    "        if child: return False\n",
    "    return True\n",
    "\n",
    "        \n",
    "def deleteKey(root, key):\n",
    "    \n",
    "    maxLength = len(key)\n",
    "    \n",
    "    #Defining a backtracking function to go through the Tree. A function that transforms \n",
    "    #the root supplied based on its modified contents due to key deletion \n",
    "    \n",
    "    def backTracking(root,depth):\n",
    "        \n",
    "        #in case there is no root \n",
    "        if not root:\n",
    "            return None\n",
    "        \n",
    "        #In case the pointer is at the last Node of Trie\n",
    "        if depth == maxLength:\n",
    "            root.isEndOfWord = False\n",
    "            if isEmpty(root): return None\n",
    "            else: return root\n",
    "        \n",
    "        indexOfKey = ord(key[depth]) - ord('a')\n",
    "        root.children[indexOfKey] = backTracking(root.children[indexOfKey], depth+1)\n",
    "        #Returning None in case the root is empty and not the End of Word \n",
    "        if not root.isEndOfWord and isEmpty(root):\n",
    "            return None  \n",
    "        return root\n",
    "\n",
    "    backTracking(root, 0) "
   ]
  },
  {
   "cell_type": "markdown",
   "id": "c0b18510-3d74-4601-b6ed-89e46ecb8cf8",
   "metadata": {},
   "source": [
    "<h4><a href = \"https://www.geeksforgeeks.org/problems/shortest-unique-prefix-for-every-word/1?itm_source=geeksforgeeks&itm_medium=article&itm_campaign=bottom_sticky_on_article\" > Trie2: Find shortest unique prefix for every word in a given list</a></h4>"
   ]
  },
  {
   "cell_type": "code",
   "execution_count": null,
   "id": "a36193f9-4c89-42be-98c7-62cbe317766a",
   "metadata": {},
   "outputs": [],
   "source": [
    "class TrieNode:\n",
    "    \n",
    "    def __init__(self):\n",
    "        self.children = {}\n",
    "        self.isEndOfWord = False\n",
    "        self.isCount = 0\n",
    "\n",
    "class Solution:\n",
    "    \n",
    "    def insert(self, root,key):\n",
    "        curr = root\n",
    "        curr.isCount += 1\n",
    "        for char in key:\n",
    "            if char not in curr.children:\n",
    "                curr.children[char] = TrieNode()\n",
    "            curr = curr.children[char]\n",
    "            curr.isCount += 1\n",
    "        curr.isEndOfWord = True\n",
    "    \n",
    "    def findPrefixes(self, arr, N):\n",
    "        \n",
    "        topNode = TrieNode()\n",
    "        for elem in arr: \n",
    "            self.insert(topNode, elem)\n",
    "        \n",
    "        resultList = []\n",
    "        for word in arr:\n",
    "            depth,curr = 0, topNode\n",
    "            while depth < len(word) and curr.isCount != 1:\n",
    "                curr = curr.children[word[depth]]\n",
    "                depth += 1\n",
    "            resultList.append(word[:depth])\n",
    "        return resultList\n"
   ]
  },
  {
   "cell_type": "markdown",
   "id": "46d4aa41-9ebc-47d0-84ad-b1fec77fc0c5",
   "metadata": {},
   "source": [
    "<h4><a href = \"https://www.geeksforgeeks.org/problems/word-break-trie--141631/1?itm_source=geeksforgeeks&itm_medium=article&itm_campaign=bottom_sticky_on_article\" > Trie3: Word Break Problem | (Trie solution)</a></h4>"
   ]
  },
  {
   "cell_type": "code",
   "execution_count": null,
   "id": "74d8e033-815d-43ee-a292-cd987fe6e1f8",
   "metadata": {},
   "outputs": [],
   "source": []
  },
  {
   "cell_type": "markdown",
   "id": "886f1106-4468-4f8f-9c33-d8f1f723661d",
   "metadata": {},
   "source": [
    "<h4><a href = \"https://www.geeksforgeeks.org/problems/print-anagrams-together/1\" > Trie4: Given a sequence of words, print all anagrams together </a></h4>"
   ]
  },
  {
   "cell_type": "code",
   "execution_count": null,
   "id": "977f6169-f144-44be-98e2-c7f347cc3fe0",
   "metadata": {},
   "outputs": [],
   "source": []
  },
  {
   "cell_type": "markdown",
   "id": "db2c1adc-577d-4c31-bbd7-eaca6e746eb7",
   "metadata": {},
   "source": [
    "<h4><a href = \"https://www.geeksforgeeks.org/problems/phone-directory4628/1?itm_source=geeksforgeeks&itm_medium=article&itm_campaign=bottom_sticky_on_article\" > Trie5:Implement a Phone Directory</a></h4>"
   ]
  },
  {
   "cell_type": "code",
   "execution_count": null,
   "id": "df6caf88-d51b-4b4b-a931-8a0d59ad3d48",
   "metadata": {},
   "outputs": [],
   "source": []
  },
  {
   "cell_type": "markdown",
   "id": "eb864719-8c27-4047-aefa-925071c11d63",
   "metadata": {},
   "source": [
    "<h4><a href = \"https://www.geeksforgeeks.org/problems/unique-rows-in-boolean-matrix/1\" > Trie6: Print unique rows in a given boolean matrix </a></h4>"
   ]
  },
  {
   "cell_type": "code",
   "execution_count": null,
   "id": "a0036e47-8355-4d04-988a-b519634693df",
   "metadata": {},
   "outputs": [],
   "source": []
  }
 ],
 "metadata": {
  "kernelspec": {
   "display_name": "Python 3 (ipykernel)",
   "language": "python",
   "name": "python3"
  },
  "language_info": {
   "codemirror_mode": {
    "name": "ipython",
    "version": 3
   },
   "file_extension": ".py",
   "mimetype": "text/x-python",
   "name": "python",
   "nbconvert_exporter": "python",
   "pygments_lexer": "ipython3",
   "version": "3.10.6"
  }
 },
 "nbformat": 4,
 "nbformat_minor": 5
}
