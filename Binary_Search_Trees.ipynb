{
  "nbformat": 4,
  "nbformat_minor": 0,
  "metadata": {
    "colab": {
      "provenance": [],
      "authorship_tag": "ABX9TyOpJIpXT8U/dDr+9AVxslJY",
      "include_colab_link": true
    },
    "kernelspec": {
      "name": "python3",
      "display_name": "Python 3"
    },
    "language_info": {
      "name": "python"
    }
  },
  "cells": [
    {
      "cell_type": "markdown",
      "metadata": {
        "id": "view-in-github",
        "colab_type": "text"
      },
      "source": [
        "<a href=\"https://colab.research.google.com/github/anuragsaraf1912/Babbar450/blob/master/Binary_Search_Trees.ipynb\" target=\"_parent\"><img src=\"https://colab.research.google.com/assets/colab-badge.svg\" alt=\"Open In Colab\"/></a>"
      ]
    },
    {
      "cell_type": "markdown",
      "source": [
        "\n",
        "<a href = \"https://leetcode.com/problems/insert-into-a-binary-search-tree/\">BST1: Insert a value in BST</a>\n",
        "\n",
        "\n",
        "\n",
        "\n"
      ],
      "metadata": {
        "id": "5xvt5zHBFlEd"
      }
    },
    {
      "cell_type": "code",
      "source": [
        "# Definition for a binary tree node.\n",
        "# class TreeNode:\n",
        "#     def __init__(self, val=0, left=None, right=None):\n",
        "#         self.val = val\n",
        "#         self.left = left\n",
        "#         self.right = right\n",
        "class Solution:\n",
        "    def insertIntoBST(self, root, val):\n",
        "\n",
        "        #Base case\n",
        "        if not root:\n",
        "            return TreeNode(val = val)\n",
        "\n",
        "        currVal = root.val\n",
        "        if currVal > val: root.left = self.insertIntoBST(root.left, val)\n",
        "        else: root.right = self.insertIntoBST(root.right, val)\n",
        "        return root"
      ],
      "metadata": {
        "id": "0vFi4pb8F0mv"
      },
      "execution_count": 2,
      "outputs": []
    },
    {
      "cell_type": "markdown",
      "source": [
        "<a href = \"https://leetcode.com/problems/delete-node-in-a-bst/\">BST2: Deletion of a Node in BST</a>"
      ],
      "metadata": {
        "id": "fjHN4sZqGsVJ"
      }
    },
    {
      "cell_type": "code",
      "source": [],
      "metadata": {
        "id": "KicOvGGuGbcg"
      },
      "execution_count": null,
      "outputs": []
    },
    {
      "cell_type": "markdown",
      "source": [
        "<a href = \"https://www.geeksforgeeks.org/problems/minimum-element-in-bst/1\">BST3: Finding min and max value in a BST</a>"
      ],
      "metadata": {
        "id": "UL8pi5BFG36u"
      }
    },
    {
      "cell_type": "code",
      "source": [
        "\"\"\"\n",
        "class Node:\n",
        "    def __init__(self, val):\n",
        "        self.right = None\n",
        "        self.data = val\n",
        "        self.left = None\n",
        "\"\"\"\n",
        "\n",
        "class Solution:\n",
        "    #Function to find the minimum element in the given BST.\n",
        "    def minValue(self, root):\n",
        "        ##Your code here\n",
        "        while root.left:\n",
        "            root = root.left\n",
        "\n",
        "        return root.data"
      ],
      "metadata": {
        "id": "eqeRLCQnHBBy"
      },
      "execution_count": 3,
      "outputs": []
    },
    {
      "cell_type": "code",
      "source": [],
      "metadata": {
        "id": "y6Hk-ppoIRr3"
      },
      "execution_count": null,
      "outputs": []
    }
  ]
}