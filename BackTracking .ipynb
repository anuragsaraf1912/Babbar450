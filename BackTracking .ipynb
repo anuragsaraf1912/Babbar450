{
 "cells": [
  {
   "cell_type": "markdown",
   "metadata": {},
   "source": [
    "<h4><a href = \"https://practice.geeksforgeeks.org/problems/rat-in-a-maze-problem/1\" > BT1: Rat in a maze Problem</a></h4>"
   ]
  },
  {
   "cell_type": "code",
   "execution_count": 1,
   "metadata": {
    "ExecuteTime": {
     "end_time": "2023-05-17T04:49:51.719784Z",
     "start_time": "2023-05-17T04:49:51.693859Z"
    }
   },
   "outputs": [],
   "source": [
    "class Solution:\n",
    "    def findPath(self, m, n):\n",
    "        \n",
    "        currSeq = []\n",
    "        udrlSeq = []\n",
    "        res = [] \n",
    "        directions = [[1,0,'D'],[-1,0,'U'],[0,1,'R'],[0,-1,'L']]\n",
    "        def dfs(r,c,d):\n",
    "            if r not in range(n) or c not in range(n) or (r,c) in currSeq or m[r][c] == 0 :\n",
    "                return \n",
    "            currSeq.append((r,c))\n",
    "            udrlSeq.append(d)\n",
    "            if r == n - 1 and c == n-1:\n",
    "                res.append(''.join(udrlSeq[1:]))\n",
    "            for x,y,d in directions:\n",
    "                dfs(r+x,c+y,d)\n",
    "            currSeq.pop()\n",
    "            udrlSeq.pop()\n",
    "        dfs(0,0,'R')\n",
    "        \n",
    "        return res    "
   ]
  },
  {
   "cell_type": "markdown",
   "metadata": {},
   "source": [
    "<h4><a href = \"https://practice.geeksforgeeks.org/problems/n-queen-problem0315/1?utm_source=gfg&utm_medium=article&utm_campaign=bottom_sticky_on_article\" > BT2: N-Queen Problem</a></h4>"
   ]
  },
  {
   "cell_type": "code",
   "execution_count": 2,
   "metadata": {
    "ExecuteTime": {
     "end_time": "2023-05-17T04:51:47.359373Z",
     "start_time": "2023-05-17T04:51:47.328456Z"
    }
   },
   "outputs": [],
   "source": [
    "class Solution:\n",
    "    def nQueen(self, n):\n",
    "        rows = set()\n",
    "        posDiag = set()\n",
    "        negDiag = set()\n",
    "        currSeq = []\n",
    "        res = []\n",
    "        def dfs(col):\n",
    "            if col == n+1:\n",
    "                res.append(currSeq[:])\n",
    "                return \n",
    "            for row in range(1,n+1):\n",
    "                if row not in rows and row+col not in posDiag and row-col not in negDiag:\n",
    "                    currSeq.append(row)\n",
    "                    rows.add(row)\n",
    "                    posDiag.add(row+col)\n",
    "                    negDiag.add(row-col)\n",
    "                    dfs(col+1)\n",
    "                    currSeq.pop()\n",
    "                    rows.remove(row)\n",
    "                    posDiag.remove(row+col)\n",
    "                    negDiag.remove(row-col)\n",
    "        \n",
    "        dfs(1)\n",
    "        return res\n"
   ]
  },
  {
   "cell_type": "code",
   "execution_count": null,
   "metadata": {},
   "outputs": [],
   "source": []
  }
 ],
 "metadata": {
  "hide_input": false,
  "kernelspec": {
   "display_name": "Python 3 (ipykernel)",
   "language": "python",
   "name": "python3"
  },
  "language_info": {
   "codemirror_mode": {
    "name": "ipython",
    "version": 3
   },
   "file_extension": ".py",
   "mimetype": "text/x-python",
   "name": "python",
   "nbconvert_exporter": "python",
   "pygments_lexer": "ipython3",
   "version": "3.10.6"
  },
  "varInspector": {
   "cols": {
    "lenName": 16,
    "lenType": 16,
    "lenVar": 40
   },
   "kernels_config": {
    "python": {
     "delete_cmd_postfix": "",
     "delete_cmd_prefix": "del ",
     "library": "var_list.py",
     "varRefreshCmd": "print(var_dic_list())"
    },
    "r": {
     "delete_cmd_postfix": ") ",
     "delete_cmd_prefix": "rm(",
     "library": "var_list.r",
     "varRefreshCmd": "cat(var_dic_list()) "
    }
   },
   "types_to_exclude": [
    "module",
    "function",
    "builtin_function_or_method",
    "instance",
    "_Feature"
   ],
   "window_display": false
  }
 },
 "nbformat": 4,
 "nbformat_minor": 4
}
