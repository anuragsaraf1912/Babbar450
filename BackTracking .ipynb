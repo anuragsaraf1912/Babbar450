{
 "cells": [
  {
   "cell_type": "markdown",
   "metadata": {},
   "source": [
    "<h4><a href = \"https://practice.geeksforgeeks.org/problems/rat-in-a-maze-problem/1\" > BT1: Rat in a maze Problem</a></h4>"
   ]
  },
  {
   "cell_type": "code",
   "execution_count": 1,
   "metadata": {
    "ExecuteTime": {
     "end_time": "2023-05-17T04:49:51.719784Z",
     "start_time": "2023-05-17T04:49:51.693859Z"
    }
   },
   "outputs": [],
   "source": [
    "class Solution:\n",
    "    def findPath(self, m, n):\n",
    "        \n",
    "        currSeq = []\n",
    "        udrlSeq = []\n",
    "        res = [] \n",
    "        directions = [[1,0,'D'],[-1,0,'U'],[0,1,'R'],[0,-1,'L']]\n",
    "        def dfs(r,c,d):\n",
    "            if r not in range(n) or c not in range(n) or (r,c) in currSeq or m[r][c] == 0 :\n",
    "                return \n",
    "            currSeq.append((r,c))\n",
    "            udrlSeq.append(d)\n",
    "            if r == n - 1 and c == n-1:\n",
    "                res.append(''.join(udrlSeq[1:]))\n",
    "            for x,y,d in directions:\n",
    "                dfs(r+x,c+y,d)\n",
    "            currSeq.pop()\n",
    "            udrlSeq.pop()\n",
    "        dfs(0,0,'R')\n",
    "        \n",
    "        return res    "
   ]
  },
  {
   "cell_type": "markdown",
   "metadata": {},
   "source": [
    "<h4><a href = \"https://practice.geeksforgeeks.org/problems/n-queen-problem0315/1?utm_source=gfg&utm_medium=article&utm_campaign=bottom_sticky_on_article\" > BT2: N-Queen Problem</a></h4>"
   ]
  },
  {
   "cell_type": "code",
   "execution_count": 2,
   "metadata": {
    "ExecuteTime": {
     "end_time": "2023-05-17T04:51:47.359373Z",
     "start_time": "2023-05-17T04:51:47.328456Z"
    }
   },
   "outputs": [],
   "source": [
    "class Solution:\n",
    "    def nQueen(self, n):\n",
    "        rows = set()\n",
    "        posDiag = set()\n",
    "        negDiag = set()\n",
    "        currSeq = []\n",
    "        res = []\n",
    "        def dfs(col):\n",
    "            if col == n+1:\n",
    "                res.append(currSeq[:])\n",
    "                return \n",
    "            for row in range(1,n+1):\n",
    "                if row not in rows and row+col not in posDiag and row-col not in negDiag:\n",
    "                    currSeq.append(row)\n",
    "                    rows.add(row)\n",
    "                    posDiag.add(row+col)\n",
    "                    negDiag.add(row-col)\n",
    "                    dfs(col+1)\n",
    "                    currSeq.pop()\n",
    "                    rows.remove(row)\n",
    "                    posDiag.remove(row+col)\n",
    "                    negDiag.remove(row-col)\n",
    "        \n",
    "        dfs(1)\n",
    "        return res\n"
   ]
  },
  {
   "cell_type": "markdown",
   "metadata": {},
   "source": [
    "<h4><a href = \"https://www.geeksforgeeks.org/problems/word-break-part-23249/1\" > BT3: Word break problem using backtracking</a></h4>"
   ]
  },
  {
   "cell_type": "code",
   "execution_count": 3,
   "metadata": {},
   "outputs": [],
   "source": [
    "class Solution:\n",
    "    def wordBreak(self, n, dict, s):\n",
    "        \n",
    "        # code here\n",
    "        resultList, currList = [], []        \n",
    "        maxLength = len(s)\n",
    "        \n",
    "        def backTrack(startIndex, currElemNum):\n",
    "            #IF THE START : ENDINDEX IN DICT, THEN SHOULD BE APPENDED\n",
    "            if s[startIndex:currElemNum] in dict:\n",
    "                currList.append(s[startIndex:currElemNum])\n",
    "                if currElemNum== maxLength:\n",
    "                    resultList.append(currList[:])\n",
    "                else: \n",
    "                    backTrack(currElemNum, currElemNum + 1)\n",
    "                currList.pop()\n",
    "            \n",
    "            if currElemNum == maxLength: return  \n",
    "            \n",
    "            backTrack(startIndex, currElemNum+1)\n",
    "        \n",
    "        backTrack(0,1)\n",
    "        return [\" \".join(res) for res in resultList]\n"
   ]
  },
  {
   "cell_type": "markdown",
   "metadata": {},
   "source": [
    "<h4><a href = \"https://leetcode.com/problems/remove-invalid-parentheses/\" > BT4: Remove Invalid Parentheses</a></h4>"
   ]
  },
  {
   "cell_type": "code",
   "execution_count": null,
   "metadata": {},
   "outputs": [],
   "source": []
  },
  {
   "cell_type": "markdown",
   "metadata": {},
   "source": [
    "<h4><a href = \"https://practice.geeksforgeeks.org/problems/solve-the-sudoku/0\" > BT5: Sudoku Solver</a></h4>"
   ]
  },
  {
   "cell_type": "code",
   "execution_count": 1,
   "metadata": {},
   "outputs": [],
   "source": [
    "class Solution:\n",
    "    \n",
    "    #Function to find a solved Sudoku. \n",
    "    def SolveSudoku(self,grid):\n",
    "        from collections import defaultdict\n",
    "        rows = defaultdict(set)\n",
    "        cols = defaultdict(set)\n",
    "        squares = defaultdict(set)\n",
    "        for r in range(9):\n",
    "            for c in range(9):\n",
    "                if grid[r][c]:\n",
    "                    val = grid[r][c]\n",
    "                    if val in rows[r] or val in cols[c] or val in squares[(r//3, c//3)]:\n",
    "                        return False\n",
    "                    else:\n",
    "                        rows[r].add(val)\n",
    "                        cols[c].add(val)\n",
    "                        squares[(r//3, c//3)].add(val)\n",
    "        return True\n",
    "    \n",
    "    \n",
    "   #Function to print grids of the Sudoku.      \n",
    "    def printGrid(self,arr):\n",
    "        from collections import defaultdict\n",
    "        \n",
    "        result = None\n",
    "        rows = defaultdict(set)\n",
    "        cols = defaultdict(set)\n",
    "        squares = defaultdict(set)\n",
    "        toFill = []\n",
    "        for r in range(9):\n",
    "            for c in range(9):\n",
    "                if grid[r][c]:\n",
    "                    val = grid[r][c]\n",
    "                    rows[r].add(val)\n",
    "                    cols[c].add(val)\n",
    "                    squares[(r//3, c//3)].add(val)\n",
    "                else: toFill.append((r,c))\n",
    "        \n",
    "        #Checking how many empty entries are there\n",
    "        maxLength = len(toFill)              \n",
    "        \n",
    "        def backTracking(ind):\n",
    "            if ind == maxLength:\n",
    "                nonlocal result\n",
    "                result = [row[:] for row in arr]\n",
    "                return \n",
    "            currRow, currCol = toFill[ind]\n",
    "            for i in range(1,10):\n",
    "                if (i not in rows[currRow]) and (i not in cols[currCol]) and (i not in squares[(currRow//3, currCol//3)]):\n",
    "                    arr[currRow][currCol] = i\n",
    "                    rows[currRow].add(i)\n",
    "                    cols[currCol].add(i)\n",
    "                    squares[(currRow//3, currCol//3)].add(i)\n",
    "                    backTracking(ind+1)\n",
    "                    rows[currRow].remove(i)\n",
    "                    cols[currCol].remove(i)\n",
    "                    squares[(currRow//3, currCol//3)].remove(i)\n",
    "                    arr[currRow][currCol] = 0\n",
    "        \n",
    "        backTracking(0)\n",
    "        print(\" \".join([str(elem) for row in result for elem in row]))\n",
    "\n"
   ]
  },
  {
   "cell_type": "markdown",
   "metadata": {},
   "source": [
    "<h4><a href = \"https://practice.geeksforgeeks.org/problems/m-coloring-problem/0\" > BT6: m Coloring Problem</a></h4>"
   ]
  },
  {
   "cell_type": "code",
   "execution_count": null,
   "metadata": {},
   "outputs": [],
   "source": []
  },
  {
   "cell_type": "markdown",
   "metadata": {},
   "source": [
    "<h4><a href = \"https://www.geeksforgeeks.org/given-a-string-print-all-possible-palindromic-partition/\" > BT7: Print all palindromic partitions of a string</a></h4>"
   ]
  },
  {
   "cell_type": "code",
   "execution_count": null,
   "metadata": {},
   "outputs": [],
   "source": []
  },
  {
   "cell_type": "markdown",
   "metadata": {},
   "source": [
    "<h4><a href = \"https://practice.geeksforgeeks.org/problems/subset-sum-problem2014/1\" > BT8: Subset Sum Problem</a></h4>"
   ]
  },
  {
   "cell_type": "code",
   "execution_count": null,
   "metadata": {},
   "outputs": [],
   "source": []
  },
  {
   "cell_type": "code",
   "execution_count": null,
   "metadata": {},
   "outputs": [],
   "source": []
  },
  {
   "cell_type": "code",
   "execution_count": null,
   "metadata": {},
   "outputs": [],
   "source": []
  },
  {
   "cell_type": "code",
   "execution_count": null,
   "metadata": {},
   "outputs": [],
   "source": []
  },
  {
   "cell_type": "code",
   "execution_count": null,
   "metadata": {},
   "outputs": [],
   "source": []
  }
 ],
 "metadata": {
  "hide_input": false,
  "kernelspec": {
   "display_name": "Python 3 (ipykernel)",
   "language": "python",
   "name": "python3"
  },
  "language_info": {
   "codemirror_mode": {
    "name": "ipython",
    "version": 3
   },
   "file_extension": ".py",
   "mimetype": "text/x-python",
   "name": "python",
   "nbconvert_exporter": "python",
   "pygments_lexer": "ipython3",
   "version": "3.10.6"
  },
  "varInspector": {
   "cols": {
    "lenName": 16,
    "lenType": 16,
    "lenVar": 40
   },
   "kernels_config": {
    "python": {
     "delete_cmd_postfix": "",
     "delete_cmd_prefix": "del ",
     "library": "var_list.py",
     "varRefreshCmd": "print(var_dic_list())"
    },
    "r": {
     "delete_cmd_postfix": ") ",
     "delete_cmd_prefix": "rm(",
     "library": "var_list.r",
     "varRefreshCmd": "cat(var_dic_list()) "
    }
   },
   "types_to_exclude": [
    "module",
    "function",
    "builtin_function_or_method",
    "instance",
    "_Feature"
   ],
   "window_display": false
  }
 },
 "nbformat": 4,
 "nbformat_minor": 4
}
