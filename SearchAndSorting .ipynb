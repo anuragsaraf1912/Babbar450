{
 "cells": [
  {
   "cell_type": "markdown",
   "metadata": {},
   "source": [
    "<h4><a href = \"https://practice.geeksforgeeks.org/problems/first-and-last-occurrences-of-x3116/1\" > SAS1: Find first and last positions of an element in a sorted array</a></h4>"
   ]
  },
  {
   "cell_type": "code",
   "execution_count": 3,
   "metadata": {
    "ExecuteTime": {
     "end_time": "2023-06-12T18:23:03.387954Z",
     "start_time": "2023-06-12T18:23:03.368035Z"
    }
   },
   "outputs": [],
   "source": [
    "class Solution:\n",
    "    def find(self, arr, n, x):\n",
    "        \n",
    "        def getFirstOcc(start, end, x):\n",
    "            '''Returns the first occurance of the value >= x using binary search'''\n",
    "            while start < end:\n",
    "                mid = start + (end - start)//2\n",
    "                if arr[mid] >= x: end = mid\n",
    "                else: start = mid + 1 \n",
    "            return start\n",
    "        \n",
    "        result = []\n",
    "        start, end = 0, n-1\n",
    "        start = getFirstOcc(start, end, x)\n",
    "        if arr[start] == x: \n",
    "            result.append(start)\n",
    "        else: return [-1,-1]\n",
    "        end = n-1\n",
    "        #Getting the index of the element just after x in case it exists \n",
    "        index = getFirstOcc(start, end, x+1)\n",
    "        #The one way in which the end index would be selected is if the array ends with the x \n",
    "        end = index if arr[index] == x else index - 1 \n",
    "        result.append(end)\n",
    "        return result\n",
    "        "
   ]
  },
  {
   "cell_type": "markdown",
   "metadata": {
    "ExecuteTime": {
     "end_time": "2023-06-12T18:23:11.778135Z",
     "start_time": "2023-06-12T18:23:11.760233Z"
    }
   },
   "source": [
    "<h4><a href = \"https://practice.geeksforgeeks.org/problems/value-equal-to-index-value1330/1\" > SAS2: Find a Fixed Point (Value equal to index) in a given array</a></h4>"
   ]
  },
  {
   "cell_type": "code",
   "execution_count": 2,
   "metadata": {
    "ExecuteTime": {
     "end_time": "2023-06-12T18:27:16.301578Z",
     "start_time": "2023-06-12T18:27:16.281624Z"
    }
   },
   "outputs": [],
   "source": [
    "class Solution:\n",
    "\tdef valueEqualToIndex(self,arr, n):\n",
    "\t\treturn [arr[i] for i in range(n) if arr[i] == i + 1]\n",
    "    "
   ]
  },
  {
   "cell_type": "markdown",
   "metadata": {
    "ExecuteTime": {
     "end_time": "2023-06-12T18:26:10.142558Z",
     "start_time": "2023-06-12T18:26:10.112602Z"
    }
   },
   "source": [
    "<h4><a href = \"https://leetcode.com/problems/search-in-rotated-sorted-array/\" > SAS3: Search in a rotated sorted array</a></h4>"
   ]
  },
  {
   "cell_type": "code",
   "execution_count": 5,
   "metadata": {},
   "outputs": [],
   "source": [
    "class Solution:\n",
    "    def search(nums, target):\n",
    "        start, end = 0, len(nums) - 1\n",
    "        while start <= end:\n",
    "            mid = start + (end - start)//2\n",
    "            if nums[mid] == target:\n",
    "                return mid\n",
    "            #Two cases are there:\n",
    "            #CASE1: The first part is sorted:\n",
    "            #Equality to take care when there are just two elements in an array\n",
    "            if nums[start] <= nums[mid]:\n",
    "                if nums[mid] > target and nums[start] <= target:\n",
    "                    end = mid - 1\n",
    "                else: start = mid + 1\n",
    "            #CASE2: the first part is not sorted\n",
    "            else: \n",
    "                if nums[mid] < target and nums[end] >= target:\n",
    "                    start = mid + 1\n",
    "                else: end = mid - 1\n",
    "            \n",
    "        return -1\n"
   ]
  },
  {
   "cell_type": "markdown",
   "metadata": {},
   "source": [
    "<h4><a href = \"https://www.geeksforgeeks.org/problems/count-squares3649/1\" > SAS4: square root of an integer</a></h4>"
   ]
  },
  {
   "cell_type": "code",
   "execution_count": 7,
   "metadata": {},
   "outputs": [],
   "source": [
    "class Solution:\n",
    "    def countSquares(self, N):\n",
    "        import math\n",
    "        val = math.sqrt(N-1)\n",
    "        return int(val)"
   ]
  },
  {
   "cell_type": "markdown",
   "metadata": {},
   "source": [
    "<h4><a href = \"https://practice.geeksforgeeks.org/problems/middle-of-three2926/1\" > SAS5: Maximum and minimum of an array using minimum number of comparisons</a></h4>"
   ]
  },
  {
   "cell_type": "code",
   "execution_count": 3,
   "metadata": {},
   "outputs": [],
   "source": [
    "#This is simple \n",
    "class Solution:\n",
    "    def middle(self,A,B,C):\n",
    "        #code here\n",
    "        relList = sorted([A, B, C])\n",
    "        return relList[1]"
   ]
  },
  {
   "cell_type": "markdown",
   "metadata": {},
   "source": [
    "<h4><a href = \"https://www.codingninjas.com/studio/problems/optimum-location_1116097\" > SAS6: Optimum location of point to minimize total distance</a></h4>"
   ]
  },
  {
   "cell_type": "code",
   "execution_count": null,
   "metadata": {},
   "outputs": [],
   "source": [
    "#MAIN CONCEPT: We can use the ternay searching instead of binary search when we have to find the optimum within a range. \n",
    "def optimumDistance(a, b, c, points, n):\n",
    "    from math import sqrt\n",
    "    # Write your code here\n",
    "    # Return a real number denoting the answer to the problem\n",
    "    # Each element of point contains two integer- X and Y coordinate of the point\n",
    "    def getYCord(x):\n",
    "        return (-c - a*x)/b\n",
    "\n",
    "    def getTotalDistance(x):\n",
    "        y = getYCord(x)\n",
    "        total = 0\n",
    "        for point in points:\n",
    "            total += sqrt((x - point[0])**2 + (y - point[1])**2)\n",
    "        return total\n",
    "    \n",
    "    highX, lowX = 1000, -1000\n",
    "    threshold = 1e-6\n",
    "    while highX - lowX > threshold:\n",
    "        mid1 = lowX + (highX -lowX)/3 \n",
    "        fMid1 = getTotalDistance(mid1)\n",
    "        mid2 = highX - (highX - lowX)/3      \n",
    "        fMid2 = getTotalDistance(mid2)\n",
    "\n",
    "        if fMid1 >= fMid2:\n",
    "            lowX = mid1\n",
    "        else: highX = mid2\n",
    "        mid = (highX + lowX)/2\n",
    "    return getTotalDistance(mid)"
   ]
  },
  {
   "cell_type": "markdown",
   "metadata": {},
   "source": [
    "<h4><a href = \"https://practice.geeksforgeeks.org/problems/find-missing-and-repeating2512/1\" > SAS7: Find the repeating and the missing</a></h4>"
   ]
  },
  {
   "cell_type": "code",
   "execution_count": 1,
   "metadata": {},
   "outputs": [],
   "source": [
    "class Solution:\n",
    "    def findTwoElement( self,arr, n): \n",
    "        # code here\n",
    "        sumOfArr = sum(arr)\n",
    "        sumOfSqr = sum([elem**2 for elem in arr])\n",
    "        diffBA = n*(n+1)//2 - sumOfArr\n",
    "        diffBASquared = n*(n+1)*(2*n+1)//6 - sumOfSqr\n",
    "        addBA = diffBASquared//diffBA\n",
    "        return [(addBA - diffBA)//2,(addBA + diffBA)//2]        "
   ]
  },
  {
   "cell_type": "markdown",
   "metadata": {},
   "source": [
    "<h4><a href = \"https://practice.geeksforgeeks.org/problems/majority-element/0\" > SAS8: Find majority element</a></h4>"
   ]
  },
  {
   "cell_type": "code",
   "execution_count": null,
   "metadata": {},
   "outputs": [],
   "source": [
    "class Solution:\n",
    "    def majorityElement(self, A, N):\n",
    "        currElem, count = A[0], 0\n",
    "        for elem in A:\n",
    "            if count:\n",
    "                if elem == currElem: count += 1\n",
    "                else: count -= 1\n",
    "            else:\n",
    "                currElem = elem\n",
    "                count+=1\n",
    "                \n",
    "        elemCount = 0\n",
    "        for elem in A:\n",
    "            if elem == currElem: elemCount += 1 \n",
    "        \n",
    "        return currElem if elemCount > N//2 else -1               "
   ]
  },
  {
   "cell_type": "markdown",
   "metadata": {},
   "source": [
    "<h4><a href = \"https://www.geeksforgeeks.org/problems/searching-in-an-array-where-adjacent-differ-by-at-most-k0456/1?itm_source=geeksforgeeks&itm_medium=article&itm_campaign=bottom_sticky_on_article/\" > SAS9: Searching in an array where adjacent differ by at most k</a></h4>"
   ]
  },
  {
   "cell_type": "code",
   "execution_count": null,
   "metadata": {},
   "outputs": [],
   "source": [
    "def search (arr, n, x, k) : \n",
    "    #Idea: Whichever index we are in, we have a bound range of values based on the distance. We remove the \n",
    "    #nearby indices which cannot have the target value.  \n",
    "    ind = 0\n",
    "    while ind < n:\n",
    "        if arr[ind] == x: return ind\n",
    "        addition = max(1,abs(x-arr[ind])//k)\n",
    "        ind += addition\n",
    "    \n",
    "    return -1"
   ]
  },
  {
   "cell_type": "markdown",
   "metadata": {},
   "source": [
    "<h4><a href = \"https://practice.geeksforgeeks.org/problems/find-pair-given-difference/0\" > SAS10: Find a pair with a given difference</a></h4>"
   ]
  },
  {
   "cell_type": "code",
   "execution_count": null,
   "metadata": {},
   "outputs": [],
   "source": [
    "class Solution:\n",
    "\n",
    "    def findPair(self, arr, L,N):\n",
    "        #code here\n",
    "        arr.sort()\n",
    "        start, end = 0, 1\n",
    "        while end < L:\n",
    "            diff = arr[end] - arr[start]\n",
    "            if diff < N or end == start: end += 1\n",
    "            elif diff > N: start += 1\n",
    "            else: return True\n",
    "        \n",
    "        return False"
   ]
  },
  {
   "cell_type": "markdown",
   "metadata": {},
   "source": [
    "<h4><a href = \"https://practice.geeksforgeeks.org/problems/find-all-four-sum-numbers/0\" > SAS11: Find four unique elements that sum to a given value</a></h4>"
   ]
  },
  {
   "cell_type": "code",
   "execution_count": 3,
   "metadata": {},
   "outputs": [],
   "source": [
    "\n",
    "# arr[] : int input array of integers\n",
    "# k : the quadruple sum required\n",
    "class Solution:\n",
    "    def fourSum(self, arr, k):\n",
    "        # code here\n",
    "        arr.sort()\n",
    "        maxLength, result = len(arr), []\n",
    "        for firstInd in range(maxLength-3):\n",
    "            #This ensures that same value is selected only once for firstInd\n",
    "            if (not firstInd) or arr[firstInd - 1] != arr[firstInd]: \n",
    "                toSum = k - arr[firstInd]\n",
    "                for secInd in range(firstInd+1, maxLength - 2):\n",
    "                    #This ensures that same value is selected only once for secondInd\n",
    "                    if secInd == firstInd + 1 or arr[secInd - 1] != arr[secInd]:\n",
    "                        remToSum = toSum - arr[secInd]\n",
    "                        start, end = secInd + 1, maxLength - 1\n",
    "                        while start < end:\n",
    "                            summation = arr[start] + arr[end]\n",
    "                            if summation > remToSum: end -= 1\n",
    "                            elif summation < remToSum: start += 1\n",
    "                            else: \n",
    "                                result.append([arr[firstInd], arr[secInd],arr[start], arr[end]])\n",
    "                                start += 1\n",
    "                                #Ensures that same pair is not present multiple time\n",
    "                                while start < end and arr[start] == arr[start - 1]:\n",
    "                                    start += 1\n",
    "                                    \n",
    "        return result"
   ]
  },
  {
   "cell_type": "markdown",
   "metadata": {},
   "source": [
    "<h4><a href = \"https://www.geeksforgeeks.org/problems/stickler-theif-1587115621/1\" > SAS12: Maximum sum such that no 2 elements are adjacent</a></h4>"
   ]
  },
  {
   "cell_type": "code",
   "execution_count": 2,
   "metadata": {},
   "outputs": [],
   "source": [
    "class Solution:      \n",
    "    #Function to find the maximum money the thief can get.\n",
    "    def FindMaxSum(self,a, n):\n",
    "        \n",
    "        prev3, prev2, prev, curr = 0,0,0,0\n",
    "        for elem in a:\n",
    "            curr = elem + max(prev2, prev3)\n",
    "            prev, prev2, prev3 = curr, prev, prev2\n",
    "        \n",
    "        return max(prev, prev2)"
   ]
  },
  {
   "cell_type": "markdown",
   "metadata": {},
   "source": [
    "<h4><a href = \"https://www.geeksforgeeks.org/problems/count-triplets-with-sum-smaller-than-x5549/1\" > SAS13: Count triplet with sum smaller than a given value</a></h4>"
   ]
  },
  {
   "cell_type": "code",
   "execution_count": 1,
   "metadata": {},
   "outputs": [],
   "source": [
    "class Solution:\n",
    "    def countTriplets(self, arr, n, sumo):\n",
    "        \n",
    "        count = 0\n",
    "        arr.sort()\n",
    "        for firstIndex in range(n-2):\n",
    "            rem = sumo - arr[firstIndex]\n",
    "            if rem > 0:\n",
    "                start, end = firstIndex + 1, n-1\n",
    "                while start < end:\n",
    "                    currSum = arr[start] + arr[end]\n",
    "                    if currSum < rem:\n",
    "                        count += (end - start)\n",
    "                        start += 1\n",
    "                    elif currSum >= rem: end -= 1\n",
    "        \n",
    "        return count"
   ]
  },
  {
   "cell_type": "markdown",
   "metadata": {},
   "source": [
    "<h4><a href = \"https://www.geeksforgeeks.org/problems/merge-two-sorted-arrays-1587115620/1\" > SAS14: Merge Two sorted arrays without extra space</a></h4>"
   ]
  },
  {
   "cell_type": "code",
   "execution_count": 1,
   "metadata": {},
   "outputs": [],
   "source": [
    "class Solution:\n",
    "    \n",
    "    #Function to merge the arrays.\n",
    "    def merge(self,arr1,arr2,n,m):\n",
    "        p1, p2 = 0, 0\n",
    "        #Check if the smallest values are exhausted and to be put in array1\n",
    "        while p1 + p2 < n and p2 < m:\n",
    "            if arr1[p1] <= arr2[p2]: p1 += 1\n",
    "            else: p2 += 1\n",
    "        for ind in range(p2):\n",
    "            arr1[n-1-ind] , arr2[ind] = arr2[ind], arr1[n - 1 - ind]\n",
    "        \n",
    "        arr1.sort()\n",
    "        arr2.sort()\n",
    "                "
   ]
  },
  {
   "cell_type": "markdown",
   "metadata": {},
   "source": [
    "<h4><a href = \"https://practice.geeksforgeeks.org/problems/zero-sum-subarrays/0\" > SAS15: Print all subarrays with 0 sum</a></h4>"
   ]
  },
  {
   "cell_type": "code",
   "execution_count": 1,
   "metadata": {},
   "outputs": [],
   "source": [
    "class Solution:\n",
    "    #Function to count subarrays with sum equal to 0.\n",
    "    def findSubArrays(self,arr,n):\n",
    "        \n",
    "        #The idea is to count the number of occurances of cumulative sum, the same value of \n",
    "        #sum indicates a subarray of zero summation. \n",
    "        countMap = {0:1}\n",
    "        total, cumSum = 0,0\n",
    "        for elem in arr:\n",
    "            cumSum += elem\n",
    "            if cumSum in countMap:\n",
    "                total += countMap[cumSum]\n",
    "                countMap[cumSum] += 1\n",
    "            else:\n",
    "                countMap[cumSum] = 1\n",
    "\n",
    "        return total\n"
   ]
  },
  {
   "cell_type": "markdown",
   "metadata": {},
   "source": [
    "<h4><a href = \"https://www.geeksforgeeks.org/problems/product-array-puzzle4525/1\" > SAS16: Product Array Puzzle</a></h4>"
   ]
  },
  {
   "cell_type": "code",
   "execution_count": null,
   "metadata": {},
   "outputs": [],
   "source": [
    "class Solution:\n",
    "    def productExceptSelf(self, nums, n):\n",
    "        \n",
    "        productBack = {0:1} \n",
    "        productFor = {n-1:1}\n",
    "        for i in range(1,n):\n",
    "            productBack[i] = productBack[i-1]*nums[i-1]\n",
    "            productFor[n-1-i] = productFor[n-i]*nums[n-i]\n",
    "        return [productBack[i]*productFor[i] for i in range(n)]\n"
   ]
  },
  {
   "cell_type": "markdown",
   "metadata": {},
   "source": [
    "<h4><a href = \"https://www.geeksforgeeks.org/problems/sort-by-set-bit-count1153/1\" > SAS17: Sort array according to count of set bits</a></h4>"
   ]
  },
  {
   "cell_type": "code",
   "execution_count": 1,
   "metadata": {},
   "outputs": [],
   "source": [
    "class Solution:\n",
    "    def sortBySetBitCount(self, arr, n):\n",
    "        # Your code goes here\n",
    "        def countSB(num):\n",
    "            return bin(num).count('1')\n",
    "        arr.sort(key = countSB, reverse = True)        "
   ]
  },
  {
   "cell_type": "markdown",
   "metadata": {},
   "source": [
    "<h4><a href = \"https://www.geeksforgeeks.org/problems/sort-by-set-bit-count1153/1\" > SAS18: minimum no. of swaps required to sort the array</a></h4>"
   ]
  },
  {
   "cell_type": "code",
   "execution_count": null,
   "metadata": {},
   "outputs": [],
   "source": [
    "class Solution:\n",
    "    \n",
    "    #Function to find the minimum number of swaps required to sort the array.\n",
    "\tdef minSwaps(self, nums):\n",
    "\t\tn, count = len(nums),0\n",
    "\t\tindex = sorted(range(n), key = lambda x: nums[x])\n",
    "\t\tvisited = set()\n",
    "\t\tfor i in range(n):\n",
    "\t\t    curr = i\n",
    "\t\t    if curr in visited: continue\n",
    "\t\t    while curr not in visited:\n",
    "\t\t        visited.add(curr)\n",
    "\t\t        curr = index[curr]\n",
    "\t\t        if curr != i: count+=1\n",
    "\t    \n",
    "        return count\n"
   ]
  },
  {
   "cell_type": "markdown",
   "metadata": {},
   "source": [
    "<h4><a href = \"https://practice.geeksforgeeks.org/problems/minimum-swaps/1\" > SAS19: Bishu and Soldiers </a></h4>"
   ]
  },
  {
   "cell_type": "code",
   "execution_count": 14,
   "metadata": {},
   "outputs": [],
   "source": [
    "# Write your code here\n",
    "#Reading inputs\n",
    "nSoldiers = int(input())\n",
    "firstSoldier = input()\n",
    "if ' ' in firstSoldier:\n",
    "    powerSoldier = [int(i) for i in firstSoldier.split(' ')]\n",
    "else:\n",
    "    powerSoldier = [int(firstSoldier)]\n",
    "    for i in range(1,nSoldiers):\n",
    "        val = int(input())\n",
    "        powerSoldier.append(val)\n",
    "powerSoldier.sort()\n",
    "rounds = int(input())\n",
    "powerInThisRound = []\n",
    "for i in range(rounds):\n",
    "    powerInThisRound.append(int(input()))\n",
    "\n",
    "# READING INPUTS END HERE\n",
    "    \n",
    "for power in powerInThisRound:\n",
    "    start, end = 0, nSoldiers - 1\n",
    "    while start < end: \n",
    "        mid = (end + start)//2\n",
    "        if powerSoldier[mid] < power+1: start = mid + 1\n",
    "        else: end = mid\n",
    "    #THE CASE HAS TO BE CHECKED IN CASE THE LAST VALUE IS LESSER THAN THE POWER\n",
    "    finalVal = nSoldiers if powerSoldier[end] <= power else end\n",
    "    print(finalVal, sum(powerSoldier[:finalVal]))\n"
   ]
  },
  {
   "cell_type": "markdown",
   "metadata": {},
   "source": [
    "<h4><a href = \"https://www.hackerearth.com/practice/algorithms/searching/binary-search/practice-problems/algorithm/rasta-and-kheshtak/\" > SAS20: Rasta and Kheshtak </a></h4>"
   ]
  },
  {
   "cell_type": "code",
   "execution_count": null,
   "metadata": {},
   "outputs": [],
   "source": []
  },
  {
   "cell_type": "markdown",
   "metadata": {},
   "source": [
    "<h4><a href = \"https://www.hackerearth.com/practice/algorithms/searching/binary-search/practice-problems/algorithm/kth-smallest-number-again-2/\" > SAS21: Kth smallest number again </a></h4>"
   ]
  },
  {
   "cell_type": "code",
   "execution_count": null,
   "metadata": {},
   "outputs": [],
   "source": []
  },
  {
   "cell_type": "markdown",
   "metadata": {},
   "source": [
    "<h4><a href = \"https://www.codingninjas.com/studio/problems/game-of-largest-element_1170064?topList=love-babbar-dsa-sheet-problems&utm_source=website&utm_medium=affiliate&utm_campaign=450dsatracker&leftPanelTabValue=SUBMISSION\" > SAS22: Find pivot element in a sorted array </a></h4>"
   ]
  },
  {
   "cell_type": "code",
   "execution_count": null,
   "metadata": {},
   "outputs": [],
   "source": [
    "def findTheLargestElement(arr, n):\n",
    "\t# Write your code here.\n",
    "\tstart, end = 0, n - 1\n",
    "\twhile start < end:\n",
    "\t\tmid = start + (end - start)//2\n",
    "\t\tif arr[start] <= arr[mid] and arr[mid] < arr[end]:\n",
    "\t\t\treturn arr[end]\n",
    "\t\tif arr[start] >= arr[mid]:\n",
    "\t\t\tend = mid - 1\n",
    "\t\telse:\n",
    "\t\t\tstart = mid\n",
    "\t\n",
    "\treturn arr[start]"
   ]
  },
  {
   "cell_type": "markdown",
   "metadata": {
    "tags": []
   },
   "source": [
    "<h4><a href = \"https://www.codingninjas.com/studio/problems/k-th-element-of-2-sorted-array_1164159?topList=love-babbar-dsa-sheet-problems&utm_source=website&utm_medium=affiliate&utm_campaign=450dsatracker\" > SAS23: K-th Element of Two Sorted Arrays </a></h4>"
   ]
  },
  {
   "cell_type": "code",
   "execution_count": null,
   "metadata": {},
   "outputs": [],
   "source": [
    "def kthElement(arr1: [int], n: int, arr2: [int], m: int, k: int) -> int:\n",
    "    # Write your code from here.\n",
    "    from bisect import bisect_right\n",
    "    start, end = 0, int(1e9)\n",
    "    while start < end:\n",
    "        \n",
    "        mid = start + (end - start)//2\n",
    "        totalVals = 0\n",
    "        totalVals += bisect_right(arr1,mid)\n",
    "        totalVals += bisect_right(arr2, mid)\n",
    "\n",
    "        if totalVals < k:\n",
    "            start = mid + 1\n",
    "        else: end = mid\n",
    "    \n",
    "    return start"
   ]
  }
 ],
 "metadata": {
  "hide_input": false,
  "kernelspec": {
   "display_name": "Python 3 (ipykernel)",
   "language": "python",
   "name": "python3"
  },
  "language_info": {
   "codemirror_mode": {
    "name": "ipython",
    "version": 3
   },
   "file_extension": ".py",
   "mimetype": "text/x-python",
   "name": "python",
   "nbconvert_exporter": "python",
   "pygments_lexer": "ipython3",
   "version": "3.10.6"
  },
  "varInspector": {
   "cols": {
    "lenName": 16,
    "lenType": 16,
    "lenVar": 40
   },
   "kernels_config": {
    "python": {
     "delete_cmd_postfix": "",
     "delete_cmd_prefix": "del ",
     "library": "var_list.py",
     "varRefreshCmd": "print(var_dic_list())"
    },
    "r": {
     "delete_cmd_postfix": ") ",
     "delete_cmd_prefix": "rm(",
     "library": "var_list.r",
     "varRefreshCmd": "cat(var_dic_list()) "
    }
   },
   "types_to_exclude": [
    "module",
    "function",
    "builtin_function_or_method",
    "instance",
    "_Feature"
   ],
   "window_display": false
  }
 },
 "nbformat": 4,
 "nbformat_minor": 4
}
