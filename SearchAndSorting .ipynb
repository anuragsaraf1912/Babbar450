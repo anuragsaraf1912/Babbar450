{
 "cells": [
  {
   "cell_type": "markdown",
   "metadata": {},
   "source": [
    "<h4><a href = \"https://practice.geeksforgeeks.org/problems/first-and-last-occurrences-of-x3116/1\" > SAS1: Find first and last positions of an element in a sorted array</a></h4>"
   ]
  },
  {
   "cell_type": "code",
   "execution_count": 3,
   "metadata": {
    "ExecuteTime": {
     "end_time": "2023-06-12T18:23:03.387954Z",
     "start_time": "2023-06-12T18:23:03.368035Z"
    }
   },
   "outputs": [],
   "source": [
    "class Solution:\n",
    "    def find(self, arr, n, x):\n",
    "        \n",
    "        def getFirstOcc(start, end, x):\n",
    "            '''Returns the first occurance of the value >= x'''\n",
    "            while start < end:\n",
    "                mid = start + (end - start)//2\n",
    "                if arr[mid] >= x: end = mid\n",
    "                else: start = mid + 1 \n",
    "            return start\n",
    "        \n",
    "        result = []\n",
    "        start, end = 0, n-1\n",
    "        start = getFirstOcc(start, end, x)\n",
    "        if arr[start] == x: \n",
    "            result.append(start)\n",
    "        else: return [-1,-1]\n",
    "        end = n-1\n",
    "        #Getting the index of the element just after x in case it exists \n",
    "        index = getFirstOcc(start, end, x+1)\n",
    "        #The one way in which the end index would be selected is if the array ends with the x \n",
    "        end = index if arr[index] == x else index - 1 \n",
    "        result.append(end)\n",
    "        return result\n",
    "        "
   ]
  },
  {
   "cell_type": "markdown",
   "metadata": {
    "ExecuteTime": {
     "end_time": "2023-06-12T18:23:11.778135Z",
     "start_time": "2023-06-12T18:23:11.760233Z"
    }
   },
   "source": [
    "<h4><a href = \"https://practice.geeksforgeeks.org/problems/value-equal-to-index-value1330/1\" > SAS2: Find a Fixed Point (Value equal to index) in a given array</a></h4>"
   ]
  },
  {
   "cell_type": "code",
   "execution_count": 2,
   "metadata": {
    "ExecuteTime": {
     "end_time": "2023-06-12T18:27:16.301578Z",
     "start_time": "2023-06-12T18:27:16.281624Z"
    }
   },
   "outputs": [],
   "source": [
    "class Solution:\n",
    "\tdef valueEqualToIndex(self,arr, n):\n",
    "\t\treturn [arr[i] for i in range(n) if arr[i] == i + 1]\n",
    "    "
   ]
  },
  {
   "cell_type": "markdown",
   "metadata": {
    "ExecuteTime": {
     "end_time": "2023-06-12T18:26:10.142558Z",
     "start_time": "2023-06-12T18:26:10.112602Z"
    }
   },
   "source": [
    "<h4><a href = \"https://leetcode.com/problems/search-in-rotated-sorted-array/\" > SAS3: Search in a rotated sorted array</a></h4>"
   ]
  },
  {
   "cell_type": "code",
   "execution_count": 5,
   "metadata": {},
   "outputs": [],
   "source": [
    "class Solution:\n",
    "    def search(nums, target):\n",
    "        start, end = 0, len(nums) - 1\n",
    "        while start <= end:\n",
    "            mid = start + (end - start)//2\n",
    "            if nums[mid] == target:\n",
    "                return mid\n",
    "            #Two cases are there:\n",
    "            #CASE1: The first part is sorted:\n",
    "            #Equality to take care when there are just two elements in an array\n",
    "            if nums[start] <= nums[mid]:\n",
    "                if nums[mid] > target and nums[start] <= target:\n",
    "                    end = mid - 1\n",
    "                else: start = mid + 1\n",
    "            #CASE2: the first part is not sorted\n",
    "            else: \n",
    "                if nums[mid] < target and nums[end] >= target:\n",
    "                    start = mid + 1\n",
    "                else: end = mid - 1\n",
    "            \n",
    "        return -1\n"
   ]
  },
  {
   "cell_type": "markdown",
   "metadata": {},
   "source": [
    "<h4><a href = \"https://www.geeksforgeeks.org/problems/count-squares3649/1\" > SAS4: square root of an integer</a></h4>"
   ]
  },
  {
   "cell_type": "code",
   "execution_count": 7,
   "metadata": {},
   "outputs": [],
   "source": [
    "class Solution:\n",
    "    def countSquares(self, N):\n",
    "        import math\n",
    "        val = math.sqrt(N-1)\n",
    "        return int(val)"
   ]
  },
  {
   "cell_type": "markdown",
   "metadata": {},
   "source": [
    "<h4><a href = \"https://practice.geeksforgeeks.org/problems/middle-of-three2926/1\" > SAS5: Maximum and minimum of an array using minimum number of comparisons</a></h4>"
   ]
  },
  {
   "cell_type": "code",
   "execution_count": null,
   "metadata": {},
   "outputs": [],
   "source": []
  },
  {
   "cell_type": "markdown",
   "metadata": {},
   "source": [
    "<h4><a href = \"https://www.geeksforgeeks.org/optimum-location-point-minimize-total-distance/\" > SAS6: Optimum location of point to minimize total distance</a></h4>"
   ]
  },
  {
   "cell_type": "code",
   "execution_count": null,
   "metadata": {},
   "outputs": [],
   "source": []
  },
  {
   "cell_type": "markdown",
   "metadata": {},
   "source": [
    "<h4><a href = \"https://practice.geeksforgeeks.org/problems/find-missing-and-repeating2512/1\" > SAS7: Find the repeating and the missing</a></h4>"
   ]
  },
  {
   "cell_type": "code",
   "execution_count": 1,
   "metadata": {},
   "outputs": [],
   "source": [
    "class Solution:\n",
    "    def findTwoElement( self,arr, n): \n",
    "        # code here\n",
    "        sumOfArr = sum(arr)\n",
    "        sumOfSqr = sum([elem**2 for elem in arr])\n",
    "        diffBA = n*(n+1)//2 - sumOfArr\n",
    "        diffBASquared = n*(n+1)*(2*n+1)//6 - sumOfSqr\n",
    "        addBA = diffBASquared//diffBA\n",
    "        return [(addBA - diffBA)//2,(addBA + diffBA)//2]        "
   ]
  },
  {
   "cell_type": "code",
   "execution_count": null,
   "metadata": {},
   "outputs": [],
   "source": []
  }
 ],
 "metadata": {
  "hide_input": false,
  "kernelspec": {
   "display_name": "Python 3 (ipykernel)",
   "language": "python",
   "name": "python3"
  },
  "language_info": {
   "codemirror_mode": {
    "name": "ipython",
    "version": 3
   },
   "file_extension": ".py",
   "mimetype": "text/x-python",
   "name": "python",
   "nbconvert_exporter": "python",
   "pygments_lexer": "ipython3",
   "version": "3.10.6"
  },
  "varInspector": {
   "cols": {
    "lenName": 16,
    "lenType": 16,
    "lenVar": 40
   },
   "kernels_config": {
    "python": {
     "delete_cmd_postfix": "",
     "delete_cmd_prefix": "del ",
     "library": "var_list.py",
     "varRefreshCmd": "print(var_dic_list())"
    },
    "r": {
     "delete_cmd_postfix": ") ",
     "delete_cmd_prefix": "rm(",
     "library": "var_list.r",
     "varRefreshCmd": "cat(var_dic_list()) "
    }
   },
   "types_to_exclude": [
    "module",
    "function",
    "builtin_function_or_method",
    "instance",
    "_Feature"
   ],
   "window_display": false
  }
 },
 "nbformat": 4,
 "nbformat_minor": 4
}
