{
 "cells": [
  {
   "cell_type": "markdown",
   "metadata": {},
   "source": [
    "<h4><a href = \"https://practice.geeksforgeeks.org/problems/coin-change2448/1\" > DP1: Coin-Change Problem</a></h4>"
   ]
  },
  {
   "cell_type": "code",
   "execution_count": 1,
   "metadata": {
    "ExecuteTime": {
     "end_time": "2023-05-05T04:33:56.049922Z",
     "start_time": "2023-05-05T04:33:56.030972Z"
    }
   },
   "outputs": [],
   "source": [
    "class Solution:\n",
    "    def count(self, coins, N, Sum):\n",
    "        stateMap = [0]*(Sum+1)\n",
    "        stateMap[0] = 1\n",
    "        for coin in coins:\n",
    "            for state in range(1,Sum+1):\n",
    "                if state >= coin:\n",
    "                    stateMap[state] += stateMap[state-coin]\n",
    "        return stateMap[Sum]"
   ]
  },
  {
   "cell_type": "markdown",
   "metadata": {},
   "source": [
    "<h4><a href = \"https://practice.geeksforgeeks.org/problems/0-1-knapsack-problem/0\"> DP2: KnapSack Problem </a></h4>"
   ]
  },
  {
   "cell_type": "code",
   "execution_count": 2,
   "metadata": {
    "ExecuteTime": {
     "end_time": "2023-05-05T04:35:52.799704Z",
     "start_time": "2023-05-05T04:35:52.771729Z"
    }
   },
   "outputs": [],
   "source": [
    "class Solution:\n",
    "    \n",
    "    #Function to return max value that can be put in knapsack of capacity W.\n",
    "    def knapSack(self, W, wt, val, n):\n",
    "        \n",
    "        stateMap = [[0]*(W+1) for _ in range(n+1)]\n",
    "        for i in range(1,n+1):\n",
    "            currWeight, currVal = wt[i-1],val[i-1]\n",
    "            for state in range(W+1):\n",
    "                stateMap[i][state] = stateMap[i-1][state]\n",
    "                if state >= currWeight:\n",
    "                    stateMap[i][state] = max(stateMap[i][state], currVal + stateMap[i-1][state - currWeight])\n",
    "        return stateMap[n][W] "
   ]
  },
  {
   "cell_type": "markdown",
   "metadata": {},
   "source": [
    "<h4><a href = \"https://practice.geeksforgeeks.org/problems/ncr1019/1\"> DP3: Binomial Coefficient Problem </a></h4>"
   ]
  },
  {
   "cell_type": "code",
   "execution_count": null,
   "metadata": {},
   "outputs": [],
   "source": [
    "class Solution:\n",
    "    def nCr(self, n, r):\n",
    "        \n",
    "        stateMap = [[0 for _ in range(n+1)] for i in range(r+1)]\n",
    "        stateMap[0][0] = 1\n",
    "        for j in range(n+1):\n",
    "            stateMap[0][j] = 1\n",
    "        for c in range(1,n+1):\n",
    "            for r in range(1,r+1):\n",
    "                stateMap[r][c] = stateMap[r-1][c-1] + stateMap[r][c-1]\n",
    "        \n",
    "        return stateMap[r][n]%(10**9+7)"
   ]
  },
  {
   "cell_type": "markdown",
   "metadata": {
    "ExecuteTime": {
     "end_time": "2023-05-05T04:37:17.341845Z",
     "start_time": "2023-05-05T04:37:17.324885Z"
    }
   },
   "source": [
    "<h4><a href = \"https://www.geeksforgeeks.org/permutation-coefficient/\"> DP4: Permutation Coefficient Problem </a></h4>"
   ]
  },
  {
   "cell_type": "code",
   "execution_count": 1,
   "metadata": {
    "ExecuteTime": {
     "end_time": "2023-05-05T05:09:29.330100Z",
     "start_time": "2023-05-05T05:09:29.300150Z"
    }
   },
   "outputs": [],
   "source": [
    "class Solution:\n",
    "    def nPr(self, n, r):\n",
    "        \n",
    "        stateMap = [[0 for _ in range(n+1)] for i in range(r+1)]\n",
    "        stateMap[0][0] = 1\n",
    "        for j in range(n+1):\n",
    "            stateMap[0][j] = 1\n",
    "        for c in range(1,n+1):\n",
    "            for r in range(1,r+1):\n",
    "                stateMap[r][c] = r*stateMap[r-1][c-1] + stateMap[r][c-1]\n",
    "        \n",
    "        return stateMap[r][n]%(10**9+7)"
   ]
  },
  {
   "cell_type": "markdown",
   "metadata": {
    "ExecuteTime": {
     "end_time": "2023-05-05T04:37:17.699905Z",
     "start_time": "2023-05-05T04:37:17.674009Z"
    }
   },
   "source": [
    "<h4><a href = \"https://www.geeksforgeeks.org/program-nth-catalan-number/\"> DP5: Program for nth Catalan Number </a></h4>"
   ]
  },
  {
   "cell_type": "code",
   "execution_count": null,
   "metadata": {},
   "outputs": [],
   "source": [
    "class Solution:\n",
    "    #Function to find the nth catalan number.\n",
    "    def findCatalan(self,n):\n",
    "        \n",
    "        stateMap = [[0 for i in range(n+1)] for _ in range(n+1)]\n",
    "        for i in range(n+1):\n",
    "            stateMap[i][0] = 1\n",
    "        for r in range(1,n+1):\n",
    "            for c in range(1,r+1):\n",
    "                stateMap[r][c] = stateMap[r][c-1] + stateMap[r-1][c]\n",
    "        \n",
    "        return stateMap[n][n]"
   ]
  },
  {
   "cell_type": "markdown",
   "metadata": {
    "ExecuteTime": {
     "end_time": "2023-05-08T10:58:13.841619Z",
     "start_time": "2023-05-08T10:58:13.829654Z"
    }
   },
   "source": [
    "<h4><a href = \"https://www.geeksforgeeks.org/matrix-chain-multiplication-dp-8/\"> DP6: Matrix Chain Multiplication  </a></h4>"
   ]
  },
  {
   "cell_type": "code",
   "execution_count": 2,
   "metadata": {
    "ExecuteTime": {
     "end_time": "2023-05-08T11:01:24.045938Z",
     "start_time": "2023-05-08T11:01:24.025992Z"
    }
   },
   "outputs": [],
   "source": [
    "class Solution:\n",
    "    def matrixMultiplication(self, N, arr):\n",
    "        if N <= 2:\n",
    "            return 0\n",
    "        mTable = [[0 for _ in range(N)] for i in range(N)]\n",
    "        \n",
    "        def dfs(start,end):\n",
    "            if mTable[start][end]:\n",
    "                return mTable[start][end]\n",
    "            if start > end:\n",
    "                mTable[start][end] = 0\n",
    "                return mTable[start][end]\n",
    "            minVal = float('inf')\n",
    "            for i in range(start,end+1):\n",
    "                minVal = min(minVal, arr[start - 1]*arr[i]*arr[end+1] + dfs(start,i-1) + dfs(i+1,end))\n",
    "            mTable[start][end] = minVal\n",
    "            return mTable[start][end]\n",
    "        \n",
    "        return dfs(1,N-2)"
   ]
  },
  {
   "cell_type": "markdown",
   "metadata": {
    "ExecuteTime": {
     "end_time": "2023-05-08T11:11:33.657114Z",
     "start_time": "2023-05-08T11:11:33.641157Z"
    }
   },
   "source": [
    "<h4><a href = \"https://practice.geeksforgeeks.org/problems/edit-distance3702/1\"> DP7: Edit Distance  </a></h4>"
   ]
  },
  {
   "cell_type": "code",
   "execution_count": 4,
   "metadata": {
    "ExecuteTime": {
     "end_time": "2023-05-08T11:12:13.922043Z",
     "start_time": "2023-05-08T11:12:13.911072Z"
    }
   },
   "outputs": [],
   "source": [
    "class Solution:\n",
    "    def editDistance(self, s, t):\n",
    "        \n",
    "        stateMap = [[i for i in range(len(t)+1)] for _ in range(len(s)+1)]\n",
    "        for i in range(1,len(s)+1):\n",
    "            stateMap[i][0] = i\n",
    "        for i in range(1,len(t)+1):\n",
    "            stateMap[0][i] = i\n",
    "        for r in range(1,len(s)+1):\n",
    "            for c in range(1,len(t)+1):\n",
    "                if s[r-1] == t[c-1]:\n",
    "                    stateMap[r][c] = stateMap[r-1][c-1]\n",
    "                else: stateMap[r][c] = min(stateMap[r][c-1], stateMap[r-1][c], stateMap[r-1][c-1]) + 1  \n",
    "        return stateMap[len(s)][len(t)]"
   ]
  },
  {
   "cell_type": "markdown",
   "metadata": {
    "ExecuteTime": {
     "end_time": "2023-05-08T11:34:26.906859Z",
     "start_time": "2023-05-08T11:34:26.886920Z"
    }
   },
   "source": [
    "<h4><a href = \"https://practice.geeksforgeeks.org/problems/subset-sum-problem2014/1\"> DP8: Subset Sum Problem  </a></h4>"
   ]
  },
  {
   "cell_type": "code",
   "execution_count": 8,
   "metadata": {
    "ExecuteTime": {
     "end_time": "2023-05-08T11:35:01.249772Z",
     "start_time": "2023-05-08T11:35:01.230825Z"
    }
   },
   "outputs": [],
   "source": [
    "class Solution:\n",
    "    def equalPartition(self, N, arr):\n",
    "        sm = sum(arr)\n",
    "        if sm%2:\n",
    "            return 0\n",
    "        stateMap = {0:True}\n",
    "        llimit = max(arr)\n",
    "        for elem in arr:\n",
    "            currMap = {}\n",
    "            for k in stateMap:\n",
    "                if k+elem <= sm//2:\n",
    "                    currMap[k+elem] = True\n",
    "                if k-elem >= -llimit:\n",
    "                    currMap[k-elem] = True\n",
    "            stateMap = currMap\n",
    "        \n",
    "        return 1 if stateMap.get(0) else 0"
   ]
  },
  {
   "cell_type": "markdown",
   "metadata": {
    "ExecuteTime": {
     "end_time": "2023-05-08T11:35:57.437989Z",
     "start_time": "2023-05-08T11:35:57.422031Z"
    }
   },
   "source": [
    "<h4><a href = \"https://practice.geeksforgeeks.org/problems/friends-pairing-problem5425/1\"> DP9: Friends Pairing Problem  </a></h4>"
   ]
  },
  {
   "cell_type": "code",
   "execution_count": 10,
   "metadata": {
    "ExecuteTime": {
     "end_time": "2023-05-08T11:36:57.247511Z",
     "start_time": "2023-05-08T11:36:57.238535Z"
    }
   },
   "outputs": [],
   "source": [
    "class Solution:\n",
    "    def countFriendsPairings(self, n):\n",
    "        \n",
    "        prevprev,prev = 1,1\n",
    "        for i in range(2,n+1):\n",
    "            curr = prev + (i-1)*prevprev\n",
    "            prevprev = prev\n",
    "            prev = curr\n",
    "        \n",
    "        return prev%(10**9+7)"
   ]
  },
  {
   "cell_type": "markdown",
   "metadata": {
    "ExecuteTime": {
     "end_time": "2023-05-08T11:37:54.160537Z",
     "start_time": "2023-05-08T11:37:54.150563Z"
    }
   },
   "source": [
    "<h4><a href = \"https://www.geeksforgeeks.org/gold-mine-problem/\"> DP10: Gold Mine problem  </a></h4>"
   ]
  },
  {
   "cell_type": "code",
   "execution_count": 12,
   "metadata": {
    "ExecuteTime": {
     "end_time": "2023-05-08T11:38:41.330207Z",
     "start_time": "2023-05-08T11:38:41.309259Z"
    }
   },
   "outputs": [],
   "source": [
    "class Solution:\n",
    "    def maxGold(self, n, m, M):\n",
    "        stateMap = [[0 for i in range(m)] for _ in range(n)]\n",
    "        for i in range(n):\n",
    "            stateMap[i][0] = M[i][0]\n",
    "        for c in range(1,m):\n",
    "            for r in range(n):\n",
    "                stateMap[r][c] = stateMap[r][c-1]\n",
    "                if r!= 0:\n",
    "                    stateMap[r][c] = max(stateMap[r][c], stateMap[r-1][c-1])\n",
    "                if r!= n-1:\n",
    "                    stateMap[r][c] = max(stateMap[r][c], stateMap[r+1][c-1])\n",
    "                stateMap[r][c] += M[r][c]\n",
    "        \n",
    "        maxVal = 0\n",
    "        for i in range(n):\n",
    "            maxVal = max(maxVal,stateMap[i][m-1])\n",
    "        return maxVal"
   ]
  },
  {
   "cell_type": "markdown",
   "metadata": {},
   "source": [
    "<h4><a href = \"https://practice.geeksforgeeks.org/problems/assembly-line-scheduling/1\"> DP11: Assembly Line Scheduling Problem  </a></h4>"
   ]
  },
  {
   "cell_type": "code",
   "execution_count": 6,
   "metadata": {
    "ExecuteTime": {
     "end_time": "2023-05-10T08:49:56.262415Z",
     "start_time": "2023-05-10T08:49:56.237476Z"
    }
   },
   "outputs": [],
   "source": [
    "from typing import List\n",
    "class Solution:\n",
    "    def carAssembly(self, n : int, a : List[List[int]], T : List[List[int]], e : List[int], x : List[int]) -> int:\n",
    "        # 0 for the upper one and 1 for the lower one \n",
    "        timeMap = [[0 for i in range(n+1)] for _ in range(2)]\n",
    "        timeMap[0][1] = e[0] + a[0][0]\n",
    "        timeMap[1][1] = e[1] + a[1][0]\n",
    "        for i in range(2,n+1):\n",
    "            timeMap[0][i] = min(timeMap[0][i-1], timeMap[1][i-1] + T[1][i-1]) + a[0][i-1]\n",
    "            timeMap[1][i] = min(timeMap[1][i-1], timeMap[0][i-1] + T[0][i-1]) + a[1][i-1]\n",
    "\n",
    "        return min(timeMap[0][-1] + x[0], timeMap[1][-1]+ x[1])"
   ]
  },
  {
   "cell_type": "markdown",
   "metadata": {},
   "source": [
    "<h4><a href = \"https://practice.geeksforgeeks.org/problems/painting-the-fence3727/1\"> DP12: Painting the Fence Problem  </a></h4>"
   ]
  },
  {
   "cell_type": "code",
   "execution_count": 5,
   "metadata": {
    "ExecuteTime": {
     "end_time": "2023-05-09T06:44:35.077336Z",
     "start_time": "2023-05-09T06:44:35.057389Z"
    }
   },
   "outputs": [],
   "source": [
    "class Solution:\n",
    "    def countWays(self,n,k):\n",
    "        if n == 1:\n",
    "            return k\n",
    "        if n == 2:\n",
    "            return k**2\n",
    "        same,different = k,k**2 - k\n",
    "        for _ in range(2,n):\n",
    "            newSame = different \n",
    "            newDifferent = (same + different)*(k-1) \n",
    "            same,different = newSame, newDifferent\n",
    "        \n",
    "        return (same+different)%(10**9+7)"
   ]
  },
  {
   "cell_type": "markdown",
   "metadata": {},
   "source": [
    "<h4><a href = \"https://practice.geeksforgeeks.org/problems/cutted-segments/0\"> DP13: Maximize The Cut Segments  </a></h4>"
   ]
  },
  {
   "cell_type": "code",
   "execution_count": 4,
   "metadata": {
    "ExecuteTime": {
     "end_time": "2023-05-09T06:44:33.511526Z",
     "start_time": "2023-05-09T06:44:33.491578Z"
    }
   },
   "outputs": [],
   "source": [
    "class Solution:\n",
    "    \n",
    "    #Function to find the maximum number of cuts.\n",
    "    def maximizeTheCuts(self,n,x,y,z):\n",
    "        stateMap = [0]*(n+1)\n",
    "        stateMap[0] = 1\n",
    "        \n",
    "        for l in [x,y,z]:\n",
    "            for i in range(l,n+1):\n",
    "                if stateMap[i-l]:\n",
    "                    stateMap[i] = max(1 + stateMap[i-l], stateMap[i])\n",
    "        \n",
    "        return stateMap[n] - 1 if stateMap[n] else 0"
   ]
  },
  {
   "cell_type": "markdown",
   "metadata": {},
   "source": [
    "<h4><a href = \"https://practice.geeksforgeeks.org/problems/longest-common-subsequence/0\"> DP14: Longest Common Subsequence  </a></h4>"
   ]
  },
  {
   "cell_type": "code",
   "execution_count": 7,
   "metadata": {
    "ExecuteTime": {
     "end_time": "2023-05-09T07:40:17.059295Z",
     "start_time": "2023-05-09T07:40:17.039351Z"
    }
   },
   "outputs": [],
   "source": [
    "class Solution:\n",
    "    \n",
    "    #Function to find the length of longest common subsequence in two strings.\n",
    "    def lcs(self,x,y,s1,s2):\n",
    "        \n",
    "        stateMap = [[0 for i in range(y+1)] for _ in range(x+1)]\n",
    "        for r in range(1,x+1):\n",
    "            for c in range(1,y+1):\n",
    "                stateMap[r][c] = max(stateMap[r-1][c], stateMap[r][c-1])\n",
    "                if s1[r-1] == s2[c-1]:\n",
    "                    stateMap[r][c] = max(stateMap[r][c], 1 + stateMap[r-1][c-1])\n",
    "        \n",
    "        return stateMap[r][c]"
   ]
  },
  {
   "cell_type": "markdown",
   "metadata": {},
   "source": [
    "<h4><a href = \"https://practice.geeksforgeeks.org/problems/longest-repeating-subsequence/0\"> DP15: Longest Repeated Subsequence  </a></h4>"
   ]
  },
  {
   "cell_type": "code",
   "execution_count": 3,
   "metadata": {
    "ExecuteTime": {
     "end_time": "2023-05-09T06:44:31.132340Z",
     "start_time": "2023-05-09T06:44:31.113390Z"
    }
   },
   "outputs": [],
   "source": [
    "class Solution:\n",
    "    def LongestRepeatingSubsequence(self, str):\n",
    "        \n",
    "        n = len(str)\n",
    "        stateMap = [[0 for _ in range(n+1)] for i in range(n+1)]\n",
    "        for r in range(1,n+1):\n",
    "            for c in range(1,n+1):\n",
    "                if str[r-1] == str[c-1] and r != c:\n",
    "                    stateMap[r][c] = 1 + stateMap[r-1][c-1]\n",
    "                else:\n",
    "                    stateMap[r][c] = max(stateMap[r-1][c],stateMap[r][c-1])\n",
    "        \n",
    "        return stateMap[n][n]"
   ]
  },
  {
   "cell_type": "markdown",
   "metadata": {},
   "source": [
    "<h4><a href = \"https://practice.geeksforgeeks.org/problems/longest-increasing-subsequence/0\"> DP16: Longest Increasing Subsequence  </a></h4>"
   ]
  },
  {
   "cell_type": "code",
   "execution_count": 9,
   "metadata": {
    "ExecuteTime": {
     "end_time": "2023-05-09T07:44:20.883219Z",
     "start_time": "2023-05-09T07:44:20.863280Z"
    }
   },
   "outputs": [],
   "source": [
    "class Solution:\n",
    "    \n",
    "    #Function to find length of longest increasing subsequence.\n",
    "    def longestSubsequence(self,a,n):\n",
    "        stateMap = [1]*(n+1)\n",
    "        for state in range(1,n+1):\n",
    "            maxState = 1\n",
    "            for b in range(state):\n",
    "                if a[b] < a[state-1]:\n",
    "                    maxState = max(maxState, 1 + stateMap[b+1])\n",
    "            stateMap[state] = maxState\n",
    "        return max(stateMap)"
   ]
  },
  {
   "cell_type": "markdown",
   "metadata": {},
   "source": [
    "<h4><a href = \"https://www.geeksforgeeks.org/space-optimized-solution-lcs/\"> DP17: Space Optimized Solution of LCS  </a></h4>"
   ]
  },
  {
   "cell_type": "code",
   "execution_count": 8,
   "metadata": {
    "ExecuteTime": {
     "end_time": "2023-05-09T07:40:21.795628Z",
     "start_time": "2023-05-09T07:40:21.785655Z"
    }
   },
   "outputs": [],
   "source": [
    "class Solution:\n",
    "    \n",
    "    def lcs(self,x,y,s1,s2):\n",
    "        prevStateMap = [0 for _ in range(y+1)]\n",
    "        currStateMap = [0 for _ in range(y+1)]\n",
    "        for r in range(1,x+1):\n",
    "            for c in range(1,y+1):\n",
    "                if s1[r-1] == s2[c-1]:\n",
    "                    currStateMap[c] = prevStateMap[c-1] + 1\n",
    "                else:\n",
    "                    currStateMap[c] = max(currStateMap[c-1], prevStateMap[c])\n",
    "            prevStateMap = currStateMap[:]"
   ]
  },
  {
   "cell_type": "markdown",
   "metadata": {},
   "source": [
    "<h4><a href = \"https://practice.geeksforgeeks.org/problems/lcs-of-three-strings/0\"> DP18: LCS (Longest Common Subsequence) of three strings  </a></h4>"
   ]
  },
  {
   "cell_type": "code",
   "execution_count": 10,
   "metadata": {
    "ExecuteTime": {
     "end_time": "2023-05-09T07:44:41.218544Z",
     "start_time": "2023-05-09T07:44:41.184628Z"
    }
   },
   "outputs": [],
   "source": [
    "class Solution:\n",
    "\n",
    "    def LCSof3(self,A,B,C,n1,n2,n3):\n",
    "        stateMap = [[[0 for _ in range(n3+1)] for u in range(n2+1)] for _ in range(n1+1)]\n",
    "        for a in range(1,n1+1):\n",
    "            for b in range(1,n2+1):\n",
    "                for c in range(1,n3+1):\n",
    "                    if A[a-1] == B[b-1] and B[b-1] == C[c-1]:\n",
    "                        stateMap[a][b][c] = 1 + stateMap[a-1][b-1][c-1]\n",
    "                    else:\n",
    "                        stateMap[a][b][c] = max(stateMap[a-1][b][c],stateMap[a][b-1][c],stateMap[a][b][c-1])\n",
    "        \n",
    "        return stateMap[n1][n2][n3]"
   ]
  },
  {
   "cell_type": "markdown",
   "metadata": {},
   "source": [
    "<h4><a href = \"https://practice.geeksforgeeks.org/problems/maximum-sum-increasing-subsequence4749/1\"> DP19: Maximum Sum Increasing Subsequence  </a></h4>"
   ]
  },
  {
   "cell_type": "code",
   "execution_count": 11,
   "metadata": {
    "ExecuteTime": {
     "end_time": "2023-05-09T07:46:26.813405Z",
     "start_time": "2023-05-09T07:46:26.796450Z"
    }
   },
   "outputs": [],
   "source": [
    "class Solution:\n",
    "    def maxSumIS(self, Arr, n):\n",
    "        \n",
    "        stateMap = [0 for i in range(n+1)]\n",
    "        for state in range(1,n+1):\n",
    "            maxVal = Arr[state-1]\n",
    "            for prevState in range(1,state):\n",
    "                if Arr[prevState-1] < Arr[state-1]:\n",
    "                    maxVal = max(maxVal, Arr[state-1] + stateMap[prevState])\n",
    "            stateMap[state] = maxVal\n",
    "        return max(stateMap)"
   ]
  },
  {
   "cell_type": "markdown",
   "metadata": {},
   "source": [
    "<h4><a href = \"https://www.geeksforgeeks.org/count-subsequences-product-less-k/\"> DP20: Count all subsequences having product less than K</a></h4>"
   ]
  },
  {
   "cell_type": "code",
   "execution_count": null,
   "metadata": {},
   "outputs": [],
   "source": [
    "##TODO"
   ]
  },
  {
   "cell_type": "markdown",
   "metadata": {},
   "source": [
    "<h4><a href = \"https://practice.geeksforgeeks.org/problems/longest-subsequence-such-that-difference-between-adjacents-is-one4724/1\"> DP21: Longest subsequence such that difference between adjacent is one </a></h4>"
   ]
  },
  {
   "cell_type": "code",
   "execution_count": 1,
   "metadata": {
    "ExecuteTime": {
     "end_time": "2023-05-10T08:12:45.657655Z",
     "start_time": "2023-05-10T08:12:45.643693Z"
    }
   },
   "outputs": [],
   "source": [
    "class Solution:\n",
    "    def longestSubsequence(self, N, A):\n",
    "        stateMap = [1 for _ in range(N)]\n",
    "        for ind in range(1,N):\n",
    "            maxVal = 1\n",
    "            for lInd in range(ind):\n",
    "                if A[ind] == A[lInd] - 1 or A[ind] == A[lInd] + 1:\n",
    "                    maxVal = max(maxVal, stateMap[lInd] + 1)\n",
    "            stateMap[ind] = maxVal\n",
    "        \n",
    "        return max(stateMap)"
   ]
  },
  {
   "cell_type": "markdown",
   "metadata": {},
   "source": [
    "<h4><a href = \"https://www.geeksforgeeks.org/maximum-subsequence-sum-such-that-no-three-are-consecutive/\"> DP22: Maximum subsequence sum such that no three are consecutive </a></h4>"
   ]
  },
  {
   "cell_type": "code",
   "execution_count": 2,
   "metadata": {
    "ExecuteTime": {
     "end_time": "2023-05-10T08:13:31.276153Z",
     "start_time": "2023-05-10T08:13:31.261194Z"
    }
   },
   "outputs": [],
   "source": [
    "class Solution:\n",
    "    \n",
    "    def findMaxSum(self,arr, n):\n",
    "        stateMap = [[0 for _ in range(3)] for i in range(n+1)]\n",
    "        for i in range(1,n+1):\n",
    "            stateMap[i][0] = max(stateMap[i-1][0], stateMap[i-1][1], stateMap[i-1][2])\n",
    "            stateMap[i][1] = arr[i-1] + stateMap[i-1][0]\n",
    "            stateMap[i][2] = arr[i-1] + stateMap[i-1][1]\n",
    "        \n",
    "        return max(stateMap[-1])"
   ]
  },
  {
   "cell_type": "markdown",
   "metadata": {},
   "source": [
    "<h4><a href = \"https://practice.geeksforgeeks.org/problems/egg-dropping-puzzle/0\"> DP23: Egg Dropping Problem</a></h4>"
   ]
  },
  {
   "cell_type": "code",
   "execution_count": 3,
   "metadata": {
    "ExecuteTime": {
     "end_time": "2023-05-10T08:13:48.936468Z",
     "start_time": "2023-05-10T08:13:48.904550Z"
    }
   },
   "outputs": [],
   "source": [
    "class Solution:\n",
    "    \n",
    "    #Function to find minimum number of attempts needed in \n",
    "    #order to find the critical floor.\n",
    "    def eggDrop(self,n, k):\n",
    "        \n",
    "        cache = [[-1 for _ in range(n+1)] for i in range(k+1)]\n",
    "        def dfs(eggs, floor):\n",
    "            #Case when there is just one egg left \n",
    "            if eggs == 1:\n",
    "                return floor\n",
    "            elif floor == 0 or floor == 1:\n",
    "                return floor\n",
    "            elif cache[floor][eggs] == -1:\n",
    "                currVal = float('inf')\n",
    "                for i in range(1,floor+1):\n",
    "                    val = 1 + max(dfs(eggs - 1,i - 1), dfs(eggs,floor - i))\n",
    "                    currVal = min(currVal, val)\n",
    "                cache[floor][eggs] = currVal\n",
    "                \n",
    "            return cache[floor][eggs]\n",
    "        \n",
    "        return dfs(n,k)\n",
    "        "
   ]
  },
  {
   "cell_type": "markdown",
   "metadata": {},
   "source": [
    "<h4><a href = \"https://practice.geeksforgeeks.org/problems/max-length-chain/1\"> DP24: Maximum Length Chain of Pairs </a></h4>"
   ]
  },
  {
   "cell_type": "code",
   "execution_count": 4,
   "metadata": {
    "ExecuteTime": {
     "end_time": "2023-05-10T08:14:47.478678Z",
     "start_time": "2023-05-10T08:14:47.455768Z"
    }
   },
   "outputs": [],
   "source": [
    "'''\n",
    "class Pair(object):\n",
    "    def __init__(self, a, b):\n",
    "        self.a = a\n",
    "        self.b = b\n",
    "'''\n",
    "class Solution:\n",
    "    def maxChainLen(self,Parr, n):\n",
    "        # Parr:  list of pair\n",
    "        #code here\n",
    "        sortedPair = sorted(Parr, key = lambda x: x.b)\n",
    "        result = 0\n",
    "        prevEnd = -float('inf')\n",
    "        for part in sortedPair:\n",
    "            if part.a > prevEnd:\n",
    "               result += 1\n",
    "               prevEnd = part.b\n",
    "        \n",
    "        return result"
   ]
  },
  {
   "cell_type": "markdown",
   "metadata": {},
   "source": [
    "<h4><a href = \"https://practice.geeksforgeeks.org/problems/largest-square-formed-in-a-matrix/0\"> DP25: Maximum size square sub-matrix with all 1s</a></h4>"
   ]
  },
  {
   "cell_type": "code",
   "execution_count": 2,
   "metadata": {
    "ExecuteTime": {
     "end_time": "2023-05-15T10:44:12.434331Z",
     "start_time": "2023-05-15T10:44:12.404410Z"
    }
   },
   "outputs": [],
   "source": [
    "class Solution:\n",
    "    def maxSquare(self, n, m, mat):\n",
    "        stateMap = [[0 for i in range(m+1)] for _ in range(n+1)]\n",
    "        maxVal = 0\n",
    "        for r in range(1,n+1):\n",
    "            for c in range(1,m+1):\n",
    "                if mat[r-1][c-1]:\n",
    "                    stateMap[r][c] = 1 + min(stateMap[r-1][c-1], stateMap[r-1][c], stateMap[r][c-1])\n",
    "                    maxVal = max(maxVal, stateMap[r][c])\n",
    "        \n",
    "        return maxVal\n",
    "        "
   ]
  },
  {
   "cell_type": "markdown",
   "metadata": {},
   "source": [
    "<h4><a href = \"https://practice.geeksforgeeks.org/problems/pairs-with-specific-difference/0\"> DP26: Maximum sum of pairs with specific difference</a></h4>"
   ]
  },
  {
   "cell_type": "code",
   "execution_count": 3,
   "metadata": {
    "ExecuteTime": {
     "end_time": "2023-05-15T10:50:53.386116Z",
     "start_time": "2023-05-15T10:50:53.363185Z"
    }
   },
   "outputs": [],
   "source": [
    "class Solution:\n",
    "    def maxSumPairWithDifferenceLessThanK(self, arr, N, K): \n",
    "        # Your code goes here \n",
    "        arr = sorted(arr)\n",
    "        result = 0\n",
    "        first = None\n",
    "        for i in range(N-1,-1,-1):\n",
    "            if not first:\n",
    "                first = arr[i]\n",
    "            else:\n",
    "                if first - arr[i] < K:\n",
    "                    result += first + arr[i]\n",
    "                    first = None\n",
    "                else:\n",
    "                    first = arr[i]\n",
    "        \n",
    "        return result"
   ]
  },
  {
   "cell_type": "markdown",
   "metadata": {},
   "source": [
    "<h4><a href = \"https://practice.geeksforgeeks.org/problems/path-in-matrix3805/1\"> DP27: Min Cost PathProblem</a></h4>"
   ]
  },
  {
   "cell_type": "code",
   "execution_count": 4,
   "metadata": {
    "ExecuteTime": {
     "end_time": "2023-05-15T10:51:54.883454Z",
     "start_time": "2023-05-15T10:51:54.866528Z"
    }
   },
   "outputs": [],
   "source": [
    "class Solution:\n",
    "    def maximumPath(self, N, Matrix):\n",
    "        dpTable = [[0 for _ in range(N)] for _ in range(N+1)]\n",
    "        for row in range(1, N+1):\n",
    "            for col in range(N):\n",
    "                maxValue = dpTable[row-1][col]\n",
    "                if col > 0: maxValue = max(maxValue, dpTable[row-1][col-1])\n",
    "                if col < N-1: maxValue = max(maxValue,dpTable[row-1][col+1])\n",
    "                dpTable[row][col] = maxValue + Matrix[row-1][col]\n",
    "        \n",
    "        return max(dpTable[-1])"
   ]
  },
  {
   "cell_type": "markdown",
   "metadata": {},
   "source": [
    "<h4><a href = \"https://practice.geeksforgeeks.org/problems/maximum-difference-of-zeros-and-ones-in-binary-string4111/1\"> DP28: Maximum difference of zeros and ones in binary string</a></h4>"
   ]
  },
  {
   "cell_type": "code",
   "execution_count": 14,
   "metadata": {
    "ExecuteTime": {
     "end_time": "2023-05-15T15:56:23.764319Z",
     "start_time": "2023-05-15T15:56:23.736352Z"
    }
   },
   "outputs": [],
   "source": [
    "class Solution:\n",
    "    def maxSubstring(self, S):\n",
    "        currSum = 0\n",
    "        maxSum = 0\n",
    "        \n",
    "        for elem in S:\n",
    "           if elem == '1': \n",
    "                currSum -= 1\n",
    "           else: \n",
    "                currSum += 1\n",
    "           \n",
    "           if currSum < 0:\n",
    "               currSum = 0\n",
    "           maxSum = max(maxSum, currSum)\n",
    "        \n",
    "        return maxSum if maxSum else -1"
   ]
  },
  {
   "cell_type": "markdown",
   "metadata": {},
   "source": [
    "<h4><a href = \"https://practice.geeksforgeeks.org/problems/minimum-number-of-jumps/0\"> DP29: Minimum number of jumps to reach end </a></h4>"
   ]
  },
  {
   "cell_type": "code",
   "execution_count": 6,
   "metadata": {
    "ExecuteTime": {
     "end_time": "2023-05-15T10:53:25.450445Z",
     "start_time": "2023-05-15T10:53:25.435485Z"
    }
   },
   "outputs": [],
   "source": [
    "class Solution:\n",
    "    def minJumps(self, arr, n):\n",
    "        left, right = 0,0\n",
    "        maxJump = 0\n",
    "        count = 0\n",
    "        while right < n - 1 and right >= left:\n",
    "            for i in range(left, right+1):\n",
    "                jump = i + arr[i]\n",
    "                maxJump = max(jump, maxJump)\n",
    "            \n",
    "            count +=1\n",
    "            left = right + 1\n",
    "            right = maxJump\n",
    "\n",
    "        return count if right >= n-1 else -1"
   ]
  },
  {
   "cell_type": "markdown",
   "metadata": {},
   "source": [
    "<h4><a href = \"https://practice.geeksforgeeks.org/problems/minimum-cost-to-fill-given-weight-in-a-bag1956/1\"> DP30: Minimum cost to fill given weight in a bag</a></h4>"
   ]
  },
  {
   "cell_type": "code",
   "execution_count": 7,
   "metadata": {
    "ExecuteTime": {
     "end_time": "2023-05-15T10:53:48.145133Z",
     "start_time": "2023-05-15T10:53:48.127212Z"
    }
   },
   "outputs": [],
   "source": [
    "class Solution:\n",
    "    def minimumCost(self, cost, n, W):\n",
    "        \n",
    "        stateMap = [float('inf') for _ in range(W+1)]\n",
    "        stateMap[0] = 0\n",
    "        for i in range(1,n+1):\n",
    "            if i > W: break\n",
    "            for w in range(1,W+1):\n",
    "                if cost[i-1] != -1:\n",
    "                    if stateMap[w-i] != -1:\n",
    "                        stateMap[w] = min(stateMap[w-i] + cost[i-1], stateMap[w])\n",
    "        \n",
    " \n",
    "        return stateMap[-1] if stateMap[-1] != float('inf') else -1 "
   ]
  },
  {
   "cell_type": "markdown",
   "metadata": {},
   "source": [
    "<h4><a href = \"https://www.geeksforgeeks.org/minimum-removals-array-make-max-min-k/\"> DP31: Minimum removals from array to make max –min <= K</a></h4>"
   ]
  },
  {
   "cell_type": "code",
   "execution_count": 9,
   "metadata": {
    "ExecuteTime": {
     "end_time": "2023-05-15T15:48:59.071207Z",
     "start_time": "2023-05-15T15:48:59.036300Z"
    }
   },
   "outputs": [],
   "source": [
    "class Solution:\n",
    "\n",
    "    def removals(self,arr, n, k):\n",
    "        arr = sorted(arr)\n",
    "        left,right = 0,0\n",
    "        maxLength = 0\n",
    "        while right < n:\n",
    "            if arr[right] - arr[left] <= k:\n",
    "                right+=1\n",
    "            else:\n",
    "                while arr[right] - arr[left] > k and right > left: left += 1\n",
    "            \n",
    "            maxLength = max(maxLength, right - left)\n",
    "        return n - maxLength"
   ]
  },
  {
   "cell_type": "markdown",
   "metadata": {},
   "source": [
    "<h4><a href = \"https://practice.geeksforgeeks.org/problems/longest-common-substring/0\"> DP32: Longest Common Substring</a></h4>"
   ]
  },
  {
   "cell_type": "code",
   "execution_count": null,
   "metadata": {},
   "outputs": [],
   "source": [
    "class Solution:\n",
    "    def longestCommonSubstr(self, S1, S2, n, m):\n",
    "        stateMap = [[0 for i in range(m+1)] for _ in range(n+1)]\n",
    "        maxVal = 0\n",
    "        for r in range(1,n+1):\n",
    "            for c in range(1,m+1):\n",
    "                if S1[r-1] == S2[c-1]:\n",
    "                    stateMap[r][c] = stateMap[r-1][c-1] + 1\n",
    "                    maxVal = max(maxVal, stateMap[r][c])\n",
    "        return maxVal"
   ]
  },
  {
   "cell_type": "markdown",
   "metadata": {},
   "source": [
    "<h4><a href = \"https://practice.geeksforgeeks.org/problems/reach-a-given-score/0\"> DP33: Count number of ways to reacha given score in a game</a></h4>"
   ]
  },
  {
   "cell_type": "code",
   "execution_count": 10,
   "metadata": {
    "ExecuteTime": {
     "end_time": "2023-05-15T15:50:29.182283Z",
     "start_time": "2023-05-15T15:50:29.150369Z"
    }
   },
   "outputs": [],
   "source": [
    "def count(n):\n",
    "    stateMap = [0 for _ in range(n+1)]\n",
    "    stateMap[0] = 1\n",
    "    for score in [3,5,10]:\n",
    "        for state in range(1,n+1):\n",
    "            if state - score >= 0  and stateMap[state - score]:\n",
    "                stateMap[state] += stateMap[state - score]\n",
    "    return stateMap[-1]\n",
    "    "
   ]
  },
  {
   "cell_type": "markdown",
   "metadata": {},
   "source": [
    "<h4><a href = \"https://practice.geeksforgeeks.org/problems/bbt-counter/0\"> DP34: Count Balanced Binary Trees of Height h</a></h4>"
   ]
  },
  {
   "cell_type": "code",
   "execution_count": 11,
   "metadata": {
    "ExecuteTime": {
     "end_time": "2023-05-15T15:51:44.279227Z",
     "start_time": "2023-05-15T15:51:44.258282Z"
    }
   },
   "outputs": [],
   "source": [
    "class Solution:\n",
    "    def countBT (self, h):\n",
    "        stateMap = [0 for _ in range(h+1)]\n",
    "        stateMap[0], stateMap[1] = 1,1\n",
    "        for i in range(2,h+1):\n",
    "            stateMap[i] = stateMap[i-1]*(stateMap[i-1] + 2*stateMap[i-2])\n",
    "            stateMap[i] %= 10**9 + 7\n",
    "        \n",
    "        return stateMap[h]"
   ]
  },
  {
   "cell_type": "markdown",
   "metadata": {},
   "source": [
    "<h4><a href = \"https://practice.geeksforgeeks.org/problems/kadanes-algorithm-1587115620/1\"> DP35: LargestSum Contiguous Subarray</a></h4>"
   ]
  },
  {
   "cell_type": "code",
   "execution_count": 12,
   "metadata": {
    "ExecuteTime": {
     "end_time": "2023-05-15T15:54:50.291122Z",
     "start_time": "2023-05-15T15:54:50.266158Z"
    }
   },
   "outputs": [],
   "source": [
    "class Solution:\n",
    "    ##Complete this function\n",
    "    #Function to find the sum of contiguous subarray with maximum sum.\n",
    "    def maxSubArraySum(self,arr,N):\n",
    "        maxSum = -float('inf')\n",
    "        currSum = 0\n",
    "        for i in range(N):\n",
    "            currSum += arr[i]\n",
    "            maxSum = max(maxSum, currSum)\n",
    "            if currSum < 0:\n",
    "                currSum = 0\n",
    "        \n",
    "        return maxSum"
   ]
  },
  {
   "cell_type": "markdown",
   "metadata": {},
   "source": [
    "<h4><a href = \"https://www.geeksforgeeks.org/smallest-sum-contiguous-subarray/\"> DP36: SmallestSum Contiguous Subarray</a></h4>"
   ]
  },
  {
   "cell_type": "code",
   "execution_count": 15,
   "metadata": {
    "ExecuteTime": {
     "end_time": "2023-05-15T15:56:50.799821Z",
     "start_time": "2023-05-15T15:56:50.791815Z"
    }
   },
   "outputs": [],
   "source": [
    "class Solution:\n",
    "    def smallestSumSubarray(self, A, N):\n",
    "        currSum = 0 \n",
    "        minSum = A[0]\n",
    "        for i in range(N):\n",
    "            currSum += A[i]\n",
    "            minSum = min(minSum, currSum)\n",
    "            if currSum > 0:\n",
    "                currSum = 0\n",
    "        return minSum"
   ]
  },
  {
   "cell_type": "markdown",
   "metadata": {},
   "source": [
    "<h4><a href = \"https://practice.geeksforgeeks.org/problems/knapsack-with-duplicate-items4201/1\"> DP37: Unbounded Knapsack (Repetition of items allowed)</a></h4>"
   ]
  },
  {
   "cell_type": "code",
   "execution_count": null,
   "metadata": {},
   "outputs": [],
   "source": [
    "class Solution:\n",
    "    def knapSack(self, N, W, val, wt):\n",
    "        # code here\n",
    "        stateMap = [0]*(W+1)\n",
    "        \n",
    "        for state in range(W+1):\n",
    "            for i in range(N):\n",
    "                currWeight = wt[i]\n",
    "                currValue = val[i]\n",
    "                if state - currWeight >=0:\n",
    "                    stateMap[state] = max(stateMap[state], stateMap[state - currWeight]+ currValue)            \n",
    "        \n",
    "        return stateMap[W]"
   ]
  },
  {
   "cell_type": "markdown",
   "metadata": {},
   "source": [
    "<h4><a href = \"https://practice.geeksforgeeks.org/problems/word-break/0\"> DP38: Word Break Problem</a></h4>"
   ]
  },
  {
   "cell_type": "code",
   "execution_count": null,
   "metadata": {},
   "outputs": [],
   "source": [
    "def wordBreak(line, dictionary):\n",
    "    # Complete this function\n",
    "    stateMap = [0 for _ in range(len(line) + 1)]\n",
    "    stateMap[0] = 1\n",
    "    for rightSide in range(1,len(stateMap)):\n",
    "        for leftSide in range(rightSide):\n",
    "            if line[leftSide:rightSide] in dictionary and stateMap[leftSide]:\n",
    "                stateMap[rightSide] = 1\n",
    "                break\n",
    "    \n",
    "    return stateMap[-1]"
   ]
  },
  {
   "cell_type": "markdown",
   "metadata": {},
   "source": [
    "<h4><a href = \"https://www.geeksforgeeks.org/largest-independent-set-problem-dp-26/\"> DP39: Largest Independent Set Problem</a></h4>"
   ]
  },
  {
   "cell_type": "code",
   "execution_count": null,
   "metadata": {},
   "outputs": [],
   "source": [
    "##TODO"
   ]
  },
  {
   "cell_type": "markdown",
   "metadata": {},
   "source": [
    "<h4><a href = \"https://practice.geeksforgeeks.org/problems/subset-sum-problem2014/1\"> DP40: Partition Problem </a></h4>"
   ]
  },
  {
   "cell_type": "code",
   "execution_count": 2,
   "metadata": {
    "ExecuteTime": {
     "end_time": "2023-05-17T03:57:48.307809Z",
     "start_time": "2023-05-17T03:57:48.298832Z"
    }
   },
   "outputs": [],
   "source": [
    "class Solution:\n",
    "    def equalPartition(self, N, arr):\n",
    "        sm = sum(arr)\n",
    "        if sm%2:\n",
    "            return 0\n",
    "        stateMap = {0:True}\n",
    "        llimit = max(arr)\n",
    "        for elem in arr:\n",
    "            currMap = {}\n",
    "            for k in stateMap:\n",
    "                if k+elem <= sm//2:\n",
    "                    currMap[k+elem] = True\n",
    "                if k-elem >= -llimit:\n",
    "                    currMap[k-elem] = True\n",
    "            stateMap = currMap\n",
    "        \n",
    "        return 1 if stateMap.get(0) else 0"
   ]
  },
  {
   "cell_type": "markdown",
   "metadata": {
    "ExecuteTime": {
     "end_time": "2023-05-15T15:46:24.521156Z",
     "start_time": "2023-05-15T15:46:24.502203Z"
    }
   },
   "source": [
    "<h4><a href = \"https://www.geeksforgeeks.org/longest-palindromic-subsequence-dp-12/\"> DP41: Longest Palindromic Subsequence</a></h4>"
   ]
  },
  {
   "cell_type": "code",
   "execution_count": 3,
   "metadata": {
    "ExecuteTime": {
     "end_time": "2023-05-17T04:00:51.726699Z",
     "start_time": "2023-05-17T04:00:51.713705Z"
    }
   },
   "outputs": [],
   "source": [
    "class Solution:\n",
    "\n",
    "    def longestPalinSubseq(self, S):\n",
    "        \n",
    "        reversedS = S[::-1]\n",
    "        N = len(S)\n",
    "        stateMap = [[0 for _ in range(N+1)] for i in range(N+1)]\n",
    "        for r in range(1,N+1):\n",
    "            for c in range(1,N+1):\n",
    "                if S[r-1] == reversedS[c-1]:\n",
    "                    stateMap[r][c] = 1 + stateMap[r-1][c-1]\n",
    "                else:\n",
    "                    stateMap[r][c] = max(stateMap[r-1][c], stateMap[r][c-1])\n",
    "        return stateMap[N][N]                                                                                                                                                                                                                                                                                                                                                                                                                                                                                                                                                                                                                                                                                                                                                                                                                                                                                                                                                                                                                                                                                                                                                             #                                                                                                             "
   ]
  },
  {
   "cell_type": "markdown",
   "metadata": {},
   "source": [
    "<h4><a href = \"https://practice.geeksforgeeks.org/problems/count-palindromic-subsequences/1\"> DP42: Count All Palindromic Subsequence in a given String</a></h4>"
   ]
  },
  {
   "cell_type": "code",
   "execution_count": null,
   "metadata": {},
   "outputs": [],
   "source": [
    "##TODO"
   ]
  },
  {
   "cell_type": "markdown",
   "metadata": {},
   "source": [
    "<h4><a href = \"https://leetcode.com/problems/longest-palindromic-substring/\"> DP43: Longest Palindromic Substring</a></h4>"
   ]
  },
  {
   "cell_type": "code",
   "execution_count": null,
   "metadata": {},
   "outputs": [],
   "source": [
    "##TODO"
   ]
  },
  {
   "cell_type": "markdown",
   "metadata": {
    "ExecuteTime": {
     "end_time": "2023-05-08T11:31:26.300008Z",
     "start_time": "2023-05-08T11:31:26.288071Z"
    }
   },
   "source": [
    "<h4><a href = \"https://practice.geeksforgeeks.org/problems/longest-alternating-subsequence/0\"> DP44: Longest alternating subsequence  </a></h4>"
   ]
  },
  {
   "cell_type": "code",
   "execution_count": 6,
   "metadata": {
    "ExecuteTime": {
     "end_time": "2023-05-08T11:33:11.392997Z",
     "start_time": "2023-05-08T11:33:11.374044Z"
    }
   },
   "outputs": [],
   "source": [
    "class Solution:\n",
    "\n",
    "    def AlternatingaMaxLength(self, nums):\n",
    "        n = len(nums)\n",
    "        stateMap = [[1 for _ in range(2)] for i in range(n)]\n",
    "\n",
    "        for curr in range(1,n):\n",
    "            if nums[curr] > nums[curr - 1]:\n",
    "                stateMap[curr][0] = max(stateMap[curr-1][1] + 1, stateMap[curr-1][0])\n",
    "                stateMap[curr][1] = stateMap[curr-1][1]\n",
    "            elif nums[curr] < nums[curr - 1]:\n",
    "                stateMap[curr][0] = stateMap[curr-1][0] \n",
    "                stateMap[curr][1] = max(stateMap[curr-1][0] + 1, stateMap[curr-1][1])\n",
    "            else:\n",
    "                stateMap[curr][0] = stateMap[curr-1][0] \n",
    "                stateMap[curr][1] = stateMap[curr-1][1] \n",
    "\n",
    "        return max(stateMap[-1])"
   ]
  },
  {
   "cell_type": "markdown",
   "metadata": {
    "ExecuteTime": {
     "end_time": "2023-05-17T03:43:36.409549Z",
     "start_time": "2023-05-17T03:43:36.390620Z"
    }
   },
   "source": [
    "<h4><a href = \"https://www.geeksforgeeks.org/weighted-job-scheduling/\"> DP45: Weighted Job Scheduling </a></h4>"
   ]
  },
  {
   "cell_type": "code",
   "execution_count": 5,
   "metadata": {
    "ExecuteTime": {
     "end_time": "2023-05-17T04:02:02.707928Z",
     "start_time": "2023-05-17T04:02:02.699946Z"
    }
   },
   "outputs": [],
   "source": [
    "class Solution:\n",
    "    \n",
    "    #Function to find the maximum profit and the number of jobs done.\n",
    "    def JobScheduling(self,Jobs,n):\n",
    "        \n",
    "        stateMap = [0 for _ in range(n)]\n",
    "        sortedJobs = sorted(Jobs, key = lambda x: x.profit, reverse = True)\n",
    "        profitSum = 0 \n",
    "        jobsDone = 0\n",
    "        for job in sortedJobs:\n",
    "            for currState in range(job.deadline - 1, -1,-1):\n",
    "                if not stateMap[currState]:\n",
    "                    stateMap[currState] = 1\n",
    "                    profitSum += job.profit \n",
    "                    jobsDone += 1\n",
    "                    break\n",
    "        \n",
    "        return jobsDone, profitSum"
   ]
  },
  {
   "cell_type": "markdown",
   "metadata": {},
   "source": [
    "<h4><a href = \"https://www.geeksforgeeks.org/coin-game-winner-every-player-three-choices/\"> DP46: Coin game winner where every player has three choices </a></h4>"
   ]
  },
  {
   "cell_type": "code",
   "execution_count": 1,
   "metadata": {
    "ExecuteTime": {
     "end_time": "2023-05-22T06:11:36.722673Z",
     "start_time": "2023-05-22T06:11:36.711703Z"
    }
   },
   "outputs": [],
   "source": []
  },
  {
   "cell_type": "markdown",
   "metadata": {},
   "source": [
    "<h4><a href = \"https://www.geeksforgeeks.org/count-derangements-permutation-such-that-no-element-appears-in-its-original-position/\"> DP47: Count Derangements (Permutation such that no element appears in its original position) </a></h4>"
   ]
  },
  {
   "cell_type": "code",
   "execution_count": null,
   "metadata": {},
   "outputs": [],
   "source": []
  },
  {
   "cell_type": "markdown",
   "metadata": {},
   "source": [
    "<h4><a href = \"https://www.geeksforgeeks.org/maximum-profit-by-buying-and-selling-a-share-at-most-twice/\"> DP48: Maximum profit by buying and selling a share at most twice </a></h4>"
   ]
  },
  {
   "cell_type": "code",
   "execution_count": null,
   "metadata": {},
   "outputs": [],
   "source": []
  },
  {
   "cell_type": "markdown",
   "metadata": {},
   "source": [
    "<h4><a href = \"https://practice.geeksforgeeks.org/problems/optimal-strategy-for-a-game/0\"> DP49: Optimal Strategy for a Game </a></h4>"
   ]
  },
  {
   "cell_type": "code",
   "execution_count": null,
   "metadata": {},
   "outputs": [],
   "source": []
  },
  {
   "cell_type": "markdown",
   "metadata": {},
   "source": [
    "<h4><a href = \"https://www.geeksforgeeks.org/optimal-binary-search-tree-dp-24/\"> DP50: Optimal Binary Search Tree </a></h4>"
   ]
  },
  {
   "cell_type": "code",
   "execution_count": null,
   "metadata": {},
   "outputs": [],
   "source": [
    "#TODO"
   ]
  },
  {
   "cell_type": "markdown",
   "metadata": {},
   "source": [
    "<h4><a href = \"https://practice.geeksforgeeks.org/problems/palindromic-patitioning4845/1\"> DP51: Palindrome PartitioningProblem </a></h4>"
   ]
  },
  {
   "cell_type": "code",
   "execution_count": null,
   "metadata": {},
   "outputs": [],
   "source": [
    "#TODO"
   ]
  },
  {
   "cell_type": "markdown",
   "metadata": {},
   "source": [
    "<h4><a href = \"https://practice.geeksforgeeks.org/problems/word-wrap/0\"> DP52: Word Wrap Problem </a></h4>"
   ]
  },
  {
   "cell_type": "code",
   "execution_count": null,
   "metadata": {},
   "outputs": [],
   "source": [
    "#TODO"
   ]
  },
  {
   "cell_type": "markdown",
   "metadata": {},
   "source": [
    "<h4><a href = \"https://practice.geeksforgeeks.org/problems/mobile-numeric-keypad5456/1\"> DP53: Mobile Numeric Keypad Problem </a></h4>"
   ]
  },
  {
   "cell_type": "code",
   "execution_count": null,
   "metadata": {},
   "outputs": [],
   "source": []
  },
  {
   "cell_type": "markdown",
   "metadata": {},
   "source": [
    "<h4><a href = \"https://practice.geeksforgeeks.org/problems/boolean-parenthesization/0\"> DP54: Boolean Parenthesization Problem </a></h4>"
   ]
  },
  {
   "cell_type": "code",
   "execution_count": null,
   "metadata": {},
   "outputs": [],
   "source": [
    "#TODO"
   ]
  },
  {
   "cell_type": "markdown",
   "metadata": {},
   "source": [
    "<h4><a href = \"https://www.geeksforgeeks.org/largest-rectangular-sub-matrix-whose-sum-0/\"> DP55: Largest rectangular sub-matrix whose sum is 0 </a></h4>"
   ]
  },
  {
   "cell_type": "code",
   "execution_count": null,
   "metadata": {},
   "outputs": [],
   "source": []
  },
  {
   "cell_type": "markdown",
   "metadata": {},
   "source": [
    "<h4><a href = \"https://www.geeksforgeeks.org/largest-area-rectangular-sub-matrix-equal-number-1s-0s/\"> DP56: Largest area rectangular sub-matrix with equal number of 1’s and 0’s </a></h4>"
   ]
  },
  {
   "cell_type": "code",
   "execution_count": null,
   "metadata": {},
   "outputs": [],
   "source": []
  },
  {
   "cell_type": "markdown",
   "metadata": {},
   "source": [
    "<h4><a href = \"https://practice.geeksforgeeks.org/problems/maximum-sum-rectangle/0\"> DP57:Maximum sum rectangle in a 2D matrix </a></h4>"
   ]
  },
  {
   "cell_type": "code",
   "execution_count": null,
   "metadata": {},
   "outputs": [],
   "source": []
  },
  {
   "cell_type": "markdown",
   "metadata": {},
   "source": [
    "<h4><a href = \"https://practice.geeksforgeeks.org/problems/maximum-profit4657/1\"> DP58: Maximum profit by buying and selling a share at most k times  </a></h4>"
   ]
  },
  {
   "cell_type": "code",
   "execution_count": 1,
   "metadata": {
    "ExecuteTime": {
     "end_time": "2023-05-15T10:43:06.703626Z",
     "start_time": "2023-05-15T10:43:06.676701Z"
    }
   },
   "outputs": [],
   "source": [
    "class Solution:\n",
    "    def maxProfit(self, K, N, A):\n",
    "        stateMap = [[-float('inf') if i != 0 else 0 for i in range(1+2*K) ] for _ in range(N+1)]\n",
    "        for r in range(1,N+1):\n",
    "            for c in range(K):\n",
    "                if stateMap[r-1][2*c] != -float('inf'):\n",
    "                    stateMap[r][2*c + 1] = max(stateMap[r-1][2*c+1], stateMap[r-1][2*c] - A[r-1])\n",
    "                    stateMap[r][2*c+2] = max(stateMap[r-1][2*c+2], stateMap[r-1][2*c+1] + A[r-1])\n",
    "        return max(stateMap[-1])\n"
   ]
  },
  {
   "cell_type": "markdown",
   "metadata": {},
   "source": [
    "<h4><a href = \"https://practice.geeksforgeeks.org/problems/interleaved-strings/1\"> DP59: Find if a string is interleaved of two other strings </a></h4>"
   ]
  },
  {
   "cell_type": "code",
   "execution_count": null,
   "metadata": {},
   "outputs": [],
   "source": []
  },
  {
   "cell_type": "markdown",
   "metadata": {},
   "source": [
    "<h4><a href = \"https://leetcode.com/problems/maximum-length-of-pair-chain/\"> DP60: Maximum Length of Pair Chain </a></h4>"
   ]
  },
  {
   "cell_type": "code",
   "execution_count": null,
   "metadata": {},
   "outputs": [],
   "source": []
  }
 ],
 "metadata": {
  "hide_input": false,
  "kernelspec": {
   "display_name": "Python 3",
   "language": "python",
   "name": "python3"
  },
  "language_info": {
   "codemirror_mode": {
    "name": "ipython",
    "version": 3
   },
   "file_extension": ".py",
   "mimetype": "text/x-python",
   "name": "python",
   "nbconvert_exporter": "python",
   "pygments_lexer": "ipython3",
   "version": "3.6.8"
  },
  "varInspector": {
   "cols": {
    "lenName": 16,
    "lenType": 16,
    "lenVar": 40
   },
   "kernels_config": {
    "python": {
     "delete_cmd_postfix": "",
     "delete_cmd_prefix": "del ",
     "library": "var_list.py",
     "varRefreshCmd": "print(var_dic_list())"
    },
    "r": {
     "delete_cmd_postfix": ") ",
     "delete_cmd_prefix": "rm(",
     "library": "var_list.r",
     "varRefreshCmd": "cat(var_dic_list()) "
    }
   },
   "types_to_exclude": [
    "module",
    "function",
    "builtin_function_or_method",
    "instance",
    "_Feature"
   ],
   "window_display": false
  }
 },
 "nbformat": 4,
 "nbformat_minor": 2
}
