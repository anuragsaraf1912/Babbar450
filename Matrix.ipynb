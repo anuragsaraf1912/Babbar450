{
 "cells": [
  {
   "cell_type": "markdown",
   "id": "38b8be3e-9aea-4d6b-9ff4-35e280c86b1a",
   "metadata": {},
   "source": [
    "<h4><a href = \"https://www.geeksforgeeks.org/problems/spirally-traversing-a-matrix-1587115621/1\" > Matrix1: Spiral traversal on a Matrix</a></h4>"
   ]
  },
  {
   "cell_type": "code",
   "execution_count": 1,
   "id": "399d2fd9-3487-4697-8e03-c9616558617f",
   "metadata": {},
   "outputs": [],
   "source": [
    "class Solution:\n",
    "    \n",
    "    #Function to return a list of integers denoting spiral traversal of matrix.\n",
    "    def spirallyTraverse(self,matrix, r, c): \n",
    "             \n",
    "        returnList = []\n",
    "        leftSide, rightSide = 0, c - 1\n",
    "        upSide, downSide = 0, r - 1\n",
    "        \n",
    "        while upSide <= downSide and leftSide <= rightSide:\n",
    "            #TopSide\n",
    "            for col1 in range(leftSide, rightSide+1):\n",
    "                returnList.append(matrix[upSide][col1])\n",
    "            upSide += 1\n",
    "            \n",
    "            for row1 in range(upSide, downSide + 1):\n",
    "                returnList.append(matrix[row1][rightSide])\n",
    "            rightSide -=1\n",
    "            \n",
    "            #IF CONDITION TO CHECK IF THE ROWS HAVE EXHAUSTED \n",
    "            if upSide <= downSide: \n",
    "                for col2 in range(rightSide, leftSide - 1, -1):\n",
    "                    returnList.append(matrix[downSide][col2])\n",
    "                downSide -= 1\n",
    "                    \n",
    "            if leftSide <= rightSide:\n",
    "                for row2 in range(downSide, upSide -1, -1):\n",
    "                    returnList.append(matrix[row2][leftSide])\n",
    "                leftSide +=1\n",
    "            \n",
    "        return returnList"
   ]
  },
  {
   "cell_type": "markdown",
   "id": "01d15c11-9dcf-4120-a552-c2053941396c",
   "metadata": {},
   "source": [
    "<h4><a href = \"https://leetcode.com/problems/search-a-2d-matrix/\" > Matrix2: Search an element in a matriix</a></h4>\n"
   ]
  },
  {
   "cell_type": "code",
   "execution_count": 4,
   "id": "81937f6d-3ce7-4e9c-94a6-02ffb43f332f",
   "metadata": {},
   "outputs": [],
   "source": [
    "class Solution:\n",
    "    def searchMatrix(self, matrix, target):\n",
    "        \n",
    "        #Similar to binary Search algo \n",
    "        rows, cols = len(matrix), len(matrix[0])\n",
    "        start, end = 0, rows*cols - 1\n",
    "        \n",
    "        while start <= end:\n",
    "            mid = start + (end - start)//2\n",
    "            rowIndex, colIndex = mid//cols, mid%cols\n",
    "            currValue = matrix[rowIndex][colIndex]\n",
    "            if currValue == target:\n",
    "                return True\n",
    "            if currValue < target: start = mid + 1\n",
    "            else: end = mid - 1\n",
    "        \n",
    "        return False"
   ]
  },
  {
   "cell_type": "markdown",
   "id": "614b0f3c-fb00-4c62-b6b2-d0bf50f1d385",
   "metadata": {},
   "source": [
    "<h4><a href = \"https://www.geeksforgeeks.org/problems/median-in-a-row-wise-sorted-matrix1527/1\" > Matrix3: Find median in a row wise sorted matrix</a></h4>\n"
   ]
  },
  {
   "cell_type": "code",
   "execution_count": null,
   "id": "f984cf48-2872-4736-8fdf-eb82fb0100c8",
   "metadata": {},
   "outputs": [],
   "source": [
    "class Solution:\n",
    "    def median(self, matrix, R, C):\n",
    "    \t#The idea is to find the smallest value which gives number of elements greater than or equal to that value  > RC//2 \n",
    "    \tfrom bisect import bisect_right\n",
    "    \t\n",
    "    \tminValue = 0\n",
    "    \tmaxValue = max([row[-1] for row in matrix])\n",
    "    \tsmallValues = R*C//2 + 1\n",
    "    \t\n",
    "    \twhile minValue < maxValue:\n",
    "    \t    midValue = minValue + (maxValue - minValue)//2\n",
    "    \t    count = 0\n",
    "    \t    for row in matrix:\n",
    "    \t        count += bisect_right(row, midValue)\n",
    "    \t    \n",
    "    \t    if count >= smallValues:\n",
    "    \t        maxValue = midValue\n",
    "    \t    else: minValue = midValue + 1\n",
    "    \t\n",
    "    \treturn minValue   \n",
    "    \t        "
   ]
  },
  {
   "cell_type": "markdown",
   "id": "b3ec762f-0c9a-42a8-8aed-9b6640fc20d4",
   "metadata": {},
   "source": [
    "<h4><a href = \"https://practice.geeksforgeeks.org/problems/row-with-max-1s0023/1\" > Matrix4: Find row with maximum no. of 1's</a></h4>"
   ]
  },
  {
   "cell_type": "code",
   "execution_count": null,
   "id": "20db6409-0144-4d75-8f71-03d14b5d04fe",
   "metadata": {},
   "outputs": [],
   "source": [
    "class Solution:\n",
    "\n",
    "\tdef rowWithMax1s(self,arr, n, m):\n",
    "\t\t# The values are sorted, so we are expected to check only the first occurance of True\n",
    "        # Reach to the first occurence of True in the first row of Array\n",
    "        currIndex, rowIndex = 0, 0\n",
    "        while currIndex < m and not arr[rowIndex][currIndex]:\n",
    "            currIndex += 1\n",
    "        #Incase the first value is True, it makes no sense to move ahead\n",
    "        if not currIndex: return 0\n",
    "        \n",
    "        highIndex = 0\n",
    "        #Now moving to the rows below\n",
    "        for rowIndex in range(1,n):\n",
    "            if arr[rowIndex][currIndex-1]:\n",
    "                while currIndex > 0 and arr[rowIndex][currIndex - 1]:\n",
    "                    currIndex -= 1\n",
    "                highIndex = rowIndex\n",
    "            if currIndex == 0: return highIndex\n",
    "        \n",
    "        #Incase there is no True in the matrix, the currIndex will always be m\n",
    "        return highIndex if currIndex != m else -1"
   ]
  },
  {
   "cell_type": "markdown",
   "id": "eef5949a-bcdf-46d8-b2d7-633c9d49f4d0",
   "metadata": {},
   "source": [
    "<h4><a href = \"https://practice.geeksforgeeks.org/problems/sorted-matrix/0\" > Matrix5: Print elements in sorted order using row-column wise sorted matrix</a></h4>"
   ]
  },
  {
   "cell_type": "code",
   "execution_count": null,
   "id": "340026c1-b7b5-4a91-abe6-970bdce594de",
   "metadata": {},
   "outputs": [],
   "source": [
    "class Solution:\n",
    "    def sortedMatrix(self,N,Mat):\n",
    "        matrix = sorted([elem for row in Mat for elem in row])\n",
    "        return [matrix[i*N:i*N+N] for i in range(N)]"
   ]
  },
  {
   "cell_type": "markdown",
   "id": "29978049-43be-4950-a51b-df38686e7402",
   "metadata": {},
   "source": [
    "<h4><a href = \"https://practice.geeksforgeeks.org/problems/max-rectangle/1\" > Matrix6: Maximum size rectangle</a></h4>"
   ]
  },
  {
   "cell_type": "code",
   "execution_count": null,
   "id": "77299ba2-b9ff-4cb3-93c1-a225b9ba520b",
   "metadata": {},
   "outputs": [],
   "source": []
  },
  {
   "cell_type": "markdown",
   "id": "9bfb47c7-a8d1-4ea8-bc06-5a3c26d4d4bd",
   "metadata": {},
   "source": [
    "<h4><a href = \"https://www.geeksforgeeks.org/problems/maximum-difference-between-pair-in-a-matrix/1?utm_source=geeksforgeeks&utm_medium=ml_article_practice_tab&utm_campaign=article_practice_tab\" > Matrix7: Find a specific pair in matrix</a></h4>"
   ]
  },
  {
   "cell_type": "code",
   "execution_count": 1,
   "id": "65a3e289-3604-4c94-a863-c035c1a60598",
   "metadata": {},
   "outputs": [],
   "source": [
    "from typing import List\n",
    "\n",
    "class Solution:\n",
    "    def findMaxValue(self, n : int, mat : List[List[int]]) -> int:\n",
    "        \n",
    "        #Generating the minValue matrix, if a,b is selected as min value, all pairs x,y with x<=a \n",
    "        #and y<=b can be selected  \n",
    "        minMatrix = [row[:-1] for row in mat[0:n-1].copy()]\n",
    "        for r in range(n-1):\n",
    "            for c in range(n-1):\n",
    "                curr = minMatrix[r][c]\n",
    "                if r: curr = min(curr, minMatrix[r-1][c])\n",
    "                if c: curr = min(curr, minMatrix[r][c-1])\n",
    "                minMatrix[r][c] = curr\n",
    "        maxValue = -float('inf')\n",
    "        #The first row and first column can never be selected for the c,d pair as strictly greater than a,b\n",
    "        for r in range(1,n):\n",
    "            for c in range(1,n):\n",
    "                maxValue = max(maxValue, mat[r][c] - minMatrix[r-1][c-1])\n",
    "        return maxValue\n"
   ]
  },
  {
   "cell_type": "markdown",
   "id": "5a77a1b2-3e8e-44d2-9219-cf1dd4c086b2",
   "metadata": {},
   "source": [
    "<h4><a href = \"https://www.geeksforgeeks.org/problems/rotate-by-90-degree-1587115621/1\" > Matrix8: Rotate matrix by 90 degrees</a></h4>"
   ]
  },
  {
   "cell_type": "code",
   "execution_count": null,
   "id": "098c9f30-2b8c-46cb-9d06-394895afa249",
   "metadata": {},
   "outputs": [],
   "source": [
    "class Solution:\n",
    "    \n",
    "    #Function to rotate matrix anticlockwise by 90 degrees.\n",
    "    def rotateby90(self,a, n): \n",
    "        \n",
    "        start, end = 0, n-1\n",
    "        width = end - start\n",
    "        while width > 0:\n",
    "            for i in range(width):\n",
    "                temp = a[start][start + i]\n",
    "                a[start][start + i] = a[start+ i][end]\n",
    "                a[start+ i][end] = a[end][end - i]\n",
    "                a[end][end - i] = a[end-i][start]\n",
    "                a[end-i][start] = temp\n",
    "            start += 1\n",
    "            end -= 1\n",
    "            width = end - start\n"
   ]
  },
  {
   "cell_type": "markdown",
   "id": "4c186c6f-78ef-44a0-baa8-5db0d284178a",
   "metadata": {},
   "source": [
    "<h4><a href = \"https://practice.geeksforgeeks.org/problems/kth-element-in-matrix/1\" > Matrix9: Kth smallest element in a row-column wise sorted matrix</a></h4>"
   ]
  },
  {
   "cell_type": "code",
   "execution_count": 1,
   "id": "4d7b9003-cc61-44ef-b373-60e62dcc798b",
   "metadata": {},
   "outputs": [],
   "source": [
    "def kthSmallest(mat, n, k): \n",
    "    import heapq\n",
    "    heap = [(mat[i][0], i, 0) for i in range(n)]\n",
    "    heapq.heapify(heap)\n",
    "    for _ in range(k-1):\n",
    "        elem, row, col = heapq.heappop(heap)\n",
    "        if col < n-1:\n",
    "            heapq.heappush(heap, (mat[row][col+1],row, col+1))\n",
    "    \n",
    "    return heap[0][0]"
   ]
  },
  {
   "cell_type": "markdown",
   "id": "805dd832-3b59-4077-a903-93a452d729b2",
   "metadata": {},
   "source": [
    "<h4><a href = \"https://www.geeksforgeeks.org/problems/find-distinct-elements2054/1?utm_source=geeksforgeeks&utm_medium=ml_article_practice_tab&utm_campaign=article_practice_tab\" > Matrix10: Common elements in all rows of a given matrix</a></h4>"
   ]
  },
  {
   "cell_type": "code",
   "execution_count": 1,
   "id": "2004ec40-adb4-4419-a865-4e98adf3cb68",
   "metadata": {},
   "outputs": [],
   "source": [
    "class Solution:\n",
    "    def distinct(self, M, N):\n",
    "        import functools\n",
    "        matrix = [set(row) for row in M]\n",
    "        return len(list(functools.reduce(lambda x,y: x & y, matrix)))"
   ]
  },
  {
   "cell_type": "markdown",
   "id": "dc4b2614-a0fa-4b13-bfdf-ab5cd8782f66",
   "metadata": {},
   "source": [
    "### END"
   ]
  }
 ],
 "metadata": {
  "kernelspec": {
   "display_name": "Python 3 (ipykernel)",
   "language": "python",
   "name": "python3"
  },
  "language_info": {
   "codemirror_mode": {
    "name": "ipython",
    "version": 3
   },
   "file_extension": ".py",
   "mimetype": "text/x-python",
   "name": "python",
   "nbconvert_exporter": "python",
   "pygments_lexer": "ipython3",
   "version": "3.10.6"
  }
 },
 "nbformat": 4,
 "nbformat_minor": 5
}
