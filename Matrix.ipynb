{
 "cells": [
  {
   "cell_type": "markdown",
   "id": "38b8be3e-9aea-4d6b-9ff4-35e280c86b1a",
   "metadata": {},
   "source": [
    "<h4><a href = \"https://www.geeksforgeeks.org/problems/spirally-traversing-a-matrix-1587115621/1\" > Matrix1: Spiral traversal on a Matrix</a></h4>"
   ]
  },
  {
   "cell_type": "code",
   "execution_count": 1,
   "id": "399d2fd9-3487-4697-8e03-c9616558617f",
   "metadata": {},
   "outputs": [],
   "source": [
    "class Solution:\n",
    "    \n",
    "    #Function to return a list of integers denoting spiral traversal of matrix.\n",
    "    def spirallyTraverse(self,matrix, r, c): \n",
    "       \n",
    "        \n",
    "        returnList = []\n",
    "        leftSide, rightSide = 0, c - 1\n",
    "        upSide, downSide = 0, r - 1\n",
    "        \n",
    "        while upSide <= downSide and leftSide <= rightSide:\n",
    "            #TopSide\n",
    "            for col1 in range(leftSide, rightSide+1):\n",
    "                returnList.append(matrix[upSide][col1])\n",
    "            upSide += 1\n",
    "            \n",
    "            for row1 in range(upSide, downSide + 1):\n",
    "                returnList.append(matrix[row1][rightSide])\n",
    "            rightSide -=1\n",
    "            \n",
    "            #IF CONDITION TO CHECK IF THE ROWS HAVE EXHAUSTED \n",
    "            if upSide <= downSide: \n",
    "                for col2 in range(rightSide, leftSide - 1, -1):\n",
    "                    returnList.append(matrix[downSide][col2])\n",
    "                downSide -= 1\n",
    "                    \n",
    "            if leftSide <= rightSide:\n",
    "                for row2 in range(downSide, upSide -1, -1):\n",
    "                    returnList.append(matrix[row2][leftSide])\n",
    "                leftSide +=1\n",
    "            \n",
    "        return returnList"
   ]
  },
  {
   "cell_type": "markdown",
   "id": "01d15c11-9dcf-4120-a552-c2053941396c",
   "metadata": {},
   "source": [
    "<h4><a href = \"https://leetcode.com/problems/search-a-2d-matrix/\" > Matrix2: Search an element in a matriix</a></h4>\n"
   ]
  },
  {
   "cell_type": "code",
   "execution_count": null,
   "id": "81937f6d-3ce7-4e9c-94a6-02ffb43f332f",
   "metadata": {},
   "outputs": [],
   "source": []
  }
 ],
 "metadata": {
  "kernelspec": {
   "display_name": "Python 3 (ipykernel)",
   "language": "python",
   "name": "python3"
  },
  "language_info": {
   "codemirror_mode": {
    "name": "ipython",
    "version": 3
   },
   "file_extension": ".py",
   "mimetype": "text/x-python",
   "name": "python",
   "nbconvert_exporter": "python",
   "pygments_lexer": "ipython3",
   "version": "3.10.6"
  }
 },
 "nbformat": 4,
 "nbformat_minor": 5
}
