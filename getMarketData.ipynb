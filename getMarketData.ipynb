{
  "nbformat": 4,
  "nbformat_minor": 0,
  "metadata": {
    "colab": {
      "provenance": [],
      "toc_visible": true,
      "authorship_tag": "ABX9TyO10X6q8gmoW27TEN1NZ6he",
      "include_colab_link": true
    },
    "kernelspec": {
      "name": "python3",
      "display_name": "Python 3"
    },
    "language_info": {
      "name": "python"
    },
    "widgets": {
      "application/vnd.jupyter.widget-state+json": {
        "7b7bc43107f24e43a5570401faf796c0": {
          "model_module": "@jupyter-widgets/controls",
          "model_name": "HBoxModel",
          "model_module_version": "1.5.0",
          "state": {
            "_dom_classes": [],
            "_model_module": "@jupyter-widgets/controls",
            "_model_module_version": "1.5.0",
            "_model_name": "HBoxModel",
            "_view_count": null,
            "_view_module": "@jupyter-widgets/controls",
            "_view_module_version": "1.5.0",
            "_view_name": "HBoxView",
            "box_style": "",
            "children": [
              "IPY_MODEL_e26f833f0c2d4b33b0f4162c9965a796",
              "IPY_MODEL_c67954700c4246a98f6c3dc89d44ca0a",
              "IPY_MODEL_cda46d5de2f84f0c99d95463aac8a25d"
            ],
            "layout": "IPY_MODEL_f5c32d49a31c44f2b1fdba932c6b35c9"
          }
        },
        "e26f833f0c2d4b33b0f4162c9965a796": {
          "model_module": "@jupyter-widgets/controls",
          "model_name": "DropdownModel",
          "model_module_version": "1.5.0",
          "state": {
            "_dom_classes": [],
            "_model_module": "@jupyter-widgets/controls",
            "_model_module_version": "1.5.0",
            "_model_name": "DropdownModel",
            "_options_labels": [
              "NIFTY50",
              "SENSEX",
              "BANKNIFTY",
              "HDFCBANK",
              "TCS",
              "RELIANCE",
              "PERSISTENT"
            ],
            "_view_count": null,
            "_view_module": "@jupyter-widgets/controls",
            "_view_module_version": "1.5.0",
            "_view_name": "DropdownView",
            "description": "Select stock:",
            "description_tooltip": null,
            "disabled": false,
            "index": 6,
            "layout": "IPY_MODEL_239474ae987c44c29ef6f204d9bf1b73",
            "style": "IPY_MODEL_222ddaef8b594e8d916c4b36fbe61eeb"
          }
        },
        "c67954700c4246a98f6c3dc89d44ca0a": {
          "model_module": "@jupyter-widgets/controls",
          "model_name": "DatePickerModel",
          "model_module_version": "1.5.0",
          "state": {
            "_dom_classes": [],
            "_model_module": "@jupyter-widgets/controls",
            "_model_module_version": "1.5.0",
            "_model_name": "DatePickerModel",
            "_view_count": null,
            "_view_module": "@jupyter-widgets/controls",
            "_view_module_version": "1.5.0",
            "_view_name": "DatePickerView",
            "description": "Start Date:",
            "description_tooltip": null,
            "disabled": false,
            "layout": "IPY_MODEL_31b94c2f986242db8daf9093dbd616a1",
            "style": "IPY_MODEL_b4304219338a4b239e66d5f5dc00d925",
            "value": {
              "year": 2024,
              "month": 0,
              "date": 1
            }
          }
        },
        "cda46d5de2f84f0c99d95463aac8a25d": {
          "model_module": "@jupyter-widgets/controls",
          "model_name": "DatePickerModel",
          "model_module_version": "1.5.0",
          "state": {
            "_dom_classes": [],
            "_model_module": "@jupyter-widgets/controls",
            "_model_module_version": "1.5.0",
            "_model_name": "DatePickerModel",
            "_view_count": null,
            "_view_module": "@jupyter-widgets/controls",
            "_view_module_version": "1.5.0",
            "_view_name": "DatePickerView",
            "description": "End Date:",
            "description_tooltip": null,
            "disabled": false,
            "layout": "IPY_MODEL_f2cad34fdcc54e12976973c5fadea643",
            "style": "IPY_MODEL_dd1ac93f2d4d49829ff980097bb19863",
            "value": {
              "year": 2024,
              "month": 9,
              "date": 2
            }
          }
        },
        "f5c32d49a31c44f2b1fdba932c6b35c9": {
          "model_module": "@jupyter-widgets/base",
          "model_name": "LayoutModel",
          "model_module_version": "1.2.0",
          "state": {
            "_model_module": "@jupyter-widgets/base",
            "_model_module_version": "1.2.0",
            "_model_name": "LayoutModel",
            "_view_count": null,
            "_view_module": "@jupyter-widgets/base",
            "_view_module_version": "1.2.0",
            "_view_name": "LayoutView",
            "align_content": null,
            "align_items": null,
            "align_self": null,
            "border": null,
            "bottom": null,
            "display": null,
            "flex": null,
            "flex_flow": null,
            "grid_area": null,
            "grid_auto_columns": null,
            "grid_auto_flow": null,
            "grid_auto_rows": null,
            "grid_column": null,
            "grid_gap": null,
            "grid_row": null,
            "grid_template_areas": null,
            "grid_template_columns": null,
            "grid_template_rows": null,
            "height": null,
            "justify_content": null,
            "justify_items": null,
            "left": null,
            "margin": null,
            "max_height": null,
            "max_width": null,
            "min_height": null,
            "min_width": null,
            "object_fit": null,
            "object_position": null,
            "order": null,
            "overflow": null,
            "overflow_x": null,
            "overflow_y": null,
            "padding": null,
            "right": null,
            "top": null,
            "visibility": null,
            "width": null
          }
        },
        "239474ae987c44c29ef6f204d9bf1b73": {
          "model_module": "@jupyter-widgets/base",
          "model_name": "LayoutModel",
          "model_module_version": "1.2.0",
          "state": {
            "_model_module": "@jupyter-widgets/base",
            "_model_module_version": "1.2.0",
            "_model_name": "LayoutModel",
            "_view_count": null,
            "_view_module": "@jupyter-widgets/base",
            "_view_module_version": "1.2.0",
            "_view_name": "LayoutView",
            "align_content": null,
            "align_items": null,
            "align_self": null,
            "border": null,
            "bottom": null,
            "display": null,
            "flex": null,
            "flex_flow": null,
            "grid_area": null,
            "grid_auto_columns": null,
            "grid_auto_flow": null,
            "grid_auto_rows": null,
            "grid_column": null,
            "grid_gap": null,
            "grid_row": null,
            "grid_template_areas": null,
            "grid_template_columns": null,
            "grid_template_rows": null,
            "height": null,
            "justify_content": null,
            "justify_items": null,
            "left": null,
            "margin": null,
            "max_height": null,
            "max_width": null,
            "min_height": null,
            "min_width": null,
            "object_fit": null,
            "object_position": null,
            "order": null,
            "overflow": null,
            "overflow_x": null,
            "overflow_y": null,
            "padding": null,
            "right": null,
            "top": null,
            "visibility": null,
            "width": null
          }
        },
        "222ddaef8b594e8d916c4b36fbe61eeb": {
          "model_module": "@jupyter-widgets/controls",
          "model_name": "DescriptionStyleModel",
          "model_module_version": "1.5.0",
          "state": {
            "_model_module": "@jupyter-widgets/controls",
            "_model_module_version": "1.5.0",
            "_model_name": "DescriptionStyleModel",
            "_view_count": null,
            "_view_module": "@jupyter-widgets/base",
            "_view_module_version": "1.2.0",
            "_view_name": "StyleView",
            "description_width": ""
          }
        },
        "31b94c2f986242db8daf9093dbd616a1": {
          "model_module": "@jupyter-widgets/base",
          "model_name": "LayoutModel",
          "model_module_version": "1.2.0",
          "state": {
            "_model_module": "@jupyter-widgets/base",
            "_model_module_version": "1.2.0",
            "_model_name": "LayoutModel",
            "_view_count": null,
            "_view_module": "@jupyter-widgets/base",
            "_view_module_version": "1.2.0",
            "_view_name": "LayoutView",
            "align_content": null,
            "align_items": null,
            "align_self": null,
            "border": null,
            "bottom": null,
            "display": null,
            "flex": null,
            "flex_flow": null,
            "grid_area": null,
            "grid_auto_columns": null,
            "grid_auto_flow": null,
            "grid_auto_rows": null,
            "grid_column": null,
            "grid_gap": null,
            "grid_row": null,
            "grid_template_areas": null,
            "grid_template_columns": null,
            "grid_template_rows": null,
            "height": null,
            "justify_content": null,
            "justify_items": null,
            "left": null,
            "margin": null,
            "max_height": null,
            "max_width": null,
            "min_height": null,
            "min_width": null,
            "object_fit": null,
            "object_position": null,
            "order": null,
            "overflow": null,
            "overflow_x": null,
            "overflow_y": null,
            "padding": null,
            "right": null,
            "top": null,
            "visibility": null,
            "width": null
          }
        },
        "b4304219338a4b239e66d5f5dc00d925": {
          "model_module": "@jupyter-widgets/controls",
          "model_name": "DescriptionStyleModel",
          "model_module_version": "1.5.0",
          "state": {
            "_model_module": "@jupyter-widgets/controls",
            "_model_module_version": "1.5.0",
            "_model_name": "DescriptionStyleModel",
            "_view_count": null,
            "_view_module": "@jupyter-widgets/base",
            "_view_module_version": "1.2.0",
            "_view_name": "StyleView",
            "description_width": ""
          }
        },
        "f2cad34fdcc54e12976973c5fadea643": {
          "model_module": "@jupyter-widgets/base",
          "model_name": "LayoutModel",
          "model_module_version": "1.2.0",
          "state": {
            "_model_module": "@jupyter-widgets/base",
            "_model_module_version": "1.2.0",
            "_model_name": "LayoutModel",
            "_view_count": null,
            "_view_module": "@jupyter-widgets/base",
            "_view_module_version": "1.2.0",
            "_view_name": "LayoutView",
            "align_content": null,
            "align_items": null,
            "align_self": null,
            "border": null,
            "bottom": null,
            "display": null,
            "flex": null,
            "flex_flow": null,
            "grid_area": null,
            "grid_auto_columns": null,
            "grid_auto_flow": null,
            "grid_auto_rows": null,
            "grid_column": null,
            "grid_gap": null,
            "grid_row": null,
            "grid_template_areas": null,
            "grid_template_columns": null,
            "grid_template_rows": null,
            "height": null,
            "justify_content": null,
            "justify_items": null,
            "left": null,
            "margin": null,
            "max_height": null,
            "max_width": null,
            "min_height": null,
            "min_width": null,
            "object_fit": null,
            "object_position": null,
            "order": null,
            "overflow": null,
            "overflow_x": null,
            "overflow_y": null,
            "padding": null,
            "right": null,
            "top": null,
            "visibility": null,
            "width": null
          }
        },
        "dd1ac93f2d4d49829ff980097bb19863": {
          "model_module": "@jupyter-widgets/controls",
          "model_name": "DescriptionStyleModel",
          "model_module_version": "1.5.0",
          "state": {
            "_model_module": "@jupyter-widgets/controls",
            "_model_module_version": "1.5.0",
            "_model_name": "DescriptionStyleModel",
            "_view_count": null,
            "_view_module": "@jupyter-widgets/base",
            "_view_module_version": "1.2.0",
            "_view_name": "StyleView",
            "description_width": ""
          }
        },
        "59800c6b83d34ade821a4a056bf1a6f2": {
          "model_module": "@jupyter-widgets/controls",
          "model_name": "HBoxModel",
          "model_module_version": "1.5.0",
          "state": {
            "_dom_classes": [],
            "_model_module": "@jupyter-widgets/controls",
            "_model_module_version": "1.5.0",
            "_model_name": "HBoxModel",
            "_view_count": null,
            "_view_module": "@jupyter-widgets/controls",
            "_view_module_version": "1.5.0",
            "_view_name": "HBoxView",
            "box_style": "",
            "children": [
              "IPY_MODEL_e26f833f0c2d4b33b0f4162c9965a796",
              "IPY_MODEL_c67954700c4246a98f6c3dc89d44ca0a",
              "IPY_MODEL_cda46d5de2f84f0c99d95463aac8a25d"
            ],
            "layout": "IPY_MODEL_b4e78207509b448c96a3a9c5e0b693b1"
          }
        },
        "b4e78207509b448c96a3a9c5e0b693b1": {
          "model_module": "@jupyter-widgets/base",
          "model_name": "LayoutModel",
          "model_module_version": "1.2.0",
          "state": {
            "_model_module": "@jupyter-widgets/base",
            "_model_module_version": "1.2.0",
            "_model_name": "LayoutModel",
            "_view_count": null,
            "_view_module": "@jupyter-widgets/base",
            "_view_module_version": "1.2.0",
            "_view_name": "LayoutView",
            "align_content": null,
            "align_items": null,
            "align_self": null,
            "border": null,
            "bottom": null,
            "display": null,
            "flex": null,
            "flex_flow": null,
            "grid_area": null,
            "grid_auto_columns": null,
            "grid_auto_flow": null,
            "grid_auto_rows": null,
            "grid_column": null,
            "grid_gap": null,
            "grid_row": null,
            "grid_template_areas": null,
            "grid_template_columns": null,
            "grid_template_rows": null,
            "height": null,
            "justify_content": null,
            "justify_items": null,
            "left": null,
            "margin": null,
            "max_height": null,
            "max_width": null,
            "min_height": null,
            "min_width": null,
            "object_fit": null,
            "object_position": null,
            "order": null,
            "overflow": null,
            "overflow_x": null,
            "overflow_y": null,
            "padding": null,
            "right": null,
            "top": null,
            "visibility": null,
            "width": null
          }
        },
        "e22e82a1fa114cebb22b1bc767874f4e": {
          "model_module": "@jupyter-widgets/controls",
          "model_name": "HBoxModel",
          "model_module_version": "1.5.0",
          "state": {
            "_dom_classes": [],
            "_model_module": "@jupyter-widgets/controls",
            "_model_module_version": "1.5.0",
            "_model_name": "HBoxModel",
            "_view_count": null,
            "_view_module": "@jupyter-widgets/controls",
            "_view_module_version": "1.5.0",
            "_view_name": "HBoxView",
            "box_style": "",
            "children": [
              "IPY_MODEL_e26f833f0c2d4b33b0f4162c9965a796",
              "IPY_MODEL_c67954700c4246a98f6c3dc89d44ca0a",
              "IPY_MODEL_cda46d5de2f84f0c99d95463aac8a25d"
            ],
            "layout": "IPY_MODEL_4262a8c9f43f47deaf693e691a0137b5"
          }
        },
        "4262a8c9f43f47deaf693e691a0137b5": {
          "model_module": "@jupyter-widgets/base",
          "model_name": "LayoutModel",
          "model_module_version": "1.2.0",
          "state": {
            "_model_module": "@jupyter-widgets/base",
            "_model_module_version": "1.2.0",
            "_model_name": "LayoutModel",
            "_view_count": null,
            "_view_module": "@jupyter-widgets/base",
            "_view_module_version": "1.2.0",
            "_view_name": "LayoutView",
            "align_content": null,
            "align_items": null,
            "align_self": null,
            "border": null,
            "bottom": null,
            "display": null,
            "flex": null,
            "flex_flow": null,
            "grid_area": null,
            "grid_auto_columns": null,
            "grid_auto_flow": null,
            "grid_auto_rows": null,
            "grid_column": null,
            "grid_gap": null,
            "grid_row": null,
            "grid_template_areas": null,
            "grid_template_columns": null,
            "grid_template_rows": null,
            "height": null,
            "justify_content": null,
            "justify_items": null,
            "left": null,
            "margin": null,
            "max_height": null,
            "max_width": null,
            "min_height": null,
            "min_width": null,
            "object_fit": null,
            "object_position": null,
            "order": null,
            "overflow": null,
            "overflow_x": null,
            "overflow_y": null,
            "padding": null,
            "right": null,
            "top": null,
            "visibility": null,
            "width": null
          }
        },
        "f8b2e104ca1d4724a385bdc0cbab2d50": {
          "model_module": "@jupyter-widgets/controls",
          "model_name": "HBoxModel",
          "model_module_version": "1.5.0",
          "state": {
            "_dom_classes": [],
            "_model_module": "@jupyter-widgets/controls",
            "_model_module_version": "1.5.0",
            "_model_name": "HBoxModel",
            "_view_count": null,
            "_view_module": "@jupyter-widgets/controls",
            "_view_module_version": "1.5.0",
            "_view_name": "HBoxView",
            "box_style": "",
            "children": [
              "IPY_MODEL_e26f833f0c2d4b33b0f4162c9965a796",
              "IPY_MODEL_c67954700c4246a98f6c3dc89d44ca0a",
              "IPY_MODEL_cda46d5de2f84f0c99d95463aac8a25d"
            ],
            "layout": "IPY_MODEL_4745a0e60c46469db55c0b334ec0b976"
          }
        },
        "4745a0e60c46469db55c0b334ec0b976": {
          "model_module": "@jupyter-widgets/base",
          "model_name": "LayoutModel",
          "model_module_version": "1.2.0",
          "state": {
            "_model_module": "@jupyter-widgets/base",
            "_model_module_version": "1.2.0",
            "_model_name": "LayoutModel",
            "_view_count": null,
            "_view_module": "@jupyter-widgets/base",
            "_view_module_version": "1.2.0",
            "_view_name": "LayoutView",
            "align_content": null,
            "align_items": null,
            "align_self": null,
            "border": null,
            "bottom": null,
            "display": null,
            "flex": null,
            "flex_flow": null,
            "grid_area": null,
            "grid_auto_columns": null,
            "grid_auto_flow": null,
            "grid_auto_rows": null,
            "grid_column": null,
            "grid_gap": null,
            "grid_row": null,
            "grid_template_areas": null,
            "grid_template_columns": null,
            "grid_template_rows": null,
            "height": null,
            "justify_content": null,
            "justify_items": null,
            "left": null,
            "margin": null,
            "max_height": null,
            "max_width": null,
            "min_height": null,
            "min_width": null,
            "object_fit": null,
            "object_position": null,
            "order": null,
            "overflow": null,
            "overflow_x": null,
            "overflow_y": null,
            "padding": null,
            "right": null,
            "top": null,
            "visibility": null,
            "width": null
          }
        },
        "a11ec94cd52b4012a47a4fd8923e2ea8": {
          "model_module": "@jupyter-widgets/controls",
          "model_name": "HBoxModel",
          "model_module_version": "1.5.0",
          "state": {
            "_dom_classes": [],
            "_model_module": "@jupyter-widgets/controls",
            "_model_module_version": "1.5.0",
            "_model_name": "HBoxModel",
            "_view_count": null,
            "_view_module": "@jupyter-widgets/controls",
            "_view_module_version": "1.5.0",
            "_view_name": "HBoxView",
            "box_style": "",
            "children": [
              "IPY_MODEL_e26f833f0c2d4b33b0f4162c9965a796",
              "IPY_MODEL_c67954700c4246a98f6c3dc89d44ca0a",
              "IPY_MODEL_cda46d5de2f84f0c99d95463aac8a25d"
            ],
            "layout": "IPY_MODEL_f7952041236041859597f62c7fad4245"
          }
        },
        "f7952041236041859597f62c7fad4245": {
          "model_module": "@jupyter-widgets/base",
          "model_name": "LayoutModel",
          "model_module_version": "1.2.0",
          "state": {
            "_model_module": "@jupyter-widgets/base",
            "_model_module_version": "1.2.0",
            "_model_name": "LayoutModel",
            "_view_count": null,
            "_view_module": "@jupyter-widgets/base",
            "_view_module_version": "1.2.0",
            "_view_name": "LayoutView",
            "align_content": null,
            "align_items": null,
            "align_self": null,
            "border": null,
            "bottom": null,
            "display": null,
            "flex": null,
            "flex_flow": null,
            "grid_area": null,
            "grid_auto_columns": null,
            "grid_auto_flow": null,
            "grid_auto_rows": null,
            "grid_column": null,
            "grid_gap": null,
            "grid_row": null,
            "grid_template_areas": null,
            "grid_template_columns": null,
            "grid_template_rows": null,
            "height": null,
            "justify_content": null,
            "justify_items": null,
            "left": null,
            "margin": null,
            "max_height": null,
            "max_width": null,
            "min_height": null,
            "min_width": null,
            "object_fit": null,
            "object_position": null,
            "order": null,
            "overflow": null,
            "overflow_x": null,
            "overflow_y": null,
            "padding": null,
            "right": null,
            "top": null,
            "visibility": null,
            "width": null
          }
        }
      }
    }
  },
  "cells": [
    {
      "cell_type": "markdown",
      "metadata": {
        "id": "view-in-github",
        "colab_type": "text"
      },
      "source": [
        "<a href=\"https://colab.research.google.com/github/anuragsaraf1912/Babbar450/blob/master/getMarketData.ipynb\" target=\"_parent\"><img src=\"https://colab.research.google.com/assets/colab-badge.svg\" alt=\"Open In Colab\"/></a>"
      ]
    },
    {
      "cell_type": "markdown",
      "source": [
        "# Market Data Analysis"
      ],
      "metadata": {
        "id": "8BSdjKsMEAAT"
      }
    },
    {
      "cell_type": "markdown",
      "source": [
        "## Importing libraries"
      ],
      "metadata": {
        "id": "Sw46FfFjEK0g"
      }
    },
    {
      "cell_type": "code",
      "execution_count": 1,
      "metadata": {
        "id": "0_iAQqn547Qh"
      },
      "outputs": [],
      "source": [
        "import pandas as pd\n",
        "import numpy as np\n",
        "import yfinance as yf\n",
        "import plotly.graph_objects as go\n",
        "from plotly.subplots import make_subplots\n",
        "from IPython.display import clear_output\n",
        "\n",
        "#Getting the widgets objects\n",
        "import ipywidgets as widgets\n",
        "from ipywidgets import HBox, VBox"
      ]
    },
    {
      "cell_type": "markdown",
      "source": [
        "## Functions"
      ],
      "metadata": {
        "id": "dMqkWjFjEb8N"
      }
    },
    {
      "cell_type": "markdown",
      "source": [
        "#### Graph Generating Functions"
      ],
      "metadata": {
        "id": "HHkpNBsOFguA"
      }
    },
    {
      "cell_type": "code",
      "source": [
        "def plotCandleStick(data):\n",
        "  \"\"\"Plots candlestick pattern using the Plotly library\"\"\"\n",
        "\n",
        "  candlestick = go.Candlestick(\n",
        "    x=data[\"Date\"],\n",
        "    open=data[\"Open\"],\n",
        "    high=data[\"High\"],\n",
        "    low=data[\"Low\"],\n",
        "    close=data[\"Close\"],\n",
        "    name=\"Price\",\n",
        "    increasing_line_color='green',\n",
        "    decreasing_line_color='red',\n",
        "    hovertext=[f\"Returns: {round(row['Daily Returns'],2)}% <br> Volume: {round(row['Volume']/1000,2)}K <br> Open: {round(row['Open'],2)} <br> High: {round(row['High'],2)} <br> Low: {round(row['Low'],2)} <br> Close: {round(row['Close'],2)}\" for index, row in data.iterrows()],\n",
        "    hoverinfo=\"text\"  # Display hovertext\n",
        "  )\n",
        "\n",
        "  # Create volume trace\n",
        "  volume = go.Bar(\n",
        "      x=data[\"Date\"],\n",
        "      y=data[\"Volume\"],\n",
        "      name=\"Volume\",\n",
        "      marker=dict(color='rgba(0, 0, 255, 0.3)')\n",
        "  )\n",
        "\n",
        "  # Create figure\n",
        "\n",
        "  fig = make_subplots(specs=[[{\"secondary_y\": True}]])\n",
        "  fig.add_trace(\n",
        "      candlestick,\n",
        "      secondary_y=False,\n",
        "  )\n",
        "\n",
        "  fig.add_trace(\n",
        "      volume,\n",
        "      secondary_y=True,\n",
        "  )\n",
        "\n",
        "  # Update layout\n",
        "  fig.update_layout(\n",
        "      title= f\"Candlestick Chart for {dropdown.label} with Volume\",\n",
        "      height = 1000,\n",
        "      width = 2000,\n",
        "      xaxis=dict(\n",
        "          title=\"Date\",\n",
        "      ),\n",
        "  )\n",
        "\n",
        "  # Configure the y-axis for volume\n",
        "  fig.update_yaxes(title_text=\"Price\", secondary_y=False, )\n",
        "  fig.update_yaxes(title_text=\"Volume\", secondary_y=True, range =[0, 5*max(data[\"Volume\"])])\n",
        "\n",
        "  # Show figure\n",
        "  fig.show()\n",
        "\n",
        "###################################################################################################################################################################\n",
        "\n",
        "def makeHistogram(df):\n",
        "  \"\"\"Creates a histogram from the data. Requires a 'Daily Returns' column\"\"\"\n",
        "  fig = go.Figure(data=[go.Histogram(x=df['Daily Returns'])])\n",
        "\n",
        "  # Update layout for better appearance\n",
        "  fig.update_layout(\n",
        "      title= f\"Daily Returns Distribution for {dropdown.label}\",\n",
        "      xaxis_title=\"Returns\",\n",
        "      yaxis_title=\"Count\",\n",
        "      bargap=0.1,  # Gap between bars\n",
        "      bargroupgap=0.1,  # Gap between groups of bars\n",
        "      height = 700,\n",
        "      width = 1000\n",
        "  )\n",
        "\n",
        "  # Show the figure (interactive)\n",
        "  fig.show()\n",
        "\n",
        "###################################################################################################################################################################\n",
        "\n",
        "def makeLinePlot(sortedDF):\n",
        "  \"\"\"Create a quartle graph from the returns data. Requires a percentile and Daily returns column\"\"\"\n",
        "\n",
        "  # Create a line graph using go.Scatter\n",
        "  lineGraph = go.Figure()\n",
        "\n",
        "  x_values, y_values = round(sortedDF['Daily Returns'],3),  round(sortedDF['percentile'],3)\n",
        "\n",
        "  # Add the line graph trace\n",
        "  lineGraph.add_trace(go.Scatter(x=x_values, y=y_values, mode='lines', name='Percentile Line'))\n",
        "\n",
        "\n",
        "  # Customize the layout\n",
        "  lineGraph.update_layout(\n",
        "      title= f\"Percentile line for the Daily Returns for {dropdown.label}\",\n",
        "      xaxis_title=\"Daily Returns\",\n",
        "      yaxis_title=\"Percentile\",\n",
        "      height=700,\n",
        "      width=1000,\n",
        "  )\n",
        "  # Show the figure\n",
        "  lineGraph.show()\n",
        "\n",
        "###################################################################################################################################################################\n",
        "\n",
        "def makeTimeSeries(df):\n",
        "  \"\"\"Create a time series graph from the data. Requires a 'Daily Returns' and 'Date' columns\"\"\"\n",
        "  fig = go.Figure()\n",
        "\n",
        "  # Add the returns line\n",
        "  fig.add_trace(go.Scatter(\n",
        "      x=df['Date'],\n",
        "      y=round(df['Daily Returns'],3),\n",
        "      mode='lines',\n",
        "      name='Daily Returns'#,\n",
        "      # hovertext=[f\"Date: {date.date()}<br>Return: {return_val:.2%}\" for date, return_val in zip(df['Date'], df['Returns'])],\n",
        "      # hoverinfo='text'\n",
        "  ))\n",
        "\n",
        "  # Customize the layout\n",
        "  fig.update_layout(\n",
        "      title= f\"Time Series of Daily Returns for {dropdown.label}\",\n",
        "      xaxis_title=\"Date\",\n",
        "      yaxis_title=\"Returns\",\n",
        "      xaxis_rangeslider_visible=False,\n",
        "      height = 700,\n",
        "      width = 1000\n",
        "  )\n",
        "\n",
        "  # Add a horizontal dashed line at y=0\n",
        "  fig.add_shape(\n",
        "      type='line',\n",
        "      x0=df['Date'].iloc[0],  # Starting x value (beginning of the x-axis)\n",
        "      y0=0,                   # y value (height of the line)\n",
        "      x1=df['Date'].iloc[-1], # Ending x value (end of the x-axis)\n",
        "      y1=0,                   # y value (height of the line)\n",
        "      line=dict(color='red', width=1, dash='dash')  # Line style\n",
        "  )\n",
        "\n",
        "  # Show the figure\n",
        "  fig.show()\n"
      ],
      "metadata": {
        "id": "Vk95Cf3KdyA6"
      },
      "execution_count": 58,
      "outputs": []
    },
    {
      "cell_type": "markdown",
      "source": [
        "#### Data Logic"
      ],
      "metadata": {
        "id": "Y1wdA1tOF9Te"
      }
    },
    {
      "cell_type": "code",
      "source": [
        "def getTicker(tick):\n",
        "  \"\"\"Logic to modify ticker before sending it to the Yahoo finance API\"\"\"\n",
        "  if tick in ['^NSEI', '^BSESN', '^NSEBANK']:\n",
        "    return tick\n",
        "  else:\n",
        "    return tick + \".NS\"\n",
        "\n",
        "def getData(ticker, startDate, endDate):\n",
        "  \"\"\"Logic to get data from the Yahoo finance API\"\"\"\n",
        "  df = (yf.download(ticker, startDate, endDate)).reset_index()\n",
        "  return df\n",
        "\n",
        "def getDailyReturns(df):\n",
        "  \"\"\"Logic to get daily returns from the data\"\"\"\n",
        "  df['Daily Returns'] = 100*np.log(df['Adj Close']/df['Adj Close'].shift(1))\n",
        "  df.dropna(inplace=True)\n",
        "  return df\n",
        "\n",
        "def genSortedPercentile(df):\n",
        "  \"\"\"Logic to generate the percentile column\"\"\"\n",
        "  sortedDF = df.sort_values('Daily Returns')\n",
        "  sortedDF['percentile'] =  1\n",
        "  sortedDF['percentile'] = sortedDF['percentile'].cumsum()/len(sortedDF)\n",
        "  return sortedDF\n"
      ],
      "metadata": {
        "id": "0EkOoHssGn5k"
      },
      "execution_count": 66,
      "outputs": []
    },
    {
      "cell_type": "markdown",
      "source": [
        "#### Event functions"
      ],
      "metadata": {
        "id": "ZtuxRBRwLQwV"
      }
    },
    {
      "cell_type": "code",
      "source": [
        "def on_value_change(change):\n",
        "    if change['type'] == 'change' and change['name'] == 'value':\n",
        "        startDate = start_date_picker.value\n",
        "        endDate = end_date_picker.value\n",
        "        ticker = getTicker(dropdown.value)\n",
        "        if startDate and endDate and ticker:\n",
        "          global df\n",
        "          df = getData(ticker, startDate, endDate)\n",
        "          df = getDailyReturns(df)\n",
        "          global sortedDF\n",
        "          sortedDF = genSortedPercentile(df)\n",
        "          clear_output(wait = True)\n",
        "          display(widgets.HBox([dropdown, start_date_picker, end_date_picker])\n",
        ")"
      ],
      "metadata": {
        "id": "Y9_ozvLXLPbQ"
      },
      "execution_count": 4,
      "outputs": []
    },
    {
      "cell_type": "markdown",
      "source": [
        "## Widgets"
      ],
      "metadata": {
        "id": "3Ds_Th50LfYE"
      }
    },
    {
      "cell_type": "markdown",
      "source": [
        "#### Initiate Widgets (Add Tickers)"
      ],
      "metadata": {
        "id": "czw1YfYYLyGG"
      }
    },
    {
      "cell_type": "code",
      "source": [
        "# Date Picker Widgets\n",
        "start_date_picker = widgets.DatePicker(description='Start Date:')\n",
        "end_date_picker = widgets.DatePicker(description='End Date:')\n",
        "\n",
        "# Text Entry Widget\n",
        "options = [('NIFTY50','^NSEI'), ('SENSEX','^BSESN'), ('BANKNIFTY','^NSEBANK'), ('HDFCBANK','HDFCBANK'),\n",
        "          ('TCS','TCS'), ('RELIANCE', 'RELIANCE'), ('PERSISTENT', 'PERSISTENT')]\n",
        "\n",
        "# Create the dropdown widget\n",
        "dropdown = widgets.Dropdown(\n",
        "    options=options,\n",
        "    description='Select stock:'\n",
        ")\n",
        "\n",
        "# Observing changes\n",
        "start_date_picker.observe(on_value_change)\n",
        "end_date_picker.observe(on_value_change)\n",
        "dropdown.observe(on_value_change)"
      ],
      "metadata": {
        "id": "c8tvCEMGL4-O"
      },
      "execution_count": 83,
      "outputs": []
    },
    {
      "cell_type": "markdown",
      "source": [
        "#### Stock and Date Selector"
      ],
      "metadata": {
        "id": "sBWn6q5lMXyk"
      }
    },
    {
      "cell_type": "code",
      "source": [
        "# Displaying widgets\n",
        "widgets.HBox([dropdown, start_date_picker, end_date_picker])"
      ],
      "metadata": {
        "id": "cIBUd8Kq5DL2",
        "colab": {
          "base_uri": "https://localhost:8080/",
          "height": 49,
          "referenced_widgets": [
            "7b7bc43107f24e43a5570401faf796c0",
            "e26f833f0c2d4b33b0f4162c9965a796",
            "c67954700c4246a98f6c3dc89d44ca0a",
            "cda46d5de2f84f0c99d95463aac8a25d",
            "f5c32d49a31c44f2b1fdba932c6b35c9",
            "239474ae987c44c29ef6f204d9bf1b73",
            "222ddaef8b594e8d916c4b36fbe61eeb",
            "31b94c2f986242db8daf9093dbd616a1",
            "b4304219338a4b239e66d5f5dc00d925",
            "f2cad34fdcc54e12976973c5fadea643",
            "dd1ac93f2d4d49829ff980097bb19863",
            "59800c6b83d34ade821a4a056bf1a6f2",
            "b4e78207509b448c96a3a9c5e0b693b1",
            "e22e82a1fa114cebb22b1bc767874f4e",
            "4262a8c9f43f47deaf693e691a0137b5",
            "f8b2e104ca1d4724a385bdc0cbab2d50",
            "4745a0e60c46469db55c0b334ec0b976",
            "a11ec94cd52b4012a47a4fd8923e2ea8",
            "f7952041236041859597f62c7fad4245"
          ]
        },
        "outputId": "0fa4a91d-ad6f-4c72-9b86-006f1b8ffad3"
      },
      "execution_count": 72,
      "outputs": [
        {
          "output_type": "display_data",
          "data": {
            "text/plain": [
              "HBox(children=(Dropdown(description='Select stock:', index=2, options=(('NIFTY50', '^NSEI'), ('SENSEX', '^BSES…"
            ],
            "application/vnd.jupyter.widget-view+json": {
              "version_major": 2,
              "version_minor": 0,
              "model_id": "a11ec94cd52b4012a47a4fd8923e2ea8"
            }
          },
          "metadata": {}
        }
      ]
    },
    {
      "cell_type": "markdown",
      "source": [
        "# Analysis"
      ],
      "metadata": {
        "id": "ZFZqarSqMqIs"
      }
    },
    {
      "cell_type": "code",
      "source": [
        "plotCandleStick(df)"
      ],
      "metadata": {
        "colab": {
          "base_uri": "https://localhost:8080/",
          "height": 1000
        },
        "id": "46vIv4Ga6LUZ",
        "outputId": "53991a38-356a-4763-d9de-2fa68bbbca4c"
      },
      "execution_count": 88,
      "outputs": [
        {
          "output_type": "display_data",
          "data": {
            "text/html": [
              "<html>\n",
              "<head><meta charset=\"utf-8\" /></head>\n",
              "<body>\n",
              "    <div>            <script src=\"https://cdnjs.cloudflare.com/ajax/libs/mathjax/2.7.5/MathJax.js?config=TeX-AMS-MML_SVG\"></script><script type=\"text/javascript\">if (window.MathJax && window.MathJax.Hub && window.MathJax.Hub.Config) {window.MathJax.Hub.Config({SVG: {font: \"STIX-Web\"}});}</script>                <script type=\"text/javascript\">window.PlotlyConfig = {MathJaxConfig: 'local'};</script>\n",
              "        <script charset=\"utf-8\" src=\"https://cdn.plot.ly/plotly-2.35.2.min.js\"></script>                <div id=\"871f8926-40bb-4438-9424-5b90cf669f09\" class=\"plotly-graph-div\" style=\"height:1000px; width:2000px;\"></div>            <script type=\"text/javascript\">                                    window.PLOTLYENV=window.PLOTLYENV || {};                                    if (document.getElementById(\"871f8926-40bb-4438-9424-5b90cf669f09\")) {                    Plotly.newPlot(                        \"871f8926-40bb-4438-9424-5b90cf669f09\",                        [{\"close\":[47704.94921875,48195.8515625,48159.0,47450.25,47242.6484375,47360.8515625,47438.3515625,47709.80078125,48158.30078125,48125.1015625,46064.44921875,45713.55078125,45701.1484375,45015.05078125,45082.3984375,44866.1484375,45442.3515625,45367.75,45996.80078125,46188.6484375,45970.94921875,45825.55078125,45690.80078125,45818.5,45012.0,45634.55078125,44882.25,45502.3984375,45908.30078125,46218.8984375,46384.8515625,47094.19921875,47019.69921875,46919.80078125,46811.75,46576.5,46588.05078125,45963.1484375,46120.8984375,47286.8984375,47456.1015625,47581.0,47965.3984375,47835.80078125,47327.8515625,47282.3984375,46981.30078125,46789.94921875,46594.1015625,46575.8984375,46384.80078125,46310.8984375,46684.8984375,46863.75,46600.19921875,46785.94921875,47124.6015625,47578.25,47545.44921875,47624.25,48060.80078125,48493.05078125,48581.69921875,48730.55078125,48986.6015625,48564.55078125,47773.25,47484.80078125,47069.44921875,47574.1484375,47924.8984375,47970.44921875,48189.0,48494.94921875,48201.05078125,49424.05078125,49396.75,49231.05078125,48923.55078125,48895.30078125,48285.3515625,48021.1015625,47487.8984375,47421.1015625,47754.1015625,47859.44921875,47687.44921875,47977.05078125,48115.6484375,48048.19921875,47781.94921875,48768.6015625,48971.6484375,49281.80078125,49142.1484375,48501.3515625,48682.3515625,48983.94921875,50979.94921875,46928.6015625,49054.6015625,49291.8984375,49803.19921875,49780.8984375,49705.75,49895.1015625,49846.69921875,50002.0,50440.8984375,51398.05078125,51783.25,51661.44921875,51703.94921875,52606.0,52870.5,52811.30078125,52342.25,52574.75,52168.1015625,53089.25,53103.69921875,52660.3515625,52425.80078125,52568.80078125,52189.30078125,52270.6484375,52278.8984375,52455.8984375,52396.80078125,52620.69921875,52265.6015625,52280.3984375,51778.30078125,51317.0,50888.75,51295.94921875,51406.25,51499.30078125,51553.3984375,51564.0,51350.1484375,50092.1015625,49748.30078125,50119.0,50156.69921875,50484.5,50577.94921875,49831.8515625,49727.30078125,50516.8984375,50368.3515625,50803.1484375,50685.55078125,50985.69921875,50933.44921875,51148.1015625,51278.75,51143.8515625,51152.75,51351.0,51439.55078125,51689.1015625,51400.25,51473.05078125,50576.8515625,51117.80078125,51272.30078125,51010.0,51772.3984375,51938.05078125,52153.1484375,52188.6484375,52750.3984375,53037.6015625,53793.19921875,54105.80078125,53968.6015625,54101.6484375,54375.3515625,53834.30078125,52978.1015625],\"decreasing\":{\"line\":{\"color\":\"red\"}},\"high\":[47798.75,48281.19921875,48381.94921875,48154.5,47939.30078125,47423.44921875,47662.1015625,47873.69921875,48248.05078125,48305.3984375,47212.75,46184.05078125,46249.8515625,46580.30078125,45485.5,45139.05078125,45660.3515625,45678.69921875,46179.75,46306.8984375,46892.3515625,46048.6015625,45932.1484375,46062.8515625,46181.19921875,45718.1484375,45748.5,45750.3984375,46170.44921875,46297.69921875,46693.3984375,47136.75,47363.3984375,47024.05078125,47245.3515625,46893.1484375,46722.25,46754.55078125,46329.6484375,47342.25,47529.6015625,47737.8515625,48161.25,48071.69921875,47853.80078125,47812.75,47468.69921875,47231.5,46802.55078125,46739.25,46602.3515625,46655.55078125,46990.25,46974.1484375,46788.3515625,46956.1015625,47440.44921875,47646.80078125,47707.3515625,47676.94921875,48254.6484375,48557.3984375,48716.94921875,48960.75,49057.3984375,48882.6484375,48255.5,47609.0,47829.75,47668.69921875,48146.30078125,48302.69921875,48246.19921875,48625.44921875,48679.6484375,49473.6015625,49974.75,49529.3515625,49607.75,49252.6484375,49023.5,48223.05078125,48258.6484375,47868.69921875,47841.6015625,47937.25,47957.19921875,48052.8984375,48188.6484375,48259.75,48114.05078125,48829.69921875,49052.94921875,49688.8515625,49511.1484375,49022.6015625,49044.6015625,49122.55078125,51133.19921875,50667.05078125,49362.8984375,49672.75,49943.19921875,50252.94921875,49970.30078125,50233.3984375,50186.44921875,50102.6015625,50562.1484375,51957.0,51842.19921875,51934.3515625,51783.94921875,52746.5,52988.30078125,53180.75,53030.30078125,52656.1484375,52828.44921875,53256.69921875,53357.69921875,52817.8515625,52710.80078125,52626.6015625,52528.80078125,52400.30078125,52794.55078125,52662.25,52619.05078125,52782.75,52586.75,52427.0,52547.55078125,51944.6484375,51006.1015625,51398.6015625,52340.25,51957.75,51663.1015625,51877.1484375,51608.69921875,50747.55078125,50688.80078125,50292.44921875,50440.75,50707.75,50830.69921875,50559.25,49959.25,50603.3984375,50728.25,51025.6015625,50772.44921875,51080.0,51117.8515625,51317.8515625,51404.69921875,51260.75,51368.94921875,51466.55078125,51579.5,51750.1015625,51503.55078125,51636.75,51380.05078125,51192.75,51366.0,51420.1484375,51878.1015625,51994.1015625,52208.69921875,52284.6015625,52954.19921875,53353.30078125,54066.1015625,54197.94921875,54247.69921875,54141.30078125,54467.3515625,54338.69921875,53726.3984375],\"hoverinfo\":\"text\",\"hovertext\":[\"Returns: -0.12% \\u003cbr\\u003e Volume: 233.3K \\u003cbr\\u003e Open: 47796.3 \\u003cbr\\u003e High: 47798.75 \\u003cbr\\u003e Low: 47481.35 \\u003cbr\\u003e Close: 47704.95\",\"Returns: 1.02% \\u003cbr\\u003e Volume: 175.7K \\u003cbr\\u003e Open: 47805.4 \\u003cbr\\u003e High: 48281.2 \\u003cbr\\u003e Low: 47738.15 \\u003cbr\\u003e Close: 48195.85\",\"Returns: -0.08% \\u003cbr\\u003e Volume: 181.0K \\u003cbr\\u003e Open: 48245.55 \\u003cbr\\u003e High: 48381.95 \\u003cbr\\u003e Low: 47822.85 \\u003cbr\\u003e Close: 48159.0\",\"Returns: -1.48% \\u003cbr\\u003e Volume: 231.4K \\u003cbr\\u003e Open: 48096.65 \\u003cbr\\u003e High: 48154.5 \\u003cbr\\u003e Low: 47387.35 \\u003cbr\\u003e Close: 47450.25\",\"Returns: -0.44% \\u003cbr\\u003e Volume: 161.0K \\u003cbr\\u003e Open: 47705.4 \\u003cbr\\u003e High: 47939.3 \\u003cbr\\u003e Low: 47156.05 \\u003cbr\\u003e Close: 47242.65\",\"Returns: 0.25% \\u003cbr\\u003e Volume: 165.2K \\u003cbr\\u003e Open: 47073.85 \\u003cbr\\u003e High: 47423.45 \\u003cbr\\u003e Low: 47010.8 \\u003cbr\\u003e Close: 47360.85\",\"Returns: 0.16% \\u003cbr\\u003e Volume: 132.5K \\u003cbr\\u003e Open: 47538.6 \\u003cbr\\u003e High: 47662.1 \\u003cbr\\u003e Low: 47237.0 \\u003cbr\\u003e Close: 47438.35\",\"Returns: 0.57% \\u003cbr\\u003e Volume: 191.6K \\u003cbr\\u003e Open: 47572.7 \\u003cbr\\u003e High: 47873.7 \\u003cbr\\u003e Low: 47408.5 \\u003cbr\\u003e Close: 47709.8\",\"Returns: 0.94% \\u003cbr\\u003e Volume: 167.1K \\u003cbr\\u003e Open: 47891.05 \\u003cbr\\u003e High: 48248.05 \\u003cbr\\u003e Low: 47825.4 \\u003cbr\\u003e Close: 48158.3\",\"Returns: -0.07% \\u003cbr\\u003e Volume: 224.5K \\u003cbr\\u003e Open: 48109.95 \\u003cbr\\u003e High: 48305.4 \\u003cbr\\u003e Low: 48002.85 \\u003cbr\\u003e Close: 48125.1\",\"Returns: -4.38% \\u003cbr\\u003e Volume: 499.6K \\u003cbr\\u003e Open: 46573.95 \\u003cbr\\u003e High: 47212.75 \\u003cbr\\u003e Low: 45979.6 \\u003cbr\\u003e Close: 46064.45\",\"Returns: -0.76% \\u003cbr\\u003e Volume: 275.0K \\u003cbr\\u003e Open: 45492.75 \\u003cbr\\u003e High: 46184.05 \\u003cbr\\u003e Low: 45430.7 \\u003cbr\\u003e Close: 45713.55\",\"Returns: -0.03% \\u003cbr\\u003e Volume: 296.6K \\u003cbr\\u003e Open: 46103.5 \\u003cbr\\u003e High: 46249.85 \\u003cbr\\u003e Low: 45558.05 \\u003cbr\\u003e Close: 45701.15\",\"Returns: -1.51% \\u003cbr\\u003e Volume: 422.6K \\u003cbr\\u003e Open: 46495.45 \\u003cbr\\u003e High: 46580.3 \\u003cbr\\u003e Low: 44886.1 \\u003cbr\\u003e Close: 45015.05\",\"Returns: 0.15% \\u003cbr\\u003e Volume: 348.7K \\u003cbr\\u003e Open: 44489.4 \\u003cbr\\u003e High: 45485.5 \\u003cbr\\u003e Low: 44489.4 \\u003cbr\\u003e Close: 45082.4\",\"Returns: -0.48% \\u003cbr\\u003e Volume: 386.8K \\u003cbr\\u003e Open: 45057.95 \\u003cbr\\u003e High: 45139.05 \\u003cbr\\u003e Low: 44429.0 \\u003cbr\\u003e Close: 44866.15\",\"Returns: 1.28% \\u003cbr\\u003e Volume: 336.8K \\u003cbr\\u003e Open: 45171.5 \\u003cbr\\u003e High: 45660.35 \\u003cbr\\u003e Low: 45110.9 \\u003cbr\\u003e Close: 45442.35\",\"Returns: -0.16% \\u003cbr\\u003e Volume: 232.1K \\u003cbr\\u003e Open: 45481.5 \\u003cbr\\u003e High: 45678.7 \\u003cbr\\u003e Low: 45206.05 \\u003cbr\\u003e Close: 45367.75\",\"Returns: 1.38% \\u003cbr\\u003e Volume: 373.1K \\u003cbr\\u003e Open: 45295.65 \\u003cbr\\u003e High: 46179.75 \\u003cbr\\u003e Low: 45071.2 \\u003cbr\\u003e Close: 45996.8\",\"Returns: 0.42% \\u003cbr\\u003e Volume: 305.7K \\u003cbr\\u003e Open: 46164.9 \\u003cbr\\u003e High: 46306.9 \\u003cbr\\u003e Low: 45668.35 \\u003cbr\\u003e Close: 46188.65\",\"Returns: -0.47% \\u003cbr\\u003e Volume: 337.0K \\u003cbr\\u003e Open: 46568.2 \\u003cbr\\u003e High: 46892.35 \\u003cbr\\u003e Low: 45901.25 \\u003cbr\\u003e Close: 45970.95\",\"Returns: -0.32% \\u003cbr\\u003e Volume: 265.9K \\u003cbr\\u003e Open: 45962.25 \\u003cbr\\u003e High: 46048.6 \\u003cbr\\u003e Low: 45615.1 \\u003cbr\\u003e Close: 45825.55\",\"Returns: -0.29% \\u003cbr\\u003e Volume: 178.6K \\u003cbr\\u003e Open: 45891.2 \\u003cbr\\u003e High: 45932.15 \\u003cbr\\u003e Low: 45527.0 \\u003cbr\\u003e Close: 45690.8\",\"Returns: 0.28% \\u003cbr\\u003e Volume: 283.7K \\u003cbr\\u003e Open: 45944.6 \\u003cbr\\u003e High: 46062.85 \\u003cbr\\u003e Low: 45620.5 \\u003cbr\\u003e Close: 45818.5\",\"Returns: -1.78% \\u003cbr\\u003e Volume: 319.9K \\u003cbr\\u003e Open: 45973.85 \\u003cbr\\u003e High: 46181.2 \\u003cbr\\u003e Low: 44893.75 \\u003cbr\\u003e Close: 45012.0\",\"Returns: 1.37% \\u003cbr\\u003e Volume: 276.0K \\u003cbr\\u003e Open: 44986.75 \\u003cbr\\u003e High: 45718.15 \\u003cbr\\u003e Low: 44859.15 \\u003cbr\\u003e Close: 45634.55\",\"Returns: -1.66% \\u003cbr\\u003e Volume: 268.8K \\u003cbr\\u003e Open: 45664.3 \\u003cbr\\u003e High: 45748.5 \\u003cbr\\u003e Low: 44633.85 \\u003cbr\\u003e Close: 44882.25\",\"Returns: 1.37% \\u003cbr\\u003e Volume: 245.9K \\u003cbr\\u003e Open: 45056.8 \\u003cbr\\u003e High: 45750.4 \\u003cbr\\u003e Low: 44819.55 \\u003cbr\\u003e Close: 45502.4\",\"Returns: 0.89% \\u003cbr\\u003e Volume: 280.0K \\u003cbr\\u003e Open: 45014.65 \\u003cbr\\u003e High: 46170.45 \\u003cbr\\u003e Low: 44860.75 \\u003cbr\\u003e Close: 45908.3\",\"Returns: 0.67% \\u003cbr\\u003e Volume: 277.7K \\u003cbr\\u003e Open: 46027.1 \\u003cbr\\u003e High: 46297.7 \\u003cbr\\u003e Low: 45590.2 \\u003cbr\\u003e Close: 46218.9\",\"Returns: 0.36% \\u003cbr\\u003e Volume: 291.4K \\u003cbr\\u003e Open: 46454.3 \\u003cbr\\u003e High: 46693.4 \\u003cbr\\u003e Low: 46264.4 \\u003cbr\\u003e Close: 46384.85\",\"Returns: 1.52% \\u003cbr\\u003e Volume: 171.9K \\u003cbr\\u003e Open: 46444.9 \\u003cbr\\u003e High: 47136.75 \\u003cbr\\u003e Low: 46367.8 \\u003cbr\\u003e Close: 47094.2\",\"Returns: -0.16% \\u003cbr\\u003e Volume: 198.9K \\u003cbr\\u003e Open: 47363.4 \\u003cbr\\u003e High: 47363.4 \\u003cbr\\u003e Low: 46886.95 \\u003cbr\\u003e Close: 47019.7\",\"Returns: -0.21% \\u003cbr\\u003e Volume: 177.2K \\u003cbr\\u003e Open: 46934.55 \\u003cbr\\u003e High: 47024.05 \\u003cbr\\u003e Low: 46426.85 \\u003cbr\\u003e Close: 46919.8\",\"Returns: -0.23% \\u003cbr\\u003e Volume: 200.5K \\u003cbr\\u003e Open: 47060.7 \\u003cbr\\u003e High: 47245.35 \\u003cbr\\u003e Low: 46723.15 \\u003cbr\\u003e Close: 46811.75\",\"Returns: -0.5% \\u003cbr\\u003e Volume: 223.7K \\u003cbr\\u003e Open: 46615.85 \\u003cbr\\u003e High: 46893.15 \\u003cbr\\u003e Low: 46513.55 \\u003cbr\\u003e Close: 46576.5\",\"Returns: 0.02% \\u003cbr\\u003e Volume: 157.3K \\u003cbr\\u003e Open: 46480.2 \\u003cbr\\u003e High: 46722.25 \\u003cbr\\u003e Low: 46324.9 \\u003cbr\\u003e Close: 46588.05\",\"Returns: -1.35% \\u003cbr\\u003e Volume: 167.3K \\u003cbr\\u003e Open: 46640.9 \\u003cbr\\u003e High: 46754.55 \\u003cbr\\u003e Low: 45852.55 \\u003cbr\\u003e Close: 45963.15\",\"Returns: 0.34% \\u003cbr\\u003e Volume: 544.7K \\u003cbr\\u003e Open: 45881.45 \\u003cbr\\u003e High: 46329.65 \\u003cbr\\u003e Low: 45661.75 \\u003cbr\\u003e Close: 46120.9\",\"Returns: 2.5% \\u003cbr\\u003e Volume: 172.5K \\u003cbr\\u003e Open: 46218.0 \\u003cbr\\u003e High: 47342.25 \\u003cbr\\u003e Low: 46218.0 \\u003cbr\\u003e Close: 47286.9\",\"Returns: 0.36% \\u003cbr\\u003e Volume: 158.1K \\u003cbr\\u003e Open: 47318.5 \\u003cbr\\u003e High: 47529.6 \\u003cbr\\u003e Low: 47191.65 \\u003cbr\\u003e Close: 47456.1\",\"Returns: 0.26% \\u003cbr\\u003e Volume: 176.9K \\u003cbr\\u003e Open: 47265.7 \\u003cbr\\u003e High: 47737.85 \\u003cbr\\u003e Low: 47196.75 \\u003cbr\\u003e Close: 47581.0\",\"Returns: 0.8% \\u003cbr\\u003e Volume: 301.7K \\u003cbr\\u003e Open: 47451.65 \\u003cbr\\u003e High: 48161.25 \\u003cbr\\u003e Low: 47442.25 \\u003cbr\\u003e Close: 47965.4\",\"Returns: -0.27% \\u003cbr\\u003e Volume: 146.3K \\u003cbr\\u003e Open: 48035.8 \\u003cbr\\u003e High: 48071.7 \\u003cbr\\u003e Low: 47747.2 \\u003cbr\\u003e Close: 47835.8\",\"Returns: -1.07% \\u003cbr\\u003e Volume: 204.2K \\u003cbr\\u003e Open: 47792.2 \\u003cbr\\u003e High: 47853.8 \\u003cbr\\u003e Low: 47230.65 \\u003cbr\\u003e Close: 47327.85\",\"Returns: -0.1% \\u003cbr\\u003e Volume: 207.2K \\u003cbr\\u003e Open: 47351.35 \\u003cbr\\u003e High: 47812.75 \\u003cbr\\u003e Low: 46884.45 \\u003cbr\\u003e Close: 47282.4\",\"Returns: -0.64% \\u003cbr\\u003e Volume: 274.6K \\u003cbr\\u003e Open: 47341.15 \\u003cbr\\u003e High: 47468.7 \\u003cbr\\u003e Low: 46842.15 \\u003cbr\\u003e Close: 46981.3\",\"Returns: -0.41% \\u003cbr\\u003e Volume: 220.4K \\u003cbr\\u003e Open: 46825.75 \\u003cbr\\u003e High: 47231.5 \\u003cbr\\u003e Low: 46565.55 \\u003cbr\\u003e Close: 46789.95\",\"Returns: -0.42% \\u003cbr\\u003e Volume: 339.3K \\u003cbr\\u003e Open: 46572.1 \\u003cbr\\u003e High: 46802.55 \\u003cbr\\u003e Low: 46310.5 \\u003cbr\\u003e Close: 46594.1\",\"Returns: -0.04% \\u003cbr\\u003e Volume: 151.3K \\u003cbr\\u003e Open: 46458.75 \\u003cbr\\u003e High: 46739.25 \\u003cbr\\u003e Low: 46022.15 \\u003cbr\\u003e Close: 46575.9\",\"Returns: -0.41% \\u003cbr\\u003e Volume: 147.1K \\u003cbr\\u003e Open: 46421.9 \\u003cbr\\u003e High: 46602.35 \\u003cbr\\u003e Low: 46258.75 \\u003cbr\\u003e Close: 46384.8\",\"Returns: -0.16% \\u003cbr\\u003e Volume: 210.4K \\u003cbr\\u003e Open: 46392.9 \\u003cbr\\u003e High: 46655.55 \\u003cbr\\u003e Low: 45828.8 \\u003cbr\\u003e Close: 46310.9\",\"Returns: 0.8% \\u003cbr\\u003e Volume: 150.4K \\u003cbr\\u003e Open: 46674.85 \\u003cbr\\u003e High: 46990.25 \\u003cbr\\u003e Low: 46570.15 \\u003cbr\\u003e Close: 46684.9\",\"Returns: 0.38% \\u003cbr\\u003e Volume: 172.2K \\u003cbr\\u003e Open: 46634.9 \\u003cbr\\u003e High: 46974.15 \\u003cbr\\u003e Low: 46566.8 \\u003cbr\\u003e Close: 46863.75\",\"Returns: -0.56% \\u003cbr\\u003e Volume: 171.7K \\u003cbr\\u003e Open: 46552.95 \\u003cbr\\u003e High: 46788.35 \\u003cbr\\u003e Low: 46529.05 \\u003cbr\\u003e Close: 46600.2\",\"Returns: 0.4% \\u003cbr\\u003e Volume: 285.1K \\u003cbr\\u003e Open: 46643.45 \\u003cbr\\u003e High: 46956.1 \\u003cbr\\u003e Low: 46643.45 \\u003cbr\\u003e Close: 46785.95\",\"Returns: 0.72% \\u003cbr\\u003e Volume: 348.0K \\u003cbr\\u003e Open: 46827.85 \\u003cbr\\u003e High: 47440.45 \\u003cbr\\u003e Low: 46827.85 \\u003cbr\\u003e Close: 47124.6\",\"Returns: 0.96% \\u003cbr\\u003e Volume: 134089.4K \\u003cbr\\u003e Open: 47391.05 \\u003cbr\\u003e High: 47646.8 \\u003cbr\\u003e Low: 47373.1 \\u003cbr\\u003e Close: 47578.25\",\"Returns: -0.07% \\u003cbr\\u003e Volume: 183.4K \\u003cbr\\u003e Open: 47490.75 \\u003cbr\\u003e High: 47707.35 \\u003cbr\\u003e Low: 47408.55 \\u003cbr\\u003e Close: 47545.45\",\"Returns: 0.17% \\u003cbr\\u003e Volume: 283.8K \\u003cbr\\u003e Open: 47350.25 \\u003cbr\\u003e High: 47676.95 \\u003cbr\\u003e Low: 47279.8 \\u003cbr\\u003e Close: 47624.25\",\"Returns: 0.91% \\u003cbr\\u003e Volume: 324.3K \\u003cbr\\u003e Open: 48086.2 \\u003cbr\\u003e High: 48254.65 \\u003cbr\\u003e Low: 47712.7 \\u003cbr\\u003e Close: 48060.8\",\"Returns: 0.9% \\u003cbr\\u003e Volume: 214.3K \\u003cbr\\u003e Open: 48104.65 \\u003cbr\\u003e High: 48557.4 \\u003cbr\\u003e Low: 47894.5 \\u003cbr\\u003e Close: 48493.05\",\"Returns: 0.18% \\u003cbr\\u003e Volume: 263.4K \\u003cbr\\u003e Open: 48586.75 \\u003cbr\\u003e High: 48716.95 \\u003cbr\\u003e Low: 48424.65 \\u003cbr\\u003e Close: 48581.7\",\"Returns: 0.31% \\u003cbr\\u003e Volume: 147.6K \\u003cbr\\u003e Open: 48810.8 \\u003cbr\\u003e High: 48960.75 \\u003cbr\\u003e Low: 48568.25 \\u003cbr\\u003e Close: 48730.55\",\"Returns: 0.52% \\u003cbr\\u003e Volume: 247.1K \\u003cbr\\u003e Open: 48879.55 \\u003cbr\\u003e High: 49057.4 \\u003cbr\\u003e Low: 48669.25 \\u003cbr\\u003e Close: 48986.6\",\"Returns: -0.87% \\u003cbr\\u003e Volume: 208.0K \\u003cbr\\u003e Open: 48671.2 \\u003cbr\\u003e High: 48882.65 \\u003cbr\\u003e Low: 48477.55 \\u003cbr\\u003e Close: 48564.55\",\"Returns: -1.64% \\u003cbr\\u003e Volume: 197.1K \\u003cbr\\u003e Open: 48057.5 \\u003cbr\\u003e High: 48255.5 \\u003cbr\\u003e Low: 47725.8 \\u003cbr\\u003e Close: 47773.25\",\"Returns: -0.61% \\u003cbr\\u003e Volume: 186.1K \\u003cbr\\u003e Open: 47436.7 \\u003cbr\\u003e High: 47609.0 \\u003cbr\\u003e Low: 47316.55 \\u003cbr\\u003e Close: 47484.8\",\"Returns: -0.88% \\u003cbr\\u003e Volume: 186.4K \\u003cbr\\u003e Open: 47592.7 \\u003cbr\\u003e High: 47829.75 \\u003cbr\\u003e Low: 46982.15 \\u003cbr\\u003e Close: 47069.45\",\"Returns: 1.07% \\u003cbr\\u003e Volume: 164.6K \\u003cbr\\u003e Open: 46744.95 \\u003cbr\\u003e High: 47668.7 \\u003cbr\\u003e Low: 46579.05 \\u003cbr\\u003e Close: 47574.15\",\"Returns: 0.73% \\u003cbr\\u003e Volume: 177.7K \\u003cbr\\u003e Open: 48145.7 \\u003cbr\\u003e High: 48146.3 \\u003cbr\\u003e Low: 47628.45 \\u003cbr\\u003e Close: 47924.9\",\"Returns: 0.1% \\u003cbr\\u003e Volume: 141.1K \\u003cbr\\u003e Open: 48299.6 \\u003cbr\\u003e High: 48302.7 \\u003cbr\\u003e Low: 47899.3 \\u003cbr\\u003e Close: 47970.45\",\"Returns: 0.45% \\u003cbr\\u003e Volume: 112.2K \\u003cbr\\u003e Open: 48120.9 \\u003cbr\\u003e High: 48246.2 \\u003cbr\\u003e Low: 48028.7 \\u003cbr\\u003e Close: 48189.0\",\"Returns: 0.63% \\u003cbr\\u003e Volume: 337.4K \\u003cbr\\u003e Open: 47772.65 \\u003cbr\\u003e High: 48625.45 \\u003cbr\\u003e Low: 47737.2 \\u003cbr\\u003e Close: 48494.95\",\"Returns: -0.61% \\u003cbr\\u003e Volume: 208.1K \\u003cbr\\u003e Open: 48660.0 \\u003cbr\\u003e High: 48679.65 \\u003cbr\\u003e Low: 48088.25 \\u003cbr\\u003e Close: 48201.05\",\"Returns: 2.51% \\u003cbr\\u003e Volume: 327.1K \\u003cbr\\u003e Open: 48359.9 \\u003cbr\\u003e High: 49473.6 \\u003cbr\\u003e Low: 48342.7 \\u003cbr\\u003e Close: 49424.05\",\"Returns: -0.06% \\u003cbr\\u003e Volume: 402.9K \\u003cbr\\u003e Open: 49477.1 \\u003cbr\\u003e High: 49974.75 \\u003cbr\\u003e Low: 49249.9 \\u003cbr\\u003e Close: 49396.75\",\"Returns: -0.34% \\u003cbr\\u003e Volume: 291.9K \\u003cbr\\u003e Open: 49262.0 \\u003cbr\\u003e High: 49529.35 \\u003cbr\\u003e Low: 49123.6 \\u003cbr\\u003e Close: 49231.05\",\"Returns: -0.63% \\u003cbr\\u003e Volume: 223.0K \\u003cbr\\u003e Open: 49375.05 \\u003cbr\\u003e High: 49607.75 \\u003cbr\\u003e Low: 48659.7 \\u003cbr\\u003e Close: 48923.55\",\"Returns: -0.06% \\u003cbr\\u003e Volume: 340.2K \\u003cbr\\u003e Open: 49174.55 \\u003cbr\\u003e High: 49252.65 \\u003cbr\\u003e Low: 48784.0 \\u003cbr\\u003e Close: 48895.3\",\"Returns: -1.26% \\u003cbr\\u003e Volume: 230.3K \\u003cbr\\u003e Open: 48965.05 \\u003cbr\\u003e High: 49023.5 \\u003cbr\\u003e Low: 48213.75 \\u003cbr\\u003e Close: 48285.35\",\"Returns: -0.55% \\u003cbr\\u003e Volume: 286.0K \\u003cbr\\u003e Open: 48124.2 \\u003cbr\\u003e High: 48223.05 \\u003cbr\\u003e Low: 47851.15 \\u003cbr\\u003e Close: 48021.1\",\"Returns: -1.12% \\u003cbr\\u003e Volume: 272.9K \\u003cbr\\u003e Open: 47976.35 \\u003cbr\\u003e High: 48258.65 \\u003cbr\\u003e Low: 47440.65 \\u003cbr\\u003e Close: 47487.9\",\"Returns: -0.14% \\u003cbr\\u003e Volume: 218.9K \\u003cbr\\u003e Open: 47555.5 \\u003cbr\\u003e High: 47868.7 \\u003cbr\\u003e Low: 47313.35 \\u003cbr\\u003e Close: 47421.1\",\"Returns: 0.7% \\u003cbr\\u003e Volume: 220.9K \\u003cbr\\u003e Open: 47389.8 \\u003cbr\\u003e High: 47841.6 \\u003cbr\\u003e Low: 46983.25 \\u003cbr\\u003e Close: 47754.1\",\"Returns: 0.22% \\u003cbr\\u003e Volume: 152.0K \\u003cbr\\u003e Open: 47748.85 \\u003cbr\\u003e High: 47937.25 \\u003cbr\\u003e Low: 47607.85 \\u003cbr\\u003e Close: 47859.45\",\"Returns: -0.36% \\u003cbr\\u003e Volume: 188.8K \\u003cbr\\u003e Open: 47923.1 \\u003cbr\\u003e High: 47957.2 \\u003cbr\\u003e Low: 47534.5 \\u003cbr\\u003e Close: 47687.45\",\"Returns: 0.61% \\u003cbr\\u003e Volume: 219.9K \\u003cbr\\u003e Open: 47945.85 \\u003cbr\\u003e High: 48052.9 \\u003cbr\\u003e Low: 47340.35 \\u003cbr\\u003e Close: 47977.05\",\"Returns: 0.29% \\u003cbr\\u003e Volume: 143.8K \\u003cbr\\u003e Open: 47842.95 \\u003cbr\\u003e High: 48188.65 \\u003cbr\\u003e Low: 47758.8 \\u003cbr\\u003e Close: 48115.65\",\"Returns: -0.14% \\u003cbr\\u003e Volume: 166.8K \\u003cbr\\u003e Open: 47927.1 \\u003cbr\\u003e High: 48259.75 \\u003cbr\\u003e Low: 47927.1 \\u003cbr\\u003e Close: 48048.2\",\"Returns: -0.56% \\u003cbr\\u003e Volume: 204.9K \\u003cbr\\u003e Open: 48113.9 \\u003cbr\\u003e High: 48114.05 \\u003cbr\\u003e Low: 47435.25 \\u003cbr\\u003e Close: 47781.95\",\"Returns: 2.04% \\u003cbr\\u003e Volume: 184.5K \\u003cbr\\u003e Open: 47899.35 \\u003cbr\\u003e High: 48829.7 \\u003cbr\\u003e Low: 47873.15 \\u003cbr\\u003e Close: 48768.6\",\"Returns: 0.42% \\u003cbr\\u003e Volume: 135.0K \\u003cbr\\u003e Open: 48668.0 \\u003cbr\\u003e High: 49052.95 \\u003cbr\\u003e Low: 48644.8 \\u003cbr\\u003e Close: 48971.65\",\"Returns: 0.63% \\u003cbr\\u003e Volume: 226.5K \\u003cbr\\u003e Open: 49105.9 \\u003cbr\\u003e High: 49688.85 \\u003cbr\\u003e Low: 49051.25 \\u003cbr\\u003e Close: 49281.8\",\"Returns: -0.28% \\u003cbr\\u003e Volume: 155.2K \\u003cbr\\u003e Open: 49390.9 \\u003cbr\\u003e High: 49511.15 \\u003cbr\\u003e Low: 49043.65 \\u003cbr\\u003e Close: 49142.15\",\"Returns: -1.31% \\u003cbr\\u003e Volume: 183.6K \\u003cbr\\u003e Open: 48786.7 \\u003cbr\\u003e High: 49022.6 \\u003cbr\\u003e Low: 48401.55 \\u003cbr\\u003e Close: 48501.35\",\"Returns: 0.37% \\u003cbr\\u003e Volume: 151.0K \\u003cbr\\u003e Open: 48313.6 \\u003cbr\\u003e High: 49044.6 \\u003cbr\\u003e Low: 48313.6 \\u003cbr\\u003e Close: 48682.35\",\"Returns: 0.62% \\u003cbr\\u003e Volume: 303.6K \\u003cbr\\u003e Open: 48895.15 \\u003cbr\\u003e High: 49122.55 \\u003cbr\\u003e Low: 48569.05 \\u003cbr\\u003e Close: 48983.95\",\"Returns: 3.99% \\u003cbr\\u003e Volume: 453.2K \\u003cbr\\u003e Open: 50889.85 \\u003cbr\\u003e High: 51133.2 \\u003cbr\\u003e Low: 50092.65 \\u003cbr\\u003e Close: 50979.95\",\"Returns: -8.28% \\u003cbr\\u003e Volume: 653.1K \\u003cbr\\u003e Open: 50667.05 \\u003cbr\\u003e High: 50667.05 \\u003cbr\\u003e Low: 46077.85 \\u003cbr\\u003e Close: 46928.6\",\"Returns: 4.43% \\u003cbr\\u003e Volume: 546.8K \\u003cbr\\u003e Open: 47486.6 \\u003cbr\\u003e High: 49362.9 \\u003cbr\\u003e Low: 46446.8 \\u003cbr\\u003e Close: 49054.6\",\"Returns: 0.48% \\u003cbr\\u003e Volume: 250.4K \\u003cbr\\u003e Open: 49426.4 \\u003cbr\\u003e High: 49672.75 \\u003cbr\\u003e Low: 48906.75 \\u003cbr\\u003e Close: 49291.9\",\"Returns: 1.03% \\u003cbr\\u003e Volume: 170.3K \\u003cbr\\u003e Open: 49316.95 \\u003cbr\\u003e High: 49943.2 \\u003cbr\\u003e Low: 49080.45 \\u003cbr\\u003e Close: 49803.2\",\"Returns: -0.04% \\u003cbr\\u003e Volume: 195.8K \\u003cbr\\u003e Open: 49808.15 \\u003cbr\\u003e High: 50252.95 \\u003cbr\\u003e Low: 49622.75 \\u003cbr\\u003e Close: 49780.9\",\"Returns: -0.15% \\u003cbr\\u003e Volume: 128.5K \\u003cbr\\u003e Open: 49751.2 \\u003cbr\\u003e High: 49970.3 \\u003cbr\\u003e Low: 49530.45 \\u003cbr\\u003e Close: 49705.75\",\"Returns: 0.38% \\u003cbr\\u003e Volume: 211.7K \\u003cbr\\u003e Open: 49857.45 \\u003cbr\\u003e High: 50233.4 \\u003cbr\\u003e Low: 49697.35 \\u003cbr\\u003e Close: 49895.1\",\"Returns: -0.1% \\u003cbr\\u003e Volume: 125.7K \\u003cbr\\u003e Open: 50179.0 \\u003cbr\\u003e High: 50186.45 \\u003cbr\\u003e Low: 49799.65 \\u003cbr\\u003e Close: 49846.7\",\"Returns: 0.31% \\u003cbr\\u003e Volume: 155.0K \\u003cbr\\u003e Open: 49993.95 \\u003cbr\\u003e High: 50102.6 \\u003cbr\\u003e Low: 49693.35 \\u003cbr\\u003e Close: 50002.0\",\"Returns: 0.87% \\u003cbr\\u003e Volume: 189.2K \\u003cbr\\u003e Open: 50194.35 \\u003cbr\\u003e High: 50562.15 \\u003cbr\\u003e Low: 49900.2 \\u003cbr\\u003e Close: 50440.9\",\"Returns: 1.88% \\u003cbr\\u003e Volume: 435.3K \\u003cbr\\u003e Open: 50607.9 \\u003cbr\\u003e High: 51957.0 \\u003cbr\\u003e Low: 50441.75 \\u003cbr\\u003e Close: 51398.05\",\"Returns: 0.75% \\u003cbr\\u003e Volume: 235.9K \\u003cbr\\u003e Open: 51712.9 \\u003cbr\\u003e High: 51842.2 \\u003cbr\\u003e Low: 51281.5 \\u003cbr\\u003e Close: 51783.25\",\"Returns: -0.24% \\u003cbr\\u003e Volume: 289.4K \\u003cbr\\u003e Open: 51927.3 \\u003cbr\\u003e High: 51934.35 \\u003cbr\\u003e Low: 51224.95 \\u003cbr\\u003e Close: 51661.45\",\"Returns: 0.08% \\u003cbr\\u003e Volume: 176.6K \\u003cbr\\u003e Open: 51280.25 \\u003cbr\\u003e High: 51783.95 \\u003cbr\\u003e Low: 51138.9 \\u003cbr\\u003e Close: 51703.95\",\"Returns: 1.73% \\u003cbr\\u003e Volume: 204.0K \\u003cbr\\u003e Open: 51759.45 \\u003cbr\\u003e High: 52746.5 \\u003cbr\\u003e Low: 51747.65 \\u003cbr\\u003e Close: 52606.0\",\"Returns: 0.5% \\u003cbr\\u003e Volume: 214.3K \\u003cbr\\u003e Open: 52653.2 \\u003cbr\\u003e High: 52988.3 \\u003cbr\\u003e Low: 52373.7 \\u003cbr\\u003e Close: 52870.5\",\"Returns: -0.11% \\u003cbr\\u003e Volume: 332.9K \\u003cbr\\u003e Open: 52980.3 \\u003cbr\\u003e High: 53180.75 \\u003cbr\\u003e Low: 52639.0 \\u003cbr\\u003e Close: 52811.3\",\"Returns: -0.89% \\u003cbr\\u003e Volume: 244.6K \\u003cbr\\u003e Open: 52874.95 \\u003cbr\\u003e High: 53030.3 \\u003cbr\\u003e Low: 52242.3 \\u003cbr\\u003e Close: 52342.25\",\"Returns: 0.44% \\u003cbr\\u003e Volume: 0.0K \\u003cbr\\u003e Open: 52351.15 \\u003cbr\\u003e High: 52656.15 \\u003cbr\\u003e Low: 52166.05 \\u003cbr\\u003e Close: 52574.75\",\"Returns: -0.78% \\u003cbr\\u003e Volume: 0.0K \\u003cbr\\u003e Open: 52793.75 \\u003cbr\\u003e High: 52828.45 \\u003cbr\\u003e Low: 51996.65 \\u003cbr\\u003e Close: 52168.1\",\"Returns: 1.75% \\u003cbr\\u003e Volume: 0.0K \\u003cbr\\u003e Open: 52872.3 \\u003cbr\\u003e High: 53256.7 \\u003cbr\\u003e Low: 52482.65 \\u003cbr\\u003e Close: 53089.25\",\"Returns: 0.03% \\u003cbr\\u003e Volume: 163.7K \\u003cbr\\u003e Open: 53357.7 \\u003cbr\\u003e High: 53357.7 \\u003cbr\\u003e Low: 52815.9 \\u003cbr\\u003e Close: 53103.7\",\"Returns: -0.84% \\u003cbr\\u003e Volume: 199.6K \\u003cbr\\u003e Open: 52560.1 \\u003cbr\\u003e High: 52817.85 \\u003cbr\\u003e Low: 52290.05 \\u003cbr\\u003e Close: 52660.35\",\"Returns: -0.45% \\u003cbr\\u003e Volume: 158.0K \\u003cbr\\u003e Open: 52533.1 \\u003cbr\\u003e High: 52710.8 \\u003cbr\\u003e Low: 52246.7 \\u003cbr\\u003e Close: 52425.8\",\"Returns: 0.27% \\u003cbr\\u003e Volume: 145.1K \\u003cbr\\u003e Open: 52390.5 \\u003cbr\\u003e High: 52626.6 \\u003cbr\\u003e Low: 52292.95 \\u003cbr\\u003e Close: 52568.8\",\"Returns: -0.72% \\u003cbr\\u003e Volume: 228.0K \\u003cbr\\u003e Open: 52528.8 \\u003cbr\\u003e High: 52528.8 \\u003cbr\\u003e Low: 52075.4 \\u003cbr\\u003e Close: 52189.3\",\"Returns: 0.16% \\u003cbr\\u003e Volume: 138.3K \\u003cbr\\u003e Open: 52316.9 \\u003cbr\\u003e High: 52400.3 \\u003cbr\\u003e Low: 51749.45 \\u003cbr\\u003e Close: 52270.65\",\"Returns: 0.02% \\u003cbr\\u003e Volume: 171.0K \\u003cbr\\u003e Open: 52272.65 \\u003cbr\\u003e High: 52794.55 \\u003cbr\\u003e Low: 52171.15 \\u003cbr\\u003e Close: 52278.9\",\"Returns: 0.34% \\u003cbr\\u003e Volume: 186.1K \\u003cbr\\u003e Open: 52330.05 \\u003cbr\\u003e High: 52662.25 \\u003cbr\\u003e Low: 52154.0 \\u003cbr\\u003e Close: 52455.9\",\"Returns: -0.11% \\u003cbr\\u003e Volume: 158.8K \\u003cbr\\u003e Open: 52466.7 \\u003cbr\\u003e High: 52619.05 \\u003cbr\\u003e Low: 52331.6 \\u003cbr\\u003e Close: 52396.8\",\"Returns: 0.43% \\u003cbr\\u003e Volume: 139.4K \\u003cbr\\u003e Open: 52215.05 \\u003cbr\\u003e High: 52782.75 \\u003cbr\\u003e Low: 52168.65 \\u003cbr\\u003e Close: 52620.7\",\"Returns: -0.68% \\u003cbr\\u003e Volume: 134.1K \\u003cbr\\u003e Open: 52531.55 \\u003cbr\\u003e High: 52586.75 \\u003cbr\\u003e Low: 52146.3 \\u003cbr\\u003e Close: 52265.6\",\"Returns: 0.03% \\u003cbr\\u003e Volume: 175.3K \\u003cbr\\u003e Open: 52145.6 \\u003cbr\\u003e High: 52427.0 \\u003cbr\\u003e Low: 51874.55 \\u003cbr\\u003e Close: 52280.4\",\"Returns: -0.97% \\u003cbr\\u003e Volume: 207.8K \\u003cbr\\u003e Open: 52511.0 \\u003cbr\\u003e High: 52547.55 \\u003cbr\\u003e Low: 51342.65 \\u003cbr\\u003e Close: 51778.3\",\"Returns: -0.89% \\u003cbr\\u003e Volume: 292.2K \\u003cbr\\u003e Open: 51657.65 \\u003cbr\\u003e High: 51944.65 \\u003cbr\\u003e Low: 50784.25 \\u003cbr\\u003e Close: 51317.0\",\"Returns: -0.84% \\u003cbr\\u003e Volume: 188.4K \\u003cbr\\u003e Open: 50762.3 \\u003cbr\\u003e High: 51006.1 \\u003cbr\\u003e Low: 50559.9 \\u003cbr\\u003e Close: 50888.75\",\"Returns: 0.8% \\u003cbr\\u003e Volume: 215.7K \\u003cbr\\u003e Open: 50456.1 \\u003cbr\\u003e High: 51398.6 \\u003cbr\\u003e Low: 50438.3 \\u003cbr\\u003e Close: 51295.95\",\"Returns: 0.21% \\u003cbr\\u003e Volume: 513.7K \\u003cbr\\u003e Open: 51546.65 \\u003cbr\\u003e High: 52340.25 \\u003cbr\\u003e Low: 51186.95 \\u003cbr\\u003e Close: 51406.25\",\"Returns: 0.18% \\u003cbr\\u003e Volume: 235.2K \\u003cbr\\u003e Open: 51383.9 \\u003cbr\\u003e High: 51957.75 \\u003cbr\\u003e Low: 51260.05 \\u003cbr\\u003e Close: 51499.3\",\"Returns: 0.1% \\u003cbr\\u003e Volume: 219.0K \\u003cbr\\u003e Open: 51583.45 \\u003cbr\\u003e High: 51663.1 \\u003cbr\\u003e Low: 51335.7 \\u003cbr\\u003e Close: 51553.4\",\"Returns: 0.02% \\u003cbr\\u003e Volume: 156.4K \\u003cbr\\u003e Open: 51672.6 \\u003cbr\\u003e High: 51877.15 \\u003cbr\\u003e Low: 51456.2 \\u003cbr\\u003e Close: 51564.0\",\"Returns: -0.42% \\u003cbr\\u003e Volume: 163.0K \\u003cbr\\u003e Open: 51172.25 \\u003cbr\\u003e High: 51608.7 \\u003cbr\\u003e Low: 51087.85 \\u003cbr\\u003e Close: 51350.15\",\"Returns: -2.48% \\u003cbr\\u003e Volume: 257.8K \\u003cbr\\u003e Open: 50586.25 \\u003cbr\\u003e High: 50747.55 \\u003cbr\\u003e Low: 49719.1 \\u003cbr\\u003e Close: 50092.1\",\"Returns: -0.69% \\u003cbr\\u003e Volume: 162.8K \\u003cbr\\u003e Open: 50436.9 \\u003cbr\\u003e High: 50688.8 \\u003cbr\\u003e Low: 49659.05 \\u003cbr\\u003e Close: 49748.3\",\"Returns: 0.74% \\u003cbr\\u003e Volume: 171.0K \\u003cbr\\u003e Open: 50286.2 \\u003cbr\\u003e High: 50292.45 \\u003cbr\\u003e Low: 49782.2 \\u003cbr\\u003e Close: 50119.0\",\"Returns: 0.08% \\u003cbr\\u003e Volume: 124.8K \\u003cbr\\u003e Open: 50051.9 \\u003cbr\\u003e High: 50440.75 \\u003cbr\\u003e Low: 49829.6 \\u003cbr\\u003e Close: 50156.7\",\"Returns: 0.65% \\u003cbr\\u003e Volume: 120.2K \\u003cbr\\u003e Open: 50612.1 \\u003cbr\\u003e High: 50707.75 \\u003cbr\\u003e Low: 50386.45 \\u003cbr\\u003e Close: 50484.5\",\"Returns: 0.18% \\u003cbr\\u003e Volume: 163.5K \\u003cbr\\u003e Open: 50412.6 \\u003cbr\\u003e High: 50830.7 \\u003cbr\\u003e Low: 50149.25 \\u003cbr\\u003e Close: 50577.95\",\"Returns: -1.49% \\u003cbr\\u003e Volume: 148.9K \\u003cbr\\u003e Open: 50395.35 \\u003cbr\\u003e High: 50559.25 \\u003cbr\\u003e Low: 49785.1 \\u003cbr\\u003e Close: 49831.85\",\"Returns: -0.21% \\u003cbr\\u003e Volume: 137.1K \\u003cbr\\u003e Open: 49887.15 \\u003cbr\\u003e High: 49959.25 \\u003cbr\\u003e Low: 49654.65 \\u003cbr\\u003e Close: 49727.3\",\"Returns: 1.58% \\u003cbr\\u003e Volume: 130.7K \\u003cbr\\u003e Open: 50133.0 \\u003cbr\\u003e High: 50603.4 \\u003cbr\\u003e Low: 49806.05 \\u003cbr\\u003e Close: 50516.9\",\"Returns: -0.29% \\u003cbr\\u003e Volume: 115.3K \\u003cbr\\u003e Open: 50683.55 \\u003cbr\\u003e High: 50728.25 \\u003cbr\\u003e Low: 50283.55 \\u003cbr\\u003e Close: 50368.35\",\"Returns: 0.86% \\u003cbr\\u003e Volume: 144.2K \\u003cbr\\u003e Open: 50417.25 \\u003cbr\\u003e High: 51025.6 \\u003cbr\\u003e Low: 50398.6 \\u003cbr\\u003e Close: 50803.15\",\"Returns: -0.23% \\u003cbr\\u003e Volume: 180.8K \\u003cbr\\u003e Open: 50666.65 \\u003cbr\\u003e High: 50772.45 \\u003cbr\\u003e Low: 50333.35 \\u003cbr\\u003e Close: 50685.55\",\"Returns: 0.59% \\u003cbr\\u003e Volume: 133.1K \\u003cbr\\u003e Open: 50894.8 \\u003cbr\\u003e High: 51080.0 \\u003cbr\\u003e Low: 50794.45 \\u003cbr\\u003e Close: 50985.7\",\"Returns: -0.1% \\u003cbr\\u003e Volume: 88.5K \\u003cbr\\u003e Open: 51040.05 \\u003cbr\\u003e High: 51117.85 \\u003cbr\\u003e Low: 50856.7 \\u003cbr\\u003e Close: 50933.45\",\"Returns: 0.42% \\u003cbr\\u003e Volume: 100.3K \\u003cbr\\u003e Open: 51100.65 \\u003cbr\\u003e High: 51317.85 \\u003cbr\\u003e Low: 51061.55 \\u003cbr\\u003e Close: 51148.1\",\"Returns: 0.26% \\u003cbr\\u003e Volume: 111.4K \\u003cbr\\u003e Open: 51214.05 \\u003cbr\\u003e High: 51404.7 \\u003cbr\\u003e Low: 50938.1 \\u003cbr\\u003e Close: 51278.75\",\"Returns: -0.26% \\u003cbr\\u003e Volume: 128.1K \\u003cbr\\u003e Open: 51208.95 \\u003cbr\\u003e High: 51260.75 \\u003cbr\\u003e Low: 51033.7 \\u003cbr\\u003e Close: 51143.85\",\"Returns: 0.02% \\u003cbr\\u003e Volume: 143.6K \\u003cbr\\u003e Open: 51103.75 \\u003cbr\\u003e High: 51368.95 \\u003cbr\\u003e Low: 50984.4 \\u003cbr\\u003e Close: 51152.75\",\"Returns: 0.39% \\u003cbr\\u003e Volume: 478.6K \\u003cbr\\u003e Open: 51437.45 \\u003cbr\\u003e High: 51466.55 \\u003cbr\\u003e Low: 51256.0 \\u003cbr\\u003e Close: 51351.0\",\"Returns: 0.17% \\u003cbr\\u003e Volume: 150.2K \\u003cbr\\u003e Open: 51579.5 \\u003cbr\\u003e High: 51579.5 \\u003cbr\\u003e Low: 51295.8 \\u003cbr\\u003e Close: 51439.55\",\"Returns: 0.48% \\u003cbr\\u003e Volume: 127.2K \\u003cbr\\u003e Open: 51479.75 \\u003cbr\\u003e High: 51750.1 \\u003cbr\\u003e Low: 51240.05 \\u003cbr\\u003e Close: 51689.1\",\"Returns: -0.56% \\u003cbr\\u003e Volume: 159.7K \\u003cbr\\u003e Open: 51364.65 \\u003cbr\\u003e High: 51503.55 \\u003cbr\\u003e Low: 51259.9 \\u003cbr\\u003e Close: 51400.25\",\"Returns: 0.14% \\u003cbr\\u003e Volume: 129.6K \\u003cbr\\u003e Open: 51544.25 \\u003cbr\\u003e High: 51636.75 \\u003cbr\\u003e Low: 51389.15 \\u003cbr\\u003e Close: 51473.05\",\"Returns: -1.76% \\u003cbr\\u003e Volume: 186.0K \\u003cbr\\u003e Open: 51200.4 \\u003cbr\\u003e High: 51380.05 \\u003cbr\\u003e Low: 50447.3 \\u003cbr\\u003e Close: 50576.85\",\"Returns: 1.06% \\u003cbr\\u003e Volume: 172.4K \\u003cbr\\u003e Open: 50549.25 \\u003cbr\\u003e High: 51192.75 \\u003cbr\\u003e Low: 50369.4 \\u003cbr\\u003e Close: 51117.8\",\"Returns: 0.3% \\u003cbr\\u003e Volume: 119.3K \\u003cbr\\u003e Open: 51328.3 \\u003cbr\\u003e High: 51366.0 \\u003cbr\\u003e Low: 50958.25 \\u003cbr\\u003e Close: 51272.3\",\"Returns: -0.51% \\u003cbr\\u003e Volume: 145.1K \\u003cbr\\u003e Open: 51218.55 \\u003cbr\\u003e High: 51420.15 \\u003cbr\\u003e Low: 50947.7 \\u003cbr\\u003e Close: 51010.0\",\"Returns: 1.48% \\u003cbr\\u003e Volume: 127.9K \\u003cbr\\u003e Open: 51271.0 \\u003cbr\\u003e High: 51878.1 \\u003cbr\\u003e Low: 51025.0 \\u003cbr\\u003e Close: 51772.4\",\"Returns: 0.32% \\u003cbr\\u003e Volume: 152.0K \\u003cbr\\u003e Open: 51952.55 \\u003cbr\\u003e High: 51994.1 \\u003cbr\\u003e Low: 51643.95 \\u003cbr\\u003e Close: 51938.05\",\"Returns: 0.41% \\u003cbr\\u003e Volume: 93.8K \\u003cbr\\u003e Open: 52038.7 \\u003cbr\\u003e High: 52208.7 \\u003cbr\\u003e Low: 51921.45 \\u003cbr\\u003e Close: 52153.15\",\"Returns: 0.07% \\u003cbr\\u003e Volume: 111.4K \\u003cbr\\u003e Open: 52249.05 \\u003cbr\\u003e High: 52284.6 \\u003cbr\\u003e Low: 52085.5 \\u003cbr\\u003e Close: 52188.65\",\"Returns: 1.07% \\u003cbr\\u003e Volume: 205.1K \\u003cbr\\u003e Open: 52177.1 \\u003cbr\\u003e High: 52954.2 \\u003cbr\\u003e Low: 52154.55 \\u003cbr\\u003e Close: 52750.4\",\"Returns: 0.54% \\u003cbr\\u003e Volume: 164.9K \\u003cbr\\u003e Open: 52929.25 \\u003cbr\\u003e High: 53353.3 \\u003cbr\\u003e Low: 52847.9 \\u003cbr\\u003e Close: 53037.6\",\"Returns: 1.41% \\u003cbr\\u003e Volume: 271.9K \\u003cbr\\u003e Open: 53235.8 \\u003cbr\\u003e High: 54066.1 \\u003cbr\\u003e Low: 53037.6 \\u003cbr\\u003e Close: 53793.2\",\"Returns: 0.58% \\u003cbr\\u003e Volume: 163.7K \\u003cbr\\u003e Open: 53917.9 \\u003cbr\\u003e High: 54197.95 \\u003cbr\\u003e Low: 53741.4 \\u003cbr\\u003e Close: 54105.8\",\"Returns: -0.25% \\u003cbr\\u003e Volume: 192.6K \\u003cbr\\u003e Open: 54110.65 \\u003cbr\\u003e High: 54247.7 \\u003cbr\\u003e Low: 53904.65 \\u003cbr\\u003e Close: 53968.6\",\"Returns: 0.25% \\u003cbr\\u003e Volume: 184.6K \\u003cbr\\u003e Open: 53794.0 \\u003cbr\\u003e High: 54141.3 \\u003cbr\\u003e Low: 53792.85 \\u003cbr\\u003e Close: 54101.65\",\"Returns: 0.5% \\u003cbr\\u003e Volume: 170.5K \\u003cbr\\u003e Open: 54045.85 \\u003cbr\\u003e High: 54467.35 \\u003cbr\\u003e Low: 54010.9 \\u003cbr\\u003e Close: 54375.35\",\"Returns: -1.0% \\u003cbr\\u003e Volume: 217.4K \\u003cbr\\u003e Open: 54338.7 \\u003cbr\\u003e High: 54338.7 \\u003cbr\\u003e Low: 53763.2 \\u003cbr\\u003e Close: 53834.3\",\"Returns: -1.6% \\u003cbr\\u003e Volume: 179.3K \\u003cbr\\u003e Open: 53556.95 \\u003cbr\\u003e High: 53726.4 \\u003cbr\\u003e Low: 52926.55 \\u003cbr\\u003e Close: 52978.1\"],\"increasing\":{\"line\":{\"color\":\"green\"}},\"low\":[47481.3515625,47738.1484375,47822.8515625,47387.3515625,47156.05078125,47010.80078125,47237.0,47408.5,47825.3984375,48002.8515625,45979.6015625,45430.69921875,45558.05078125,44886.1015625,44489.3984375,44429.0,45110.8984375,45206.05078125,45071.19921875,45668.3515625,45901.25,45615.1015625,45527.0,45620.5,44893.75,44859.1484375,44633.8515625,44819.55078125,44860.75,45590.19921875,46264.3984375,46367.80078125,46886.94921875,46426.8515625,46723.1484375,46513.55078125,46324.8984375,45852.55078125,45661.75,46218.0,47191.6484375,47196.75,47442.25,47747.19921875,47230.6484375,46884.44921875,46842.1484375,46565.55078125,46310.5,46022.1484375,46258.75,45828.80078125,46570.1484375,46566.80078125,46529.05078125,46643.44921875,46827.8515625,47373.1015625,47408.55078125,47279.80078125,47712.69921875,47894.5,48424.6484375,48568.25,48669.25,48477.55078125,47725.80078125,47316.55078125,46982.1484375,46579.05078125,47628.44921875,47899.30078125,48028.69921875,47737.19921875,48088.25,48342.69921875,49249.8984375,49123.6015625,48659.69921875,48784.0,48213.75,47851.1484375,47440.6484375,47313.3515625,46983.25,47607.8515625,47534.5,47340.3515625,47758.80078125,47927.1015625,47435.25,47873.1484375,48644.80078125,49051.25,49043.6484375,48401.55078125,48313.6015625,48569.05078125,50092.6484375,46077.8515625,46446.80078125,48906.75,49080.44921875,49622.75,49530.44921875,49697.3515625,49799.6484375,49693.3515625,49900.19921875,50441.75,51281.5,51224.94921875,51138.8984375,51747.6484375,52373.69921875,52639.0,52242.30078125,52166.05078125,51996.6484375,52482.6484375,52815.8984375,52290.05078125,52246.69921875,52292.94921875,52075.3984375,51749.44921875,52171.1484375,52154.0,52331.6015625,52168.6484375,52146.30078125,51874.55078125,51342.6484375,50784.25,50559.8984375,50438.30078125,51186.94921875,51260.05078125,51335.69921875,51456.19921875,51087.8515625,49719.1015625,49659.05078125,49782.19921875,49829.6015625,50386.44921875,50149.25,49785.1015625,49654.6484375,49806.05078125,50283.55078125,50398.6015625,50333.3515625,50794.44921875,50856.69921875,51061.55078125,50938.1015625,51033.69921875,50984.3984375,51256.0,51295.80078125,51240.05078125,51259.8984375,51389.1484375,50447.30078125,50369.3984375,50958.25,50947.69921875,51025.0,51643.94921875,51921.44921875,52085.5,52154.55078125,52847.8984375,53037.6015625,53741.3984375,53904.6484375,53792.8515625,54010.8984375,53763.19921875,52926.55078125],\"name\":\"Price\",\"open\":[47796.30078125,47805.3984375,48245.55078125,48096.6484375,47705.3984375,47073.8515625,47538.6015625,47572.69921875,47891.05078125,48109.94921875,46573.94921875,45492.75,46103.5,46495.44921875,44489.3984375,45057.94921875,45171.5,45481.5,45295.6484375,46164.8984375,46568.19921875,45962.25,45891.19921875,45944.6015625,45973.8515625,44986.75,45664.30078125,45056.80078125,45014.6484375,46027.1015625,46454.30078125,46444.8984375,47363.3984375,46934.55078125,47060.69921875,46615.8515625,46480.19921875,46640.8984375,45881.44921875,46218.0,47318.5,47265.69921875,47451.6484375,48035.80078125,47792.19921875,47351.3515625,47341.1484375,46825.75,46572.1015625,46458.75,46421.8984375,46392.8984375,46674.8515625,46634.8984375,46552.94921875,46643.44921875,46827.8515625,47391.05078125,47490.75,47350.25,48086.19921875,48104.6484375,48586.75,48810.80078125,48879.55078125,48671.19921875,48057.5,47436.69921875,47592.69921875,46744.94921875,48145.69921875,48299.6015625,48120.8984375,47772.6484375,48660.0,48359.8984375,49477.1015625,49262.0,49375.05078125,49174.55078125,48965.05078125,48124.19921875,47976.3515625,47555.5,47389.80078125,47748.8515625,47923.1015625,47945.8515625,47842.94921875,47927.1015625,48113.8984375,47899.3515625,48668.0,49105.8984375,49390.8984375,48786.69921875,48313.6015625,48895.1484375,50889.8515625,50667.05078125,47486.6015625,49426.3984375,49316.94921875,49808.1484375,49751.19921875,49857.44921875,50179.0,49993.94921875,50194.3515625,50607.8984375,51712.8984375,51927.30078125,51280.25,51759.44921875,52653.19921875,52980.30078125,52874.94921875,52351.1484375,52793.75,52872.30078125,53357.69921875,52560.1015625,52533.1015625,52390.5,52528.80078125,52316.8984375,52272.6484375,52330.05078125,52466.69921875,52215.05078125,52531.55078125,52145.6015625,52511.0,51657.6484375,50762.30078125,50456.1015625,51546.6484375,51383.8984375,51583.44921875,51672.6015625,51172.25,50586.25,50436.8984375,50286.19921875,50051.8984375,50612.1015625,50412.6015625,50395.3515625,49887.1484375,50133.0,50683.55078125,50417.25,50666.6484375,50894.80078125,51040.05078125,51100.6484375,51214.05078125,51208.94921875,51103.75,51437.44921875,51579.5,51479.75,51364.6484375,51544.25,51200.3984375,50549.25,51328.30078125,51218.55078125,51271.0,51952.55078125,52038.69921875,52249.05078125,52177.1015625,52929.25,53235.80078125,53917.8984375,54110.6484375,53794.0,54045.8515625,54338.69921875,53556.94921875],\"x\":[\"2024-01-03T00:00:00\",\"2024-01-04T00:00:00\",\"2024-01-05T00:00:00\",\"2024-01-08T00:00:00\",\"2024-01-09T00:00:00\",\"2024-01-10T00:00:00\",\"2024-01-11T00:00:00\",\"2024-01-12T00:00:00\",\"2024-01-15T00:00:00\",\"2024-01-16T00:00:00\",\"2024-01-17T00:00:00\",\"2024-01-18T00:00:00\",\"2024-01-19T00:00:00\",\"2024-01-23T00:00:00\",\"2024-01-24T00:00:00\",\"2024-01-25T00:00:00\",\"2024-01-29T00:00:00\",\"2024-01-30T00:00:00\",\"2024-01-31T00:00:00\",\"2024-02-01T00:00:00\",\"2024-02-02T00:00:00\",\"2024-02-05T00:00:00\",\"2024-02-06T00:00:00\",\"2024-02-07T00:00:00\",\"2024-02-08T00:00:00\",\"2024-02-09T00:00:00\",\"2024-02-12T00:00:00\",\"2024-02-13T00:00:00\",\"2024-02-14T00:00:00\",\"2024-02-15T00:00:00\",\"2024-02-16T00:00:00\",\"2024-02-20T00:00:00\",\"2024-02-21T00:00:00\",\"2024-02-22T00:00:00\",\"2024-02-23T00:00:00\",\"2024-02-26T00:00:00\",\"2024-02-27T00:00:00\",\"2024-02-28T00:00:00\",\"2024-02-29T00:00:00\",\"2024-03-01T00:00:00\",\"2024-03-04T00:00:00\",\"2024-03-05T00:00:00\",\"2024-03-06T00:00:00\",\"2024-03-07T00:00:00\",\"2024-03-11T00:00:00\",\"2024-03-12T00:00:00\",\"2024-03-13T00:00:00\",\"2024-03-14T00:00:00\",\"2024-03-15T00:00:00\",\"2024-03-18T00:00:00\",\"2024-03-19T00:00:00\",\"2024-03-20T00:00:00\",\"2024-03-21T00:00:00\",\"2024-03-22T00:00:00\",\"2024-03-26T00:00:00\",\"2024-03-27T00:00:00\",\"2024-03-28T00:00:00\",\"2024-04-01T00:00:00\",\"2024-04-02T00:00:00\",\"2024-04-03T00:00:00\",\"2024-04-04T00:00:00\",\"2024-04-05T00:00:00\",\"2024-04-08T00:00:00\",\"2024-04-09T00:00:00\",\"2024-04-10T00:00:00\",\"2024-04-12T00:00:00\",\"2024-04-15T00:00:00\",\"2024-04-16T00:00:00\",\"2024-04-18T00:00:00\",\"2024-04-19T00:00:00\",\"2024-04-22T00:00:00\",\"2024-04-23T00:00:00\",\"2024-04-24T00:00:00\",\"2024-04-25T00:00:00\",\"2024-04-26T00:00:00\",\"2024-04-29T00:00:00\",\"2024-04-30T00:00:00\",\"2024-05-02T00:00:00\",\"2024-05-03T00:00:00\",\"2024-05-06T00:00:00\",\"2024-05-07T00:00:00\",\"2024-05-08T00:00:00\",\"2024-05-09T00:00:00\",\"2024-05-10T00:00:00\",\"2024-05-13T00:00:00\",\"2024-05-14T00:00:00\",\"2024-05-15T00:00:00\",\"2024-05-16T00:00:00\",\"2024-05-17T00:00:00\",\"2024-05-21T00:00:00\",\"2024-05-22T00:00:00\",\"2024-05-23T00:00:00\",\"2024-05-24T00:00:00\",\"2024-05-27T00:00:00\",\"2024-05-28T00:00:00\",\"2024-05-29T00:00:00\",\"2024-05-30T00:00:00\",\"2024-05-31T00:00:00\",\"2024-06-03T00:00:00\",\"2024-06-04T00:00:00\",\"2024-06-05T00:00:00\",\"2024-06-06T00:00:00\",\"2024-06-07T00:00:00\",\"2024-06-10T00:00:00\",\"2024-06-11T00:00:00\",\"2024-06-12T00:00:00\",\"2024-06-13T00:00:00\",\"2024-06-14T00:00:00\",\"2024-06-18T00:00:00\",\"2024-06-19T00:00:00\",\"2024-06-20T00:00:00\",\"2024-06-21T00:00:00\",\"2024-06-24T00:00:00\",\"2024-06-25T00:00:00\",\"2024-06-26T00:00:00\",\"2024-06-27T00:00:00\",\"2024-06-28T00:00:00\",\"2024-07-01T00:00:00\",\"2024-07-02T00:00:00\",\"2024-07-03T00:00:00\",\"2024-07-04T00:00:00\",\"2024-07-05T00:00:00\",\"2024-07-08T00:00:00\",\"2024-07-09T00:00:00\",\"2024-07-10T00:00:00\",\"2024-07-11T00:00:00\",\"2024-07-12T00:00:00\",\"2024-07-15T00:00:00\",\"2024-07-16T00:00:00\",\"2024-07-18T00:00:00\",\"2024-07-19T00:00:00\",\"2024-07-22T00:00:00\",\"2024-07-23T00:00:00\",\"2024-07-24T00:00:00\",\"2024-07-25T00:00:00\",\"2024-07-26T00:00:00\",\"2024-07-29T00:00:00\",\"2024-07-30T00:00:00\",\"2024-07-31T00:00:00\",\"2024-08-01T00:00:00\",\"2024-08-02T00:00:00\",\"2024-08-05T00:00:00\",\"2024-08-06T00:00:00\",\"2024-08-07T00:00:00\",\"2024-08-08T00:00:00\",\"2024-08-09T00:00:00\",\"2024-08-12T00:00:00\",\"2024-08-13T00:00:00\",\"2024-08-14T00:00:00\",\"2024-08-16T00:00:00\",\"2024-08-19T00:00:00\",\"2024-08-20T00:00:00\",\"2024-08-21T00:00:00\",\"2024-08-22T00:00:00\",\"2024-08-23T00:00:00\",\"2024-08-26T00:00:00\",\"2024-08-27T00:00:00\",\"2024-08-28T00:00:00\",\"2024-08-29T00:00:00\",\"2024-08-30T00:00:00\",\"2024-09-02T00:00:00\",\"2024-09-03T00:00:00\",\"2024-09-04T00:00:00\",\"2024-09-05T00:00:00\",\"2024-09-06T00:00:00\",\"2024-09-09T00:00:00\",\"2024-09-10T00:00:00\",\"2024-09-11T00:00:00\",\"2024-09-12T00:00:00\",\"2024-09-13T00:00:00\",\"2024-09-16T00:00:00\",\"2024-09-17T00:00:00\",\"2024-09-18T00:00:00\",\"2024-09-19T00:00:00\",\"2024-09-20T00:00:00\",\"2024-09-23T00:00:00\",\"2024-09-24T00:00:00\",\"2024-09-25T00:00:00\",\"2024-09-26T00:00:00\",\"2024-09-27T00:00:00\",\"2024-09-30T00:00:00\"],\"type\":\"candlestick\",\"xaxis\":\"x\",\"yaxis\":\"y\"},{\"marker\":{\"color\":\"rgba(0, 0, 255, 0.3)\"},\"name\":\"Volume\",\"x\":[\"2024-01-03T00:00:00\",\"2024-01-04T00:00:00\",\"2024-01-05T00:00:00\",\"2024-01-08T00:00:00\",\"2024-01-09T00:00:00\",\"2024-01-10T00:00:00\",\"2024-01-11T00:00:00\",\"2024-01-12T00:00:00\",\"2024-01-15T00:00:00\",\"2024-01-16T00:00:00\",\"2024-01-17T00:00:00\",\"2024-01-18T00:00:00\",\"2024-01-19T00:00:00\",\"2024-01-23T00:00:00\",\"2024-01-24T00:00:00\",\"2024-01-25T00:00:00\",\"2024-01-29T00:00:00\",\"2024-01-30T00:00:00\",\"2024-01-31T00:00:00\",\"2024-02-01T00:00:00\",\"2024-02-02T00:00:00\",\"2024-02-05T00:00:00\",\"2024-02-06T00:00:00\",\"2024-02-07T00:00:00\",\"2024-02-08T00:00:00\",\"2024-02-09T00:00:00\",\"2024-02-12T00:00:00\",\"2024-02-13T00:00:00\",\"2024-02-14T00:00:00\",\"2024-02-15T00:00:00\",\"2024-02-16T00:00:00\",\"2024-02-20T00:00:00\",\"2024-02-21T00:00:00\",\"2024-02-22T00:00:00\",\"2024-02-23T00:00:00\",\"2024-02-26T00:00:00\",\"2024-02-27T00:00:00\",\"2024-02-28T00:00:00\",\"2024-02-29T00:00:00\",\"2024-03-01T00:00:00\",\"2024-03-04T00:00:00\",\"2024-03-05T00:00:00\",\"2024-03-06T00:00:00\",\"2024-03-07T00:00:00\",\"2024-03-11T00:00:00\",\"2024-03-12T00:00:00\",\"2024-03-13T00:00:00\",\"2024-03-14T00:00:00\",\"2024-03-15T00:00:00\",\"2024-03-18T00:00:00\",\"2024-03-19T00:00:00\",\"2024-03-20T00:00:00\",\"2024-03-21T00:00:00\",\"2024-03-22T00:00:00\",\"2024-03-26T00:00:00\",\"2024-03-27T00:00:00\",\"2024-03-28T00:00:00\",\"2024-04-01T00:00:00\",\"2024-04-02T00:00:00\",\"2024-04-03T00:00:00\",\"2024-04-04T00:00:00\",\"2024-04-05T00:00:00\",\"2024-04-08T00:00:00\",\"2024-04-09T00:00:00\",\"2024-04-10T00:00:00\",\"2024-04-12T00:00:00\",\"2024-04-15T00:00:00\",\"2024-04-16T00:00:00\",\"2024-04-18T00:00:00\",\"2024-04-19T00:00:00\",\"2024-04-22T00:00:00\",\"2024-04-23T00:00:00\",\"2024-04-24T00:00:00\",\"2024-04-25T00:00:00\",\"2024-04-26T00:00:00\",\"2024-04-29T00:00:00\",\"2024-04-30T00:00:00\",\"2024-05-02T00:00:00\",\"2024-05-03T00:00:00\",\"2024-05-06T00:00:00\",\"2024-05-07T00:00:00\",\"2024-05-08T00:00:00\",\"2024-05-09T00:00:00\",\"2024-05-10T00:00:00\",\"2024-05-13T00:00:00\",\"2024-05-14T00:00:00\",\"2024-05-15T00:00:00\",\"2024-05-16T00:00:00\",\"2024-05-17T00:00:00\",\"2024-05-21T00:00:00\",\"2024-05-22T00:00:00\",\"2024-05-23T00:00:00\",\"2024-05-24T00:00:00\",\"2024-05-27T00:00:00\",\"2024-05-28T00:00:00\",\"2024-05-29T00:00:00\",\"2024-05-30T00:00:00\",\"2024-05-31T00:00:00\",\"2024-06-03T00:00:00\",\"2024-06-04T00:00:00\",\"2024-06-05T00:00:00\",\"2024-06-06T00:00:00\",\"2024-06-07T00:00:00\",\"2024-06-10T00:00:00\",\"2024-06-11T00:00:00\",\"2024-06-12T00:00:00\",\"2024-06-13T00:00:00\",\"2024-06-14T00:00:00\",\"2024-06-18T00:00:00\",\"2024-06-19T00:00:00\",\"2024-06-20T00:00:00\",\"2024-06-21T00:00:00\",\"2024-06-24T00:00:00\",\"2024-06-25T00:00:00\",\"2024-06-26T00:00:00\",\"2024-06-27T00:00:00\",\"2024-06-28T00:00:00\",\"2024-07-01T00:00:00\",\"2024-07-02T00:00:00\",\"2024-07-03T00:00:00\",\"2024-07-04T00:00:00\",\"2024-07-05T00:00:00\",\"2024-07-08T00:00:00\",\"2024-07-09T00:00:00\",\"2024-07-10T00:00:00\",\"2024-07-11T00:00:00\",\"2024-07-12T00:00:00\",\"2024-07-15T00:00:00\",\"2024-07-16T00:00:00\",\"2024-07-18T00:00:00\",\"2024-07-19T00:00:00\",\"2024-07-22T00:00:00\",\"2024-07-23T00:00:00\",\"2024-07-24T00:00:00\",\"2024-07-25T00:00:00\",\"2024-07-26T00:00:00\",\"2024-07-29T00:00:00\",\"2024-07-30T00:00:00\",\"2024-07-31T00:00:00\",\"2024-08-01T00:00:00\",\"2024-08-02T00:00:00\",\"2024-08-05T00:00:00\",\"2024-08-06T00:00:00\",\"2024-08-07T00:00:00\",\"2024-08-08T00:00:00\",\"2024-08-09T00:00:00\",\"2024-08-12T00:00:00\",\"2024-08-13T00:00:00\",\"2024-08-14T00:00:00\",\"2024-08-16T00:00:00\",\"2024-08-19T00:00:00\",\"2024-08-20T00:00:00\",\"2024-08-21T00:00:00\",\"2024-08-22T00:00:00\",\"2024-08-23T00:00:00\",\"2024-08-26T00:00:00\",\"2024-08-27T00:00:00\",\"2024-08-28T00:00:00\",\"2024-08-29T00:00:00\",\"2024-08-30T00:00:00\",\"2024-09-02T00:00:00\",\"2024-09-03T00:00:00\",\"2024-09-04T00:00:00\",\"2024-09-05T00:00:00\",\"2024-09-06T00:00:00\",\"2024-09-09T00:00:00\",\"2024-09-10T00:00:00\",\"2024-09-11T00:00:00\",\"2024-09-12T00:00:00\",\"2024-09-13T00:00:00\",\"2024-09-16T00:00:00\",\"2024-09-17T00:00:00\",\"2024-09-18T00:00:00\",\"2024-09-19T00:00:00\",\"2024-09-20T00:00:00\",\"2024-09-23T00:00:00\",\"2024-09-24T00:00:00\",\"2024-09-25T00:00:00\",\"2024-09-26T00:00:00\",\"2024-09-27T00:00:00\",\"2024-09-30T00:00:00\"],\"y\":[233300,175700,181000,231400,161000,165200,132500,191600,167100,224500,499600,275000,296600,422600,348700,386800,336800,232100,373100,305700,337000,265900,178600,283700,319900,276000,268800,245900,280000,277700,291400,171900,198900,177200,200500,223700,157300,167300,544700,172500,158100,176900,301700,146300,204200,207200,274600,220400,339300,151300,147100,210400,150400,172200,171700,285100,348000,134089400,183400,283800,324300,214300,263400,147600,247100,208000,197100,186100,186400,164600,177700,141100,112200,337400,208100,327100,402900,291900,223000,340200,230300,286000,272900,218900,220900,152000,188800,219900,143800,166800,204900,184500,135000,226500,155200,183600,151000,303600,453200,653100,546800,250400,170300,195800,128500,211700,125700,155000,189200,435300,235900,289400,176600,204000,214300,332900,244600,0,0,0,163700,199600,158000,145100,228000,138300,171000,186100,158800,139400,134100,175300,207800,292200,188400,215700,513700,235200,219000,156400,163000,257800,162800,171000,124800,120200,163500,148900,137100,130700,115300,144200,180800,133100,88500,100300,111400,128100,143600,478600,150200,127200,159700,129600,186000,172400,119300,145100,127900,152000,93800,111400,205100,164900,271900,163700,192600,184600,170500,217400,179300],\"type\":\"bar\",\"xaxis\":\"x\",\"yaxis\":\"y2\"}],                        {\"template\":{\"data\":{\"histogram2dcontour\":[{\"type\":\"histogram2dcontour\",\"colorbar\":{\"outlinewidth\":0,\"ticks\":\"\"},\"colorscale\":[[0.0,\"#0d0887\"],[0.1111111111111111,\"#46039f\"],[0.2222222222222222,\"#7201a8\"],[0.3333333333333333,\"#9c179e\"],[0.4444444444444444,\"#bd3786\"],[0.5555555555555556,\"#d8576b\"],[0.6666666666666666,\"#ed7953\"],[0.7777777777777778,\"#fb9f3a\"],[0.8888888888888888,\"#fdca26\"],[1.0,\"#f0f921\"]]}],\"choropleth\":[{\"type\":\"choropleth\",\"colorbar\":{\"outlinewidth\":0,\"ticks\":\"\"}}],\"histogram2d\":[{\"type\":\"histogram2d\",\"colorbar\":{\"outlinewidth\":0,\"ticks\":\"\"},\"colorscale\":[[0.0,\"#0d0887\"],[0.1111111111111111,\"#46039f\"],[0.2222222222222222,\"#7201a8\"],[0.3333333333333333,\"#9c179e\"],[0.4444444444444444,\"#bd3786\"],[0.5555555555555556,\"#d8576b\"],[0.6666666666666666,\"#ed7953\"],[0.7777777777777778,\"#fb9f3a\"],[0.8888888888888888,\"#fdca26\"],[1.0,\"#f0f921\"]]}],\"heatmap\":[{\"type\":\"heatmap\",\"colorbar\":{\"outlinewidth\":0,\"ticks\":\"\"},\"colorscale\":[[0.0,\"#0d0887\"],[0.1111111111111111,\"#46039f\"],[0.2222222222222222,\"#7201a8\"],[0.3333333333333333,\"#9c179e\"],[0.4444444444444444,\"#bd3786\"],[0.5555555555555556,\"#d8576b\"],[0.6666666666666666,\"#ed7953\"],[0.7777777777777778,\"#fb9f3a\"],[0.8888888888888888,\"#fdca26\"],[1.0,\"#f0f921\"]]}],\"heatmapgl\":[{\"type\":\"heatmapgl\",\"colorbar\":{\"outlinewidth\":0,\"ticks\":\"\"},\"colorscale\":[[0.0,\"#0d0887\"],[0.1111111111111111,\"#46039f\"],[0.2222222222222222,\"#7201a8\"],[0.3333333333333333,\"#9c179e\"],[0.4444444444444444,\"#bd3786\"],[0.5555555555555556,\"#d8576b\"],[0.6666666666666666,\"#ed7953\"],[0.7777777777777778,\"#fb9f3a\"],[0.8888888888888888,\"#fdca26\"],[1.0,\"#f0f921\"]]}],\"contourcarpet\":[{\"type\":\"contourcarpet\",\"colorbar\":{\"outlinewidth\":0,\"ticks\":\"\"}}],\"contour\":[{\"type\":\"contour\",\"colorbar\":{\"outlinewidth\":0,\"ticks\":\"\"},\"colorscale\":[[0.0,\"#0d0887\"],[0.1111111111111111,\"#46039f\"],[0.2222222222222222,\"#7201a8\"],[0.3333333333333333,\"#9c179e\"],[0.4444444444444444,\"#bd3786\"],[0.5555555555555556,\"#d8576b\"],[0.6666666666666666,\"#ed7953\"],[0.7777777777777778,\"#fb9f3a\"],[0.8888888888888888,\"#fdca26\"],[1.0,\"#f0f921\"]]}],\"surface\":[{\"type\":\"surface\",\"colorbar\":{\"outlinewidth\":0,\"ticks\":\"\"},\"colorscale\":[[0.0,\"#0d0887\"],[0.1111111111111111,\"#46039f\"],[0.2222222222222222,\"#7201a8\"],[0.3333333333333333,\"#9c179e\"],[0.4444444444444444,\"#bd3786\"],[0.5555555555555556,\"#d8576b\"],[0.6666666666666666,\"#ed7953\"],[0.7777777777777778,\"#fb9f3a\"],[0.8888888888888888,\"#fdca26\"],[1.0,\"#f0f921\"]]}],\"mesh3d\":[{\"type\":\"mesh3d\",\"colorbar\":{\"outlinewidth\":0,\"ticks\":\"\"}}],\"scatter\":[{\"fillpattern\":{\"fillmode\":\"overlay\",\"size\":10,\"solidity\":0.2},\"type\":\"scatter\"}],\"parcoords\":[{\"type\":\"parcoords\",\"line\":{\"colorbar\":{\"outlinewidth\":0,\"ticks\":\"\"}}}],\"scatterpolargl\":[{\"type\":\"scatterpolargl\",\"marker\":{\"colorbar\":{\"outlinewidth\":0,\"ticks\":\"\"}}}],\"bar\":[{\"error_x\":{\"color\":\"#2a3f5f\"},\"error_y\":{\"color\":\"#2a3f5f\"},\"marker\":{\"line\":{\"color\":\"#E5ECF6\",\"width\":0.5},\"pattern\":{\"fillmode\":\"overlay\",\"size\":10,\"solidity\":0.2}},\"type\":\"bar\"}],\"scattergeo\":[{\"type\":\"scattergeo\",\"marker\":{\"colorbar\":{\"outlinewidth\":0,\"ticks\":\"\"}}}],\"scatterpolar\":[{\"type\":\"scatterpolar\",\"marker\":{\"colorbar\":{\"outlinewidth\":0,\"ticks\":\"\"}}}],\"histogram\":[{\"marker\":{\"pattern\":{\"fillmode\":\"overlay\",\"size\":10,\"solidity\":0.2}},\"type\":\"histogram\"}],\"scattergl\":[{\"type\":\"scattergl\",\"marker\":{\"colorbar\":{\"outlinewidth\":0,\"ticks\":\"\"}}}],\"scatter3d\":[{\"type\":\"scatter3d\",\"line\":{\"colorbar\":{\"outlinewidth\":0,\"ticks\":\"\"}},\"marker\":{\"colorbar\":{\"outlinewidth\":0,\"ticks\":\"\"}}}],\"scattermapbox\":[{\"type\":\"scattermapbox\",\"marker\":{\"colorbar\":{\"outlinewidth\":0,\"ticks\":\"\"}}}],\"scatterternary\":[{\"type\":\"scatterternary\",\"marker\":{\"colorbar\":{\"outlinewidth\":0,\"ticks\":\"\"}}}],\"scattercarpet\":[{\"type\":\"scattercarpet\",\"marker\":{\"colorbar\":{\"outlinewidth\":0,\"ticks\":\"\"}}}],\"carpet\":[{\"aaxis\":{\"endlinecolor\":\"#2a3f5f\",\"gridcolor\":\"white\",\"linecolor\":\"white\",\"minorgridcolor\":\"white\",\"startlinecolor\":\"#2a3f5f\"},\"baxis\":{\"endlinecolor\":\"#2a3f5f\",\"gridcolor\":\"white\",\"linecolor\":\"white\",\"minorgridcolor\":\"white\",\"startlinecolor\":\"#2a3f5f\"},\"type\":\"carpet\"}],\"table\":[{\"cells\":{\"fill\":{\"color\":\"#EBF0F8\"},\"line\":{\"color\":\"white\"}},\"header\":{\"fill\":{\"color\":\"#C8D4E3\"},\"line\":{\"color\":\"white\"}},\"type\":\"table\"}],\"barpolar\":[{\"marker\":{\"line\":{\"color\":\"#E5ECF6\",\"width\":0.5},\"pattern\":{\"fillmode\":\"overlay\",\"size\":10,\"solidity\":0.2}},\"type\":\"barpolar\"}],\"pie\":[{\"automargin\":true,\"type\":\"pie\"}]},\"layout\":{\"autotypenumbers\":\"strict\",\"colorway\":[\"#636efa\",\"#EF553B\",\"#00cc96\",\"#ab63fa\",\"#FFA15A\",\"#19d3f3\",\"#FF6692\",\"#B6E880\",\"#FF97FF\",\"#FECB52\"],\"font\":{\"color\":\"#2a3f5f\"},\"hovermode\":\"closest\",\"hoverlabel\":{\"align\":\"left\"},\"paper_bgcolor\":\"white\",\"plot_bgcolor\":\"#E5ECF6\",\"polar\":{\"bgcolor\":\"#E5ECF6\",\"angularaxis\":{\"gridcolor\":\"white\",\"linecolor\":\"white\",\"ticks\":\"\"},\"radialaxis\":{\"gridcolor\":\"white\",\"linecolor\":\"white\",\"ticks\":\"\"}},\"ternary\":{\"bgcolor\":\"#E5ECF6\",\"aaxis\":{\"gridcolor\":\"white\",\"linecolor\":\"white\",\"ticks\":\"\"},\"baxis\":{\"gridcolor\":\"white\",\"linecolor\":\"white\",\"ticks\":\"\"},\"caxis\":{\"gridcolor\":\"white\",\"linecolor\":\"white\",\"ticks\":\"\"}},\"coloraxis\":{\"colorbar\":{\"outlinewidth\":0,\"ticks\":\"\"}},\"colorscale\":{\"sequential\":[[0.0,\"#0d0887\"],[0.1111111111111111,\"#46039f\"],[0.2222222222222222,\"#7201a8\"],[0.3333333333333333,\"#9c179e\"],[0.4444444444444444,\"#bd3786\"],[0.5555555555555556,\"#d8576b\"],[0.6666666666666666,\"#ed7953\"],[0.7777777777777778,\"#fb9f3a\"],[0.8888888888888888,\"#fdca26\"],[1.0,\"#f0f921\"]],\"sequentialminus\":[[0.0,\"#0d0887\"],[0.1111111111111111,\"#46039f\"],[0.2222222222222222,\"#7201a8\"],[0.3333333333333333,\"#9c179e\"],[0.4444444444444444,\"#bd3786\"],[0.5555555555555556,\"#d8576b\"],[0.6666666666666666,\"#ed7953\"],[0.7777777777777778,\"#fb9f3a\"],[0.8888888888888888,\"#fdca26\"],[1.0,\"#f0f921\"]],\"diverging\":[[0,\"#8e0152\"],[0.1,\"#c51b7d\"],[0.2,\"#de77ae\"],[0.3,\"#f1b6da\"],[0.4,\"#fde0ef\"],[0.5,\"#f7f7f7\"],[0.6,\"#e6f5d0\"],[0.7,\"#b8e186\"],[0.8,\"#7fbc41\"],[0.9,\"#4d9221\"],[1,\"#276419\"]]},\"xaxis\":{\"gridcolor\":\"white\",\"linecolor\":\"white\",\"ticks\":\"\",\"title\":{\"standoff\":15},\"zerolinecolor\":\"white\",\"automargin\":true,\"zerolinewidth\":2},\"yaxis\":{\"gridcolor\":\"white\",\"linecolor\":\"white\",\"ticks\":\"\",\"title\":{\"standoff\":15},\"zerolinecolor\":\"white\",\"automargin\":true,\"zerolinewidth\":2},\"scene\":{\"xaxis\":{\"backgroundcolor\":\"#E5ECF6\",\"gridcolor\":\"white\",\"linecolor\":\"white\",\"showbackground\":true,\"ticks\":\"\",\"zerolinecolor\":\"white\",\"gridwidth\":2},\"yaxis\":{\"backgroundcolor\":\"#E5ECF6\",\"gridcolor\":\"white\",\"linecolor\":\"white\",\"showbackground\":true,\"ticks\":\"\",\"zerolinecolor\":\"white\",\"gridwidth\":2},\"zaxis\":{\"backgroundcolor\":\"#E5ECF6\",\"gridcolor\":\"white\",\"linecolor\":\"white\",\"showbackground\":true,\"ticks\":\"\",\"zerolinecolor\":\"white\",\"gridwidth\":2}},\"shapedefaults\":{\"line\":{\"color\":\"#2a3f5f\"}},\"annotationdefaults\":{\"arrowcolor\":\"#2a3f5f\",\"arrowhead\":0,\"arrowwidth\":1},\"geo\":{\"bgcolor\":\"white\",\"landcolor\":\"#E5ECF6\",\"subunitcolor\":\"white\",\"showland\":true,\"showlakes\":true,\"lakecolor\":\"white\"},\"title\":{\"x\":0.05},\"mapbox\":{\"style\":\"light\"}}},\"xaxis\":{\"anchor\":\"y\",\"domain\":[0.0,0.94],\"title\":{\"text\":\"Date\"}},\"yaxis\":{\"anchor\":\"x\",\"domain\":[0.0,1.0],\"title\":{\"text\":\"Price\"}},\"yaxis2\":{\"anchor\":\"x\",\"overlaying\":\"y\",\"side\":\"right\",\"title\":{\"text\":\"Volume\"},\"range\":[0,670447000]},\"title\":{\"text\":\"Candlestick Chart for NIFTY50 with Volume\"},\"height\":1000,\"width\":2000},                        {\"responsive\": true}                    ).then(function(){\n",
              "                            \n",
              "var gd = document.getElementById('871f8926-40bb-4438-9424-5b90cf669f09');\n",
              "var x = new MutationObserver(function (mutations, observer) {{\n",
              "        var display = window.getComputedStyle(gd).display;\n",
              "        if (!display || display === 'none') {{\n",
              "            console.log([gd, 'removed!']);\n",
              "            Plotly.purge(gd);\n",
              "            observer.disconnect();\n",
              "        }}\n",
              "}});\n",
              "\n",
              "// Listen for the removal of the full notebook cells\n",
              "var notebookContainer = gd.closest('#notebook-container');\n",
              "if (notebookContainer) {{\n",
              "    x.observe(notebookContainer, {childList: true});\n",
              "}}\n",
              "\n",
              "// Listen for the clearing of the current output cell\n",
              "var outputEl = gd.closest('.output');\n",
              "if (outputEl) {{\n",
              "    x.observe(outputEl, {childList: true});\n",
              "}}\n",
              "\n",
              "                        })                };                            </script>        </div>\n",
              "</body>\n",
              "</html>"
            ]
          },
          "metadata": {}
        }
      ]
    },
    {
      "cell_type": "code",
      "source": [
        "makeLinePlot(sortedDF)"
      ],
      "metadata": {
        "id": "CLY7zDwf6MfI",
        "colab": {
          "base_uri": "https://localhost:8080/",
          "height": 717
        },
        "outputId": "cf00c164-0c2e-4437-a411-a0db652ebef3"
      },
      "execution_count": 79,
      "outputs": [
        {
          "output_type": "display_data",
          "data": {
            "text/html": [
              "<html>\n",
              "<head><meta charset=\"utf-8\" /></head>\n",
              "<body>\n",
              "    <div>            <script src=\"https://cdnjs.cloudflare.com/ajax/libs/mathjax/2.7.5/MathJax.js?config=TeX-AMS-MML_SVG\"></script><script type=\"text/javascript\">if (window.MathJax && window.MathJax.Hub && window.MathJax.Hub.Config) {window.MathJax.Hub.Config({SVG: {font: \"STIX-Web\"}});}</script>                <script type=\"text/javascript\">window.PlotlyConfig = {MathJaxConfig: 'local'};</script>\n",
              "        <script charset=\"utf-8\" src=\"https://cdn.plot.ly/plotly-2.35.2.min.js\"></script>                <div id=\"34970d82-8673-4809-80b8-8ef767beaade\" class=\"plotly-graph-div\" style=\"height:700px; width:1000px;\"></div>            <script type=\"text/javascript\">                                    window.PLOTLYENV=window.PLOTLYENV || {};                                    if (document.getElementById(\"34970d82-8673-4809-80b8-8ef767beaade\")) {                    Plotly.newPlot(                        \"34970d82-8673-4809-80b8-8ef767beaade\",                        [{\"mode\":\"lines\",\"name\":\"Percentile Line\",\"x\":[-8.281,-4.376,-2.48,-1.776,-1.756,-1.662,-1.643,-1.603,-1.513,-1.486,-1.483,-1.35,-1.313,-1.255,-1.117,-1.068,-1.0,-0.965,-0.895,-0.892,-0.879,-0.865,-0.838,-0.838,-0.776,-0.765,-0.725,-0.689,-0.677,-0.639,-0.627,-0.608,-0.606,-0.564,-0.56,-0.556,-0.549,-0.513,-0.504,-0.481,-0.472,-0.446,-0.438,-0.419,-0.416,-0.411,-0.408,-0.36,-0.336,-0.317,-0.294,-0.294,-0.284,-0.271,-0.263,-0.254,-0.235,-0.232,-0.231,-0.213,-0.21,-0.164,-0.159,-0.158,-0.151,-0.141,-0.14,-0.119,-0.113,-0.112,-0.103,-0.097,-0.096,-0.076,-0.069,-0.069,-0.058,-0.055,-0.045,-0.039,-0.027,0.016,0.017,0.021,0.025,0.027,0.028,0.068,0.075,0.082,0.095,0.105,0.142,0.149,0.156,0.164,0.166,0.172,0.181,0.183,0.185,0.215,0.22,0.246,0.25,0.255,0.263,0.272,0.279,0.288,0.302,0.306,0.311,0.319,0.338,0.343,0.357,0.358,0.372,0.38,0.382,0.387,0.398,0.413,0.415,0.416,0.421,0.426,0.443,0.455,0.483,0.484,0.502,0.505,0.524,0.543,0.571,0.579,0.59,0.605,0.618,0.631,0.633,0.651,0.674,0.7,0.721,0.735,0.742,0.747,0.797,0.804,0.805,0.86,0.874,0.888,0.895,0.912,0.936,0.958,1.024,1.032,1.064,1.067,1.071,1.276,1.372,1.374,1.377,1.415,1.484,1.518,1.575,1.73,1.75,1.88,2.044,2.497,2.506,3.994,4.431],\"y\":[0.006,0.011,0.017,0.022,0.028,0.033,0.039,0.044,0.05,0.055,0.061,0.066,0.072,0.077,0.083,0.088,0.094,0.099,0.105,0.11,0.116,0.122,0.127,0.133,0.138,0.144,0.149,0.155,0.16,0.166,0.171,0.177,0.182,0.188,0.193,0.199,0.204,0.21,0.215,0.221,0.227,0.232,0.238,0.243,0.249,0.254,0.26,0.265,0.271,0.276,0.282,0.287,0.293,0.298,0.304,0.309,0.315,0.32,0.326,0.331,0.337,0.343,0.348,0.354,0.359,0.365,0.37,0.376,0.381,0.387,0.392,0.398,0.403,0.409,0.414,0.42,0.425,0.431,0.436,0.442,0.448,0.453,0.459,0.464,0.47,0.475,0.481,0.486,0.492,0.497,0.503,0.508,0.514,0.519,0.525,0.53,0.536,0.541,0.547,0.552,0.558,0.564,0.569,0.575,0.58,0.586,0.591,0.597,0.602,0.608,0.613,0.619,0.624,0.63,0.635,0.641,0.646,0.652,0.657,0.663,0.669,0.674,0.68,0.685,0.691,0.696,0.702,0.707,0.713,0.718,0.724,0.729,0.735,0.74,0.746,0.751,0.757,0.762,0.768,0.773,0.779,0.785,0.79,0.796,0.801,0.807,0.812,0.818,0.823,0.829,0.834,0.84,0.845,0.851,0.856,0.862,0.867,0.873,0.878,0.884,0.89,0.895,0.901,0.906,0.912,0.917,0.923,0.928,0.934,0.939,0.945,0.95,0.956,0.961,0.967,0.972,0.978,0.983,0.989,0.994,1.0],\"type\":\"scatter\"}],                        {\"template\":{\"data\":{\"histogram2dcontour\":[{\"type\":\"histogram2dcontour\",\"colorbar\":{\"outlinewidth\":0,\"ticks\":\"\"},\"colorscale\":[[0.0,\"#0d0887\"],[0.1111111111111111,\"#46039f\"],[0.2222222222222222,\"#7201a8\"],[0.3333333333333333,\"#9c179e\"],[0.4444444444444444,\"#bd3786\"],[0.5555555555555556,\"#d8576b\"],[0.6666666666666666,\"#ed7953\"],[0.7777777777777778,\"#fb9f3a\"],[0.8888888888888888,\"#fdca26\"],[1.0,\"#f0f921\"]]}],\"choropleth\":[{\"type\":\"choropleth\",\"colorbar\":{\"outlinewidth\":0,\"ticks\":\"\"}}],\"histogram2d\":[{\"type\":\"histogram2d\",\"colorbar\":{\"outlinewidth\":0,\"ticks\":\"\"},\"colorscale\":[[0.0,\"#0d0887\"],[0.1111111111111111,\"#46039f\"],[0.2222222222222222,\"#7201a8\"],[0.3333333333333333,\"#9c179e\"],[0.4444444444444444,\"#bd3786\"],[0.5555555555555556,\"#d8576b\"],[0.6666666666666666,\"#ed7953\"],[0.7777777777777778,\"#fb9f3a\"],[0.8888888888888888,\"#fdca26\"],[1.0,\"#f0f921\"]]}],\"heatmap\":[{\"type\":\"heatmap\",\"colorbar\":{\"outlinewidth\":0,\"ticks\":\"\"},\"colorscale\":[[0.0,\"#0d0887\"],[0.1111111111111111,\"#46039f\"],[0.2222222222222222,\"#7201a8\"],[0.3333333333333333,\"#9c179e\"],[0.4444444444444444,\"#bd3786\"],[0.5555555555555556,\"#d8576b\"],[0.6666666666666666,\"#ed7953\"],[0.7777777777777778,\"#fb9f3a\"],[0.8888888888888888,\"#fdca26\"],[1.0,\"#f0f921\"]]}],\"heatmapgl\":[{\"type\":\"heatmapgl\",\"colorbar\":{\"outlinewidth\":0,\"ticks\":\"\"},\"colorscale\":[[0.0,\"#0d0887\"],[0.1111111111111111,\"#46039f\"],[0.2222222222222222,\"#7201a8\"],[0.3333333333333333,\"#9c179e\"],[0.4444444444444444,\"#bd3786\"],[0.5555555555555556,\"#d8576b\"],[0.6666666666666666,\"#ed7953\"],[0.7777777777777778,\"#fb9f3a\"],[0.8888888888888888,\"#fdca26\"],[1.0,\"#f0f921\"]]}],\"contourcarpet\":[{\"type\":\"contourcarpet\",\"colorbar\":{\"outlinewidth\":0,\"ticks\":\"\"}}],\"contour\":[{\"type\":\"contour\",\"colorbar\":{\"outlinewidth\":0,\"ticks\":\"\"},\"colorscale\":[[0.0,\"#0d0887\"],[0.1111111111111111,\"#46039f\"],[0.2222222222222222,\"#7201a8\"],[0.3333333333333333,\"#9c179e\"],[0.4444444444444444,\"#bd3786\"],[0.5555555555555556,\"#d8576b\"],[0.6666666666666666,\"#ed7953\"],[0.7777777777777778,\"#fb9f3a\"],[0.8888888888888888,\"#fdca26\"],[1.0,\"#f0f921\"]]}],\"surface\":[{\"type\":\"surface\",\"colorbar\":{\"outlinewidth\":0,\"ticks\":\"\"},\"colorscale\":[[0.0,\"#0d0887\"],[0.1111111111111111,\"#46039f\"],[0.2222222222222222,\"#7201a8\"],[0.3333333333333333,\"#9c179e\"],[0.4444444444444444,\"#bd3786\"],[0.5555555555555556,\"#d8576b\"],[0.6666666666666666,\"#ed7953\"],[0.7777777777777778,\"#fb9f3a\"],[0.8888888888888888,\"#fdca26\"],[1.0,\"#f0f921\"]]}],\"mesh3d\":[{\"type\":\"mesh3d\",\"colorbar\":{\"outlinewidth\":0,\"ticks\":\"\"}}],\"scatter\":[{\"fillpattern\":{\"fillmode\":\"overlay\",\"size\":10,\"solidity\":0.2},\"type\":\"scatter\"}],\"parcoords\":[{\"type\":\"parcoords\",\"line\":{\"colorbar\":{\"outlinewidth\":0,\"ticks\":\"\"}}}],\"scatterpolargl\":[{\"type\":\"scatterpolargl\",\"marker\":{\"colorbar\":{\"outlinewidth\":0,\"ticks\":\"\"}}}],\"bar\":[{\"error_x\":{\"color\":\"#2a3f5f\"},\"error_y\":{\"color\":\"#2a3f5f\"},\"marker\":{\"line\":{\"color\":\"#E5ECF6\",\"width\":0.5},\"pattern\":{\"fillmode\":\"overlay\",\"size\":10,\"solidity\":0.2}},\"type\":\"bar\"}],\"scattergeo\":[{\"type\":\"scattergeo\",\"marker\":{\"colorbar\":{\"outlinewidth\":0,\"ticks\":\"\"}}}],\"scatterpolar\":[{\"type\":\"scatterpolar\",\"marker\":{\"colorbar\":{\"outlinewidth\":0,\"ticks\":\"\"}}}],\"histogram\":[{\"marker\":{\"pattern\":{\"fillmode\":\"overlay\",\"size\":10,\"solidity\":0.2}},\"type\":\"histogram\"}],\"scattergl\":[{\"type\":\"scattergl\",\"marker\":{\"colorbar\":{\"outlinewidth\":0,\"ticks\":\"\"}}}],\"scatter3d\":[{\"type\":\"scatter3d\",\"line\":{\"colorbar\":{\"outlinewidth\":0,\"ticks\":\"\"}},\"marker\":{\"colorbar\":{\"outlinewidth\":0,\"ticks\":\"\"}}}],\"scattermapbox\":[{\"type\":\"scattermapbox\",\"marker\":{\"colorbar\":{\"outlinewidth\":0,\"ticks\":\"\"}}}],\"scatterternary\":[{\"type\":\"scatterternary\",\"marker\":{\"colorbar\":{\"outlinewidth\":0,\"ticks\":\"\"}}}],\"scattercarpet\":[{\"type\":\"scattercarpet\",\"marker\":{\"colorbar\":{\"outlinewidth\":0,\"ticks\":\"\"}}}],\"carpet\":[{\"aaxis\":{\"endlinecolor\":\"#2a3f5f\",\"gridcolor\":\"white\",\"linecolor\":\"white\",\"minorgridcolor\":\"white\",\"startlinecolor\":\"#2a3f5f\"},\"baxis\":{\"endlinecolor\":\"#2a3f5f\",\"gridcolor\":\"white\",\"linecolor\":\"white\",\"minorgridcolor\":\"white\",\"startlinecolor\":\"#2a3f5f\"},\"type\":\"carpet\"}],\"table\":[{\"cells\":{\"fill\":{\"color\":\"#EBF0F8\"},\"line\":{\"color\":\"white\"}},\"header\":{\"fill\":{\"color\":\"#C8D4E3\"},\"line\":{\"color\":\"white\"}},\"type\":\"table\"}],\"barpolar\":[{\"marker\":{\"line\":{\"color\":\"#E5ECF6\",\"width\":0.5},\"pattern\":{\"fillmode\":\"overlay\",\"size\":10,\"solidity\":0.2}},\"type\":\"barpolar\"}],\"pie\":[{\"automargin\":true,\"type\":\"pie\"}]},\"layout\":{\"autotypenumbers\":\"strict\",\"colorway\":[\"#636efa\",\"#EF553B\",\"#00cc96\",\"#ab63fa\",\"#FFA15A\",\"#19d3f3\",\"#FF6692\",\"#B6E880\",\"#FF97FF\",\"#FECB52\"],\"font\":{\"color\":\"#2a3f5f\"},\"hovermode\":\"closest\",\"hoverlabel\":{\"align\":\"left\"},\"paper_bgcolor\":\"white\",\"plot_bgcolor\":\"#E5ECF6\",\"polar\":{\"bgcolor\":\"#E5ECF6\",\"angularaxis\":{\"gridcolor\":\"white\",\"linecolor\":\"white\",\"ticks\":\"\"},\"radialaxis\":{\"gridcolor\":\"white\",\"linecolor\":\"white\",\"ticks\":\"\"}},\"ternary\":{\"bgcolor\":\"#E5ECF6\",\"aaxis\":{\"gridcolor\":\"white\",\"linecolor\":\"white\",\"ticks\":\"\"},\"baxis\":{\"gridcolor\":\"white\",\"linecolor\":\"white\",\"ticks\":\"\"},\"caxis\":{\"gridcolor\":\"white\",\"linecolor\":\"white\",\"ticks\":\"\"}},\"coloraxis\":{\"colorbar\":{\"outlinewidth\":0,\"ticks\":\"\"}},\"colorscale\":{\"sequential\":[[0.0,\"#0d0887\"],[0.1111111111111111,\"#46039f\"],[0.2222222222222222,\"#7201a8\"],[0.3333333333333333,\"#9c179e\"],[0.4444444444444444,\"#bd3786\"],[0.5555555555555556,\"#d8576b\"],[0.6666666666666666,\"#ed7953\"],[0.7777777777777778,\"#fb9f3a\"],[0.8888888888888888,\"#fdca26\"],[1.0,\"#f0f921\"]],\"sequentialminus\":[[0.0,\"#0d0887\"],[0.1111111111111111,\"#46039f\"],[0.2222222222222222,\"#7201a8\"],[0.3333333333333333,\"#9c179e\"],[0.4444444444444444,\"#bd3786\"],[0.5555555555555556,\"#d8576b\"],[0.6666666666666666,\"#ed7953\"],[0.7777777777777778,\"#fb9f3a\"],[0.8888888888888888,\"#fdca26\"],[1.0,\"#f0f921\"]],\"diverging\":[[0,\"#8e0152\"],[0.1,\"#c51b7d\"],[0.2,\"#de77ae\"],[0.3,\"#f1b6da\"],[0.4,\"#fde0ef\"],[0.5,\"#f7f7f7\"],[0.6,\"#e6f5d0\"],[0.7,\"#b8e186\"],[0.8,\"#7fbc41\"],[0.9,\"#4d9221\"],[1,\"#276419\"]]},\"xaxis\":{\"gridcolor\":\"white\",\"linecolor\":\"white\",\"ticks\":\"\",\"title\":{\"standoff\":15},\"zerolinecolor\":\"white\",\"automargin\":true,\"zerolinewidth\":2},\"yaxis\":{\"gridcolor\":\"white\",\"linecolor\":\"white\",\"ticks\":\"\",\"title\":{\"standoff\":15},\"zerolinecolor\":\"white\",\"automargin\":true,\"zerolinewidth\":2},\"scene\":{\"xaxis\":{\"backgroundcolor\":\"#E5ECF6\",\"gridcolor\":\"white\",\"linecolor\":\"white\",\"showbackground\":true,\"ticks\":\"\",\"zerolinecolor\":\"white\",\"gridwidth\":2},\"yaxis\":{\"backgroundcolor\":\"#E5ECF6\",\"gridcolor\":\"white\",\"linecolor\":\"white\",\"showbackground\":true,\"ticks\":\"\",\"zerolinecolor\":\"white\",\"gridwidth\":2},\"zaxis\":{\"backgroundcolor\":\"#E5ECF6\",\"gridcolor\":\"white\",\"linecolor\":\"white\",\"showbackground\":true,\"ticks\":\"\",\"zerolinecolor\":\"white\",\"gridwidth\":2}},\"shapedefaults\":{\"line\":{\"color\":\"#2a3f5f\"}},\"annotationdefaults\":{\"arrowcolor\":\"#2a3f5f\",\"arrowhead\":0,\"arrowwidth\":1},\"geo\":{\"bgcolor\":\"white\",\"landcolor\":\"#E5ECF6\",\"subunitcolor\":\"white\",\"showland\":true,\"showlakes\":true,\"lakecolor\":\"white\"},\"title\":{\"x\":0.05},\"mapbox\":{\"style\":\"light\"}}},\"title\":{\"text\":\"Percentile line for the Daily Returns for BANKNIFTY\"},\"xaxis\":{\"title\":{\"text\":\"Daily Returns\"}},\"yaxis\":{\"title\":{\"text\":\"Percentile\"}},\"height\":700,\"width\":1000},                        {\"responsive\": true}                    ).then(function(){\n",
              "                            \n",
              "var gd = document.getElementById('34970d82-8673-4809-80b8-8ef767beaade');\n",
              "var x = new MutationObserver(function (mutations, observer) {{\n",
              "        var display = window.getComputedStyle(gd).display;\n",
              "        if (!display || display === 'none') {{\n",
              "            console.log([gd, 'removed!']);\n",
              "            Plotly.purge(gd);\n",
              "            observer.disconnect();\n",
              "        }}\n",
              "}});\n",
              "\n",
              "// Listen for the removal of the full notebook cells\n",
              "var notebookContainer = gd.closest('#notebook-container');\n",
              "if (notebookContainer) {{\n",
              "    x.observe(notebookContainer, {childList: true});\n",
              "}}\n",
              "\n",
              "// Listen for the clearing of the current output cell\n",
              "var outputEl = gd.closest('.output');\n",
              "if (outputEl) {{\n",
              "    x.observe(outputEl, {childList: true});\n",
              "}}\n",
              "\n",
              "                        })                };                            </script>        </div>\n",
              "</body>\n",
              "</html>"
            ]
          },
          "metadata": {}
        }
      ]
    },
    {
      "cell_type": "code",
      "source": [
        "makeHistogram(df)"
      ],
      "metadata": {
        "id": "tkcWd4Cwdv9L",
        "colab": {
          "base_uri": "https://localhost:8080/",
          "height": 717
        },
        "outputId": "e4d189bd-eda8-4621-90f0-fff47b48d8ab"
      },
      "execution_count": 80,
      "outputs": [
        {
          "output_type": "display_data",
          "data": {
            "text/html": [
              "<html>\n",
              "<head><meta charset=\"utf-8\" /></head>\n",
              "<body>\n",
              "    <div>            <script src=\"https://cdnjs.cloudflare.com/ajax/libs/mathjax/2.7.5/MathJax.js?config=TeX-AMS-MML_SVG\"></script><script type=\"text/javascript\">if (window.MathJax && window.MathJax.Hub && window.MathJax.Hub.Config) {window.MathJax.Hub.Config({SVG: {font: \"STIX-Web\"}});}</script>                <script type=\"text/javascript\">window.PlotlyConfig = {MathJaxConfig: 'local'};</script>\n",
              "        <script charset=\"utf-8\" src=\"https://cdn.plot.ly/plotly-2.35.2.min.js\"></script>                <div id=\"bbe37a58-b6ef-412b-ac2d-ecc55d067b01\" class=\"plotly-graph-div\" style=\"height:700px; width:1000px;\"></div>            <script type=\"text/javascript\">                                    window.PLOTLYENV=window.PLOTLYENV || {};                                    if (document.getElementById(\"bbe37a58-b6ef-412b-ac2d-ecc55d067b01\")) {                    Plotly.newPlot(                        \"bbe37a58-b6ef-412b-ac2d-ecc55d067b01\",                        [{\"x\":[-0.11878337933608964,1.0237800466125755,-0.07649135191266647,-1.48262429194308,-0.43847405357086006,0.24989178309646906,0.16350352051615788,0.5705837654604986,0.9356673695781044,-0.06896146014280258,-4.376241711614194,-0.7646715930118124,-0.027134244125044914,-1.5126531851827358,0.1494996126473156,-0.4808313733847838,1.276094596054244,-0.1643023804594368,1.3770345632241543,0.41622172444934064,-0.47244048196135063,-0.31678453773811277,-0.2944831061968851,0.2790957870991246,-1.7758818805579426,1.3736001299759726,-1.6622728539881293,1.3722643832086905,0.8880908143721852,0.6742825911957404,0.35841594461462745,1.5176903618578363,-0.15831883876443534,-0.2126868360127916,-0.23055380650685967,-0.5038117699070188,0.024796515868591565,-1.350413275056828,0.34262211462736547,2.4967092850485924,0.3571837600485976,0.2628415794512669,0.8046363185644304,-0.2705555595582357,-1.0675379311589062,-0.0960849981835664,-0.6388433358332902,-0.4081247250199425,-0.41944623680132564,-0.03907507831192779,-0.41113702250244527,-0.15945153881094634,0.8043417636968766,0.3823717037074329,-0.5639639283031869,0.3978111273917317,0.7212263348418654,0.958053321340379,-0.06896448060667522,0.16560060587600706,0.9124806993208443,0.8953612532067159,0.1826395888574812,0.30592588002558263,0.5240663714303767,-0.8652966253831181,-1.642799754713553,-0.6056183136507174,-0.8785522260211872,1.066535963050944,0.7345656080200329,0.09500103141427059,0.45455991967947673,0.6328873457183695,-0.6078831441122492,2.5056342377252934,-0.0552531081082572,-0.3360094686002236,-0.626564625802219,-0.05775982918250629,-1.2553058939861368,-0.5487704189704092,-1.1165621346124508,-0.140759856344308,0.6997649553708613,0.2203614404426075,-0.3600330070505279,0.605454368489628,0.28846676903923735,-0.14027980671466198,-0.5556720706948552,2.0438758407350823,0.41548321616429124,0.6313333046136753,-0.28377735007864874,-1.3125422060961147,0.37249086721372526,0.6176103989232917,3.9939725361496925,-8.280507185362753,4.43066643292072,0.48257403264864657,1.0319487659455056,-0.04478783690898994,-0.15107243629730088,0.3802212283286512,-0.09705529110232862,0.3110724680384866,0.8739318314281258,1.8797926255818602,0.7466488701992967,-0.23548976111389905,0.08223255177726105,1.7296015872525123,0.5015345682290795,-0.11203296027188692,-0.8921313426579955,0.4432082133301923,-0.7764739541481991,1.7503232617334263,0.027213141635999055,-0.8383760829631157,-0.4463978659639256,0.27239512563979557,-0.72452947212723,0.15574901826520202,0.01578199095780896,0.3379968716949005,-0.11272511427603749,0.426402793328968,-0.6771122831425263,0.02830691771813861,-0.9650352285402888,-0.8949076367078799,-0.8380203780163625,0.7969908944948765,0.2147973938197812,0.18084701146688045,0.1049902848337241,0.020562121810672306,-0.4155927509398077,-2.4804484852365216,-0.6887034348547457,0.7423869843349755,0.07519113966770541,0.6514269364804872,0.18493366449316276,-1.4861325931531792,-0.21002754085631573,1.5753809052220322,-0.29448701837599306,0.8595297131399825,-0.23174542542376367,0.5904310401470354,-0.10253226283482178,0.4205513307253468,0.2551059734062977,-0.2634155224423855,0.017397327744088753,0.3868155988343228,0.17229366412050057,0.48396107707497293,-0.560392153107091,0.1415348644401911,-1.7564392290923443,1.0638795816790887,0.301787213611479,-0.5128968634069694,1.4835466619373658,0.31945186983693646,0.41328750947581694,0.06804560096334504,1.0706317288215363,0.5429799800114159,1.4145925158782133,0.5794352813654416,-0.2538978508845427,0.2462230673423336,0.5046299322874194,-1.0000129903335453,-1.6032174897345077],\"type\":\"histogram\"}],                        {\"template\":{\"data\":{\"histogram2dcontour\":[{\"type\":\"histogram2dcontour\",\"colorbar\":{\"outlinewidth\":0,\"ticks\":\"\"},\"colorscale\":[[0.0,\"#0d0887\"],[0.1111111111111111,\"#46039f\"],[0.2222222222222222,\"#7201a8\"],[0.3333333333333333,\"#9c179e\"],[0.4444444444444444,\"#bd3786\"],[0.5555555555555556,\"#d8576b\"],[0.6666666666666666,\"#ed7953\"],[0.7777777777777778,\"#fb9f3a\"],[0.8888888888888888,\"#fdca26\"],[1.0,\"#f0f921\"]]}],\"choropleth\":[{\"type\":\"choropleth\",\"colorbar\":{\"outlinewidth\":0,\"ticks\":\"\"}}],\"histogram2d\":[{\"type\":\"histogram2d\",\"colorbar\":{\"outlinewidth\":0,\"ticks\":\"\"},\"colorscale\":[[0.0,\"#0d0887\"],[0.1111111111111111,\"#46039f\"],[0.2222222222222222,\"#7201a8\"],[0.3333333333333333,\"#9c179e\"],[0.4444444444444444,\"#bd3786\"],[0.5555555555555556,\"#d8576b\"],[0.6666666666666666,\"#ed7953\"],[0.7777777777777778,\"#fb9f3a\"],[0.8888888888888888,\"#fdca26\"],[1.0,\"#f0f921\"]]}],\"heatmap\":[{\"type\":\"heatmap\",\"colorbar\":{\"outlinewidth\":0,\"ticks\":\"\"},\"colorscale\":[[0.0,\"#0d0887\"],[0.1111111111111111,\"#46039f\"],[0.2222222222222222,\"#7201a8\"],[0.3333333333333333,\"#9c179e\"],[0.4444444444444444,\"#bd3786\"],[0.5555555555555556,\"#d8576b\"],[0.6666666666666666,\"#ed7953\"],[0.7777777777777778,\"#fb9f3a\"],[0.8888888888888888,\"#fdca26\"],[1.0,\"#f0f921\"]]}],\"heatmapgl\":[{\"type\":\"heatmapgl\",\"colorbar\":{\"outlinewidth\":0,\"ticks\":\"\"},\"colorscale\":[[0.0,\"#0d0887\"],[0.1111111111111111,\"#46039f\"],[0.2222222222222222,\"#7201a8\"],[0.3333333333333333,\"#9c179e\"],[0.4444444444444444,\"#bd3786\"],[0.5555555555555556,\"#d8576b\"],[0.6666666666666666,\"#ed7953\"],[0.7777777777777778,\"#fb9f3a\"],[0.8888888888888888,\"#fdca26\"],[1.0,\"#f0f921\"]]}],\"contourcarpet\":[{\"type\":\"contourcarpet\",\"colorbar\":{\"outlinewidth\":0,\"ticks\":\"\"}}],\"contour\":[{\"type\":\"contour\",\"colorbar\":{\"outlinewidth\":0,\"ticks\":\"\"},\"colorscale\":[[0.0,\"#0d0887\"],[0.1111111111111111,\"#46039f\"],[0.2222222222222222,\"#7201a8\"],[0.3333333333333333,\"#9c179e\"],[0.4444444444444444,\"#bd3786\"],[0.5555555555555556,\"#d8576b\"],[0.6666666666666666,\"#ed7953\"],[0.7777777777777778,\"#fb9f3a\"],[0.8888888888888888,\"#fdca26\"],[1.0,\"#f0f921\"]]}],\"surface\":[{\"type\":\"surface\",\"colorbar\":{\"outlinewidth\":0,\"ticks\":\"\"},\"colorscale\":[[0.0,\"#0d0887\"],[0.1111111111111111,\"#46039f\"],[0.2222222222222222,\"#7201a8\"],[0.3333333333333333,\"#9c179e\"],[0.4444444444444444,\"#bd3786\"],[0.5555555555555556,\"#d8576b\"],[0.6666666666666666,\"#ed7953\"],[0.7777777777777778,\"#fb9f3a\"],[0.8888888888888888,\"#fdca26\"],[1.0,\"#f0f921\"]]}],\"mesh3d\":[{\"type\":\"mesh3d\",\"colorbar\":{\"outlinewidth\":0,\"ticks\":\"\"}}],\"scatter\":[{\"fillpattern\":{\"fillmode\":\"overlay\",\"size\":10,\"solidity\":0.2},\"type\":\"scatter\"}],\"parcoords\":[{\"type\":\"parcoords\",\"line\":{\"colorbar\":{\"outlinewidth\":0,\"ticks\":\"\"}}}],\"scatterpolargl\":[{\"type\":\"scatterpolargl\",\"marker\":{\"colorbar\":{\"outlinewidth\":0,\"ticks\":\"\"}}}],\"bar\":[{\"error_x\":{\"color\":\"#2a3f5f\"},\"error_y\":{\"color\":\"#2a3f5f\"},\"marker\":{\"line\":{\"color\":\"#E5ECF6\",\"width\":0.5},\"pattern\":{\"fillmode\":\"overlay\",\"size\":10,\"solidity\":0.2}},\"type\":\"bar\"}],\"scattergeo\":[{\"type\":\"scattergeo\",\"marker\":{\"colorbar\":{\"outlinewidth\":0,\"ticks\":\"\"}}}],\"scatterpolar\":[{\"type\":\"scatterpolar\",\"marker\":{\"colorbar\":{\"outlinewidth\":0,\"ticks\":\"\"}}}],\"histogram\":[{\"marker\":{\"pattern\":{\"fillmode\":\"overlay\",\"size\":10,\"solidity\":0.2}},\"type\":\"histogram\"}],\"scattergl\":[{\"type\":\"scattergl\",\"marker\":{\"colorbar\":{\"outlinewidth\":0,\"ticks\":\"\"}}}],\"scatter3d\":[{\"type\":\"scatter3d\",\"line\":{\"colorbar\":{\"outlinewidth\":0,\"ticks\":\"\"}},\"marker\":{\"colorbar\":{\"outlinewidth\":0,\"ticks\":\"\"}}}],\"scattermapbox\":[{\"type\":\"scattermapbox\",\"marker\":{\"colorbar\":{\"outlinewidth\":0,\"ticks\":\"\"}}}],\"scatterternary\":[{\"type\":\"scatterternary\",\"marker\":{\"colorbar\":{\"outlinewidth\":0,\"ticks\":\"\"}}}],\"scattercarpet\":[{\"type\":\"scattercarpet\",\"marker\":{\"colorbar\":{\"outlinewidth\":0,\"ticks\":\"\"}}}],\"carpet\":[{\"aaxis\":{\"endlinecolor\":\"#2a3f5f\",\"gridcolor\":\"white\",\"linecolor\":\"white\",\"minorgridcolor\":\"white\",\"startlinecolor\":\"#2a3f5f\"},\"baxis\":{\"endlinecolor\":\"#2a3f5f\",\"gridcolor\":\"white\",\"linecolor\":\"white\",\"minorgridcolor\":\"white\",\"startlinecolor\":\"#2a3f5f\"},\"type\":\"carpet\"}],\"table\":[{\"cells\":{\"fill\":{\"color\":\"#EBF0F8\"},\"line\":{\"color\":\"white\"}},\"header\":{\"fill\":{\"color\":\"#C8D4E3\"},\"line\":{\"color\":\"white\"}},\"type\":\"table\"}],\"barpolar\":[{\"marker\":{\"line\":{\"color\":\"#E5ECF6\",\"width\":0.5},\"pattern\":{\"fillmode\":\"overlay\",\"size\":10,\"solidity\":0.2}},\"type\":\"barpolar\"}],\"pie\":[{\"automargin\":true,\"type\":\"pie\"}]},\"layout\":{\"autotypenumbers\":\"strict\",\"colorway\":[\"#636efa\",\"#EF553B\",\"#00cc96\",\"#ab63fa\",\"#FFA15A\",\"#19d3f3\",\"#FF6692\",\"#B6E880\",\"#FF97FF\",\"#FECB52\"],\"font\":{\"color\":\"#2a3f5f\"},\"hovermode\":\"closest\",\"hoverlabel\":{\"align\":\"left\"},\"paper_bgcolor\":\"white\",\"plot_bgcolor\":\"#E5ECF6\",\"polar\":{\"bgcolor\":\"#E5ECF6\",\"angularaxis\":{\"gridcolor\":\"white\",\"linecolor\":\"white\",\"ticks\":\"\"},\"radialaxis\":{\"gridcolor\":\"white\",\"linecolor\":\"white\",\"ticks\":\"\"}},\"ternary\":{\"bgcolor\":\"#E5ECF6\",\"aaxis\":{\"gridcolor\":\"white\",\"linecolor\":\"white\",\"ticks\":\"\"},\"baxis\":{\"gridcolor\":\"white\",\"linecolor\":\"white\",\"ticks\":\"\"},\"caxis\":{\"gridcolor\":\"white\",\"linecolor\":\"white\",\"ticks\":\"\"}},\"coloraxis\":{\"colorbar\":{\"outlinewidth\":0,\"ticks\":\"\"}},\"colorscale\":{\"sequential\":[[0.0,\"#0d0887\"],[0.1111111111111111,\"#46039f\"],[0.2222222222222222,\"#7201a8\"],[0.3333333333333333,\"#9c179e\"],[0.4444444444444444,\"#bd3786\"],[0.5555555555555556,\"#d8576b\"],[0.6666666666666666,\"#ed7953\"],[0.7777777777777778,\"#fb9f3a\"],[0.8888888888888888,\"#fdca26\"],[1.0,\"#f0f921\"]],\"sequentialminus\":[[0.0,\"#0d0887\"],[0.1111111111111111,\"#46039f\"],[0.2222222222222222,\"#7201a8\"],[0.3333333333333333,\"#9c179e\"],[0.4444444444444444,\"#bd3786\"],[0.5555555555555556,\"#d8576b\"],[0.6666666666666666,\"#ed7953\"],[0.7777777777777778,\"#fb9f3a\"],[0.8888888888888888,\"#fdca26\"],[1.0,\"#f0f921\"]],\"diverging\":[[0,\"#8e0152\"],[0.1,\"#c51b7d\"],[0.2,\"#de77ae\"],[0.3,\"#f1b6da\"],[0.4,\"#fde0ef\"],[0.5,\"#f7f7f7\"],[0.6,\"#e6f5d0\"],[0.7,\"#b8e186\"],[0.8,\"#7fbc41\"],[0.9,\"#4d9221\"],[1,\"#276419\"]]},\"xaxis\":{\"gridcolor\":\"white\",\"linecolor\":\"white\",\"ticks\":\"\",\"title\":{\"standoff\":15},\"zerolinecolor\":\"white\",\"automargin\":true,\"zerolinewidth\":2},\"yaxis\":{\"gridcolor\":\"white\",\"linecolor\":\"white\",\"ticks\":\"\",\"title\":{\"standoff\":15},\"zerolinecolor\":\"white\",\"automargin\":true,\"zerolinewidth\":2},\"scene\":{\"xaxis\":{\"backgroundcolor\":\"#E5ECF6\",\"gridcolor\":\"white\",\"linecolor\":\"white\",\"showbackground\":true,\"ticks\":\"\",\"zerolinecolor\":\"white\",\"gridwidth\":2},\"yaxis\":{\"backgroundcolor\":\"#E5ECF6\",\"gridcolor\":\"white\",\"linecolor\":\"white\",\"showbackground\":true,\"ticks\":\"\",\"zerolinecolor\":\"white\",\"gridwidth\":2},\"zaxis\":{\"backgroundcolor\":\"#E5ECF6\",\"gridcolor\":\"white\",\"linecolor\":\"white\",\"showbackground\":true,\"ticks\":\"\",\"zerolinecolor\":\"white\",\"gridwidth\":2}},\"shapedefaults\":{\"line\":{\"color\":\"#2a3f5f\"}},\"annotationdefaults\":{\"arrowcolor\":\"#2a3f5f\",\"arrowhead\":0,\"arrowwidth\":1},\"geo\":{\"bgcolor\":\"white\",\"landcolor\":\"#E5ECF6\",\"subunitcolor\":\"white\",\"showland\":true,\"showlakes\":true,\"lakecolor\":\"white\"},\"title\":{\"x\":0.05},\"mapbox\":{\"style\":\"light\"}}},\"title\":{\"text\":\"Daily Returns Distribution for BANKNIFTY\"},\"xaxis\":{\"title\":{\"text\":\"Returns\"}},\"yaxis\":{\"title\":{\"text\":\"Count\"}},\"bargap\":0.1,\"bargroupgap\":0.1,\"height\":700,\"width\":1000},                        {\"responsive\": true}                    ).then(function(){\n",
              "                            \n",
              "var gd = document.getElementById('bbe37a58-b6ef-412b-ac2d-ecc55d067b01');\n",
              "var x = new MutationObserver(function (mutations, observer) {{\n",
              "        var display = window.getComputedStyle(gd).display;\n",
              "        if (!display || display === 'none') {{\n",
              "            console.log([gd, 'removed!']);\n",
              "            Plotly.purge(gd);\n",
              "            observer.disconnect();\n",
              "        }}\n",
              "}});\n",
              "\n",
              "// Listen for the removal of the full notebook cells\n",
              "var notebookContainer = gd.closest('#notebook-container');\n",
              "if (notebookContainer) {{\n",
              "    x.observe(notebookContainer, {childList: true});\n",
              "}}\n",
              "\n",
              "// Listen for the clearing of the current output cell\n",
              "var outputEl = gd.closest('.output');\n",
              "if (outputEl) {{\n",
              "    x.observe(outputEl, {childList: true});\n",
              "}}\n",
              "\n",
              "                        })                };                            </script>        </div>\n",
              "</body>\n",
              "</html>"
            ]
          },
          "metadata": {}
        }
      ]
    },
    {
      "cell_type": "code",
      "source": [
        "makeTimeSeries(df)"
      ],
      "metadata": {
        "colab": {
          "base_uri": "https://localhost:8080/",
          "height": 717
        },
        "id": "5Yi6pFPzGSAx",
        "outputId": "91cfd9d9-8eae-45b9-8b56-4036275fe1e8"
      },
      "execution_count": 81,
      "outputs": [
        {
          "output_type": "display_data",
          "data": {
            "text/html": [
              "<html>\n",
              "<head><meta charset=\"utf-8\" /></head>\n",
              "<body>\n",
              "    <div>            <script src=\"https://cdnjs.cloudflare.com/ajax/libs/mathjax/2.7.5/MathJax.js?config=TeX-AMS-MML_SVG\"></script><script type=\"text/javascript\">if (window.MathJax && window.MathJax.Hub && window.MathJax.Hub.Config) {window.MathJax.Hub.Config({SVG: {font: \"STIX-Web\"}});}</script>                <script type=\"text/javascript\">window.PlotlyConfig = {MathJaxConfig: 'local'};</script>\n",
              "        <script charset=\"utf-8\" src=\"https://cdn.plot.ly/plotly-2.35.2.min.js\"></script>                <div id=\"74d691b4-bea5-48fb-a794-bb00742a2788\" class=\"plotly-graph-div\" style=\"height:700px; width:1000px;\"></div>            <script type=\"text/javascript\">                                    window.PLOTLYENV=window.PLOTLYENV || {};                                    if (document.getElementById(\"74d691b4-bea5-48fb-a794-bb00742a2788\")) {                    Plotly.newPlot(                        \"74d691b4-bea5-48fb-a794-bb00742a2788\",                        [{\"mode\":\"lines\",\"name\":\"Daily Returns\",\"x\":[\"2024-01-03T00:00:00\",\"2024-01-04T00:00:00\",\"2024-01-05T00:00:00\",\"2024-01-08T00:00:00\",\"2024-01-09T00:00:00\",\"2024-01-10T00:00:00\",\"2024-01-11T00:00:00\",\"2024-01-12T00:00:00\",\"2024-01-15T00:00:00\",\"2024-01-16T00:00:00\",\"2024-01-17T00:00:00\",\"2024-01-18T00:00:00\",\"2024-01-19T00:00:00\",\"2024-01-23T00:00:00\",\"2024-01-24T00:00:00\",\"2024-01-25T00:00:00\",\"2024-01-29T00:00:00\",\"2024-01-30T00:00:00\",\"2024-01-31T00:00:00\",\"2024-02-01T00:00:00\",\"2024-02-02T00:00:00\",\"2024-02-05T00:00:00\",\"2024-02-06T00:00:00\",\"2024-02-07T00:00:00\",\"2024-02-08T00:00:00\",\"2024-02-09T00:00:00\",\"2024-02-12T00:00:00\",\"2024-02-13T00:00:00\",\"2024-02-14T00:00:00\",\"2024-02-15T00:00:00\",\"2024-02-16T00:00:00\",\"2024-02-20T00:00:00\",\"2024-02-21T00:00:00\",\"2024-02-22T00:00:00\",\"2024-02-23T00:00:00\",\"2024-02-26T00:00:00\",\"2024-02-27T00:00:00\",\"2024-02-28T00:00:00\",\"2024-02-29T00:00:00\",\"2024-03-01T00:00:00\",\"2024-03-04T00:00:00\",\"2024-03-05T00:00:00\",\"2024-03-06T00:00:00\",\"2024-03-07T00:00:00\",\"2024-03-11T00:00:00\",\"2024-03-12T00:00:00\",\"2024-03-13T00:00:00\",\"2024-03-14T00:00:00\",\"2024-03-15T00:00:00\",\"2024-03-18T00:00:00\",\"2024-03-19T00:00:00\",\"2024-03-20T00:00:00\",\"2024-03-21T00:00:00\",\"2024-03-22T00:00:00\",\"2024-03-26T00:00:00\",\"2024-03-27T00:00:00\",\"2024-03-28T00:00:00\",\"2024-04-01T00:00:00\",\"2024-04-02T00:00:00\",\"2024-04-03T00:00:00\",\"2024-04-04T00:00:00\",\"2024-04-05T00:00:00\",\"2024-04-08T00:00:00\",\"2024-04-09T00:00:00\",\"2024-04-10T00:00:00\",\"2024-04-12T00:00:00\",\"2024-04-15T00:00:00\",\"2024-04-16T00:00:00\",\"2024-04-18T00:00:00\",\"2024-04-19T00:00:00\",\"2024-04-22T00:00:00\",\"2024-04-23T00:00:00\",\"2024-04-24T00:00:00\",\"2024-04-25T00:00:00\",\"2024-04-26T00:00:00\",\"2024-04-29T00:00:00\",\"2024-04-30T00:00:00\",\"2024-05-02T00:00:00\",\"2024-05-03T00:00:00\",\"2024-05-06T00:00:00\",\"2024-05-07T00:00:00\",\"2024-05-08T00:00:00\",\"2024-05-09T00:00:00\",\"2024-05-10T00:00:00\",\"2024-05-13T00:00:00\",\"2024-05-14T00:00:00\",\"2024-05-15T00:00:00\",\"2024-05-16T00:00:00\",\"2024-05-17T00:00:00\",\"2024-05-21T00:00:00\",\"2024-05-22T00:00:00\",\"2024-05-23T00:00:00\",\"2024-05-24T00:00:00\",\"2024-05-27T00:00:00\",\"2024-05-28T00:00:00\",\"2024-05-29T00:00:00\",\"2024-05-30T00:00:00\",\"2024-05-31T00:00:00\",\"2024-06-03T00:00:00\",\"2024-06-04T00:00:00\",\"2024-06-05T00:00:00\",\"2024-06-06T00:00:00\",\"2024-06-07T00:00:00\",\"2024-06-10T00:00:00\",\"2024-06-11T00:00:00\",\"2024-06-12T00:00:00\",\"2024-06-13T00:00:00\",\"2024-06-14T00:00:00\",\"2024-06-18T00:00:00\",\"2024-06-19T00:00:00\",\"2024-06-20T00:00:00\",\"2024-06-21T00:00:00\",\"2024-06-24T00:00:00\",\"2024-06-25T00:00:00\",\"2024-06-26T00:00:00\",\"2024-06-27T00:00:00\",\"2024-06-28T00:00:00\",\"2024-07-01T00:00:00\",\"2024-07-02T00:00:00\",\"2024-07-03T00:00:00\",\"2024-07-04T00:00:00\",\"2024-07-05T00:00:00\",\"2024-07-08T00:00:00\",\"2024-07-09T00:00:00\",\"2024-07-10T00:00:00\",\"2024-07-11T00:00:00\",\"2024-07-12T00:00:00\",\"2024-07-15T00:00:00\",\"2024-07-16T00:00:00\",\"2024-07-18T00:00:00\",\"2024-07-19T00:00:00\",\"2024-07-22T00:00:00\",\"2024-07-23T00:00:00\",\"2024-07-24T00:00:00\",\"2024-07-25T00:00:00\",\"2024-07-26T00:00:00\",\"2024-07-29T00:00:00\",\"2024-07-30T00:00:00\",\"2024-07-31T00:00:00\",\"2024-08-01T00:00:00\",\"2024-08-02T00:00:00\",\"2024-08-05T00:00:00\",\"2024-08-06T00:00:00\",\"2024-08-07T00:00:00\",\"2024-08-08T00:00:00\",\"2024-08-09T00:00:00\",\"2024-08-12T00:00:00\",\"2024-08-13T00:00:00\",\"2024-08-14T00:00:00\",\"2024-08-16T00:00:00\",\"2024-08-19T00:00:00\",\"2024-08-20T00:00:00\",\"2024-08-21T00:00:00\",\"2024-08-22T00:00:00\",\"2024-08-23T00:00:00\",\"2024-08-26T00:00:00\",\"2024-08-27T00:00:00\",\"2024-08-28T00:00:00\",\"2024-08-29T00:00:00\",\"2024-08-30T00:00:00\",\"2024-09-02T00:00:00\",\"2024-09-03T00:00:00\",\"2024-09-04T00:00:00\",\"2024-09-05T00:00:00\",\"2024-09-06T00:00:00\",\"2024-09-09T00:00:00\",\"2024-09-10T00:00:00\",\"2024-09-11T00:00:00\",\"2024-09-12T00:00:00\",\"2024-09-13T00:00:00\",\"2024-09-16T00:00:00\",\"2024-09-17T00:00:00\",\"2024-09-18T00:00:00\",\"2024-09-19T00:00:00\",\"2024-09-20T00:00:00\",\"2024-09-23T00:00:00\",\"2024-09-24T00:00:00\",\"2024-09-25T00:00:00\",\"2024-09-26T00:00:00\",\"2024-09-27T00:00:00\",\"2024-09-30T00:00:00\"],\"y\":[-0.119,1.024,-0.076,-1.483,-0.438,0.25,0.164,0.571,0.936,-0.069,-4.376,-0.765,-0.027,-1.513,0.149,-0.481,1.276,-0.164,1.377,0.416,-0.472,-0.317,-0.294,0.279,-1.776,1.374,-1.662,1.372,0.888,0.674,0.358,1.518,-0.158,-0.213,-0.231,-0.504,0.025,-1.35,0.343,2.497,0.357,0.263,0.805,-0.271,-1.068,-0.096,-0.639,-0.408,-0.419,-0.039,-0.411,-0.159,0.804,0.382,-0.564,0.398,0.721,0.958,-0.069,0.166,0.912,0.895,0.183,0.306,0.524,-0.865,-1.643,-0.606,-0.879,1.067,0.735,0.095,0.455,0.633,-0.608,2.506,-0.055,-0.336,-0.627,-0.058,-1.255,-0.549,-1.117,-0.141,0.7,0.22,-0.36,0.605,0.288,-0.14,-0.556,2.044,0.415,0.631,-0.284,-1.313,0.372,0.618,3.994,-8.281,4.431,0.483,1.032,-0.045,-0.151,0.38,-0.097,0.311,0.874,1.88,0.747,-0.235,0.082,1.73,0.502,-0.112,-0.892,0.443,-0.776,1.75,0.027,-0.838,-0.446,0.272,-0.725,0.156,0.016,0.338,-0.113,0.426,-0.677,0.028,-0.965,-0.895,-0.838,0.797,0.215,0.181,0.105,0.021,-0.416,-2.48,-0.689,0.742,0.075,0.651,0.185,-1.486,-0.21,1.575,-0.294,0.86,-0.232,0.59,-0.103,0.421,0.255,-0.263,0.017,0.387,0.172,0.484,-0.56,0.142,-1.756,1.064,0.302,-0.513,1.484,0.319,0.413,0.068,1.071,0.543,1.415,0.579,-0.254,0.246,0.505,-1.0,-1.603],\"type\":\"scatter\"}],                        {\"template\":{\"data\":{\"histogram2dcontour\":[{\"type\":\"histogram2dcontour\",\"colorbar\":{\"outlinewidth\":0,\"ticks\":\"\"},\"colorscale\":[[0.0,\"#0d0887\"],[0.1111111111111111,\"#46039f\"],[0.2222222222222222,\"#7201a8\"],[0.3333333333333333,\"#9c179e\"],[0.4444444444444444,\"#bd3786\"],[0.5555555555555556,\"#d8576b\"],[0.6666666666666666,\"#ed7953\"],[0.7777777777777778,\"#fb9f3a\"],[0.8888888888888888,\"#fdca26\"],[1.0,\"#f0f921\"]]}],\"choropleth\":[{\"type\":\"choropleth\",\"colorbar\":{\"outlinewidth\":0,\"ticks\":\"\"}}],\"histogram2d\":[{\"type\":\"histogram2d\",\"colorbar\":{\"outlinewidth\":0,\"ticks\":\"\"},\"colorscale\":[[0.0,\"#0d0887\"],[0.1111111111111111,\"#46039f\"],[0.2222222222222222,\"#7201a8\"],[0.3333333333333333,\"#9c179e\"],[0.4444444444444444,\"#bd3786\"],[0.5555555555555556,\"#d8576b\"],[0.6666666666666666,\"#ed7953\"],[0.7777777777777778,\"#fb9f3a\"],[0.8888888888888888,\"#fdca26\"],[1.0,\"#f0f921\"]]}],\"heatmap\":[{\"type\":\"heatmap\",\"colorbar\":{\"outlinewidth\":0,\"ticks\":\"\"},\"colorscale\":[[0.0,\"#0d0887\"],[0.1111111111111111,\"#46039f\"],[0.2222222222222222,\"#7201a8\"],[0.3333333333333333,\"#9c179e\"],[0.4444444444444444,\"#bd3786\"],[0.5555555555555556,\"#d8576b\"],[0.6666666666666666,\"#ed7953\"],[0.7777777777777778,\"#fb9f3a\"],[0.8888888888888888,\"#fdca26\"],[1.0,\"#f0f921\"]]}],\"heatmapgl\":[{\"type\":\"heatmapgl\",\"colorbar\":{\"outlinewidth\":0,\"ticks\":\"\"},\"colorscale\":[[0.0,\"#0d0887\"],[0.1111111111111111,\"#46039f\"],[0.2222222222222222,\"#7201a8\"],[0.3333333333333333,\"#9c179e\"],[0.4444444444444444,\"#bd3786\"],[0.5555555555555556,\"#d8576b\"],[0.6666666666666666,\"#ed7953\"],[0.7777777777777778,\"#fb9f3a\"],[0.8888888888888888,\"#fdca26\"],[1.0,\"#f0f921\"]]}],\"contourcarpet\":[{\"type\":\"contourcarpet\",\"colorbar\":{\"outlinewidth\":0,\"ticks\":\"\"}}],\"contour\":[{\"type\":\"contour\",\"colorbar\":{\"outlinewidth\":0,\"ticks\":\"\"},\"colorscale\":[[0.0,\"#0d0887\"],[0.1111111111111111,\"#46039f\"],[0.2222222222222222,\"#7201a8\"],[0.3333333333333333,\"#9c179e\"],[0.4444444444444444,\"#bd3786\"],[0.5555555555555556,\"#d8576b\"],[0.6666666666666666,\"#ed7953\"],[0.7777777777777778,\"#fb9f3a\"],[0.8888888888888888,\"#fdca26\"],[1.0,\"#f0f921\"]]}],\"surface\":[{\"type\":\"surface\",\"colorbar\":{\"outlinewidth\":0,\"ticks\":\"\"},\"colorscale\":[[0.0,\"#0d0887\"],[0.1111111111111111,\"#46039f\"],[0.2222222222222222,\"#7201a8\"],[0.3333333333333333,\"#9c179e\"],[0.4444444444444444,\"#bd3786\"],[0.5555555555555556,\"#d8576b\"],[0.6666666666666666,\"#ed7953\"],[0.7777777777777778,\"#fb9f3a\"],[0.8888888888888888,\"#fdca26\"],[1.0,\"#f0f921\"]]}],\"mesh3d\":[{\"type\":\"mesh3d\",\"colorbar\":{\"outlinewidth\":0,\"ticks\":\"\"}}],\"scatter\":[{\"fillpattern\":{\"fillmode\":\"overlay\",\"size\":10,\"solidity\":0.2},\"type\":\"scatter\"}],\"parcoords\":[{\"type\":\"parcoords\",\"line\":{\"colorbar\":{\"outlinewidth\":0,\"ticks\":\"\"}}}],\"scatterpolargl\":[{\"type\":\"scatterpolargl\",\"marker\":{\"colorbar\":{\"outlinewidth\":0,\"ticks\":\"\"}}}],\"bar\":[{\"error_x\":{\"color\":\"#2a3f5f\"},\"error_y\":{\"color\":\"#2a3f5f\"},\"marker\":{\"line\":{\"color\":\"#E5ECF6\",\"width\":0.5},\"pattern\":{\"fillmode\":\"overlay\",\"size\":10,\"solidity\":0.2}},\"type\":\"bar\"}],\"scattergeo\":[{\"type\":\"scattergeo\",\"marker\":{\"colorbar\":{\"outlinewidth\":0,\"ticks\":\"\"}}}],\"scatterpolar\":[{\"type\":\"scatterpolar\",\"marker\":{\"colorbar\":{\"outlinewidth\":0,\"ticks\":\"\"}}}],\"histogram\":[{\"marker\":{\"pattern\":{\"fillmode\":\"overlay\",\"size\":10,\"solidity\":0.2}},\"type\":\"histogram\"}],\"scattergl\":[{\"type\":\"scattergl\",\"marker\":{\"colorbar\":{\"outlinewidth\":0,\"ticks\":\"\"}}}],\"scatter3d\":[{\"type\":\"scatter3d\",\"line\":{\"colorbar\":{\"outlinewidth\":0,\"ticks\":\"\"}},\"marker\":{\"colorbar\":{\"outlinewidth\":0,\"ticks\":\"\"}}}],\"scattermapbox\":[{\"type\":\"scattermapbox\",\"marker\":{\"colorbar\":{\"outlinewidth\":0,\"ticks\":\"\"}}}],\"scatterternary\":[{\"type\":\"scatterternary\",\"marker\":{\"colorbar\":{\"outlinewidth\":0,\"ticks\":\"\"}}}],\"scattercarpet\":[{\"type\":\"scattercarpet\",\"marker\":{\"colorbar\":{\"outlinewidth\":0,\"ticks\":\"\"}}}],\"carpet\":[{\"aaxis\":{\"endlinecolor\":\"#2a3f5f\",\"gridcolor\":\"white\",\"linecolor\":\"white\",\"minorgridcolor\":\"white\",\"startlinecolor\":\"#2a3f5f\"},\"baxis\":{\"endlinecolor\":\"#2a3f5f\",\"gridcolor\":\"white\",\"linecolor\":\"white\",\"minorgridcolor\":\"white\",\"startlinecolor\":\"#2a3f5f\"},\"type\":\"carpet\"}],\"table\":[{\"cells\":{\"fill\":{\"color\":\"#EBF0F8\"},\"line\":{\"color\":\"white\"}},\"header\":{\"fill\":{\"color\":\"#C8D4E3\"},\"line\":{\"color\":\"white\"}},\"type\":\"table\"}],\"barpolar\":[{\"marker\":{\"line\":{\"color\":\"#E5ECF6\",\"width\":0.5},\"pattern\":{\"fillmode\":\"overlay\",\"size\":10,\"solidity\":0.2}},\"type\":\"barpolar\"}],\"pie\":[{\"automargin\":true,\"type\":\"pie\"}]},\"layout\":{\"autotypenumbers\":\"strict\",\"colorway\":[\"#636efa\",\"#EF553B\",\"#00cc96\",\"#ab63fa\",\"#FFA15A\",\"#19d3f3\",\"#FF6692\",\"#B6E880\",\"#FF97FF\",\"#FECB52\"],\"font\":{\"color\":\"#2a3f5f\"},\"hovermode\":\"closest\",\"hoverlabel\":{\"align\":\"left\"},\"paper_bgcolor\":\"white\",\"plot_bgcolor\":\"#E5ECF6\",\"polar\":{\"bgcolor\":\"#E5ECF6\",\"angularaxis\":{\"gridcolor\":\"white\",\"linecolor\":\"white\",\"ticks\":\"\"},\"radialaxis\":{\"gridcolor\":\"white\",\"linecolor\":\"white\",\"ticks\":\"\"}},\"ternary\":{\"bgcolor\":\"#E5ECF6\",\"aaxis\":{\"gridcolor\":\"white\",\"linecolor\":\"white\",\"ticks\":\"\"},\"baxis\":{\"gridcolor\":\"white\",\"linecolor\":\"white\",\"ticks\":\"\"},\"caxis\":{\"gridcolor\":\"white\",\"linecolor\":\"white\",\"ticks\":\"\"}},\"coloraxis\":{\"colorbar\":{\"outlinewidth\":0,\"ticks\":\"\"}},\"colorscale\":{\"sequential\":[[0.0,\"#0d0887\"],[0.1111111111111111,\"#46039f\"],[0.2222222222222222,\"#7201a8\"],[0.3333333333333333,\"#9c179e\"],[0.4444444444444444,\"#bd3786\"],[0.5555555555555556,\"#d8576b\"],[0.6666666666666666,\"#ed7953\"],[0.7777777777777778,\"#fb9f3a\"],[0.8888888888888888,\"#fdca26\"],[1.0,\"#f0f921\"]],\"sequentialminus\":[[0.0,\"#0d0887\"],[0.1111111111111111,\"#46039f\"],[0.2222222222222222,\"#7201a8\"],[0.3333333333333333,\"#9c179e\"],[0.4444444444444444,\"#bd3786\"],[0.5555555555555556,\"#d8576b\"],[0.6666666666666666,\"#ed7953\"],[0.7777777777777778,\"#fb9f3a\"],[0.8888888888888888,\"#fdca26\"],[1.0,\"#f0f921\"]],\"diverging\":[[0,\"#8e0152\"],[0.1,\"#c51b7d\"],[0.2,\"#de77ae\"],[0.3,\"#f1b6da\"],[0.4,\"#fde0ef\"],[0.5,\"#f7f7f7\"],[0.6,\"#e6f5d0\"],[0.7,\"#b8e186\"],[0.8,\"#7fbc41\"],[0.9,\"#4d9221\"],[1,\"#276419\"]]},\"xaxis\":{\"gridcolor\":\"white\",\"linecolor\":\"white\",\"ticks\":\"\",\"title\":{\"standoff\":15},\"zerolinecolor\":\"white\",\"automargin\":true,\"zerolinewidth\":2},\"yaxis\":{\"gridcolor\":\"white\",\"linecolor\":\"white\",\"ticks\":\"\",\"title\":{\"standoff\":15},\"zerolinecolor\":\"white\",\"automargin\":true,\"zerolinewidth\":2},\"scene\":{\"xaxis\":{\"backgroundcolor\":\"#E5ECF6\",\"gridcolor\":\"white\",\"linecolor\":\"white\",\"showbackground\":true,\"ticks\":\"\",\"zerolinecolor\":\"white\",\"gridwidth\":2},\"yaxis\":{\"backgroundcolor\":\"#E5ECF6\",\"gridcolor\":\"white\",\"linecolor\":\"white\",\"showbackground\":true,\"ticks\":\"\",\"zerolinecolor\":\"white\",\"gridwidth\":2},\"zaxis\":{\"backgroundcolor\":\"#E5ECF6\",\"gridcolor\":\"white\",\"linecolor\":\"white\",\"showbackground\":true,\"ticks\":\"\",\"zerolinecolor\":\"white\",\"gridwidth\":2}},\"shapedefaults\":{\"line\":{\"color\":\"#2a3f5f\"}},\"annotationdefaults\":{\"arrowcolor\":\"#2a3f5f\",\"arrowhead\":0,\"arrowwidth\":1},\"geo\":{\"bgcolor\":\"white\",\"landcolor\":\"#E5ECF6\",\"subunitcolor\":\"white\",\"showland\":true,\"showlakes\":true,\"lakecolor\":\"white\"},\"title\":{\"x\":0.05},\"mapbox\":{\"style\":\"light\"}}},\"xaxis\":{\"rangeslider\":{\"visible\":false},\"title\":{\"text\":\"Date\"}},\"title\":{\"text\":\"Time Series of Daily Returns for BANKNIFTY\"},\"yaxis\":{\"title\":{\"text\":\"Returns\"}},\"height\":700,\"width\":1000,\"shapes\":[{\"line\":{\"color\":\"red\",\"dash\":\"dash\",\"width\":1},\"type\":\"line\",\"x0\":\"2024-01-03T00:00:00\",\"x1\":\"2024-09-30T00:00:00\",\"y0\":0,\"y1\":0}]},                        {\"responsive\": true}                    ).then(function(){\n",
              "                            \n",
              "var gd = document.getElementById('74d691b4-bea5-48fb-a794-bb00742a2788');\n",
              "var x = new MutationObserver(function (mutations, observer) {{\n",
              "        var display = window.getComputedStyle(gd).display;\n",
              "        if (!display || display === 'none') {{\n",
              "            console.log([gd, 'removed!']);\n",
              "            Plotly.purge(gd);\n",
              "            observer.disconnect();\n",
              "        }}\n",
              "}});\n",
              "\n",
              "// Listen for the removal of the full notebook cells\n",
              "var notebookContainer = gd.closest('#notebook-container');\n",
              "if (notebookContainer) {{\n",
              "    x.observe(notebookContainer, {childList: true});\n",
              "}}\n",
              "\n",
              "// Listen for the clearing of the current output cell\n",
              "var outputEl = gd.closest('.output');\n",
              "if (outputEl) {{\n",
              "    x.observe(outputEl, {childList: true});\n",
              "}}\n",
              "\n",
              "                        })                };                            </script>        </div>\n",
              "</body>\n",
              "</html>"
            ]
          },
          "metadata": {}
        }
      ]
    },
    {
      "cell_type": "code",
      "source": [
        "df['Daily Returns'].describe()"
      ],
      "metadata": {
        "id": "fhlsky78T9dU",
        "colab": {
          "base_uri": "https://localhost:8080/",
          "height": 335
        },
        "outputId": "3ec1f2da-c5a1-4811-eeca-fe5d1304ee62"
      },
      "execution_count": 82,
      "outputs": [
        {
          "output_type": "execute_result",
          "data": {
            "text/plain": [
              "count    181.000000\n",
              "mean       0.057268\n",
              "std        1.153951\n",
              "min       -8.280507\n",
              "25%       -0.411137\n",
              "50%        0.095001\n",
              "75%        0.542980\n",
              "max        4.430666\n",
              "Name: Daily Returns, dtype: float64"
            ],
            "text/html": [
              "<div>\n",
              "<style scoped>\n",
              "    .dataframe tbody tr th:only-of-type {\n",
              "        vertical-align: middle;\n",
              "    }\n",
              "\n",
              "    .dataframe tbody tr th {\n",
              "        vertical-align: top;\n",
              "    }\n",
              "\n",
              "    .dataframe thead th {\n",
              "        text-align: right;\n",
              "    }\n",
              "</style>\n",
              "<table border=\"1\" class=\"dataframe\">\n",
              "  <thead>\n",
              "    <tr style=\"text-align: right;\">\n",
              "      <th></th>\n",
              "      <th>Daily Returns</th>\n",
              "    </tr>\n",
              "  </thead>\n",
              "  <tbody>\n",
              "    <tr>\n",
              "      <th>count</th>\n",
              "      <td>181.000000</td>\n",
              "    </tr>\n",
              "    <tr>\n",
              "      <th>mean</th>\n",
              "      <td>0.057268</td>\n",
              "    </tr>\n",
              "    <tr>\n",
              "      <th>std</th>\n",
              "      <td>1.153951</td>\n",
              "    </tr>\n",
              "    <tr>\n",
              "      <th>min</th>\n",
              "      <td>-8.280507</td>\n",
              "    </tr>\n",
              "    <tr>\n",
              "      <th>25%</th>\n",
              "      <td>-0.411137</td>\n",
              "    </tr>\n",
              "    <tr>\n",
              "      <th>50%</th>\n",
              "      <td>0.095001</td>\n",
              "    </tr>\n",
              "    <tr>\n",
              "      <th>75%</th>\n",
              "      <td>0.542980</td>\n",
              "    </tr>\n",
              "    <tr>\n",
              "      <th>max</th>\n",
              "      <td>4.430666</td>\n",
              "    </tr>\n",
              "  </tbody>\n",
              "</table>\n",
              "</div><br><label><b>dtype:</b> float64</label>"
            ]
          },
          "metadata": {},
          "execution_count": 82
        }
      ]
    },
    {
      "cell_type": "code",
      "source": [],
      "metadata": {
        "id": "Vt8wf1HZouqS"
      },
      "execution_count": 38,
      "outputs": []
    },
    {
      "cell_type": "code",
      "source": [],
      "metadata": {
        "id": "hBJ-SuvksGgC"
      },
      "execution_count": 49,
      "outputs": []
    },
    {
      "cell_type": "code",
      "source": [],
      "metadata": {
        "id": "dxwK2Hf6sMdY"
      },
      "execution_count": 49,
      "outputs": []
    },
    {
      "cell_type": "code",
      "source": [],
      "metadata": {
        "id": "cDuhLesbtxkQ"
      },
      "execution_count": null,
      "outputs": []
    }
  ]
}