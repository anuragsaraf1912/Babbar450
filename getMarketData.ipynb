{
  "nbformat": 4,
  "nbformat_minor": 0,
  "metadata": {
    "colab": {
      "provenance": [],
      "toc_visible": true,
      "authorship_tag": "ABX9TyONsSXJCI0sxRoRFZoils+b",
      "include_colab_link": true
    },
    "kernelspec": {
      "name": "python3",
      "display_name": "Python 3"
    },
    "language_info": {
      "name": "python"
    },
    "widgets": {
      "application/vnd.jupyter.widget-state+json": {
        "1380f8a4ff2f4dd8b8e48feab1917c5b": {
          "model_module": "@jupyter-widgets/controls",
          "model_name": "HBoxModel",
          "model_module_version": "1.5.0",
          "state": {
            "_dom_classes": [],
            "_model_module": "@jupyter-widgets/controls",
            "_model_module_version": "1.5.0",
            "_model_name": "HBoxModel",
            "_view_count": null,
            "_view_module": "@jupyter-widgets/controls",
            "_view_module_version": "1.5.0",
            "_view_name": "HBoxView",
            "box_style": "",
            "children": [
              "IPY_MODEL_5f2989146016406788f6f330e24735c6",
              "IPY_MODEL_ae934af3e3d441608011cb61525b0502",
              "IPY_MODEL_1b64be20259947e8988800e3ad7bf1e3"
            ],
            "layout": "IPY_MODEL_24dcc9a956b440aa9667924f9cacff44"
          }
        },
        "5f2989146016406788f6f330e24735c6": {
          "model_module": "@jupyter-widgets/controls",
          "model_name": "DropdownModel",
          "model_module_version": "1.5.0",
          "state": {
            "_dom_classes": [],
            "_model_module": "@jupyter-widgets/controls",
            "_model_module_version": "1.5.0",
            "_model_name": "DropdownModel",
            "_options_labels": [
              "NIFTY50",
              "SENSEX",
              "BANKNIFTY",
              "HDFCBANK",
              "TCS",
              "RELIANCE"
            ],
            "_view_count": null,
            "_view_module": "@jupyter-widgets/controls",
            "_view_module_version": "1.5.0",
            "_view_name": "DropdownView",
            "description": "Select stock:",
            "description_tooltip": null,
            "disabled": false,
            "index": 1,
            "layout": "IPY_MODEL_3ced35d81f8141d89eaa1c29007b018b",
            "style": "IPY_MODEL_4e4697daa02c47888b1e455d49590627"
          }
        },
        "ae934af3e3d441608011cb61525b0502": {
          "model_module": "@jupyter-widgets/controls",
          "model_name": "DatePickerModel",
          "model_module_version": "1.5.0",
          "state": {
            "_dom_classes": [],
            "_model_module": "@jupyter-widgets/controls",
            "_model_module_version": "1.5.0",
            "_model_name": "DatePickerModel",
            "_view_count": null,
            "_view_module": "@jupyter-widgets/controls",
            "_view_module_version": "1.5.0",
            "_view_name": "DatePickerView",
            "description": "Start Date:",
            "description_tooltip": null,
            "disabled": false,
            "layout": "IPY_MODEL_f83aceb9c1bf4f6f8358b8e532d88467",
            "style": "IPY_MODEL_8b723a5ca6804746a7cd5909fde53c51",
            "value": null
          }
        },
        "1b64be20259947e8988800e3ad7bf1e3": {
          "model_module": "@jupyter-widgets/controls",
          "model_name": "DatePickerModel",
          "model_module_version": "1.5.0",
          "state": {
            "_dom_classes": [],
            "_model_module": "@jupyter-widgets/controls",
            "_model_module_version": "1.5.0",
            "_model_name": "DatePickerModel",
            "_view_count": null,
            "_view_module": "@jupyter-widgets/controls",
            "_view_module_version": "1.5.0",
            "_view_name": "DatePickerView",
            "description": "End Date:",
            "description_tooltip": null,
            "disabled": false,
            "layout": "IPY_MODEL_41293ba346564969a7338e8ec962886e",
            "style": "IPY_MODEL_2d7a31c6bf784307a5a519bc85c61949",
            "value": null
          }
        },
        "24dcc9a956b440aa9667924f9cacff44": {
          "model_module": "@jupyter-widgets/base",
          "model_name": "LayoutModel",
          "model_module_version": "1.2.0",
          "state": {
            "_model_module": "@jupyter-widgets/base",
            "_model_module_version": "1.2.0",
            "_model_name": "LayoutModel",
            "_view_count": null,
            "_view_module": "@jupyter-widgets/base",
            "_view_module_version": "1.2.0",
            "_view_name": "LayoutView",
            "align_content": null,
            "align_items": null,
            "align_self": null,
            "border": null,
            "bottom": null,
            "display": null,
            "flex": null,
            "flex_flow": null,
            "grid_area": null,
            "grid_auto_columns": null,
            "grid_auto_flow": null,
            "grid_auto_rows": null,
            "grid_column": null,
            "grid_gap": null,
            "grid_row": null,
            "grid_template_areas": null,
            "grid_template_columns": null,
            "grid_template_rows": null,
            "height": null,
            "justify_content": null,
            "justify_items": null,
            "left": null,
            "margin": null,
            "max_height": null,
            "max_width": null,
            "min_height": null,
            "min_width": null,
            "object_fit": null,
            "object_position": null,
            "order": null,
            "overflow": null,
            "overflow_x": null,
            "overflow_y": null,
            "padding": null,
            "right": null,
            "top": null,
            "visibility": null,
            "width": null
          }
        },
        "3ced35d81f8141d89eaa1c29007b018b": {
          "model_module": "@jupyter-widgets/base",
          "model_name": "LayoutModel",
          "model_module_version": "1.2.0",
          "state": {
            "_model_module": "@jupyter-widgets/base",
            "_model_module_version": "1.2.0",
            "_model_name": "LayoutModel",
            "_view_count": null,
            "_view_module": "@jupyter-widgets/base",
            "_view_module_version": "1.2.0",
            "_view_name": "LayoutView",
            "align_content": null,
            "align_items": null,
            "align_self": null,
            "border": null,
            "bottom": null,
            "display": null,
            "flex": null,
            "flex_flow": null,
            "grid_area": null,
            "grid_auto_columns": null,
            "grid_auto_flow": null,
            "grid_auto_rows": null,
            "grid_column": null,
            "grid_gap": null,
            "grid_row": null,
            "grid_template_areas": null,
            "grid_template_columns": null,
            "grid_template_rows": null,
            "height": null,
            "justify_content": null,
            "justify_items": null,
            "left": null,
            "margin": null,
            "max_height": null,
            "max_width": null,
            "min_height": null,
            "min_width": null,
            "object_fit": null,
            "object_position": null,
            "order": null,
            "overflow": null,
            "overflow_x": null,
            "overflow_y": null,
            "padding": null,
            "right": null,
            "top": null,
            "visibility": null,
            "width": null
          }
        },
        "4e4697daa02c47888b1e455d49590627": {
          "model_module": "@jupyter-widgets/controls",
          "model_name": "DescriptionStyleModel",
          "model_module_version": "1.5.0",
          "state": {
            "_model_module": "@jupyter-widgets/controls",
            "_model_module_version": "1.5.0",
            "_model_name": "DescriptionStyleModel",
            "_view_count": null,
            "_view_module": "@jupyter-widgets/base",
            "_view_module_version": "1.2.0",
            "_view_name": "StyleView",
            "description_width": ""
          }
        },
        "f83aceb9c1bf4f6f8358b8e532d88467": {
          "model_module": "@jupyter-widgets/base",
          "model_name": "LayoutModel",
          "model_module_version": "1.2.0",
          "state": {
            "_model_module": "@jupyter-widgets/base",
            "_model_module_version": "1.2.0",
            "_model_name": "LayoutModel",
            "_view_count": null,
            "_view_module": "@jupyter-widgets/base",
            "_view_module_version": "1.2.0",
            "_view_name": "LayoutView",
            "align_content": null,
            "align_items": null,
            "align_self": null,
            "border": null,
            "bottom": null,
            "display": null,
            "flex": null,
            "flex_flow": null,
            "grid_area": null,
            "grid_auto_columns": null,
            "grid_auto_flow": null,
            "grid_auto_rows": null,
            "grid_column": null,
            "grid_gap": null,
            "grid_row": null,
            "grid_template_areas": null,
            "grid_template_columns": null,
            "grid_template_rows": null,
            "height": null,
            "justify_content": null,
            "justify_items": null,
            "left": null,
            "margin": null,
            "max_height": null,
            "max_width": null,
            "min_height": null,
            "min_width": null,
            "object_fit": null,
            "object_position": null,
            "order": null,
            "overflow": null,
            "overflow_x": null,
            "overflow_y": null,
            "padding": null,
            "right": null,
            "top": null,
            "visibility": null,
            "width": null
          }
        },
        "8b723a5ca6804746a7cd5909fde53c51": {
          "model_module": "@jupyter-widgets/controls",
          "model_name": "DescriptionStyleModel",
          "model_module_version": "1.5.0",
          "state": {
            "_model_module": "@jupyter-widgets/controls",
            "_model_module_version": "1.5.0",
            "_model_name": "DescriptionStyleModel",
            "_view_count": null,
            "_view_module": "@jupyter-widgets/base",
            "_view_module_version": "1.2.0",
            "_view_name": "StyleView",
            "description_width": ""
          }
        },
        "41293ba346564969a7338e8ec962886e": {
          "model_module": "@jupyter-widgets/base",
          "model_name": "LayoutModel",
          "model_module_version": "1.2.0",
          "state": {
            "_model_module": "@jupyter-widgets/base",
            "_model_module_version": "1.2.0",
            "_model_name": "LayoutModel",
            "_view_count": null,
            "_view_module": "@jupyter-widgets/base",
            "_view_module_version": "1.2.0",
            "_view_name": "LayoutView",
            "align_content": null,
            "align_items": null,
            "align_self": null,
            "border": null,
            "bottom": null,
            "display": null,
            "flex": null,
            "flex_flow": null,
            "grid_area": null,
            "grid_auto_columns": null,
            "grid_auto_flow": null,
            "grid_auto_rows": null,
            "grid_column": null,
            "grid_gap": null,
            "grid_row": null,
            "grid_template_areas": null,
            "grid_template_columns": null,
            "grid_template_rows": null,
            "height": null,
            "justify_content": null,
            "justify_items": null,
            "left": null,
            "margin": null,
            "max_height": null,
            "max_width": null,
            "min_height": null,
            "min_width": null,
            "object_fit": null,
            "object_position": null,
            "order": null,
            "overflow": null,
            "overflow_x": null,
            "overflow_y": null,
            "padding": null,
            "right": null,
            "top": null,
            "visibility": null,
            "width": null
          }
        },
        "2d7a31c6bf784307a5a519bc85c61949": {
          "model_module": "@jupyter-widgets/controls",
          "model_name": "DescriptionStyleModel",
          "model_module_version": "1.5.0",
          "state": {
            "_model_module": "@jupyter-widgets/controls",
            "_model_module_version": "1.5.0",
            "_model_name": "DescriptionStyleModel",
            "_view_count": null,
            "_view_module": "@jupyter-widgets/base",
            "_view_module_version": "1.2.0",
            "_view_name": "StyleView",
            "description_width": ""
          }
        }
      }
    }
  },
  "cells": [
    {
      "cell_type": "markdown",
      "metadata": {
        "id": "view-in-github",
        "colab_type": "text"
      },
      "source": [
        "<a href=\"https://colab.research.google.com/github/anuragsaraf1912/Babbar450/blob/master/getMarketData.ipynb\" target=\"_parent\"><img src=\"https://colab.research.google.com/assets/colab-badge.svg\" alt=\"Open In Colab\"/></a>"
      ]
    },
    {
      "cell_type": "markdown",
      "source": [
        "# Market Data Analysis"
      ],
      "metadata": {
        "id": "8BSdjKsMEAAT"
      }
    },
    {
      "cell_type": "markdown",
      "source": [
        "## Importing libraries"
      ],
      "metadata": {
        "id": "Sw46FfFjEK0g"
      }
    },
    {
      "cell_type": "code",
      "execution_count": 1,
      "metadata": {
        "id": "0_iAQqn547Qh"
      },
      "outputs": [],
      "source": [
        "import pandas as pd\n",
        "import numpy as np\n",
        "import yfinance as yf\n",
        "import plotly.graph_objects as go\n",
        "from plotly.subplots import make_subplots\n",
        "from IPython.display import clear_output\n",
        "\n",
        "#Getting the widgets objects\n",
        "import ipywidgets as widgets\n",
        "from ipywidgets import HBox, VBox"
      ]
    },
    {
      "cell_type": "markdown",
      "source": [
        "## Functions"
      ],
      "metadata": {
        "id": "dMqkWjFjEb8N"
      }
    },
    {
      "cell_type": "markdown",
      "source": [
        "#### Graph Generating Functions"
      ],
      "metadata": {
        "id": "HHkpNBsOFguA"
      }
    },
    {
      "cell_type": "code",
      "source": [
        "def plotCandleStick(data):\n",
        "  \"\"\"Plots candlestick pattern using the Plotly library\"\"\"\n",
        "\n",
        "  candlestick = go.Candlestick(\n",
        "    x=data[\"Date\"],\n",
        "    open=data[\"Open\"],\n",
        "    high=data[\"High\"],\n",
        "    low=data[\"Low\"],\n",
        "    close=data[\"Close\"],\n",
        "    name=\"Price\",\n",
        "    increasing_line_color='green',\n",
        "    decreasing_line_color='red',\n",
        "    hovertext=[f\"Returns: {round(row['Daily Returns'],2)}% <br> Volume: {round(row['Volume']/1000,2)}K <br> Open: {round(row['Open'],2)} <br> High: {round(row['High'],2)} <br> Low: {round(row['Low'],2)} <br> Close: {round(row['Close'],2)}\" for index, row in data.iterrows()],\n",
        "    hoverinfo=\"text\"  # Display hovertext\n",
        "  )\n",
        "\n",
        "  # Create volume trace\n",
        "  volume = go.Bar(\n",
        "      x=data[\"Date\"],\n",
        "      y=data[\"Volume\"],\n",
        "      name=\"Volume\",\n",
        "      marker=dict(color='rgba(0, 0, 255, 0.3)')\n",
        "  )\n",
        "\n",
        "  # Create figure\n",
        "\n",
        "  fig = make_subplots(specs=[[{\"secondary_y\": True}]])\n",
        "  fig.add_trace(\n",
        "      candlestick,\n",
        "      secondary_y=False,\n",
        "  )\n",
        "\n",
        "  fig.add_trace(\n",
        "      volume,\n",
        "      secondary_y=True,\n",
        "  )\n",
        "\n",
        "  # Update layout\n",
        "  fig.update_layout(\n",
        "      title= f\"Candlestick Chart for {dropdown.label} with Volume\",\n",
        "      height = 1000,\n",
        "      width = 2000,\n",
        "      xaxis=dict(\n",
        "          title=\"Date\",\n",
        "      ),\n",
        "  )\n",
        "\n",
        "  # Configure the y-axis for volume\n",
        "  fig.update_yaxes(title_text=\"Price\", secondary_y=False, )\n",
        "  fig.update_yaxes(title_text=\"Volume\", secondary_y=True, range =[0, 5*max(data[\"Volume\"])])\n",
        "\n",
        "  # Show figure\n",
        "  fig.show()\n",
        "\n",
        "###################################################################################################################################################################\n",
        "\n",
        "def makeHistogram(df):\n",
        "  \"\"\"Creates a histogram from the data. Requires a 'Daily Returns' column\"\"\"\n",
        "  fig = go.Figure(data=[go.Histogram(x=df['Daily Returns'])])\n",
        "\n",
        "  # Update layout for better appearance\n",
        "  fig.update_layout(\n",
        "      title= f\"Daily Returns Distribution for {dropdown.label}\",\n",
        "      xaxis_title=\"Returns\",\n",
        "      yaxis_title=\"Count\",\n",
        "      bargap=0.1,  # Gap between bars\n",
        "      bargroupgap=0.1,  # Gap between groups of bars\n",
        "      height = 700,\n",
        "      width = 1000\n",
        "  )\n",
        "\n",
        "  # Show the figure (interactive)\n",
        "  fig.show()\n",
        "\n",
        "###################################################################################################################################################################\n",
        "\n",
        "def makeLinePlot(sortedDF):\n",
        "  \"\"\"Create a quartle graph from the returns data. Requires a percentile and Daily returns column\"\"\"\n",
        "\n",
        "  # Create a line graph using go.Scatter\n",
        "  lineGraph = go.Figure()\n",
        "\n",
        "  x_values, y_values = round(sortedDF['Daily Returns'],3),  round(sortedDF['percentile'],3)\n",
        "\n",
        "  # Add the line graph trace\n",
        "  lineGraph.add_trace(go.Scatter(x=x_values, y=y_values, mode='lines', name='Percentile Line'))\n",
        "\n",
        "\n",
        "  # Customize the layout\n",
        "  lineGraph.update_layout(\n",
        "      title= f\"Percentile line for the Daily Returns for {dropdown.label}\",\n",
        "      xaxis_title=\"Daily Returns\",\n",
        "      yaxis_title=\"Percentile\",\n",
        "      height=700,\n",
        "      width=1000,\n",
        "  )\n",
        "  # Show the figure\n",
        "  lineGraph.show()\n",
        "\n",
        "###################################################################################################################################################################\n",
        "\n",
        "def makeTimeSeries(df):\n",
        "  \"\"\"Create a time series graph from the data. Requires a 'Daily Returns' and 'Date' columns\"\"\"\n",
        "  fig = go.Figure()\n",
        "\n",
        "  # Add the returns line\n",
        "  fig.add_trace(go.Scatter(\n",
        "      x=df['Date'],\n",
        "      y=round(df['Daily Returns'],3),\n",
        "      mode='lines',\n",
        "      name='Daily Returns'#,\n",
        "      # hovertext=[f\"Date: {date.date()}<br>Return: {return_val:.2%}\" for date, return_val in zip(df['Date'], df['Returns'])],\n",
        "      # hoverinfo='text'\n",
        "  ))\n",
        "\n",
        "  # Customize the layout\n",
        "  fig.update_layout(\n",
        "      title= f\"Time Series of Daily Returns for {dropdown.label}\",\n",
        "      xaxis_title=\"Date\",\n",
        "      yaxis_title=\"Returns\",\n",
        "      xaxis_rangeslider_visible=False,\n",
        "      height = 700,\n",
        "      width = 1000\n",
        "  )\n",
        "\n",
        "  # Add a horizontal dashed line at y=0\n",
        "  fig.add_shape(\n",
        "      type='line',\n",
        "      x0=df['Date'].iloc[0],  # Starting x value (beginning of the x-axis)\n",
        "      y0=0,                   # y value (height of the line)\n",
        "      x1=df['Date'].iloc[-1], # Ending x value (end of the x-axis)\n",
        "      y1=0,                   # y value (height of the line)\n",
        "      line=dict(color='red', width=1, dash='dash')  # Line style\n",
        "  )\n",
        "\n",
        "  # Show the figure\n",
        "  fig.show()\n"
      ],
      "metadata": {
        "id": "Vk95Cf3KdyA6"
      },
      "execution_count": 58,
      "outputs": []
    },
    {
      "cell_type": "markdown",
      "source": [
        "#### Data Logic"
      ],
      "metadata": {
        "id": "Y1wdA1tOF9Te"
      }
    },
    {
      "cell_type": "code",
      "source": [
        "def getTicker(tick):\n",
        "  \"\"\"Logic to modify ticker before sending it to the Yahoo finance API\"\"\"\n",
        "  if tick == '^NSEI':\n",
        "    return '^NSEI'\n",
        "  else:\n",
        "    return tick + \".NS\"\n",
        "\n",
        "def getData(ticker, startDate, endDate):\n",
        "  \"\"\"Logic to get data from the Yahoo finance API\"\"\"\n",
        "  df = (yf.download(ticker, startDate, endDate)).reset_index()\n",
        "  return df\n",
        "\n",
        "def getDailyReturns(df):\n",
        "  \"\"\"Logic to get daily returns from the data\"\"\"\n",
        "  df['Daily Returns'] = 100*np.log(df['Adj Close']/df['Adj Close'].shift(1))\n",
        "  df.dropna(inplace=True)\n",
        "  return df\n",
        "\n",
        "def genSortedPercentile(df):\n",
        "  \"\"\"Logic to generate the percentile column\"\"\"\n",
        "  sortedDF = df.sort_values('Daily Returns')\n",
        "  sortedDF['percentile'] =  1\n",
        "  sortedDF['percentile'] = sortedDF['percentile'].cumsum()/len(sortedDF)\n",
        "  return sortedDF\n"
      ],
      "metadata": {
        "id": "0EkOoHssGn5k"
      },
      "execution_count": 8,
      "outputs": []
    },
    {
      "cell_type": "markdown",
      "source": [
        "#### Event functions"
      ],
      "metadata": {
        "id": "ZtuxRBRwLQwV"
      }
    },
    {
      "cell_type": "code",
      "source": [
        "def on_value_change(change):\n",
        "    if change['type'] == 'change' and change['name'] == 'value':\n",
        "        startDate = start_date_picker.value\n",
        "        endDate = end_date_picker.value\n",
        "        ticker = getTicker(dropdown.value)\n",
        "        if startDate and endDate and ticker:\n",
        "          global df\n",
        "          df = getData(ticker, startDate, endDate)\n",
        "          df = getDailyReturns(df)\n",
        "          global sortedDF\n",
        "          sortedDF = genSortedPercentile(df)\n",
        "          clear_output(wait = True)\n",
        "          display(widgets.HBox([dropdown, start_date_picker, end_date_picker])\n",
        ")"
      ],
      "metadata": {
        "id": "Y9_ozvLXLPbQ"
      },
      "execution_count": 4,
      "outputs": []
    },
    {
      "cell_type": "markdown",
      "source": [
        "## Widgets"
      ],
      "metadata": {
        "id": "3Ds_Th50LfYE"
      }
    },
    {
      "cell_type": "markdown",
      "source": [
        "#### Initiate Widgets (Add Tickers)"
      ],
      "metadata": {
        "id": "czw1YfYYLyGG"
      }
    },
    {
      "cell_type": "code",
      "source": [
        "# Date Picker Widgets\n",
        "start_date_picker = widgets.DatePicker(description='Start Date:')\n",
        "end_date_picker = widgets.DatePicker(description='End Date:')\n",
        "\n",
        "# Text Entry Widget\n",
        "options = [('NIFTY50','^NSEI'), ('SENSEX','^BSESN'), ('BANKNIFTY','^NSEBANK'), ('HDFCBANK','HDFCBANK'), ('TCS','TCS'), ('RELIANCE', 'RELIANCE')]\n",
        "\n",
        "# Create the dropdown widget\n",
        "dropdown = widgets.Dropdown(\n",
        "    options=options,\n",
        "    description='Select stock:'\n",
        ")\n",
        "\n",
        "# Observing changes\n",
        "start_date_picker.observe(on_value_change)\n",
        "end_date_picker.observe(on_value_change)\n",
        "dropdown.observe(on_value_change)"
      ],
      "metadata": {
        "id": "c8tvCEMGL4-O"
      },
      "execution_count": 51,
      "outputs": []
    },
    {
      "cell_type": "markdown",
      "source": [
        "#### Stock and Date Selector"
      ],
      "metadata": {
        "id": "sBWn6q5lMXyk"
      }
    },
    {
      "cell_type": "code",
      "source": [
        "# Displaying widgets\n",
        "widgets.HBox([dropdown, start_date_picker, end_date_picker])"
      ],
      "metadata": {
        "id": "cIBUd8Kq5DL2",
        "colab": {
          "base_uri": "https://localhost:8080/",
          "height": 49,
          "referenced_widgets": [
            "1380f8a4ff2f4dd8b8e48feab1917c5b",
            "5f2989146016406788f6f330e24735c6",
            "ae934af3e3d441608011cb61525b0502",
            "1b64be20259947e8988800e3ad7bf1e3",
            "24dcc9a956b440aa9667924f9cacff44",
            "3ced35d81f8141d89eaa1c29007b018b",
            "4e4697daa02c47888b1e455d49590627",
            "f83aceb9c1bf4f6f8358b8e532d88467",
            "8b723a5ca6804746a7cd5909fde53c51",
            "41293ba346564969a7338e8ec962886e",
            "2d7a31c6bf784307a5a519bc85c61949"
          ]
        },
        "outputId": "01d588b4-5979-4826-8744-1aaa0fb43d64"
      },
      "execution_count": 52,
      "outputs": [
        {
          "output_type": "display_data",
          "data": {
            "text/plain": [
              "HBox(children=(Dropdown(description='Select stock:', options=(('NIFTY50', '^NSEI'), ('SENSEX', '^BSESN'), ('BA…"
            ],
            "application/vnd.jupyter.widget-view+json": {
              "version_major": 2,
              "version_minor": 0,
              "model_id": "1380f8a4ff2f4dd8b8e48feab1917c5b"
            }
          },
          "metadata": {}
        }
      ]
    },
    {
      "cell_type": "markdown",
      "source": [
        "# Analysis"
      ],
      "metadata": {
        "id": "ZFZqarSqMqIs"
      }
    },
    {
      "cell_type": "code",
      "source": [
        "plotCandleStick(df)"
      ],
      "metadata": {
        "colab": {
          "base_uri": "https://localhost:8080/",
          "height": 1000
        },
        "id": "46vIv4Ga6LUZ",
        "outputId": "561fb23b-3d76-4e70-d681-89e47aa14a4e"
      },
      "execution_count": 53,
      "outputs": [
        {
          "output_type": "display_data",
          "data": {
            "text/html": [
              "<html>\n",
              "<head><meta charset=\"utf-8\" /></head>\n",
              "<body>\n",
              "    <div>            <script src=\"https://cdnjs.cloudflare.com/ajax/libs/mathjax/2.7.5/MathJax.js?config=TeX-AMS-MML_SVG\"></script><script type=\"text/javascript\">if (window.MathJax && window.MathJax.Hub && window.MathJax.Hub.Config) {window.MathJax.Hub.Config({SVG: {font: \"STIX-Web\"}});}</script>                <script type=\"text/javascript\">window.PlotlyConfig = {MathJaxConfig: 'local'};</script>\n",
              "        <script charset=\"utf-8\" src=\"https://cdn.plot.ly/plotly-2.35.2.min.js\"></script>                <div id=\"a9b67ed8-620b-4846-a18c-cc45dbaebaa5\" class=\"plotly-graph-div\" style=\"height:1000px; width:2000px;\"></div>            <script type=\"text/javascript\">                                    window.PLOTLYENV=window.PLOTLYENV || {};                                    if (document.getElementById(\"a9b67ed8-620b-4846-a18c-cc45dbaebaa5\")) {                    Plotly.newPlot(                        \"a9b67ed8-620b-4846-a18c-cc45dbaebaa5\",                        [{\"close\":[21884.5,22620.349609375,22821.400390625,23290.150390625,23259.19921875,23264.849609375,23322.94921875,23398.900390625,23465.599609375,23557.900390625,23516.0,23567.0,23501.099609375,23537.849609375,23721.30078125,23868.80078125,24044.5,24010.599609375,24141.94921875,24123.849609375,24286.5,24302.150390625,24323.849609375,24320.55078125,24433.19921875,24324.44921875,24315.94921875,24502.150390625,24586.69921875,24613.0,24800.849609375,24530.900390625,24509.25,24479.05078125,24413.5,24406.099609375,24834.849609375,24836.099609375,24857.30078125,24951.150390625,25010.900390625,24717.69921875,24055.599609375,23992.55078125,24297.5,24117.0,24367.5,24347.0,24139.0,24143.75,24541.150390625,24572.650390625,24698.849609375,24770.19921875,24811.5,24823.150390625,25010.599609375,25017.75,25052.349609375,25151.94921875,25235.900390625,25278.69921875,25279.849609375,25198.69921875,25145.099609375,24852.150390625,24936.400390625,25041.099609375,24918.44921875,25388.900390625,25356.5,25383.75,25418.55078125,25377.55078125,25415.80078125,25790.94921875,25939.05078125,25940.400390625,26004.150390625,26216.05078125,26178.94921875,25810.849609375],\"decreasing\":{\"line\":{\"color\":\"red\"}},\"high\":[23179.5,22670.400390625,22910.150390625,23320.19921875,23411.900390625,23389.44921875,23441.94921875,23481.05078125,23490.400390625,23579.05078125,23664.0,23624.0,23667.099609375,23558.099609375,23754.150390625,23889.900390625,24087.44921875,24174.0,24164.0,24236.349609375,24309.150390625,24401.0,24363.0,24344.599609375,24443.599609375,24461.05078125,24402.650390625,24592.19921875,24635.05078125,24661.25,24837.75,24854.80078125,24595.19921875,24582.55078125,24504.25,24426.150390625,24861.150390625,24999.75,24971.75,24984.599609375,25078.30078125,24851.900390625,24350.05078125,24382.599609375,24337.69921875,24340.5,24419.75,24472.80078125,24359.94921875,24196.5,24563.900390625,24638.80078125,24734.30078125,24787.94921875,24867.349609375,24858.400390625,25043.80078125,25073.099609375,25129.599609375,25192.900390625,25268.349609375,25333.650390625,25321.69921875,25216.0,25275.44921875,25168.75,24957.5,25130.5,25113.69921875,25433.349609375,25430.5,25445.69921875,25441.650390625,25482.19921875,25611.94921875,25849.25,25956.0,26011.55078125,26032.80078125,26250.900390625,26277.349609375,26134.69921875],\"hoverinfo\":\"text\",\"hovertext\":[\"Returns: -6.11% \\u003cbr\\u003e Volume: 1006.1K \\u003cbr\\u003e Open: 23179.5 \\u003cbr\\u003e High: 23179.5 \\u003cbr\\u003e Low: 21281.45 \\u003cbr\\u003e Close: 21884.5\",\"Returns: 3.31% \\u003cbr\\u003e Volume: 638.5K \\u003cbr\\u003e Open: 22128.35 \\u003cbr\\u003e High: 22670.4 \\u003cbr\\u003e Low: 21791.95 \\u003cbr\\u003e Close: 22620.35\",\"Returns: 0.88% \\u003cbr\\u003e Volume: 480.4K \\u003cbr\\u003e Open: 22798.6 \\u003cbr\\u003e High: 22910.15 \\u003cbr\\u003e Low: 22642.6 \\u003cbr\\u003e Close: 22821.4\",\"Returns: 2.03% \\u003cbr\\u003e Volume: 473.6K \\u003cbr\\u003e Open: 22821.85 \\u003cbr\\u003e High: 23320.2 \\u003cbr\\u003e Low: 22789.05 \\u003cbr\\u003e Close: 23290.15\",\"Returns: -0.13% \\u003cbr\\u003e Volume: 304.4K \\u003cbr\\u003e Open: 23319.15 \\u003cbr\\u003e High: 23411.9 \\u003cbr\\u003e Low: 23227.15 \\u003cbr\\u003e Close: 23259.2\",\"Returns: 0.02% \\u003cbr\\u003e Volume: 305.2K \\u003cbr\\u003e Open: 23283.75 \\u003cbr\\u003e High: 23389.45 \\u003cbr\\u003e Low: 23206.65 \\u003cbr\\u003e Close: 23264.85\",\"Returns: 0.25% \\u003cbr\\u003e Volume: 295.6K \\u003cbr\\u003e Open: 23344.45 \\u003cbr\\u003e High: 23441.95 \\u003cbr\\u003e Low: 23295.95 \\u003cbr\\u003e Close: 23322.95\",\"Returns: 0.33% \\u003cbr\\u003e Volume: 268.3K \\u003cbr\\u003e Open: 23480.95 \\u003cbr\\u003e High: 23481.05 \\u003cbr\\u003e Low: 23353.9 \\u003cbr\\u003e Close: 23398.9\",\"Returns: 0.28% \\u003cbr\\u003e Volume: 223.1K \\u003cbr\\u003e Open: 23464.95 \\u003cbr\\u003e High: 23490.4 \\u003cbr\\u003e Low: 23334.25 \\u003cbr\\u003e Close: 23465.6\",\"Returns: 0.39% \\u003cbr\\u003e Volume: 272.2K \\u003cbr\\u003e Open: 23570.8 \\u003cbr\\u003e High: 23579.05 \\u003cbr\\u003e Low: 23499.7 \\u003cbr\\u003e Close: 23557.9\",\"Returns: -0.18% \\u003cbr\\u003e Volume: 328.8K \\u003cbr\\u003e Open: 23629.85 \\u003cbr\\u003e High: 23664.0 \\u003cbr\\u003e Low: 23412.9 \\u003cbr\\u003e Close: 23516.0\",\"Returns: 0.22% \\u003cbr\\u003e Volume: 280.3K \\u003cbr\\u003e Open: 23586.15 \\u003cbr\\u003e High: 23624.0 \\u003cbr\\u003e Low: 23442.6 \\u003cbr\\u003e Close: 23567.0\",\"Returns: -0.28% \\u003cbr\\u003e Volume: 609.9K \\u003cbr\\u003e Open: 23661.15 \\u003cbr\\u003e High: 23667.1 \\u003cbr\\u003e Low: 23398.2 \\u003cbr\\u003e Close: 23501.1\",\"Returns: 0.16% \\u003cbr\\u003e Volume: 239.4K \\u003cbr\\u003e Open: 23382.3 \\u003cbr\\u003e High: 23558.1 \\u003cbr\\u003e Low: 23350.0 \\u003cbr\\u003e Close: 23537.85\",\"Returns: 0.78% \\u003cbr\\u003e Volume: 298.1K \\u003cbr\\u003e Open: 23577.1 \\u003cbr\\u003e High: 23754.15 \\u003cbr\\u003e Low: 23562.05 \\u003cbr\\u003e Close: 23721.3\",\"Returns: 0.62% \\u003cbr\\u003e Volume: 287.8K \\u003cbr\\u003e Open: 23723.1 \\u003cbr\\u003e High: 23889.9 \\u003cbr\\u003e Low: 23670.45 \\u003cbr\\u003e Close: 23868.8\",\"Returns: 0.73% \\u003cbr\\u003e Volume: 515.2K \\u003cbr\\u003e Open: 23881.55 \\u003cbr\\u003e High: 24087.45 \\u003cbr\\u003e Low: 23805.4 \\u003cbr\\u003e Close: 24044.5\",\"Returns: -0.14% \\u003cbr\\u003e Volume: 354.8K \\u003cbr\\u003e Open: 24085.9 \\u003cbr\\u003e High: 24174.0 \\u003cbr\\u003e Low: 23985.8 \\u003cbr\\u003e Close: 24010.6\",\"Returns: 0.55% \\u003cbr\\u003e Volume: 0.0K \\u003cbr\\u003e Open: 23992.95 \\u003cbr\\u003e High: 24164.0 \\u003cbr\\u003e Low: 23992.7 \\u003cbr\\u003e Close: 24141.95\",\"Returns: -0.07% \\u003cbr\\u003e Volume: 0.0K \\u003cbr\\u003e Open: 24228.75 \\u003cbr\\u003e High: 24236.35 \\u003cbr\\u003e Low: 24056.4 \\u003cbr\\u003e Close: 24123.85\",\"Returns: 0.67% \\u003cbr\\u003e Volume: 0.0K \\u003cbr\\u003e Open: 24291.75 \\u003cbr\\u003e High: 24309.15 \\u003cbr\\u003e Low: 24207.1 \\u003cbr\\u003e Close: 24286.5\",\"Returns: 0.06% \\u003cbr\\u003e Volume: 251.2K \\u003cbr\\u003e Open: 24369.95 \\u003cbr\\u003e High: 24401.0 \\u003cbr\\u003e Low: 24281.0 \\u003cbr\\u003e Close: 24302.15\",\"Returns: 0.09% \\u003cbr\\u003e Volume: 298.4K \\u003cbr\\u003e Open: 24213.35 \\u003cbr\\u003e High: 24363.0 \\u003cbr\\u003e Low: 24168.85 \\u003cbr\\u003e Close: 24323.85\",\"Returns: -0.01% \\u003cbr\\u003e Volume: 266.3K \\u003cbr\\u003e Open: 24329.45 \\u003cbr\\u003e High: 24344.6 \\u003cbr\\u003e Low: 24240.55 \\u003cbr\\u003e Close: 24320.55\",\"Returns: 0.46% \\u003cbr\\u003e Volume: 250.5K \\u003cbr\\u003e Open: 24351.0 \\u003cbr\\u003e High: 24443.6 \\u003cbr\\u003e Low: 24331.9 \\u003cbr\\u003e Close: 24433.2\",\"Returns: -0.45% \\u003cbr\\u003e Volume: 292.3K \\u003cbr\\u003e Open: 24459.85 \\u003cbr\\u003e High: 24461.05 \\u003cbr\\u003e Low: 24141.8 \\u003cbr\\u003e Close: 24324.45\",\"Returns: -0.03% \\u003cbr\\u003e Volume: 306.4K \\u003cbr\\u003e Open: 24396.55 \\u003cbr\\u003e High: 24402.65 \\u003cbr\\u003e Low: 24193.75 \\u003cbr\\u003e Close: 24315.95\",\"Returns: 0.76% \\u003cbr\\u003e Volume: 325.8K \\u003cbr\\u003e Open: 24387.95 \\u003cbr\\u003e High: 24592.2 \\u003cbr\\u003e Low: 24331.15 \\u003cbr\\u003e Close: 24502.15\",\"Returns: 0.34% \\u003cbr\\u003e Volume: 305.4K \\u003cbr\\u003e Open: 24587.6 \\u003cbr\\u003e High: 24635.05 \\u003cbr\\u003e Low: 24522.75 \\u003cbr\\u003e Close: 24586.7\",\"Returns: 0.11% \\u003cbr\\u003e Volume: 283.2K \\u003cbr\\u003e Open: 24615.9 \\u003cbr\\u003e High: 24661.25 \\u003cbr\\u003e Low: 24587.65 \\u003cbr\\u003e Close: 24613.0\",\"Returns: 0.76% \\u003cbr\\u003e Volume: 350.9K \\u003cbr\\u003e Open: 24543.8 \\u003cbr\\u003e High: 24837.75 \\u003cbr\\u003e Low: 24504.45 \\u003cbr\\u003e Close: 24800.85\",\"Returns: -1.09% \\u003cbr\\u003e Volume: 343.8K \\u003cbr\\u003e Open: 24853.8 \\u003cbr\\u003e High: 24854.8 \\u003cbr\\u003e Low: 24508.15 \\u003cbr\\u003e Close: 24530.9\",\"Returns: -0.09% \\u003cbr\\u003e Volume: 324.2K \\u003cbr\\u003e Open: 24445.75 \\u003cbr\\u003e High: 24595.2 \\u003cbr\\u003e Low: 24362.3 \\u003cbr\\u003e Close: 24509.25\",\"Returns: -0.12% \\u003cbr\\u003e Volume: 436.4K \\u003cbr\\u003e Open: 24568.9 \\u003cbr\\u003e High: 24582.55 \\u003cbr\\u003e Low: 24074.2 \\u003cbr\\u003e Close: 24479.05\",\"Returns: -0.27% \\u003cbr\\u003e Volume: 366.6K \\u003cbr\\u003e Open: 24444.95 \\u003cbr\\u003e High: 24504.25 \\u003cbr\\u003e Low: 24307.25 \\u003cbr\\u003e Close: 24413.5\",\"Returns: -0.03% \\u003cbr\\u003e Volume: 391.8K \\u003cbr\\u003e Open: 24230.95 \\u003cbr\\u003e High: 24426.15 \\u003cbr\\u003e Low: 24210.8 \\u003cbr\\u003e Close: 24406.1\",\"Returns: 1.74% \\u003cbr\\u003e Volume: 383.8K \\u003cbr\\u003e Open: 24423.35 \\u003cbr\\u003e High: 24861.15 \\u003cbr\\u003e Low: 24410.9 \\u003cbr\\u003e Close: 24834.85\",\"Returns: 0.01% \\u003cbr\\u003e Volume: 355.0K \\u003cbr\\u003e Open: 24943.3 \\u003cbr\\u003e High: 24999.75 \\u003cbr\\u003e Low: 24774.6 \\u003cbr\\u003e Close: 24836.1\",\"Returns: 0.09% \\u003cbr\\u003e Volume: 385.0K \\u003cbr\\u003e Open: 24839.4 \\u003cbr\\u003e High: 24971.75 \\u003cbr\\u003e Low: 24798.65 \\u003cbr\\u003e Close: 24857.3\",\"Returns: 0.38% \\u003cbr\\u003e Volume: 333.6K \\u003cbr\\u003e Open: 24886.7 \\u003cbr\\u003e High: 24984.6 \\u003cbr\\u003e Low: 24856.5 \\u003cbr\\u003e Close: 24951.15\",\"Returns: 0.24% \\u003cbr\\u003e Volume: 431.3K \\u003cbr\\u003e Open: 25030.95 \\u003cbr\\u003e High: 25078.3 \\u003cbr\\u003e Low: 24956.4 \\u003cbr\\u003e Close: 25010.9\",\"Returns: -1.18% \\u003cbr\\u003e Volume: 345.0K \\u003cbr\\u003e Open: 24789.0 \\u003cbr\\u003e High: 24851.9 \\u003cbr\\u003e Low: 24686.85 \\u003cbr\\u003e Close: 24717.7\",\"Returns: -2.72% \\u003cbr\\u003e Volume: 487.0K \\u003cbr\\u003e Open: 24302.85 \\u003cbr\\u003e High: 24350.05 \\u003cbr\\u003e Low: 23893.7 \\u003cbr\\u003e Close: 24055.6\",\"Returns: -0.26% \\u003cbr\\u003e Volume: 312.3K \\u003cbr\\u003e Open: 24189.85 \\u003cbr\\u003e High: 24382.6 \\u003cbr\\u003e Low: 23960.4 \\u003cbr\\u003e Close: 23992.55\",\"Returns: 1.26% \\u003cbr\\u003e Volume: 317.6K \\u003cbr\\u003e Open: 24289.4 \\u003cbr\\u003e High: 24337.7 \\u003cbr\\u003e Low: 24184.9 \\u003cbr\\u003e Close: 24297.5\",\"Returns: -0.75% \\u003cbr\\u003e Volume: 311.9K \\u003cbr\\u003e Open: 24248.55 \\u003cbr\\u003e High: 24340.5 \\u003cbr\\u003e Low: 24079.7 \\u003cbr\\u003e Close: 24117.0\",\"Returns: 1.03% \\u003cbr\\u003e Volume: 215.1K \\u003cbr\\u003e Open: 24386.85 \\u003cbr\\u003e High: 24419.75 \\u003cbr\\u003e Low: 24311.2 \\u003cbr\\u003e Close: 24367.5\",\"Returns: -0.08% \\u003cbr\\u003e Volume: 279.9K \\u003cbr\\u003e Open: 24320.05 \\u003cbr\\u003e High: 24472.8 \\u003cbr\\u003e Low: 24212.1 \\u003cbr\\u003e Close: 24347.0\",\"Returns: -0.86% \\u003cbr\\u003e Volume: 239.7K \\u003cbr\\u003e Open: 24342.35 \\u003cbr\\u003e High: 24359.95 \\u003cbr\\u003e Low: 24116.5 \\u003cbr\\u003e Close: 24139.0\",\"Returns: 0.02% \\u003cbr\\u003e Volume: 303.3K \\u003cbr\\u003e Open: 24184.4 \\u003cbr\\u003e High: 24196.5 \\u003cbr\\u003e Low: 24099.7 \\u003cbr\\u003e Close: 24143.75\",\"Returns: 1.63% \\u003cbr\\u003e Volume: 271.6K \\u003cbr\\u003e Open: 24334.85 \\u003cbr\\u003e High: 24563.9 \\u003cbr\\u003e Low: 24204.5 \\u003cbr\\u003e Close: 24541.15\",\"Returns: 0.13% \\u003cbr\\u003e Volume: 243.6K \\u003cbr\\u003e Open: 24636.35 \\u003cbr\\u003e High: 24638.8 \\u003cbr\\u003e Low: 24522.95 \\u003cbr\\u003e Close: 24572.65\",\"Returns: 0.51% \\u003cbr\\u003e Volume: 238.3K \\u003cbr\\u003e Open: 24648.9 \\u003cbr\\u003e High: 24734.3 \\u003cbr\\u003e Low: 24607.2 \\u003cbr\\u003e Close: 24698.85\",\"Returns: 0.29% \\u003cbr\\u003e Volume: 257.1K \\u003cbr\\u003e Open: 24680.55 \\u003cbr\\u003e High: 24787.95 \\u003cbr\\u003e Low: 24654.5 \\u003cbr\\u003e Close: 24770.2\",\"Returns: 0.17% \\u003cbr\\u003e Volume: 220.3K \\u003cbr\\u003e Open: 24863.4 \\u003cbr\\u003e High: 24867.35 \\u003cbr\\u003e Low: 24784.45 \\u003cbr\\u003e Close: 24811.5\",\"Returns: 0.05% \\u003cbr\\u003e Volume: 206.8K \\u003cbr\\u003e Open: 24845.4 \\u003cbr\\u003e High: 24858.4 \\u003cbr\\u003e Low: 24771.65 \\u003cbr\\u003e Close: 24823.15\",\"Returns: 0.75% \\u003cbr\\u003e Volume: 210.3K \\u003cbr\\u003e Open: 24906.1 \\u003cbr\\u003e High: 25043.8 \\u003cbr\\u003e Low: 24874.7 \\u003cbr\\u003e Close: 25010.6\",\"Returns: 0.03% \\u003cbr\\u003e Volume: 223.3K \\u003cbr\\u003e Open: 25024.8 \\u003cbr\\u003e High: 25073.1 \\u003cbr\\u003e Low: 24973.65 \\u003cbr\\u003e Close: 25017.75\",\"Returns: 0.14% \\u003cbr\\u003e Volume: 220.4K \\u003cbr\\u003e Open: 25030.8 \\u003cbr\\u003e High: 25129.6 \\u003cbr\\u003e Low: 24964.65 \\u003cbr\\u003e Close: 25052.35\",\"Returns: 0.4% \\u003cbr\\u003e Volume: 354.0K \\u003cbr\\u003e Open: 25035.3 \\u003cbr\\u003e High: 25192.9 \\u003cbr\\u003e Low: 24998.5 \\u003cbr\\u003e Close: 25151.95\",\"Returns: 0.33% \\u003cbr\\u003e Volume: 638.2K \\u003cbr\\u003e Open: 25249.7 \\u003cbr\\u003e High: 25268.35 \\u003cbr\\u003e Low: 25199.4 \\u003cbr\\u003e Close: 25235.9\",\"Returns: 0.17% \\u003cbr\\u003e Volume: 222.8K \\u003cbr\\u003e Open: 25333.6 \\u003cbr\\u003e High: 25333.65 \\u003cbr\\u003e Low: 25235.5 \\u003cbr\\u003e Close: 25278.7\",\"Returns: 0.0% \\u003cbr\\u003e Volume: 212.1K \\u003cbr\\u003e Open: 25313.4 \\u003cbr\\u003e High: 25321.7 \\u003cbr\\u003e Low: 25235.8 \\u003cbr\\u003e Close: 25279.85\",\"Returns: -0.32% \\u003cbr\\u003e Volume: 253.8K \\u003cbr\\u003e Open: 25089.95 \\u003cbr\\u003e High: 25216.0 \\u003cbr\\u003e Low: 25083.8 \\u003cbr\\u003e Close: 25198.7\",\"Returns: -0.21% \\u003cbr\\u003e Volume: 222.2K \\u003cbr\\u003e Open: 25250.5 \\u003cbr\\u003e High: 25275.45 \\u003cbr\\u003e Low: 25127.75 \\u003cbr\\u003e Close: 25145.1\",\"Returns: -1.17% \\u003cbr\\u003e Volume: 311.7K \\u003cbr\\u003e Open: 25093.7 \\u003cbr\\u003e High: 25168.75 \\u003cbr\\u003e Low: 24801.3 \\u003cbr\\u003e Close: 24852.15\",\"Returns: 0.34% \\u003cbr\\u003e Volume: 254.4K \\u003cbr\\u003e Open: 24823.4 \\u003cbr\\u003e High: 24957.5 \\u003cbr\\u003e Low: 24753.15 \\u003cbr\\u003e Close: 24936.4\",\"Returns: 0.42% \\u003cbr\\u003e Volume: 251.3K \\u003cbr\\u003e Open: 24999.4 \\u003cbr\\u003e High: 25130.5 \\u003cbr\\u003e Low: 24896.8 \\u003cbr\\u003e Close: 25041.1\",\"Returns: -0.49% \\u003cbr\\u003e Volume: 279.2K \\u003cbr\\u003e Open: 25034.0 \\u003cbr\\u003e High: 25113.7 \\u003cbr\\u003e Low: 24885.15 \\u003cbr\\u003e Close: 24918.45\",\"Returns: 1.87% \\u003cbr\\u003e Volume: 380.1K \\u003cbr\\u003e Open: 25059.65 \\u003cbr\\u003e High: 25433.35 \\u003cbr\\u003e Low: 24941.45 \\u003cbr\\u003e Close: 25388.9\",\"Returns: -0.13% \\u003cbr\\u003e Volume: 250.8K \\u003cbr\\u003e Open: 25430.45 \\u003cbr\\u003e High: 25430.5 \\u003cbr\\u003e Low: 25292.45 \\u003cbr\\u003e Close: 25356.5\",\"Returns: 0.11% \\u003cbr\\u003e Volume: 168.7K \\u003cbr\\u003e Open: 25406.65 \\u003cbr\\u003e High: 25445.7 \\u003cbr\\u003e Low: 25336.2 \\u003cbr\\u003e Close: 25383.75\",\"Returns: 0.14% \\u003cbr\\u003e Volume: 216.0K \\u003cbr\\u003e Open: 25416.9 \\u003cbr\\u003e High: 25441.65 \\u003cbr\\u003e Low: 25352.25 \\u003cbr\\u003e Close: 25418.55\",\"Returns: -0.16% \\u003cbr\\u003e Volume: 215.7K \\u003cbr\\u003e Open: 25402.4 \\u003cbr\\u003e High: 25482.2 \\u003cbr\\u003e Low: 25285.55 \\u003cbr\\u003e Close: 25377.55\",\"Returns: 0.15% \\u003cbr\\u003e Volume: 314.5K \\u003cbr\\u003e Open: 25487.05 \\u003cbr\\u003e High: 25611.95 \\u003cbr\\u003e Low: 25376.05 \\u003cbr\\u003e Close: 25415.8\",\"Returns: 1.47% \\u003cbr\\u003e Volume: 533.1K \\u003cbr\\u003e Open: 25525.95 \\u003cbr\\u003e High: 25849.25 \\u003cbr\\u003e Low: 25426.6 \\u003cbr\\u003e Close: 25790.95\",\"Returns: 0.57% \\u003cbr\\u003e Volume: 209.2K \\u003cbr\\u003e Open: 25872.55 \\u003cbr\\u003e High: 25956.0 \\u003cbr\\u003e Low: 25847.35 \\u003cbr\\u003e Close: 25939.05\",\"Returns: 0.01% \\u003cbr\\u003e Volume: 384.1K \\u003cbr\\u003e Open: 25921.45 \\u003cbr\\u003e High: 26011.55 \\u003cbr\\u003e Low: 25886.85 \\u003cbr\\u003e Close: 25940.4\",\"Returns: 0.25% \\u003cbr\\u003e Volume: 278.5K \\u003cbr\\u003e Open: 25899.45 \\u003cbr\\u003e High: 26032.8 \\u003cbr\\u003e Low: 25871.35 \\u003cbr\\u003e Close: 26004.15\",\"Returns: 0.81% \\u003cbr\\u003e Volume: 370.9K \\u003cbr\\u003e Open: 26005.4 \\u003cbr\\u003e High: 26250.9 \\u003cbr\\u003e Low: 25998.4 \\u003cbr\\u003e Close: 26216.05\",\"Returns: -0.14% \\u003cbr\\u003e Volume: 490.3K \\u003cbr\\u003e Open: 26248.25 \\u003cbr\\u003e High: 26277.35 \\u003cbr\\u003e Low: 26151.4 \\u003cbr\\u003e Close: 26178.95\",\"Returns: -1.42% \\u003cbr\\u003e Volume: 343.1K \\u003cbr\\u003e Open: 26061.3 \\u003cbr\\u003e High: 26134.7 \\u003cbr\\u003e Low: 25794.1 \\u003cbr\\u003e Close: 25810.85\"],\"increasing\":{\"line\":{\"color\":\"green\"}},\"low\":[21281.44921875,21791.94921875,22642.599609375,22789.05078125,23227.150390625,23206.650390625,23295.94921875,23353.900390625,23334.25,23499.69921875,23412.900390625,23442.599609375,23398.19921875,23350.0,23562.05078125,23670.44921875,23805.400390625,23985.80078125,23992.69921875,24056.400390625,24207.099609375,24281.0,24168.849609375,24240.55078125,24331.900390625,24141.80078125,24193.75,24331.150390625,24522.75,24587.650390625,24504.44921875,24508.150390625,24362.30078125,24074.19921875,24307.25,24210.80078125,24410.900390625,24774.599609375,24798.650390625,24856.5,24956.400390625,24686.849609375,23893.69921875,23960.400390625,24184.900390625,24079.69921875,24311.19921875,24212.099609375,24116.5,24099.69921875,24204.5,24522.94921875,24607.19921875,24654.5,24784.44921875,24771.650390625,24874.69921875,24973.650390625,24964.650390625,24998.5,25199.400390625,25235.5,25235.80078125,25083.80078125,25127.75,24801.30078125,24753.150390625,24896.80078125,24885.150390625,24941.44921875,25292.44921875,25336.19921875,25352.25,25285.55078125,25376.05078125,25426.599609375,25847.349609375,25886.849609375,25871.349609375,25998.400390625,26151.400390625,25794.099609375],\"name\":\"Price\",\"open\":[23179.5,22128.349609375,22798.599609375,22821.849609375,23319.150390625,23283.75,23344.44921875,23480.94921875,23464.94921875,23570.80078125,23629.849609375,23586.150390625,23661.150390625,23382.30078125,23577.099609375,23723.099609375,23881.55078125,24085.900390625,23992.94921875,24228.75,24291.75,24369.94921875,24213.349609375,24329.44921875,24351.0,24459.849609375,24396.55078125,24387.94921875,24587.599609375,24615.900390625,24543.80078125,24853.80078125,24445.75,24568.900390625,24444.94921875,24230.94921875,24423.349609375,24943.30078125,24839.400390625,24886.69921875,25030.94921875,24789.0,24302.849609375,24189.849609375,24289.400390625,24248.55078125,24386.849609375,24320.05078125,24342.349609375,24184.400390625,24334.849609375,24636.349609375,24648.900390625,24680.55078125,24863.400390625,24845.400390625,24906.099609375,25024.80078125,25030.80078125,25035.30078125,25249.69921875,25333.599609375,25313.400390625,25089.94921875,25250.5,25093.69921875,24823.400390625,24999.400390625,25034.0,25059.650390625,25430.44921875,25406.650390625,25416.900390625,25402.400390625,25487.05078125,25525.94921875,25872.55078125,25921.44921875,25899.44921875,26005.400390625,26248.25,26061.30078125],\"x\":[\"2024-06-04T00:00:00\",\"2024-06-05T00:00:00\",\"2024-06-06T00:00:00\",\"2024-06-07T00:00:00\",\"2024-06-10T00:00:00\",\"2024-06-11T00:00:00\",\"2024-06-12T00:00:00\",\"2024-06-13T00:00:00\",\"2024-06-14T00:00:00\",\"2024-06-18T00:00:00\",\"2024-06-19T00:00:00\",\"2024-06-20T00:00:00\",\"2024-06-21T00:00:00\",\"2024-06-24T00:00:00\",\"2024-06-25T00:00:00\",\"2024-06-26T00:00:00\",\"2024-06-27T00:00:00\",\"2024-06-28T00:00:00\",\"2024-07-01T00:00:00\",\"2024-07-02T00:00:00\",\"2024-07-03T00:00:00\",\"2024-07-04T00:00:00\",\"2024-07-05T00:00:00\",\"2024-07-08T00:00:00\",\"2024-07-09T00:00:00\",\"2024-07-10T00:00:00\",\"2024-07-11T00:00:00\",\"2024-07-12T00:00:00\",\"2024-07-15T00:00:00\",\"2024-07-16T00:00:00\",\"2024-07-18T00:00:00\",\"2024-07-19T00:00:00\",\"2024-07-22T00:00:00\",\"2024-07-23T00:00:00\",\"2024-07-24T00:00:00\",\"2024-07-25T00:00:00\",\"2024-07-26T00:00:00\",\"2024-07-29T00:00:00\",\"2024-07-30T00:00:00\",\"2024-07-31T00:00:00\",\"2024-08-01T00:00:00\",\"2024-08-02T00:00:00\",\"2024-08-05T00:00:00\",\"2024-08-06T00:00:00\",\"2024-08-07T00:00:00\",\"2024-08-08T00:00:00\",\"2024-08-09T00:00:00\",\"2024-08-12T00:00:00\",\"2024-08-13T00:00:00\",\"2024-08-14T00:00:00\",\"2024-08-16T00:00:00\",\"2024-08-19T00:00:00\",\"2024-08-20T00:00:00\",\"2024-08-21T00:00:00\",\"2024-08-22T00:00:00\",\"2024-08-23T00:00:00\",\"2024-08-26T00:00:00\",\"2024-08-27T00:00:00\",\"2024-08-28T00:00:00\",\"2024-08-29T00:00:00\",\"2024-08-30T00:00:00\",\"2024-09-02T00:00:00\",\"2024-09-03T00:00:00\",\"2024-09-04T00:00:00\",\"2024-09-05T00:00:00\",\"2024-09-06T00:00:00\",\"2024-09-09T00:00:00\",\"2024-09-10T00:00:00\",\"2024-09-11T00:00:00\",\"2024-09-12T00:00:00\",\"2024-09-13T00:00:00\",\"2024-09-16T00:00:00\",\"2024-09-17T00:00:00\",\"2024-09-18T00:00:00\",\"2024-09-19T00:00:00\",\"2024-09-20T00:00:00\",\"2024-09-23T00:00:00\",\"2024-09-24T00:00:00\",\"2024-09-25T00:00:00\",\"2024-09-26T00:00:00\",\"2024-09-27T00:00:00\",\"2024-09-30T00:00:00\"],\"type\":\"candlestick\",\"xaxis\":\"x\",\"yaxis\":\"y\"},{\"marker\":{\"color\":\"rgba(0, 0, 255, 0.3)\"},\"name\":\"Volume\",\"x\":[\"2024-06-04T00:00:00\",\"2024-06-05T00:00:00\",\"2024-06-06T00:00:00\",\"2024-06-07T00:00:00\",\"2024-06-10T00:00:00\",\"2024-06-11T00:00:00\",\"2024-06-12T00:00:00\",\"2024-06-13T00:00:00\",\"2024-06-14T00:00:00\",\"2024-06-18T00:00:00\",\"2024-06-19T00:00:00\",\"2024-06-20T00:00:00\",\"2024-06-21T00:00:00\",\"2024-06-24T00:00:00\",\"2024-06-25T00:00:00\",\"2024-06-26T00:00:00\",\"2024-06-27T00:00:00\",\"2024-06-28T00:00:00\",\"2024-07-01T00:00:00\",\"2024-07-02T00:00:00\",\"2024-07-03T00:00:00\",\"2024-07-04T00:00:00\",\"2024-07-05T00:00:00\",\"2024-07-08T00:00:00\",\"2024-07-09T00:00:00\",\"2024-07-10T00:00:00\",\"2024-07-11T00:00:00\",\"2024-07-12T00:00:00\",\"2024-07-15T00:00:00\",\"2024-07-16T00:00:00\",\"2024-07-18T00:00:00\",\"2024-07-19T00:00:00\",\"2024-07-22T00:00:00\",\"2024-07-23T00:00:00\",\"2024-07-24T00:00:00\",\"2024-07-25T00:00:00\",\"2024-07-26T00:00:00\",\"2024-07-29T00:00:00\",\"2024-07-30T00:00:00\",\"2024-07-31T00:00:00\",\"2024-08-01T00:00:00\",\"2024-08-02T00:00:00\",\"2024-08-05T00:00:00\",\"2024-08-06T00:00:00\",\"2024-08-07T00:00:00\",\"2024-08-08T00:00:00\",\"2024-08-09T00:00:00\",\"2024-08-12T00:00:00\",\"2024-08-13T00:00:00\",\"2024-08-14T00:00:00\",\"2024-08-16T00:00:00\",\"2024-08-19T00:00:00\",\"2024-08-20T00:00:00\",\"2024-08-21T00:00:00\",\"2024-08-22T00:00:00\",\"2024-08-23T00:00:00\",\"2024-08-26T00:00:00\",\"2024-08-27T00:00:00\",\"2024-08-28T00:00:00\",\"2024-08-29T00:00:00\",\"2024-08-30T00:00:00\",\"2024-09-02T00:00:00\",\"2024-09-03T00:00:00\",\"2024-09-04T00:00:00\",\"2024-09-05T00:00:00\",\"2024-09-06T00:00:00\",\"2024-09-09T00:00:00\",\"2024-09-10T00:00:00\",\"2024-09-11T00:00:00\",\"2024-09-12T00:00:00\",\"2024-09-13T00:00:00\",\"2024-09-16T00:00:00\",\"2024-09-17T00:00:00\",\"2024-09-18T00:00:00\",\"2024-09-19T00:00:00\",\"2024-09-20T00:00:00\",\"2024-09-23T00:00:00\",\"2024-09-24T00:00:00\",\"2024-09-25T00:00:00\",\"2024-09-26T00:00:00\",\"2024-09-27T00:00:00\",\"2024-09-30T00:00:00\"],\"y\":[1006100,638500,480400,473600,304400,305200,295600,268300,223100,272200,328800,280300,609900,239400,298100,287800,515200,354800,0,0,0,251200,298400,266300,250500,292300,306400,325800,305400,283200,350900,343800,324200,436400,366600,391800,383800,355000,385000,333600,431300,345000,487000,312300,317600,311900,215100,279900,239700,303300,271600,243600,238300,257100,220300,206800,210300,223300,220400,354000,638200,222800,212100,253800,222200,311700,254400,251300,279200,380100,250800,168700,216000,215700,314500,533100,209200,384100,278500,370900,490300,343100],\"type\":\"bar\",\"xaxis\":\"x\",\"yaxis\":\"y2\"}],                        {\"template\":{\"data\":{\"histogram2dcontour\":[{\"type\":\"histogram2dcontour\",\"colorbar\":{\"outlinewidth\":0,\"ticks\":\"\"},\"colorscale\":[[0.0,\"#0d0887\"],[0.1111111111111111,\"#46039f\"],[0.2222222222222222,\"#7201a8\"],[0.3333333333333333,\"#9c179e\"],[0.4444444444444444,\"#bd3786\"],[0.5555555555555556,\"#d8576b\"],[0.6666666666666666,\"#ed7953\"],[0.7777777777777778,\"#fb9f3a\"],[0.8888888888888888,\"#fdca26\"],[1.0,\"#f0f921\"]]}],\"choropleth\":[{\"type\":\"choropleth\",\"colorbar\":{\"outlinewidth\":0,\"ticks\":\"\"}}],\"histogram2d\":[{\"type\":\"histogram2d\",\"colorbar\":{\"outlinewidth\":0,\"ticks\":\"\"},\"colorscale\":[[0.0,\"#0d0887\"],[0.1111111111111111,\"#46039f\"],[0.2222222222222222,\"#7201a8\"],[0.3333333333333333,\"#9c179e\"],[0.4444444444444444,\"#bd3786\"],[0.5555555555555556,\"#d8576b\"],[0.6666666666666666,\"#ed7953\"],[0.7777777777777778,\"#fb9f3a\"],[0.8888888888888888,\"#fdca26\"],[1.0,\"#f0f921\"]]}],\"heatmap\":[{\"type\":\"heatmap\",\"colorbar\":{\"outlinewidth\":0,\"ticks\":\"\"},\"colorscale\":[[0.0,\"#0d0887\"],[0.1111111111111111,\"#46039f\"],[0.2222222222222222,\"#7201a8\"],[0.3333333333333333,\"#9c179e\"],[0.4444444444444444,\"#bd3786\"],[0.5555555555555556,\"#d8576b\"],[0.6666666666666666,\"#ed7953\"],[0.7777777777777778,\"#fb9f3a\"],[0.8888888888888888,\"#fdca26\"],[1.0,\"#f0f921\"]]}],\"heatmapgl\":[{\"type\":\"heatmapgl\",\"colorbar\":{\"outlinewidth\":0,\"ticks\":\"\"},\"colorscale\":[[0.0,\"#0d0887\"],[0.1111111111111111,\"#46039f\"],[0.2222222222222222,\"#7201a8\"],[0.3333333333333333,\"#9c179e\"],[0.4444444444444444,\"#bd3786\"],[0.5555555555555556,\"#d8576b\"],[0.6666666666666666,\"#ed7953\"],[0.7777777777777778,\"#fb9f3a\"],[0.8888888888888888,\"#fdca26\"],[1.0,\"#f0f921\"]]}],\"contourcarpet\":[{\"type\":\"contourcarpet\",\"colorbar\":{\"outlinewidth\":0,\"ticks\":\"\"}}],\"contour\":[{\"type\":\"contour\",\"colorbar\":{\"outlinewidth\":0,\"ticks\":\"\"},\"colorscale\":[[0.0,\"#0d0887\"],[0.1111111111111111,\"#46039f\"],[0.2222222222222222,\"#7201a8\"],[0.3333333333333333,\"#9c179e\"],[0.4444444444444444,\"#bd3786\"],[0.5555555555555556,\"#d8576b\"],[0.6666666666666666,\"#ed7953\"],[0.7777777777777778,\"#fb9f3a\"],[0.8888888888888888,\"#fdca26\"],[1.0,\"#f0f921\"]]}],\"surface\":[{\"type\":\"surface\",\"colorbar\":{\"outlinewidth\":0,\"ticks\":\"\"},\"colorscale\":[[0.0,\"#0d0887\"],[0.1111111111111111,\"#46039f\"],[0.2222222222222222,\"#7201a8\"],[0.3333333333333333,\"#9c179e\"],[0.4444444444444444,\"#bd3786\"],[0.5555555555555556,\"#d8576b\"],[0.6666666666666666,\"#ed7953\"],[0.7777777777777778,\"#fb9f3a\"],[0.8888888888888888,\"#fdca26\"],[1.0,\"#f0f921\"]]}],\"mesh3d\":[{\"type\":\"mesh3d\",\"colorbar\":{\"outlinewidth\":0,\"ticks\":\"\"}}],\"scatter\":[{\"fillpattern\":{\"fillmode\":\"overlay\",\"size\":10,\"solidity\":0.2},\"type\":\"scatter\"}],\"parcoords\":[{\"type\":\"parcoords\",\"line\":{\"colorbar\":{\"outlinewidth\":0,\"ticks\":\"\"}}}],\"scatterpolargl\":[{\"type\":\"scatterpolargl\",\"marker\":{\"colorbar\":{\"outlinewidth\":0,\"ticks\":\"\"}}}],\"bar\":[{\"error_x\":{\"color\":\"#2a3f5f\"},\"error_y\":{\"color\":\"#2a3f5f\"},\"marker\":{\"line\":{\"color\":\"#E5ECF6\",\"width\":0.5},\"pattern\":{\"fillmode\":\"overlay\",\"size\":10,\"solidity\":0.2}},\"type\":\"bar\"}],\"scattergeo\":[{\"type\":\"scattergeo\",\"marker\":{\"colorbar\":{\"outlinewidth\":0,\"ticks\":\"\"}}}],\"scatterpolar\":[{\"type\":\"scatterpolar\",\"marker\":{\"colorbar\":{\"outlinewidth\":0,\"ticks\":\"\"}}}],\"histogram\":[{\"marker\":{\"pattern\":{\"fillmode\":\"overlay\",\"size\":10,\"solidity\":0.2}},\"type\":\"histogram\"}],\"scattergl\":[{\"type\":\"scattergl\",\"marker\":{\"colorbar\":{\"outlinewidth\":0,\"ticks\":\"\"}}}],\"scatter3d\":[{\"type\":\"scatter3d\",\"line\":{\"colorbar\":{\"outlinewidth\":0,\"ticks\":\"\"}},\"marker\":{\"colorbar\":{\"outlinewidth\":0,\"ticks\":\"\"}}}],\"scattermapbox\":[{\"type\":\"scattermapbox\",\"marker\":{\"colorbar\":{\"outlinewidth\":0,\"ticks\":\"\"}}}],\"scatterternary\":[{\"type\":\"scatterternary\",\"marker\":{\"colorbar\":{\"outlinewidth\":0,\"ticks\":\"\"}}}],\"scattercarpet\":[{\"type\":\"scattercarpet\",\"marker\":{\"colorbar\":{\"outlinewidth\":0,\"ticks\":\"\"}}}],\"carpet\":[{\"aaxis\":{\"endlinecolor\":\"#2a3f5f\",\"gridcolor\":\"white\",\"linecolor\":\"white\",\"minorgridcolor\":\"white\",\"startlinecolor\":\"#2a3f5f\"},\"baxis\":{\"endlinecolor\":\"#2a3f5f\",\"gridcolor\":\"white\",\"linecolor\":\"white\",\"minorgridcolor\":\"white\",\"startlinecolor\":\"#2a3f5f\"},\"type\":\"carpet\"}],\"table\":[{\"cells\":{\"fill\":{\"color\":\"#EBF0F8\"},\"line\":{\"color\":\"white\"}},\"header\":{\"fill\":{\"color\":\"#C8D4E3\"},\"line\":{\"color\":\"white\"}},\"type\":\"table\"}],\"barpolar\":[{\"marker\":{\"line\":{\"color\":\"#E5ECF6\",\"width\":0.5},\"pattern\":{\"fillmode\":\"overlay\",\"size\":10,\"solidity\":0.2}},\"type\":\"barpolar\"}],\"pie\":[{\"automargin\":true,\"type\":\"pie\"}]},\"layout\":{\"autotypenumbers\":\"strict\",\"colorway\":[\"#636efa\",\"#EF553B\",\"#00cc96\",\"#ab63fa\",\"#FFA15A\",\"#19d3f3\",\"#FF6692\",\"#B6E880\",\"#FF97FF\",\"#FECB52\"],\"font\":{\"color\":\"#2a3f5f\"},\"hovermode\":\"closest\",\"hoverlabel\":{\"align\":\"left\"},\"paper_bgcolor\":\"white\",\"plot_bgcolor\":\"#E5ECF6\",\"polar\":{\"bgcolor\":\"#E5ECF6\",\"angularaxis\":{\"gridcolor\":\"white\",\"linecolor\":\"white\",\"ticks\":\"\"},\"radialaxis\":{\"gridcolor\":\"white\",\"linecolor\":\"white\",\"ticks\":\"\"}},\"ternary\":{\"bgcolor\":\"#E5ECF6\",\"aaxis\":{\"gridcolor\":\"white\",\"linecolor\":\"white\",\"ticks\":\"\"},\"baxis\":{\"gridcolor\":\"white\",\"linecolor\":\"white\",\"ticks\":\"\"},\"caxis\":{\"gridcolor\":\"white\",\"linecolor\":\"white\",\"ticks\":\"\"}},\"coloraxis\":{\"colorbar\":{\"outlinewidth\":0,\"ticks\":\"\"}},\"colorscale\":{\"sequential\":[[0.0,\"#0d0887\"],[0.1111111111111111,\"#46039f\"],[0.2222222222222222,\"#7201a8\"],[0.3333333333333333,\"#9c179e\"],[0.4444444444444444,\"#bd3786\"],[0.5555555555555556,\"#d8576b\"],[0.6666666666666666,\"#ed7953\"],[0.7777777777777778,\"#fb9f3a\"],[0.8888888888888888,\"#fdca26\"],[1.0,\"#f0f921\"]],\"sequentialminus\":[[0.0,\"#0d0887\"],[0.1111111111111111,\"#46039f\"],[0.2222222222222222,\"#7201a8\"],[0.3333333333333333,\"#9c179e\"],[0.4444444444444444,\"#bd3786\"],[0.5555555555555556,\"#d8576b\"],[0.6666666666666666,\"#ed7953\"],[0.7777777777777778,\"#fb9f3a\"],[0.8888888888888888,\"#fdca26\"],[1.0,\"#f0f921\"]],\"diverging\":[[0,\"#8e0152\"],[0.1,\"#c51b7d\"],[0.2,\"#de77ae\"],[0.3,\"#f1b6da\"],[0.4,\"#fde0ef\"],[0.5,\"#f7f7f7\"],[0.6,\"#e6f5d0\"],[0.7,\"#b8e186\"],[0.8,\"#7fbc41\"],[0.9,\"#4d9221\"],[1,\"#276419\"]]},\"xaxis\":{\"gridcolor\":\"white\",\"linecolor\":\"white\",\"ticks\":\"\",\"title\":{\"standoff\":15},\"zerolinecolor\":\"white\",\"automargin\":true,\"zerolinewidth\":2},\"yaxis\":{\"gridcolor\":\"white\",\"linecolor\":\"white\",\"ticks\":\"\",\"title\":{\"standoff\":15},\"zerolinecolor\":\"white\",\"automargin\":true,\"zerolinewidth\":2},\"scene\":{\"xaxis\":{\"backgroundcolor\":\"#E5ECF6\",\"gridcolor\":\"white\",\"linecolor\":\"white\",\"showbackground\":true,\"ticks\":\"\",\"zerolinecolor\":\"white\",\"gridwidth\":2},\"yaxis\":{\"backgroundcolor\":\"#E5ECF6\",\"gridcolor\":\"white\",\"linecolor\":\"white\",\"showbackground\":true,\"ticks\":\"\",\"zerolinecolor\":\"white\",\"gridwidth\":2},\"zaxis\":{\"backgroundcolor\":\"#E5ECF6\",\"gridcolor\":\"white\",\"linecolor\":\"white\",\"showbackground\":true,\"ticks\":\"\",\"zerolinecolor\":\"white\",\"gridwidth\":2}},\"shapedefaults\":{\"line\":{\"color\":\"#2a3f5f\"}},\"annotationdefaults\":{\"arrowcolor\":\"#2a3f5f\",\"arrowhead\":0,\"arrowwidth\":1},\"geo\":{\"bgcolor\":\"white\",\"landcolor\":\"#E5ECF6\",\"subunitcolor\":\"white\",\"showland\":true,\"showlakes\":true,\"lakecolor\":\"white\"},\"title\":{\"x\":0.05},\"mapbox\":{\"style\":\"light\"}}},\"xaxis\":{\"anchor\":\"y\",\"domain\":[0.0,0.94],\"title\":{\"text\":\"Date\"}},\"yaxis\":{\"anchor\":\"x\",\"domain\":[0.0,1.0],\"title\":{\"text\":\"Price\"}},\"yaxis2\":{\"anchor\":\"x\",\"overlaying\":\"y\",\"side\":\"right\",\"title\":{\"text\":\"Volume\"},\"range\":[0,5030500]},\"title\":{\"text\":\"Candlestick Chart for NIFTY50 with Volume\"},\"height\":1000,\"width\":2000},                        {\"responsive\": true}                    ).then(function(){\n",
              "                            \n",
              "var gd = document.getElementById('a9b67ed8-620b-4846-a18c-cc45dbaebaa5');\n",
              "var x = new MutationObserver(function (mutations, observer) {{\n",
              "        var display = window.getComputedStyle(gd).display;\n",
              "        if (!display || display === 'none') {{\n",
              "            console.log([gd, 'removed!']);\n",
              "            Plotly.purge(gd);\n",
              "            observer.disconnect();\n",
              "        }}\n",
              "}});\n",
              "\n",
              "// Listen for the removal of the full notebook cells\n",
              "var notebookContainer = gd.closest('#notebook-container');\n",
              "if (notebookContainer) {{\n",
              "    x.observe(notebookContainer, {childList: true});\n",
              "}}\n",
              "\n",
              "// Listen for the clearing of the current output cell\n",
              "var outputEl = gd.closest('.output');\n",
              "if (outputEl) {{\n",
              "    x.observe(outputEl, {childList: true});\n",
              "}}\n",
              "\n",
              "                        })                };                            </script>        </div>\n",
              "</body>\n",
              "</html>"
            ]
          },
          "metadata": {}
        }
      ]
    },
    {
      "cell_type": "code",
      "source": [
        "makeLinePlot(sortedDF)"
      ],
      "metadata": {
        "id": "CLY7zDwf6MfI",
        "colab": {
          "base_uri": "https://localhost:8080/",
          "height": 717
        },
        "outputId": "2a2bce60-f627-4cf4-db55-2d20c68e9f88"
      },
      "execution_count": 54,
      "outputs": [
        {
          "output_type": "display_data",
          "data": {
            "text/html": [
              "<html>\n",
              "<head><meta charset=\"utf-8\" /></head>\n",
              "<body>\n",
              "    <div>            <script src=\"https://cdnjs.cloudflare.com/ajax/libs/mathjax/2.7.5/MathJax.js?config=TeX-AMS-MML_SVG\"></script><script type=\"text/javascript\">if (window.MathJax && window.MathJax.Hub && window.MathJax.Hub.Config) {window.MathJax.Hub.Config({SVG: {font: \"STIX-Web\"}});}</script>                <script type=\"text/javascript\">window.PlotlyConfig = {MathJaxConfig: 'local'};</script>\n",
              "        <script charset=\"utf-8\" src=\"https://cdn.plot.ly/plotly-2.35.2.min.js\"></script>                <div id=\"af24aa1b-ab0d-4da3-9040-379ae294cdfc\" class=\"plotly-graph-div\" style=\"height:700px; width:1000px;\"></div>            <script type=\"text/javascript\">                                    window.PLOTLYENV=window.PLOTLYENV || {};                                    if (document.getElementById(\"af24aa1b-ab0d-4da3-9040-379ae294cdfc\")) {                    Plotly.newPlot(                        \"af24aa1b-ab0d-4da3-9040-379ae294cdfc\",                        [{\"mode\":\"lines\",\"name\":\"Percentile Line\",\"x\":[-6.112,-2.715,-1.416,-1.179,-1.172,-1.094,-0.858,-0.746,-0.491,-0.446,-0.322,-0.28,-0.268,-0.262,-0.213,-0.178,-0.161,-0.142,-0.141,-0.133,-0.128,-0.123,-0.088,-0.084,-0.075,-0.035,-0.03,-0.014,0.005,0.005,0.005,0.02,0.024,0.029,0.047,0.064,0.085,0.089,0.107,0.107,0.128,0.137,0.138,0.151,0.156,0.167,0.169,0.217,0.239,0.245,0.249,0.285,0.288,0.325,0.333,0.338,0.344,0.377,0.393,0.397,0.419,0.462,0.512,0.546,0.573,0.62,0.672,0.733,0.752,0.76,0.763,0.776,0.812,0.885,1.033,1.263,1.465,1.633,1.741,1.87,2.033,3.307],\"y\":[0.012,0.024,0.037,0.049,0.061,0.073,0.085,0.098,0.11,0.122,0.134,0.146,0.159,0.171,0.183,0.195,0.207,0.22,0.232,0.244,0.256,0.268,0.28,0.293,0.305,0.317,0.329,0.341,0.354,0.366,0.378,0.39,0.402,0.415,0.427,0.439,0.451,0.463,0.476,0.488,0.5,0.512,0.524,0.537,0.549,0.561,0.573,0.585,0.598,0.61,0.622,0.634,0.646,0.659,0.671,0.683,0.695,0.707,0.72,0.732,0.744,0.756,0.768,0.78,0.793,0.805,0.817,0.829,0.841,0.854,0.866,0.878,0.89,0.902,0.915,0.927,0.939,0.951,0.963,0.976,0.988,1.0],\"type\":\"scatter\"}],                        {\"template\":{\"data\":{\"histogram2dcontour\":[{\"type\":\"histogram2dcontour\",\"colorbar\":{\"outlinewidth\":0,\"ticks\":\"\"},\"colorscale\":[[0.0,\"#0d0887\"],[0.1111111111111111,\"#46039f\"],[0.2222222222222222,\"#7201a8\"],[0.3333333333333333,\"#9c179e\"],[0.4444444444444444,\"#bd3786\"],[0.5555555555555556,\"#d8576b\"],[0.6666666666666666,\"#ed7953\"],[0.7777777777777778,\"#fb9f3a\"],[0.8888888888888888,\"#fdca26\"],[1.0,\"#f0f921\"]]}],\"choropleth\":[{\"type\":\"choropleth\",\"colorbar\":{\"outlinewidth\":0,\"ticks\":\"\"}}],\"histogram2d\":[{\"type\":\"histogram2d\",\"colorbar\":{\"outlinewidth\":0,\"ticks\":\"\"},\"colorscale\":[[0.0,\"#0d0887\"],[0.1111111111111111,\"#46039f\"],[0.2222222222222222,\"#7201a8\"],[0.3333333333333333,\"#9c179e\"],[0.4444444444444444,\"#bd3786\"],[0.5555555555555556,\"#d8576b\"],[0.6666666666666666,\"#ed7953\"],[0.7777777777777778,\"#fb9f3a\"],[0.8888888888888888,\"#fdca26\"],[1.0,\"#f0f921\"]]}],\"heatmap\":[{\"type\":\"heatmap\",\"colorbar\":{\"outlinewidth\":0,\"ticks\":\"\"},\"colorscale\":[[0.0,\"#0d0887\"],[0.1111111111111111,\"#46039f\"],[0.2222222222222222,\"#7201a8\"],[0.3333333333333333,\"#9c179e\"],[0.4444444444444444,\"#bd3786\"],[0.5555555555555556,\"#d8576b\"],[0.6666666666666666,\"#ed7953\"],[0.7777777777777778,\"#fb9f3a\"],[0.8888888888888888,\"#fdca26\"],[1.0,\"#f0f921\"]]}],\"heatmapgl\":[{\"type\":\"heatmapgl\",\"colorbar\":{\"outlinewidth\":0,\"ticks\":\"\"},\"colorscale\":[[0.0,\"#0d0887\"],[0.1111111111111111,\"#46039f\"],[0.2222222222222222,\"#7201a8\"],[0.3333333333333333,\"#9c179e\"],[0.4444444444444444,\"#bd3786\"],[0.5555555555555556,\"#d8576b\"],[0.6666666666666666,\"#ed7953\"],[0.7777777777777778,\"#fb9f3a\"],[0.8888888888888888,\"#fdca26\"],[1.0,\"#f0f921\"]]}],\"contourcarpet\":[{\"type\":\"contourcarpet\",\"colorbar\":{\"outlinewidth\":0,\"ticks\":\"\"}}],\"contour\":[{\"type\":\"contour\",\"colorbar\":{\"outlinewidth\":0,\"ticks\":\"\"},\"colorscale\":[[0.0,\"#0d0887\"],[0.1111111111111111,\"#46039f\"],[0.2222222222222222,\"#7201a8\"],[0.3333333333333333,\"#9c179e\"],[0.4444444444444444,\"#bd3786\"],[0.5555555555555556,\"#d8576b\"],[0.6666666666666666,\"#ed7953\"],[0.7777777777777778,\"#fb9f3a\"],[0.8888888888888888,\"#fdca26\"],[1.0,\"#f0f921\"]]}],\"surface\":[{\"type\":\"surface\",\"colorbar\":{\"outlinewidth\":0,\"ticks\":\"\"},\"colorscale\":[[0.0,\"#0d0887\"],[0.1111111111111111,\"#46039f\"],[0.2222222222222222,\"#7201a8\"],[0.3333333333333333,\"#9c179e\"],[0.4444444444444444,\"#bd3786\"],[0.5555555555555556,\"#d8576b\"],[0.6666666666666666,\"#ed7953\"],[0.7777777777777778,\"#fb9f3a\"],[0.8888888888888888,\"#fdca26\"],[1.0,\"#f0f921\"]]}],\"mesh3d\":[{\"type\":\"mesh3d\",\"colorbar\":{\"outlinewidth\":0,\"ticks\":\"\"}}],\"scatter\":[{\"fillpattern\":{\"fillmode\":\"overlay\",\"size\":10,\"solidity\":0.2},\"type\":\"scatter\"}],\"parcoords\":[{\"type\":\"parcoords\",\"line\":{\"colorbar\":{\"outlinewidth\":0,\"ticks\":\"\"}}}],\"scatterpolargl\":[{\"type\":\"scatterpolargl\",\"marker\":{\"colorbar\":{\"outlinewidth\":0,\"ticks\":\"\"}}}],\"bar\":[{\"error_x\":{\"color\":\"#2a3f5f\"},\"error_y\":{\"color\":\"#2a3f5f\"},\"marker\":{\"line\":{\"color\":\"#E5ECF6\",\"width\":0.5},\"pattern\":{\"fillmode\":\"overlay\",\"size\":10,\"solidity\":0.2}},\"type\":\"bar\"}],\"scattergeo\":[{\"type\":\"scattergeo\",\"marker\":{\"colorbar\":{\"outlinewidth\":0,\"ticks\":\"\"}}}],\"scatterpolar\":[{\"type\":\"scatterpolar\",\"marker\":{\"colorbar\":{\"outlinewidth\":0,\"ticks\":\"\"}}}],\"histogram\":[{\"marker\":{\"pattern\":{\"fillmode\":\"overlay\",\"size\":10,\"solidity\":0.2}},\"type\":\"histogram\"}],\"scattergl\":[{\"type\":\"scattergl\",\"marker\":{\"colorbar\":{\"outlinewidth\":0,\"ticks\":\"\"}}}],\"scatter3d\":[{\"type\":\"scatter3d\",\"line\":{\"colorbar\":{\"outlinewidth\":0,\"ticks\":\"\"}},\"marker\":{\"colorbar\":{\"outlinewidth\":0,\"ticks\":\"\"}}}],\"scattermapbox\":[{\"type\":\"scattermapbox\",\"marker\":{\"colorbar\":{\"outlinewidth\":0,\"ticks\":\"\"}}}],\"scatterternary\":[{\"type\":\"scatterternary\",\"marker\":{\"colorbar\":{\"outlinewidth\":0,\"ticks\":\"\"}}}],\"scattercarpet\":[{\"type\":\"scattercarpet\",\"marker\":{\"colorbar\":{\"outlinewidth\":0,\"ticks\":\"\"}}}],\"carpet\":[{\"aaxis\":{\"endlinecolor\":\"#2a3f5f\",\"gridcolor\":\"white\",\"linecolor\":\"white\",\"minorgridcolor\":\"white\",\"startlinecolor\":\"#2a3f5f\"},\"baxis\":{\"endlinecolor\":\"#2a3f5f\",\"gridcolor\":\"white\",\"linecolor\":\"white\",\"minorgridcolor\":\"white\",\"startlinecolor\":\"#2a3f5f\"},\"type\":\"carpet\"}],\"table\":[{\"cells\":{\"fill\":{\"color\":\"#EBF0F8\"},\"line\":{\"color\":\"white\"}},\"header\":{\"fill\":{\"color\":\"#C8D4E3\"},\"line\":{\"color\":\"white\"}},\"type\":\"table\"}],\"barpolar\":[{\"marker\":{\"line\":{\"color\":\"#E5ECF6\",\"width\":0.5},\"pattern\":{\"fillmode\":\"overlay\",\"size\":10,\"solidity\":0.2}},\"type\":\"barpolar\"}],\"pie\":[{\"automargin\":true,\"type\":\"pie\"}]},\"layout\":{\"autotypenumbers\":\"strict\",\"colorway\":[\"#636efa\",\"#EF553B\",\"#00cc96\",\"#ab63fa\",\"#FFA15A\",\"#19d3f3\",\"#FF6692\",\"#B6E880\",\"#FF97FF\",\"#FECB52\"],\"font\":{\"color\":\"#2a3f5f\"},\"hovermode\":\"closest\",\"hoverlabel\":{\"align\":\"left\"},\"paper_bgcolor\":\"white\",\"plot_bgcolor\":\"#E5ECF6\",\"polar\":{\"bgcolor\":\"#E5ECF6\",\"angularaxis\":{\"gridcolor\":\"white\",\"linecolor\":\"white\",\"ticks\":\"\"},\"radialaxis\":{\"gridcolor\":\"white\",\"linecolor\":\"white\",\"ticks\":\"\"}},\"ternary\":{\"bgcolor\":\"#E5ECF6\",\"aaxis\":{\"gridcolor\":\"white\",\"linecolor\":\"white\",\"ticks\":\"\"},\"baxis\":{\"gridcolor\":\"white\",\"linecolor\":\"white\",\"ticks\":\"\"},\"caxis\":{\"gridcolor\":\"white\",\"linecolor\":\"white\",\"ticks\":\"\"}},\"coloraxis\":{\"colorbar\":{\"outlinewidth\":0,\"ticks\":\"\"}},\"colorscale\":{\"sequential\":[[0.0,\"#0d0887\"],[0.1111111111111111,\"#46039f\"],[0.2222222222222222,\"#7201a8\"],[0.3333333333333333,\"#9c179e\"],[0.4444444444444444,\"#bd3786\"],[0.5555555555555556,\"#d8576b\"],[0.6666666666666666,\"#ed7953\"],[0.7777777777777778,\"#fb9f3a\"],[0.8888888888888888,\"#fdca26\"],[1.0,\"#f0f921\"]],\"sequentialminus\":[[0.0,\"#0d0887\"],[0.1111111111111111,\"#46039f\"],[0.2222222222222222,\"#7201a8\"],[0.3333333333333333,\"#9c179e\"],[0.4444444444444444,\"#bd3786\"],[0.5555555555555556,\"#d8576b\"],[0.6666666666666666,\"#ed7953\"],[0.7777777777777778,\"#fb9f3a\"],[0.8888888888888888,\"#fdca26\"],[1.0,\"#f0f921\"]],\"diverging\":[[0,\"#8e0152\"],[0.1,\"#c51b7d\"],[0.2,\"#de77ae\"],[0.3,\"#f1b6da\"],[0.4,\"#fde0ef\"],[0.5,\"#f7f7f7\"],[0.6,\"#e6f5d0\"],[0.7,\"#b8e186\"],[0.8,\"#7fbc41\"],[0.9,\"#4d9221\"],[1,\"#276419\"]]},\"xaxis\":{\"gridcolor\":\"white\",\"linecolor\":\"white\",\"ticks\":\"\",\"title\":{\"standoff\":15},\"zerolinecolor\":\"white\",\"automargin\":true,\"zerolinewidth\":2},\"yaxis\":{\"gridcolor\":\"white\",\"linecolor\":\"white\",\"ticks\":\"\",\"title\":{\"standoff\":15},\"zerolinecolor\":\"white\",\"automargin\":true,\"zerolinewidth\":2},\"scene\":{\"xaxis\":{\"backgroundcolor\":\"#E5ECF6\",\"gridcolor\":\"white\",\"linecolor\":\"white\",\"showbackground\":true,\"ticks\":\"\",\"zerolinecolor\":\"white\",\"gridwidth\":2},\"yaxis\":{\"backgroundcolor\":\"#E5ECF6\",\"gridcolor\":\"white\",\"linecolor\":\"white\",\"showbackground\":true,\"ticks\":\"\",\"zerolinecolor\":\"white\",\"gridwidth\":2},\"zaxis\":{\"backgroundcolor\":\"#E5ECF6\",\"gridcolor\":\"white\",\"linecolor\":\"white\",\"showbackground\":true,\"ticks\":\"\",\"zerolinecolor\":\"white\",\"gridwidth\":2}},\"shapedefaults\":{\"line\":{\"color\":\"#2a3f5f\"}},\"annotationdefaults\":{\"arrowcolor\":\"#2a3f5f\",\"arrowhead\":0,\"arrowwidth\":1},\"geo\":{\"bgcolor\":\"white\",\"landcolor\":\"#E5ECF6\",\"subunitcolor\":\"white\",\"showland\":true,\"showlakes\":true,\"lakecolor\":\"white\"},\"title\":{\"x\":0.05},\"mapbox\":{\"style\":\"light\"}}},\"title\":{\"text\":\"Percentile line for the Stock Daily Returns for NIFTY50\"},\"xaxis\":{\"title\":{\"text\":\"Daily Returns\"}},\"yaxis\":{\"title\":{\"text\":\"Percentile\"}},\"height\":700,\"width\":1000},                        {\"responsive\": true}                    ).then(function(){\n",
              "                            \n",
              "var gd = document.getElementById('af24aa1b-ab0d-4da3-9040-379ae294cdfc');\n",
              "var x = new MutationObserver(function (mutations, observer) {{\n",
              "        var display = window.getComputedStyle(gd).display;\n",
              "        if (!display || display === 'none') {{\n",
              "            console.log([gd, 'removed!']);\n",
              "            Plotly.purge(gd);\n",
              "            observer.disconnect();\n",
              "        }}\n",
              "}});\n",
              "\n",
              "// Listen for the removal of the full notebook cells\n",
              "var notebookContainer = gd.closest('#notebook-container');\n",
              "if (notebookContainer) {{\n",
              "    x.observe(notebookContainer, {childList: true});\n",
              "}}\n",
              "\n",
              "// Listen for the clearing of the current output cell\n",
              "var outputEl = gd.closest('.output');\n",
              "if (outputEl) {{\n",
              "    x.observe(outputEl, {childList: true});\n",
              "}}\n",
              "\n",
              "                        })                };                            </script>        </div>\n",
              "</body>\n",
              "</html>"
            ]
          },
          "metadata": {}
        }
      ]
    },
    {
      "cell_type": "code",
      "source": [
        "makeHistogram(df)"
      ],
      "metadata": {
        "id": "tkcWd4Cwdv9L",
        "colab": {
          "base_uri": "https://localhost:8080/",
          "height": 717
        },
        "outputId": "74b58116-bbc9-4cfa-9dfd-f4c4dda52701"
      },
      "execution_count": 55,
      "outputs": [
        {
          "output_type": "display_data",
          "data": {
            "text/html": [
              "<html>\n",
              "<head><meta charset=\"utf-8\" /></head>\n",
              "<body>\n",
              "    <div>            <script src=\"https://cdnjs.cloudflare.com/ajax/libs/mathjax/2.7.5/MathJax.js?config=TeX-AMS-MML_SVG\"></script><script type=\"text/javascript\">if (window.MathJax && window.MathJax.Hub && window.MathJax.Hub.Config) {window.MathJax.Hub.Config({SVG: {font: \"STIX-Web\"}});}</script>                <script type=\"text/javascript\">window.PlotlyConfig = {MathJaxConfig: 'local'};</script>\n",
              "        <script charset=\"utf-8\" src=\"https://cdn.plot.ly/plotly-2.35.2.min.js\"></script>                <div id=\"89a696b5-a881-4c71-82e7-d7765e78f104\" class=\"plotly-graph-div\" style=\"height:700px; width:1000px;\"></div>            <script type=\"text/javascript\">                                    window.PLOTLYENV=window.PLOTLYENV || {};                                    if (document.getElementById(\"89a696b5-a881-4c71-82e7-d7765e78f104\")) {                    Plotly.newPlot(                        \"89a696b5-a881-4c71-82e7-d7765e78f104\",                        [{\"x\":[-6.112419596275757,3.307130264902321,0.8848783029735371,2.033183181806326,-0.13298220789751808,0.02429019311563474,0.24941998100964452,0.32512085635553245,0.2846472864763251,0.3925734995918502,-0.17801967265448712,0.21663878659495614,-0.2800216462253247,0.15625352218749533,0.7763664467508334,0.6198787876631016,0.7334080659762656,-0.14108969297394128,0.545557559691747,-0.07499973340487516,0.671967891016841,0.06441994597673961,0.08924945580705118,-0.013563033375134032,0.462112711188291,-0.44608459932337075,-0.03495037195243165,0.7628403248955412,0.34447298074261035,0.10691440871768358,0.7603152387120198,-1.094434773789948,-0.08829659721330775,-0.12329157000276177,-0.268142363114976,-0.030317293631637692,1.741480789992859,0.005033123062574486,0.08532792280141148,0.3768425567563353,0.23918164907340858,-1.179219088330447,-2.715175314145156,-0.262440338700995,1.2630066341245294,-0.7456478381555143,1.0333291215294635,-0.08416385761983504,-0.857984886239657,0.01967576418212346,1.6325768935141063,0.12827353541420894,0.5122616308336513,0.28846181820890576,0.16659691560852782,0.04694458708691634,0.7523018148105455,0.02858535502177548,0.13820469762269527,0.3967777356455909,0.3332202116407902,0.16945136137639852,0.004550726442364936,-0.3215245383183467,-0.21293438665674616,-1.1718747382249266,0.3384315433638339,0.4189860313764109,-0.49099977844991055,1.8703624424743968,-0.12769785942554213,0.10740980826790941,0.13700476615561016,-0.16142974615182065,0.15061029073179838,1.4652566289984728,0.5725960454112572,0.005202866818443739,0.24545416621303914,0.8115692736807522,-0.14162255444679922,-1.4160691857076433],\"type\":\"histogram\"}],                        {\"template\":{\"data\":{\"histogram2dcontour\":[{\"type\":\"histogram2dcontour\",\"colorbar\":{\"outlinewidth\":0,\"ticks\":\"\"},\"colorscale\":[[0.0,\"#0d0887\"],[0.1111111111111111,\"#46039f\"],[0.2222222222222222,\"#7201a8\"],[0.3333333333333333,\"#9c179e\"],[0.4444444444444444,\"#bd3786\"],[0.5555555555555556,\"#d8576b\"],[0.6666666666666666,\"#ed7953\"],[0.7777777777777778,\"#fb9f3a\"],[0.8888888888888888,\"#fdca26\"],[1.0,\"#f0f921\"]]}],\"choropleth\":[{\"type\":\"choropleth\",\"colorbar\":{\"outlinewidth\":0,\"ticks\":\"\"}}],\"histogram2d\":[{\"type\":\"histogram2d\",\"colorbar\":{\"outlinewidth\":0,\"ticks\":\"\"},\"colorscale\":[[0.0,\"#0d0887\"],[0.1111111111111111,\"#46039f\"],[0.2222222222222222,\"#7201a8\"],[0.3333333333333333,\"#9c179e\"],[0.4444444444444444,\"#bd3786\"],[0.5555555555555556,\"#d8576b\"],[0.6666666666666666,\"#ed7953\"],[0.7777777777777778,\"#fb9f3a\"],[0.8888888888888888,\"#fdca26\"],[1.0,\"#f0f921\"]]}],\"heatmap\":[{\"type\":\"heatmap\",\"colorbar\":{\"outlinewidth\":0,\"ticks\":\"\"},\"colorscale\":[[0.0,\"#0d0887\"],[0.1111111111111111,\"#46039f\"],[0.2222222222222222,\"#7201a8\"],[0.3333333333333333,\"#9c179e\"],[0.4444444444444444,\"#bd3786\"],[0.5555555555555556,\"#d8576b\"],[0.6666666666666666,\"#ed7953\"],[0.7777777777777778,\"#fb9f3a\"],[0.8888888888888888,\"#fdca26\"],[1.0,\"#f0f921\"]]}],\"heatmapgl\":[{\"type\":\"heatmapgl\",\"colorbar\":{\"outlinewidth\":0,\"ticks\":\"\"},\"colorscale\":[[0.0,\"#0d0887\"],[0.1111111111111111,\"#46039f\"],[0.2222222222222222,\"#7201a8\"],[0.3333333333333333,\"#9c179e\"],[0.4444444444444444,\"#bd3786\"],[0.5555555555555556,\"#d8576b\"],[0.6666666666666666,\"#ed7953\"],[0.7777777777777778,\"#fb9f3a\"],[0.8888888888888888,\"#fdca26\"],[1.0,\"#f0f921\"]]}],\"contourcarpet\":[{\"type\":\"contourcarpet\",\"colorbar\":{\"outlinewidth\":0,\"ticks\":\"\"}}],\"contour\":[{\"type\":\"contour\",\"colorbar\":{\"outlinewidth\":0,\"ticks\":\"\"},\"colorscale\":[[0.0,\"#0d0887\"],[0.1111111111111111,\"#46039f\"],[0.2222222222222222,\"#7201a8\"],[0.3333333333333333,\"#9c179e\"],[0.4444444444444444,\"#bd3786\"],[0.5555555555555556,\"#d8576b\"],[0.6666666666666666,\"#ed7953\"],[0.7777777777777778,\"#fb9f3a\"],[0.8888888888888888,\"#fdca26\"],[1.0,\"#f0f921\"]]}],\"surface\":[{\"type\":\"surface\",\"colorbar\":{\"outlinewidth\":0,\"ticks\":\"\"},\"colorscale\":[[0.0,\"#0d0887\"],[0.1111111111111111,\"#46039f\"],[0.2222222222222222,\"#7201a8\"],[0.3333333333333333,\"#9c179e\"],[0.4444444444444444,\"#bd3786\"],[0.5555555555555556,\"#d8576b\"],[0.6666666666666666,\"#ed7953\"],[0.7777777777777778,\"#fb9f3a\"],[0.8888888888888888,\"#fdca26\"],[1.0,\"#f0f921\"]]}],\"mesh3d\":[{\"type\":\"mesh3d\",\"colorbar\":{\"outlinewidth\":0,\"ticks\":\"\"}}],\"scatter\":[{\"fillpattern\":{\"fillmode\":\"overlay\",\"size\":10,\"solidity\":0.2},\"type\":\"scatter\"}],\"parcoords\":[{\"type\":\"parcoords\",\"line\":{\"colorbar\":{\"outlinewidth\":0,\"ticks\":\"\"}}}],\"scatterpolargl\":[{\"type\":\"scatterpolargl\",\"marker\":{\"colorbar\":{\"outlinewidth\":0,\"ticks\":\"\"}}}],\"bar\":[{\"error_x\":{\"color\":\"#2a3f5f\"},\"error_y\":{\"color\":\"#2a3f5f\"},\"marker\":{\"line\":{\"color\":\"#E5ECF6\",\"width\":0.5},\"pattern\":{\"fillmode\":\"overlay\",\"size\":10,\"solidity\":0.2}},\"type\":\"bar\"}],\"scattergeo\":[{\"type\":\"scattergeo\",\"marker\":{\"colorbar\":{\"outlinewidth\":0,\"ticks\":\"\"}}}],\"scatterpolar\":[{\"type\":\"scatterpolar\",\"marker\":{\"colorbar\":{\"outlinewidth\":0,\"ticks\":\"\"}}}],\"histogram\":[{\"marker\":{\"pattern\":{\"fillmode\":\"overlay\",\"size\":10,\"solidity\":0.2}},\"type\":\"histogram\"}],\"scattergl\":[{\"type\":\"scattergl\",\"marker\":{\"colorbar\":{\"outlinewidth\":0,\"ticks\":\"\"}}}],\"scatter3d\":[{\"type\":\"scatter3d\",\"line\":{\"colorbar\":{\"outlinewidth\":0,\"ticks\":\"\"}},\"marker\":{\"colorbar\":{\"outlinewidth\":0,\"ticks\":\"\"}}}],\"scattermapbox\":[{\"type\":\"scattermapbox\",\"marker\":{\"colorbar\":{\"outlinewidth\":0,\"ticks\":\"\"}}}],\"scatterternary\":[{\"type\":\"scatterternary\",\"marker\":{\"colorbar\":{\"outlinewidth\":0,\"ticks\":\"\"}}}],\"scattercarpet\":[{\"type\":\"scattercarpet\",\"marker\":{\"colorbar\":{\"outlinewidth\":0,\"ticks\":\"\"}}}],\"carpet\":[{\"aaxis\":{\"endlinecolor\":\"#2a3f5f\",\"gridcolor\":\"white\",\"linecolor\":\"white\",\"minorgridcolor\":\"white\",\"startlinecolor\":\"#2a3f5f\"},\"baxis\":{\"endlinecolor\":\"#2a3f5f\",\"gridcolor\":\"white\",\"linecolor\":\"white\",\"minorgridcolor\":\"white\",\"startlinecolor\":\"#2a3f5f\"},\"type\":\"carpet\"}],\"table\":[{\"cells\":{\"fill\":{\"color\":\"#EBF0F8\"},\"line\":{\"color\":\"white\"}},\"header\":{\"fill\":{\"color\":\"#C8D4E3\"},\"line\":{\"color\":\"white\"}},\"type\":\"table\"}],\"barpolar\":[{\"marker\":{\"line\":{\"color\":\"#E5ECF6\",\"width\":0.5},\"pattern\":{\"fillmode\":\"overlay\",\"size\":10,\"solidity\":0.2}},\"type\":\"barpolar\"}],\"pie\":[{\"automargin\":true,\"type\":\"pie\"}]},\"layout\":{\"autotypenumbers\":\"strict\",\"colorway\":[\"#636efa\",\"#EF553B\",\"#00cc96\",\"#ab63fa\",\"#FFA15A\",\"#19d3f3\",\"#FF6692\",\"#B6E880\",\"#FF97FF\",\"#FECB52\"],\"font\":{\"color\":\"#2a3f5f\"},\"hovermode\":\"closest\",\"hoverlabel\":{\"align\":\"left\"},\"paper_bgcolor\":\"white\",\"plot_bgcolor\":\"#E5ECF6\",\"polar\":{\"bgcolor\":\"#E5ECF6\",\"angularaxis\":{\"gridcolor\":\"white\",\"linecolor\":\"white\",\"ticks\":\"\"},\"radialaxis\":{\"gridcolor\":\"white\",\"linecolor\":\"white\",\"ticks\":\"\"}},\"ternary\":{\"bgcolor\":\"#E5ECF6\",\"aaxis\":{\"gridcolor\":\"white\",\"linecolor\":\"white\",\"ticks\":\"\"},\"baxis\":{\"gridcolor\":\"white\",\"linecolor\":\"white\",\"ticks\":\"\"},\"caxis\":{\"gridcolor\":\"white\",\"linecolor\":\"white\",\"ticks\":\"\"}},\"coloraxis\":{\"colorbar\":{\"outlinewidth\":0,\"ticks\":\"\"}},\"colorscale\":{\"sequential\":[[0.0,\"#0d0887\"],[0.1111111111111111,\"#46039f\"],[0.2222222222222222,\"#7201a8\"],[0.3333333333333333,\"#9c179e\"],[0.4444444444444444,\"#bd3786\"],[0.5555555555555556,\"#d8576b\"],[0.6666666666666666,\"#ed7953\"],[0.7777777777777778,\"#fb9f3a\"],[0.8888888888888888,\"#fdca26\"],[1.0,\"#f0f921\"]],\"sequentialminus\":[[0.0,\"#0d0887\"],[0.1111111111111111,\"#46039f\"],[0.2222222222222222,\"#7201a8\"],[0.3333333333333333,\"#9c179e\"],[0.4444444444444444,\"#bd3786\"],[0.5555555555555556,\"#d8576b\"],[0.6666666666666666,\"#ed7953\"],[0.7777777777777778,\"#fb9f3a\"],[0.8888888888888888,\"#fdca26\"],[1.0,\"#f0f921\"]],\"diverging\":[[0,\"#8e0152\"],[0.1,\"#c51b7d\"],[0.2,\"#de77ae\"],[0.3,\"#f1b6da\"],[0.4,\"#fde0ef\"],[0.5,\"#f7f7f7\"],[0.6,\"#e6f5d0\"],[0.7,\"#b8e186\"],[0.8,\"#7fbc41\"],[0.9,\"#4d9221\"],[1,\"#276419\"]]},\"xaxis\":{\"gridcolor\":\"white\",\"linecolor\":\"white\",\"ticks\":\"\",\"title\":{\"standoff\":15},\"zerolinecolor\":\"white\",\"automargin\":true,\"zerolinewidth\":2},\"yaxis\":{\"gridcolor\":\"white\",\"linecolor\":\"white\",\"ticks\":\"\",\"title\":{\"standoff\":15},\"zerolinecolor\":\"white\",\"automargin\":true,\"zerolinewidth\":2},\"scene\":{\"xaxis\":{\"backgroundcolor\":\"#E5ECF6\",\"gridcolor\":\"white\",\"linecolor\":\"white\",\"showbackground\":true,\"ticks\":\"\",\"zerolinecolor\":\"white\",\"gridwidth\":2},\"yaxis\":{\"backgroundcolor\":\"#E5ECF6\",\"gridcolor\":\"white\",\"linecolor\":\"white\",\"showbackground\":true,\"ticks\":\"\",\"zerolinecolor\":\"white\",\"gridwidth\":2},\"zaxis\":{\"backgroundcolor\":\"#E5ECF6\",\"gridcolor\":\"white\",\"linecolor\":\"white\",\"showbackground\":true,\"ticks\":\"\",\"zerolinecolor\":\"white\",\"gridwidth\":2}},\"shapedefaults\":{\"line\":{\"color\":\"#2a3f5f\"}},\"annotationdefaults\":{\"arrowcolor\":\"#2a3f5f\",\"arrowhead\":0,\"arrowwidth\":1},\"geo\":{\"bgcolor\":\"white\",\"landcolor\":\"#E5ECF6\",\"subunitcolor\":\"white\",\"showland\":true,\"showlakes\":true,\"lakecolor\":\"white\"},\"title\":{\"x\":0.05},\"mapbox\":{\"style\":\"light\"}}},\"title\":{\"text\":\"Daily Returns Distribution for NIFTY50\"},\"xaxis\":{\"title\":{\"text\":\"Returns\"}},\"yaxis\":{\"title\":{\"text\":\"Count\"}},\"bargap\":0.1,\"bargroupgap\":0.1,\"height\":700,\"width\":1000},                        {\"responsive\": true}                    ).then(function(){\n",
              "                            \n",
              "var gd = document.getElementById('89a696b5-a881-4c71-82e7-d7765e78f104');\n",
              "var x = new MutationObserver(function (mutations, observer) {{\n",
              "        var display = window.getComputedStyle(gd).display;\n",
              "        if (!display || display === 'none') {{\n",
              "            console.log([gd, 'removed!']);\n",
              "            Plotly.purge(gd);\n",
              "            observer.disconnect();\n",
              "        }}\n",
              "}});\n",
              "\n",
              "// Listen for the removal of the full notebook cells\n",
              "var notebookContainer = gd.closest('#notebook-container');\n",
              "if (notebookContainer) {{\n",
              "    x.observe(notebookContainer, {childList: true});\n",
              "}}\n",
              "\n",
              "// Listen for the clearing of the current output cell\n",
              "var outputEl = gd.closest('.output');\n",
              "if (outputEl) {{\n",
              "    x.observe(outputEl, {childList: true});\n",
              "}}\n",
              "\n",
              "                        })                };                            </script>        </div>\n",
              "</body>\n",
              "</html>"
            ]
          },
          "metadata": {}
        }
      ]
    },
    {
      "cell_type": "code",
      "source": [
        "makeTimeSeries(df)"
      ],
      "metadata": {
        "colab": {
          "base_uri": "https://localhost:8080/",
          "height": 717
        },
        "id": "5Yi6pFPzGSAx",
        "outputId": "1b3b4d46-0891-42ca-808d-3fe2d591c8d7"
      },
      "execution_count": 56,
      "outputs": [
        {
          "output_type": "display_data",
          "data": {
            "text/html": [
              "<html>\n",
              "<head><meta charset=\"utf-8\" /></head>\n",
              "<body>\n",
              "    <div>            <script src=\"https://cdnjs.cloudflare.com/ajax/libs/mathjax/2.7.5/MathJax.js?config=TeX-AMS-MML_SVG\"></script><script type=\"text/javascript\">if (window.MathJax && window.MathJax.Hub && window.MathJax.Hub.Config) {window.MathJax.Hub.Config({SVG: {font: \"STIX-Web\"}});}</script>                <script type=\"text/javascript\">window.PlotlyConfig = {MathJaxConfig: 'local'};</script>\n",
              "        <script charset=\"utf-8\" src=\"https://cdn.plot.ly/plotly-2.35.2.min.js\"></script>                <div id=\"752ff6d6-9b4e-4aa8-b4e1-d854c45a0850\" class=\"plotly-graph-div\" style=\"height:700px; width:1000px;\"></div>            <script type=\"text/javascript\">                                    window.PLOTLYENV=window.PLOTLYENV || {};                                    if (document.getElementById(\"752ff6d6-9b4e-4aa8-b4e1-d854c45a0850\")) {                    Plotly.newPlot(                        \"752ff6d6-9b4e-4aa8-b4e1-d854c45a0850\",                        [{\"mode\":\"lines\",\"name\":\"Daily Returns\",\"x\":[\"2024-06-04T00:00:00\",\"2024-06-05T00:00:00\",\"2024-06-06T00:00:00\",\"2024-06-07T00:00:00\",\"2024-06-10T00:00:00\",\"2024-06-11T00:00:00\",\"2024-06-12T00:00:00\",\"2024-06-13T00:00:00\",\"2024-06-14T00:00:00\",\"2024-06-18T00:00:00\",\"2024-06-19T00:00:00\",\"2024-06-20T00:00:00\",\"2024-06-21T00:00:00\",\"2024-06-24T00:00:00\",\"2024-06-25T00:00:00\",\"2024-06-26T00:00:00\",\"2024-06-27T00:00:00\",\"2024-06-28T00:00:00\",\"2024-07-01T00:00:00\",\"2024-07-02T00:00:00\",\"2024-07-03T00:00:00\",\"2024-07-04T00:00:00\",\"2024-07-05T00:00:00\",\"2024-07-08T00:00:00\",\"2024-07-09T00:00:00\",\"2024-07-10T00:00:00\",\"2024-07-11T00:00:00\",\"2024-07-12T00:00:00\",\"2024-07-15T00:00:00\",\"2024-07-16T00:00:00\",\"2024-07-18T00:00:00\",\"2024-07-19T00:00:00\",\"2024-07-22T00:00:00\",\"2024-07-23T00:00:00\",\"2024-07-24T00:00:00\",\"2024-07-25T00:00:00\",\"2024-07-26T00:00:00\",\"2024-07-29T00:00:00\",\"2024-07-30T00:00:00\",\"2024-07-31T00:00:00\",\"2024-08-01T00:00:00\",\"2024-08-02T00:00:00\",\"2024-08-05T00:00:00\",\"2024-08-06T00:00:00\",\"2024-08-07T00:00:00\",\"2024-08-08T00:00:00\",\"2024-08-09T00:00:00\",\"2024-08-12T00:00:00\",\"2024-08-13T00:00:00\",\"2024-08-14T00:00:00\",\"2024-08-16T00:00:00\",\"2024-08-19T00:00:00\",\"2024-08-20T00:00:00\",\"2024-08-21T00:00:00\",\"2024-08-22T00:00:00\",\"2024-08-23T00:00:00\",\"2024-08-26T00:00:00\",\"2024-08-27T00:00:00\",\"2024-08-28T00:00:00\",\"2024-08-29T00:00:00\",\"2024-08-30T00:00:00\",\"2024-09-02T00:00:00\",\"2024-09-03T00:00:00\",\"2024-09-04T00:00:00\",\"2024-09-05T00:00:00\",\"2024-09-06T00:00:00\",\"2024-09-09T00:00:00\",\"2024-09-10T00:00:00\",\"2024-09-11T00:00:00\",\"2024-09-12T00:00:00\",\"2024-09-13T00:00:00\",\"2024-09-16T00:00:00\",\"2024-09-17T00:00:00\",\"2024-09-18T00:00:00\",\"2024-09-19T00:00:00\",\"2024-09-20T00:00:00\",\"2024-09-23T00:00:00\",\"2024-09-24T00:00:00\",\"2024-09-25T00:00:00\",\"2024-09-26T00:00:00\",\"2024-09-27T00:00:00\",\"2024-09-30T00:00:00\"],\"y\":[-6.112,3.307,0.885,2.033,-0.133,0.024,0.249,0.325,0.285,0.393,-0.178,0.217,-0.28,0.156,0.776,0.62,0.733,-0.141,0.546,-0.075,0.672,0.064,0.089,-0.014,0.462,-0.446,-0.035,0.763,0.344,0.107,0.76,-1.094,-0.088,-0.123,-0.268,-0.03,1.741,0.005,0.085,0.377,0.239,-1.179,-2.715,-0.262,1.263,-0.746,1.033,-0.084,-0.858,0.02,1.633,0.128,0.512,0.288,0.167,0.047,0.752,0.029,0.138,0.397,0.333,0.169,0.005,-0.322,-0.213,-1.172,0.338,0.419,-0.491,1.87,-0.128,0.107,0.137,-0.161,0.151,1.465,0.573,0.005,0.245,0.812,-0.142,-1.416],\"type\":\"scatter\"}],                        {\"template\":{\"data\":{\"histogram2dcontour\":[{\"type\":\"histogram2dcontour\",\"colorbar\":{\"outlinewidth\":0,\"ticks\":\"\"},\"colorscale\":[[0.0,\"#0d0887\"],[0.1111111111111111,\"#46039f\"],[0.2222222222222222,\"#7201a8\"],[0.3333333333333333,\"#9c179e\"],[0.4444444444444444,\"#bd3786\"],[0.5555555555555556,\"#d8576b\"],[0.6666666666666666,\"#ed7953\"],[0.7777777777777778,\"#fb9f3a\"],[0.8888888888888888,\"#fdca26\"],[1.0,\"#f0f921\"]]}],\"choropleth\":[{\"type\":\"choropleth\",\"colorbar\":{\"outlinewidth\":0,\"ticks\":\"\"}}],\"histogram2d\":[{\"type\":\"histogram2d\",\"colorbar\":{\"outlinewidth\":0,\"ticks\":\"\"},\"colorscale\":[[0.0,\"#0d0887\"],[0.1111111111111111,\"#46039f\"],[0.2222222222222222,\"#7201a8\"],[0.3333333333333333,\"#9c179e\"],[0.4444444444444444,\"#bd3786\"],[0.5555555555555556,\"#d8576b\"],[0.6666666666666666,\"#ed7953\"],[0.7777777777777778,\"#fb9f3a\"],[0.8888888888888888,\"#fdca26\"],[1.0,\"#f0f921\"]]}],\"heatmap\":[{\"type\":\"heatmap\",\"colorbar\":{\"outlinewidth\":0,\"ticks\":\"\"},\"colorscale\":[[0.0,\"#0d0887\"],[0.1111111111111111,\"#46039f\"],[0.2222222222222222,\"#7201a8\"],[0.3333333333333333,\"#9c179e\"],[0.4444444444444444,\"#bd3786\"],[0.5555555555555556,\"#d8576b\"],[0.6666666666666666,\"#ed7953\"],[0.7777777777777778,\"#fb9f3a\"],[0.8888888888888888,\"#fdca26\"],[1.0,\"#f0f921\"]]}],\"heatmapgl\":[{\"type\":\"heatmapgl\",\"colorbar\":{\"outlinewidth\":0,\"ticks\":\"\"},\"colorscale\":[[0.0,\"#0d0887\"],[0.1111111111111111,\"#46039f\"],[0.2222222222222222,\"#7201a8\"],[0.3333333333333333,\"#9c179e\"],[0.4444444444444444,\"#bd3786\"],[0.5555555555555556,\"#d8576b\"],[0.6666666666666666,\"#ed7953\"],[0.7777777777777778,\"#fb9f3a\"],[0.8888888888888888,\"#fdca26\"],[1.0,\"#f0f921\"]]}],\"contourcarpet\":[{\"type\":\"contourcarpet\",\"colorbar\":{\"outlinewidth\":0,\"ticks\":\"\"}}],\"contour\":[{\"type\":\"contour\",\"colorbar\":{\"outlinewidth\":0,\"ticks\":\"\"},\"colorscale\":[[0.0,\"#0d0887\"],[0.1111111111111111,\"#46039f\"],[0.2222222222222222,\"#7201a8\"],[0.3333333333333333,\"#9c179e\"],[0.4444444444444444,\"#bd3786\"],[0.5555555555555556,\"#d8576b\"],[0.6666666666666666,\"#ed7953\"],[0.7777777777777778,\"#fb9f3a\"],[0.8888888888888888,\"#fdca26\"],[1.0,\"#f0f921\"]]}],\"surface\":[{\"type\":\"surface\",\"colorbar\":{\"outlinewidth\":0,\"ticks\":\"\"},\"colorscale\":[[0.0,\"#0d0887\"],[0.1111111111111111,\"#46039f\"],[0.2222222222222222,\"#7201a8\"],[0.3333333333333333,\"#9c179e\"],[0.4444444444444444,\"#bd3786\"],[0.5555555555555556,\"#d8576b\"],[0.6666666666666666,\"#ed7953\"],[0.7777777777777778,\"#fb9f3a\"],[0.8888888888888888,\"#fdca26\"],[1.0,\"#f0f921\"]]}],\"mesh3d\":[{\"type\":\"mesh3d\",\"colorbar\":{\"outlinewidth\":0,\"ticks\":\"\"}}],\"scatter\":[{\"fillpattern\":{\"fillmode\":\"overlay\",\"size\":10,\"solidity\":0.2},\"type\":\"scatter\"}],\"parcoords\":[{\"type\":\"parcoords\",\"line\":{\"colorbar\":{\"outlinewidth\":0,\"ticks\":\"\"}}}],\"scatterpolargl\":[{\"type\":\"scatterpolargl\",\"marker\":{\"colorbar\":{\"outlinewidth\":0,\"ticks\":\"\"}}}],\"bar\":[{\"error_x\":{\"color\":\"#2a3f5f\"},\"error_y\":{\"color\":\"#2a3f5f\"},\"marker\":{\"line\":{\"color\":\"#E5ECF6\",\"width\":0.5},\"pattern\":{\"fillmode\":\"overlay\",\"size\":10,\"solidity\":0.2}},\"type\":\"bar\"}],\"scattergeo\":[{\"type\":\"scattergeo\",\"marker\":{\"colorbar\":{\"outlinewidth\":0,\"ticks\":\"\"}}}],\"scatterpolar\":[{\"type\":\"scatterpolar\",\"marker\":{\"colorbar\":{\"outlinewidth\":0,\"ticks\":\"\"}}}],\"histogram\":[{\"marker\":{\"pattern\":{\"fillmode\":\"overlay\",\"size\":10,\"solidity\":0.2}},\"type\":\"histogram\"}],\"scattergl\":[{\"type\":\"scattergl\",\"marker\":{\"colorbar\":{\"outlinewidth\":0,\"ticks\":\"\"}}}],\"scatter3d\":[{\"type\":\"scatter3d\",\"line\":{\"colorbar\":{\"outlinewidth\":0,\"ticks\":\"\"}},\"marker\":{\"colorbar\":{\"outlinewidth\":0,\"ticks\":\"\"}}}],\"scattermapbox\":[{\"type\":\"scattermapbox\",\"marker\":{\"colorbar\":{\"outlinewidth\":0,\"ticks\":\"\"}}}],\"scatterternary\":[{\"type\":\"scatterternary\",\"marker\":{\"colorbar\":{\"outlinewidth\":0,\"ticks\":\"\"}}}],\"scattercarpet\":[{\"type\":\"scattercarpet\",\"marker\":{\"colorbar\":{\"outlinewidth\":0,\"ticks\":\"\"}}}],\"carpet\":[{\"aaxis\":{\"endlinecolor\":\"#2a3f5f\",\"gridcolor\":\"white\",\"linecolor\":\"white\",\"minorgridcolor\":\"white\",\"startlinecolor\":\"#2a3f5f\"},\"baxis\":{\"endlinecolor\":\"#2a3f5f\",\"gridcolor\":\"white\",\"linecolor\":\"white\",\"minorgridcolor\":\"white\",\"startlinecolor\":\"#2a3f5f\"},\"type\":\"carpet\"}],\"table\":[{\"cells\":{\"fill\":{\"color\":\"#EBF0F8\"},\"line\":{\"color\":\"white\"}},\"header\":{\"fill\":{\"color\":\"#C8D4E3\"},\"line\":{\"color\":\"white\"}},\"type\":\"table\"}],\"barpolar\":[{\"marker\":{\"line\":{\"color\":\"#E5ECF6\",\"width\":0.5},\"pattern\":{\"fillmode\":\"overlay\",\"size\":10,\"solidity\":0.2}},\"type\":\"barpolar\"}],\"pie\":[{\"automargin\":true,\"type\":\"pie\"}]},\"layout\":{\"autotypenumbers\":\"strict\",\"colorway\":[\"#636efa\",\"#EF553B\",\"#00cc96\",\"#ab63fa\",\"#FFA15A\",\"#19d3f3\",\"#FF6692\",\"#B6E880\",\"#FF97FF\",\"#FECB52\"],\"font\":{\"color\":\"#2a3f5f\"},\"hovermode\":\"closest\",\"hoverlabel\":{\"align\":\"left\"},\"paper_bgcolor\":\"white\",\"plot_bgcolor\":\"#E5ECF6\",\"polar\":{\"bgcolor\":\"#E5ECF6\",\"angularaxis\":{\"gridcolor\":\"white\",\"linecolor\":\"white\",\"ticks\":\"\"},\"radialaxis\":{\"gridcolor\":\"white\",\"linecolor\":\"white\",\"ticks\":\"\"}},\"ternary\":{\"bgcolor\":\"#E5ECF6\",\"aaxis\":{\"gridcolor\":\"white\",\"linecolor\":\"white\",\"ticks\":\"\"},\"baxis\":{\"gridcolor\":\"white\",\"linecolor\":\"white\",\"ticks\":\"\"},\"caxis\":{\"gridcolor\":\"white\",\"linecolor\":\"white\",\"ticks\":\"\"}},\"coloraxis\":{\"colorbar\":{\"outlinewidth\":0,\"ticks\":\"\"}},\"colorscale\":{\"sequential\":[[0.0,\"#0d0887\"],[0.1111111111111111,\"#46039f\"],[0.2222222222222222,\"#7201a8\"],[0.3333333333333333,\"#9c179e\"],[0.4444444444444444,\"#bd3786\"],[0.5555555555555556,\"#d8576b\"],[0.6666666666666666,\"#ed7953\"],[0.7777777777777778,\"#fb9f3a\"],[0.8888888888888888,\"#fdca26\"],[1.0,\"#f0f921\"]],\"sequentialminus\":[[0.0,\"#0d0887\"],[0.1111111111111111,\"#46039f\"],[0.2222222222222222,\"#7201a8\"],[0.3333333333333333,\"#9c179e\"],[0.4444444444444444,\"#bd3786\"],[0.5555555555555556,\"#d8576b\"],[0.6666666666666666,\"#ed7953\"],[0.7777777777777778,\"#fb9f3a\"],[0.8888888888888888,\"#fdca26\"],[1.0,\"#f0f921\"]],\"diverging\":[[0,\"#8e0152\"],[0.1,\"#c51b7d\"],[0.2,\"#de77ae\"],[0.3,\"#f1b6da\"],[0.4,\"#fde0ef\"],[0.5,\"#f7f7f7\"],[0.6,\"#e6f5d0\"],[0.7,\"#b8e186\"],[0.8,\"#7fbc41\"],[0.9,\"#4d9221\"],[1,\"#276419\"]]},\"xaxis\":{\"gridcolor\":\"white\",\"linecolor\":\"white\",\"ticks\":\"\",\"title\":{\"standoff\":15},\"zerolinecolor\":\"white\",\"automargin\":true,\"zerolinewidth\":2},\"yaxis\":{\"gridcolor\":\"white\",\"linecolor\":\"white\",\"ticks\":\"\",\"title\":{\"standoff\":15},\"zerolinecolor\":\"white\",\"automargin\":true,\"zerolinewidth\":2},\"scene\":{\"xaxis\":{\"backgroundcolor\":\"#E5ECF6\",\"gridcolor\":\"white\",\"linecolor\":\"white\",\"showbackground\":true,\"ticks\":\"\",\"zerolinecolor\":\"white\",\"gridwidth\":2},\"yaxis\":{\"backgroundcolor\":\"#E5ECF6\",\"gridcolor\":\"white\",\"linecolor\":\"white\",\"showbackground\":true,\"ticks\":\"\",\"zerolinecolor\":\"white\",\"gridwidth\":2},\"zaxis\":{\"backgroundcolor\":\"#E5ECF6\",\"gridcolor\":\"white\",\"linecolor\":\"white\",\"showbackground\":true,\"ticks\":\"\",\"zerolinecolor\":\"white\",\"gridwidth\":2}},\"shapedefaults\":{\"line\":{\"color\":\"#2a3f5f\"}},\"annotationdefaults\":{\"arrowcolor\":\"#2a3f5f\",\"arrowhead\":0,\"arrowwidth\":1},\"geo\":{\"bgcolor\":\"white\",\"landcolor\":\"#E5ECF6\",\"subunitcolor\":\"white\",\"showland\":true,\"showlakes\":true,\"lakecolor\":\"white\"},\"title\":{\"x\":0.05},\"mapbox\":{\"style\":\"light\"}}},\"xaxis\":{\"rangeslider\":{\"visible\":false},\"title\":{\"text\":\"Date\"}},\"title\":{\"text\":\"Time Series of Daily Returns for NIFTY50\"},\"yaxis\":{\"title\":{\"text\":\"Returns\"}},\"height\":700,\"width\":1000,\"shapes\":[{\"line\":{\"color\":\"red\",\"dash\":\"dash\",\"width\":1},\"type\":\"line\",\"x0\":\"2024-06-04T00:00:00\",\"x1\":\"2024-09-30T00:00:00\",\"y0\":0,\"y1\":0}]},                        {\"responsive\": true}                    ).then(function(){\n",
              "                            \n",
              "var gd = document.getElementById('752ff6d6-9b4e-4aa8-b4e1-d854c45a0850');\n",
              "var x = new MutationObserver(function (mutations, observer) {{\n",
              "        var display = window.getComputedStyle(gd).display;\n",
              "        if (!display || display === 'none') {{\n",
              "            console.log([gd, 'removed!']);\n",
              "            Plotly.purge(gd);\n",
              "            observer.disconnect();\n",
              "        }}\n",
              "}});\n",
              "\n",
              "// Listen for the removal of the full notebook cells\n",
              "var notebookContainer = gd.closest('#notebook-container');\n",
              "if (notebookContainer) {{\n",
              "    x.observe(notebookContainer, {childList: true});\n",
              "}}\n",
              "\n",
              "// Listen for the clearing of the current output cell\n",
              "var outputEl = gd.closest('.output');\n",
              "if (outputEl) {{\n",
              "    x.observe(outputEl, {childList: true});\n",
              "}}\n",
              "\n",
              "                        })                };                            </script>        </div>\n",
              "</body>\n",
              "</html>"
            ]
          },
          "metadata": {}
        }
      ]
    },
    {
      "cell_type": "code",
      "source": [
        "df['Daily Returns'].describe()"
      ],
      "metadata": {
        "id": "fhlsky78T9dU",
        "colab": {
          "base_uri": "https://localhost:8080/",
          "height": 335
        },
        "outputId": "442ee2d9-9def-4bab-e1f3-34aa519163dd"
      },
      "execution_count": 57,
      "outputs": [
        {
          "output_type": "execute_result",
          "data": {
            "text/plain": [
              "count    82.000000\n",
              "mean      0.126698\n",
              "std       1.046164\n",
              "min      -6.112420\n",
              "25%      -0.126596\n",
              "50%       0.132639\n",
              "75%       0.451331\n",
              "max       3.307130\n",
              "Name: Daily Returns, dtype: float64"
            ],
            "text/html": [
              "<div>\n",
              "<style scoped>\n",
              "    .dataframe tbody tr th:only-of-type {\n",
              "        vertical-align: middle;\n",
              "    }\n",
              "\n",
              "    .dataframe tbody tr th {\n",
              "        vertical-align: top;\n",
              "    }\n",
              "\n",
              "    .dataframe thead th {\n",
              "        text-align: right;\n",
              "    }\n",
              "</style>\n",
              "<table border=\"1\" class=\"dataframe\">\n",
              "  <thead>\n",
              "    <tr style=\"text-align: right;\">\n",
              "      <th></th>\n",
              "      <th>Daily Returns</th>\n",
              "    </tr>\n",
              "  </thead>\n",
              "  <tbody>\n",
              "    <tr>\n",
              "      <th>count</th>\n",
              "      <td>82.000000</td>\n",
              "    </tr>\n",
              "    <tr>\n",
              "      <th>mean</th>\n",
              "      <td>0.126698</td>\n",
              "    </tr>\n",
              "    <tr>\n",
              "      <th>std</th>\n",
              "      <td>1.046164</td>\n",
              "    </tr>\n",
              "    <tr>\n",
              "      <th>min</th>\n",
              "      <td>-6.112420</td>\n",
              "    </tr>\n",
              "    <tr>\n",
              "      <th>25%</th>\n",
              "      <td>-0.126596</td>\n",
              "    </tr>\n",
              "    <tr>\n",
              "      <th>50%</th>\n",
              "      <td>0.132639</td>\n",
              "    </tr>\n",
              "    <tr>\n",
              "      <th>75%</th>\n",
              "      <td>0.451331</td>\n",
              "    </tr>\n",
              "    <tr>\n",
              "      <th>max</th>\n",
              "      <td>3.307130</td>\n",
              "    </tr>\n",
              "  </tbody>\n",
              "</table>\n",
              "</div><br><label><b>dtype:</b> float64</label>"
            ]
          },
          "metadata": {},
          "execution_count": 57
        }
      ]
    },
    {
      "cell_type": "code",
      "source": [],
      "metadata": {
        "id": "Vt8wf1HZouqS"
      },
      "execution_count": 38,
      "outputs": []
    },
    {
      "cell_type": "code",
      "source": [],
      "metadata": {
        "id": "hBJ-SuvksGgC"
      },
      "execution_count": 49,
      "outputs": []
    },
    {
      "cell_type": "code",
      "source": [],
      "metadata": {
        "id": "dxwK2Hf6sMdY"
      },
      "execution_count": 49,
      "outputs": []
    },
    {
      "cell_type": "code",
      "source": [],
      "metadata": {
        "id": "cDuhLesbtxkQ"
      },
      "execution_count": null,
      "outputs": []
    }
  ]
}